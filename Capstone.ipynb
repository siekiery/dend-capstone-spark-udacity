{
 "cells": [
  {
   "cell_type": "markdown",
   "metadata": {},
   "source": [
    "# Project Title\n",
    "### Data Engineering Capstone Project\n",
    "\n",
    "#### Project Summary\n",
    "--describe your project at a high level--\n",
    "\n",
    "The project follows the follow steps:\n",
    "* Step 1: Scope the Project and Gather Data\n",
    "* Step 2: Explore and Assess the Data\n",
    "* Step 3: Define the Data Model\n",
    "* Step 4: Run ETL to Model the Data\n",
    "* Step 5: Complete Project Write Up"
   ]
  },
  {
   "cell_type": "code",
   "execution_count": 1,
   "metadata": {},
   "outputs": [
    {
     "name": "stderr",
     "output_type": "stream",
     "text": [
      "C:\\Users\\Jakub.Pitera\\AppData\\Local\\Temp\\ipykernel_14872\\3349515680.py:2: DeprecationWarning: \n",
      "Pyarrow will become a required dependency of pandas in the next major release of pandas (pandas 3.0),\n",
      "(to allow more performant data types, such as the Arrow string type, and better interoperability with other libraries)\n",
      "but was not found to be installed on your system.\n",
      "If this would cause problems for you,\n",
      "please provide us feedback at https://github.com/pandas-dev/pandas/issues/54466\n",
      "        \n",
      "  import pandas as pd\n"
     ]
    }
   ],
   "source": [
    "# Do all imports and installs here\n",
    "import pandas as pd\n",
    "from pyspark.sql import SparkSession\n",
    "import pyspark.sql.functions as F\n",
    "from pyspark.sql.functions import col\n",
    "from pyspark.sql.window import Window"
   ]
  },
  {
   "cell_type": "markdown",
   "metadata": {},
   "source": [
    "#### Function definitions"
   ]
  },
  {
   "cell_type": "code",
   "execution_count": 2,
   "metadata": {},
   "outputs": [],
   "source": [
    "def missing_values_count(df):\n",
    "    return df.select([F.count(F.when(F.isnan(c) | F.col(c).isNull(), c)).alias(c) for c in df.columns]).show()"
   ]
  },
  {
   "cell_type": "markdown",
   "metadata": {},
   "source": [
    "### Step 1: Scope the Project and Gather Data\n",
    "\n",
    "#### Scope \n",
    "Explain what you plan to do in the project in more detail. What data do you use? What is your end solution look like? What tools did you use? etc>\n",
    "\n",
    "#### Describe and Gather Data \n",
    "Describe the data sets you're using. Where did it come from? What type of information is included? "
   ]
  },
  {
   "cell_type": "code",
   "execution_count": 3,
   "metadata": {},
   "outputs": [],
   "source": [
    "# Start a Spark Session\n",
    "spark = SparkSession.builder \\\n",
    "    .appName(\"InterviewChallenge\") \\\n",
    "    .master(\"local[2]\") \\\n",
    "    .getOrCreate()\n",
    "\n",
    "#     .config(\"spark.executor.memory\", \"2g\") \\"
   ]
  },
  {
   "cell_type": "code",
   "execution_count": 4,
   "metadata": {},
   "outputs": [],
   "source": [
    "# Read input data to spark dataframe\n",
    "flights_path = 'Data/flights.csv' \n",
    "airlines_path = 'Data/airlines.csv'\n",
    "airports_path = 'Data/airports.csv'\n",
    "\n",
    "df = spark.read.options(header=True).csv(flights_path)  # main dataset with flights data\n",
    "# df = spark.read.options(header=True, inferSchema=True).csv(flights_path)  # main dataset with flights data\n",
    "airlines_df = spark.read.options(header=True, inferSchema=True).csv(airlines_path)  # data dict with airlines\n",
    "airports_df = spark.read.options(header=True, inferSchema=True).csv(airports_path)  # data dict with airports"
   ]
  },
  {
   "cell_type": "code",
   "execution_count": 5,
   "metadata": {},
   "outputs": [
    {
     "name": "stdout",
     "output_type": "stream",
     "text": [
      "root\n",
      " |-- YEAR: string (nullable = true)\n",
      " |-- MONTH: string (nullable = true)\n",
      " |-- DAY: string (nullable = true)\n",
      " |-- DAY_OF_WEEK: string (nullable = true)\n",
      " |-- AIRLINE: string (nullable = true)\n",
      " |-- FLIGHT_NUMBER: string (nullable = true)\n",
      " |-- TAIL_NUMBER: string (nullable = true)\n",
      " |-- ORIGIN_AIRPORT: string (nullable = true)\n",
      " |-- DESTINATION_AIRPORT: string (nullable = true)\n",
      " |-- SCHEDULED_DEPARTURE: string (nullable = true)\n",
      " |-- DEPARTURE_TIME: string (nullable = true)\n",
      " |-- DEPARTURE_DELAY: string (nullable = true)\n",
      " |-- TAXI_OUT: string (nullable = true)\n",
      " |-- WHEELS_OFF: string (nullable = true)\n",
      " |-- SCHEDULED_TIME: string (nullable = true)\n",
      " |-- ELAPSED_TIME: string (nullable = true)\n",
      " |-- AIR_TIME: string (nullable = true)\n",
      " |-- DISTANCE: string (nullable = true)\n",
      " |-- WHEELS_ON: string (nullable = true)\n",
      " |-- TAXI_IN: string (nullable = true)\n",
      " |-- SCHEDULED_ARRIVAL: string (nullable = true)\n",
      " |-- ARRIVAL_TIME: string (nullable = true)\n",
      " |-- ARRIVAL_DELAY: string (nullable = true)\n",
      " |-- DIVERTED: string (nullable = true)\n",
      " |-- CANCELLED: string (nullable = true)\n",
      " |-- CANCELLATION_REASON: string (nullable = true)\n",
      " |-- AIR_SYSTEM_DELAY: string (nullable = true)\n",
      " |-- SECURITY_DELAY: string (nullable = true)\n",
      " |-- AIRLINE_DELAY: string (nullable = true)\n",
      " |-- LATE_AIRCRAFT_DELAY: string (nullable = true)\n",
      " |-- WEATHER_DELAY: string (nullable = true)\n",
      "\n"
     ]
    }
   ],
   "source": [
    "df.printSchema()"
   ]
  },
  {
   "cell_type": "code",
   "execution_count": 6,
   "metadata": {},
   "outputs": [
    {
     "data": {
      "text/html": [
       "<div>\n",
       "<style scoped>\n",
       "    .dataframe tbody tr th:only-of-type {\n",
       "        vertical-align: middle;\n",
       "    }\n",
       "\n",
       "    .dataframe tbody tr th {\n",
       "        vertical-align: top;\n",
       "    }\n",
       "\n",
       "    .dataframe thead th {\n",
       "        text-align: right;\n",
       "    }\n",
       "</style>\n",
       "<table border=\"1\" class=\"dataframe\">\n",
       "  <thead>\n",
       "    <tr style=\"text-align: right;\">\n",
       "      <th></th>\n",
       "      <th>Column</th>\n",
       "      <th>Dtype</th>\n",
       "    </tr>\n",
       "  </thead>\n",
       "  <tbody>\n",
       "    <tr>\n",
       "      <th>0</th>\n",
       "      <td>YEAR</td>\n",
       "      <td>string</td>\n",
       "    </tr>\n",
       "    <tr>\n",
       "      <th>1</th>\n",
       "      <td>MONTH</td>\n",
       "      <td>string</td>\n",
       "    </tr>\n",
       "    <tr>\n",
       "      <th>2</th>\n",
       "      <td>DAY</td>\n",
       "      <td>string</td>\n",
       "    </tr>\n",
       "    <tr>\n",
       "      <th>3</th>\n",
       "      <td>DAY_OF_WEEK</td>\n",
       "      <td>string</td>\n",
       "    </tr>\n",
       "    <tr>\n",
       "      <th>4</th>\n",
       "      <td>AIRLINE</td>\n",
       "      <td>string</td>\n",
       "    </tr>\n",
       "    <tr>\n",
       "      <th>5</th>\n",
       "      <td>FLIGHT_NUMBER</td>\n",
       "      <td>string</td>\n",
       "    </tr>\n",
       "    <tr>\n",
       "      <th>6</th>\n",
       "      <td>TAIL_NUMBER</td>\n",
       "      <td>string</td>\n",
       "    </tr>\n",
       "    <tr>\n",
       "      <th>7</th>\n",
       "      <td>ORIGIN_AIRPORT</td>\n",
       "      <td>string</td>\n",
       "    </tr>\n",
       "    <tr>\n",
       "      <th>8</th>\n",
       "      <td>DESTINATION_AIRPORT</td>\n",
       "      <td>string</td>\n",
       "    </tr>\n",
       "    <tr>\n",
       "      <th>9</th>\n",
       "      <td>SCHEDULED_DEPARTURE</td>\n",
       "      <td>string</td>\n",
       "    </tr>\n",
       "    <tr>\n",
       "      <th>10</th>\n",
       "      <td>DEPARTURE_TIME</td>\n",
       "      <td>string</td>\n",
       "    </tr>\n",
       "    <tr>\n",
       "      <th>11</th>\n",
       "      <td>DEPARTURE_DELAY</td>\n",
       "      <td>string</td>\n",
       "    </tr>\n",
       "    <tr>\n",
       "      <th>12</th>\n",
       "      <td>TAXI_OUT</td>\n",
       "      <td>string</td>\n",
       "    </tr>\n",
       "    <tr>\n",
       "      <th>13</th>\n",
       "      <td>WHEELS_OFF</td>\n",
       "      <td>string</td>\n",
       "    </tr>\n",
       "    <tr>\n",
       "      <th>14</th>\n",
       "      <td>SCHEDULED_TIME</td>\n",
       "      <td>string</td>\n",
       "    </tr>\n",
       "    <tr>\n",
       "      <th>15</th>\n",
       "      <td>ELAPSED_TIME</td>\n",
       "      <td>string</td>\n",
       "    </tr>\n",
       "    <tr>\n",
       "      <th>16</th>\n",
       "      <td>AIR_TIME</td>\n",
       "      <td>string</td>\n",
       "    </tr>\n",
       "    <tr>\n",
       "      <th>17</th>\n",
       "      <td>DISTANCE</td>\n",
       "      <td>string</td>\n",
       "    </tr>\n",
       "    <tr>\n",
       "      <th>18</th>\n",
       "      <td>WHEELS_ON</td>\n",
       "      <td>string</td>\n",
       "    </tr>\n",
       "    <tr>\n",
       "      <th>19</th>\n",
       "      <td>TAXI_IN</td>\n",
       "      <td>string</td>\n",
       "    </tr>\n",
       "    <tr>\n",
       "      <th>20</th>\n",
       "      <td>SCHEDULED_ARRIVAL</td>\n",
       "      <td>string</td>\n",
       "    </tr>\n",
       "    <tr>\n",
       "      <th>21</th>\n",
       "      <td>ARRIVAL_TIME</td>\n",
       "      <td>string</td>\n",
       "    </tr>\n",
       "    <tr>\n",
       "      <th>22</th>\n",
       "      <td>ARRIVAL_DELAY</td>\n",
       "      <td>string</td>\n",
       "    </tr>\n",
       "    <tr>\n",
       "      <th>23</th>\n",
       "      <td>DIVERTED</td>\n",
       "      <td>string</td>\n",
       "    </tr>\n",
       "    <tr>\n",
       "      <th>24</th>\n",
       "      <td>CANCELLED</td>\n",
       "      <td>string</td>\n",
       "    </tr>\n",
       "    <tr>\n",
       "      <th>25</th>\n",
       "      <td>CANCELLATION_REASON</td>\n",
       "      <td>string</td>\n",
       "    </tr>\n",
       "    <tr>\n",
       "      <th>26</th>\n",
       "      <td>AIR_SYSTEM_DELAY</td>\n",
       "      <td>string</td>\n",
       "    </tr>\n",
       "    <tr>\n",
       "      <th>27</th>\n",
       "      <td>SECURITY_DELAY</td>\n",
       "      <td>string</td>\n",
       "    </tr>\n",
       "    <tr>\n",
       "      <th>28</th>\n",
       "      <td>AIRLINE_DELAY</td>\n",
       "      <td>string</td>\n",
       "    </tr>\n",
       "    <tr>\n",
       "      <th>29</th>\n",
       "      <td>LATE_AIRCRAFT_DELAY</td>\n",
       "      <td>string</td>\n",
       "    </tr>\n",
       "    <tr>\n",
       "      <th>30</th>\n",
       "      <td>WEATHER_DELAY</td>\n",
       "      <td>string</td>\n",
       "    </tr>\n",
       "  </tbody>\n",
       "</table>\n",
       "</div>"
      ],
      "text/plain": [
       "                 Column   Dtype\n",
       "0                  YEAR  string\n",
       "1                 MONTH  string\n",
       "2                   DAY  string\n",
       "3           DAY_OF_WEEK  string\n",
       "4               AIRLINE  string\n",
       "5         FLIGHT_NUMBER  string\n",
       "6           TAIL_NUMBER  string\n",
       "7        ORIGIN_AIRPORT  string\n",
       "8   DESTINATION_AIRPORT  string\n",
       "9   SCHEDULED_DEPARTURE  string\n",
       "10       DEPARTURE_TIME  string\n",
       "11      DEPARTURE_DELAY  string\n",
       "12             TAXI_OUT  string\n",
       "13           WHEELS_OFF  string\n",
       "14       SCHEDULED_TIME  string\n",
       "15         ELAPSED_TIME  string\n",
       "16             AIR_TIME  string\n",
       "17             DISTANCE  string\n",
       "18            WHEELS_ON  string\n",
       "19              TAXI_IN  string\n",
       "20    SCHEDULED_ARRIVAL  string\n",
       "21         ARRIVAL_TIME  string\n",
       "22        ARRIVAL_DELAY  string\n",
       "23             DIVERTED  string\n",
       "24            CANCELLED  string\n",
       "25  CANCELLATION_REASON  string\n",
       "26     AIR_SYSTEM_DELAY  string\n",
       "27       SECURITY_DELAY  string\n",
       "28        AIRLINE_DELAY  string\n",
       "29  LATE_AIRCRAFT_DELAY  string\n",
       "30        WEATHER_DELAY  string"
      ]
     },
     "execution_count": 6,
     "metadata": {},
     "output_type": "execute_result"
    }
   ],
   "source": [
    "# DTypes in pd formatting\n",
    "pd.DataFrame(df.dtypes, columns=['Column', 'Dtype'])"
   ]
  },
  {
   "cell_type": "code",
   "execution_count": 7,
   "metadata": {},
   "outputs": [
    {
     "name": "stdout",
     "output_type": "stream",
     "text": [
      "+----+-----+---+-----------+-------+-------------+-----------+--------------+-------------------+-------------------+--------------+---------------+--------+----------+--------------+------------+--------+--------+---------+-------+-----------------+------------+-------------+--------+---------+-------------------+----------------+--------------+-------------+-------------------+-------------+\n",
      "|YEAR|MONTH|DAY|DAY_OF_WEEK|AIRLINE|FLIGHT_NUMBER|TAIL_NUMBER|ORIGIN_AIRPORT|DESTINATION_AIRPORT|SCHEDULED_DEPARTURE|DEPARTURE_TIME|DEPARTURE_DELAY|TAXI_OUT|WHEELS_OFF|SCHEDULED_TIME|ELAPSED_TIME|AIR_TIME|DISTANCE|WHEELS_ON|TAXI_IN|SCHEDULED_ARRIVAL|ARRIVAL_TIME|ARRIVAL_DELAY|DIVERTED|CANCELLED|CANCELLATION_REASON|AIR_SYSTEM_DELAY|SECURITY_DELAY|AIRLINE_DELAY|LATE_AIRCRAFT_DELAY|WEATHER_DELAY|\n",
      "+----+-----+---+-----------+-------+-------------+-----------+--------------+-------------------+-------------------+--------------+---------------+--------+----------+--------------+------------+--------+--------+---------+-------+-----------------+------------+-------------+--------+---------+-------------------+----------------+--------------+-------------+-------------------+-------------+\n",
      "|2015|    1|  1|          4|     AS|           98|     N407AS|           ANC|                SEA|               0005|          2354|            -11|      21|      0015|           205|         194|     169|    1448|     0404|      4|             0430|        0408|          -22|       0|        0|               null|            null|          null|         null|               null|         null|\n",
      "|2015|    1|  1|          4|     AA|         2336|     N3KUAA|           LAX|                PBI|               0010|          0002|             -8|      12|      0014|           280|         279|     263|    2330|     0737|      4|             0750|        0741|           -9|       0|        0|               null|            null|          null|         null|               null|         null|\n",
      "|2015|    1|  1|          4|     US|          840|     N171US|           SFO|                CLT|               0020|          0018|             -2|      16|      0034|           286|         293|     266|    2296|     0800|     11|             0806|        0811|            5|       0|        0|               null|            null|          null|         null|               null|         null|\n",
      "|2015|    1|  1|          4|     AA|          258|     N3HYAA|           LAX|                MIA|               0020|          0015|             -5|      15|      0030|           285|         281|     258|    2342|     0748|      8|             0805|        0756|           -9|       0|        0|               null|            null|          null|         null|               null|         null|\n",
      "|2015|    1|  1|          4|     AS|          135|     N527AS|           SEA|                ANC|               0025|          0024|             -1|      11|      0035|           235|         215|     199|    1448|     0254|      5|             0320|        0259|          -21|       0|        0|               null|            null|          null|         null|               null|         null|\n",
      "|2015|    1|  1|          4|     DL|          806|     N3730B|           SFO|                MSP|               0025|          0020|             -5|      18|      0038|           217|         230|     206|    1589|     0604|      6|             0602|        0610|            8|       0|        0|               null|            null|          null|         null|               null|         null|\n",
      "|2015|    1|  1|          4|     NK|          612|     N635NK|           LAS|                MSP|               0025|          0019|             -6|      11|      0030|           181|         170|     154|    1299|     0504|      5|             0526|        0509|          -17|       0|        0|               null|            null|          null|         null|               null|         null|\n",
      "|2015|    1|  1|          4|     US|         2013|     N584UW|           LAX|                CLT|               0030|          0044|             14|      13|      0057|           273|         249|     228|    2125|     0745|      8|             0803|        0753|          -10|       0|        0|               null|            null|          null|         null|               null|         null|\n",
      "|2015|    1|  1|          4|     AA|         1112|     N3LAAA|           SFO|                DFW|               0030|          0019|            -11|      17|      0036|           195|         193|     173|    1464|     0529|      3|             0545|        0532|          -13|       0|        0|               null|            null|          null|         null|               null|         null|\n",
      "|2015|    1|  1|          4|     DL|         1173|     N826DN|           LAS|                ATL|               0030|          0033|              3|      12|      0045|           221|         203|     186|    1747|     0651|      5|             0711|        0656|          -15|       0|        0|               null|            null|          null|         null|               null|         null|\n",
      "|2015|    1|  1|          4|     DL|         2336|     N958DN|           DEN|                ATL|               0030|          0024|             -6|      12|      0036|           173|         149|     133|    1199|     0449|      4|             0523|        0453|          -30|       0|        0|               null|            null|          null|         null|               null|         null|\n",
      "|2015|    1|  1|          4|     AA|         1674|     N853AA|           LAS|                MIA|               0035|          0027|             -8|      21|      0048|           268|         266|     238|    2174|     0746|      7|             0803|        0753|          -10|       0|        0|               null|            null|          null|         null|               null|         null|\n",
      "|2015|    1|  1|          4|     DL|         1434|     N547US|           LAX|                MSP|               0035|          0035|              0|      18|      0053|           214|         210|     188|    1535|     0601|      4|             0609|        0605|           -4|       0|        0|               null|            null|          null|         null|               null|         null|\n",
      "|2015|    1|  1|          4|     DL|         2324|     N3751B|           SLC|                ATL|               0040|          0034|             -6|      18|      0052|           215|         199|     176|    1590|     0548|      5|             0615|        0553|          -22|       0|        0|               null|            null|          null|         null|               null|         null|\n",
      "|2015|    1|  1|          4|     DL|         2440|     N651DL|           SEA|                MSP|               0040|          0039|             -1|      28|      0107|           189|         198|     166|    1399|     0553|      4|             0549|        0557|            8|       0|        0|               null|            null|          null|         null|               null|         null|\n",
      "|2015|    1|  1|          4|     AS|          108|     N309AS|           ANC|                SEA|               0045|          0041|             -4|      17|      0058|           204|         194|     173|    1448|     0451|      4|             0509|        0455|          -14|       0|        0|               null|            null|          null|         null|               null|         null|\n",
      "|2015|    1|  1|          4|     DL|         1560|     N3743H|           ANC|                SEA|               0045|          0031|            -14|      25|      0056|           210|         200|     171|    1448|     0447|      4|             0515|        0451|          -24|       0|        0|               null|            null|          null|         null|               null|         null|\n",
      "|2015|    1|  1|          4|     UA|         1197|     N78448|           SFO|                IAH|               0048|          0042|             -6|      11|      0053|           218|         217|     199|    1635|     0612|      7|             0626|        0619|           -7|       0|        0|               null|            null|          null|         null|               null|         null|\n",
      "|2015|    1|  1|          4|     AS|          122|     N413AS|           ANC|                PDX|               0050|          0046|             -4|      11|      0057|           215|         201|     187|    1542|     0504|      3|             0525|        0507|          -18|       0|        0|               null|            null|          null|         null|               null|         null|\n",
      "|2015|    1|  1|          4|     DL|         1670|     N806DN|           PDX|                MSP|               0050|          0045|             -5|       9|      0054|           193|         186|     171|    1426|     0545|      6|             0603|        0551|          -12|       0|        0|               null|            null|          null|         null|               null|         null|\n",
      "+----+-----+---+-----------+-------+-------------+-----------+--------------+-------------------+-------------------+--------------+---------------+--------+----------+--------------+------------+--------+--------+---------+-------+-----------------+------------+-------------+--------+---------+-------------------+----------------+--------------+-------------+-------------------+-------------+\n",
      "only showing top 20 rows\n",
      "\n"
     ]
    }
   ],
   "source": [
    "df.show(20)"
   ]
  },
  {
   "cell_type": "code",
   "execution_count": 8,
   "metadata": {},
   "outputs": [
    {
     "name": "stdout",
     "output_type": "stream",
     "text": [
      "Dataframe row count:  5819079\n",
      "Dataframe columns count:  31\n"
     ]
    }
   ],
   "source": [
    "# Dataframe shape\n",
    "print(\"Dataframe row count: \", df.count())\n",
    "print(\"Dataframe columns count: \", len(df.columns))"
   ]
  },
  {
   "cell_type": "code",
   "execution_count": 9,
   "metadata": {},
   "outputs": [],
   "source": [
    "# Column statistics\n",
    "# df.describe().toPandas()"
   ]
  },
  {
   "cell_type": "code",
   "execution_count": 10,
   "metadata": {},
   "outputs": [
    {
     "name": "stdout",
     "output_type": "stream",
     "text": [
      "+----+-----+---+-----------+-------+-------------+-----------+--------------+-------------------+-------------------+--------------+---------------+--------+----------+--------------+------------+--------+--------+---------+-------+-----------------+------------+-------------+--------+---------+-------------------+----------------+--------------+-------------+-------------------+-------------+\n",
      "|YEAR|MONTH|DAY|DAY_OF_WEEK|AIRLINE|FLIGHT_NUMBER|TAIL_NUMBER|ORIGIN_AIRPORT|DESTINATION_AIRPORT|SCHEDULED_DEPARTURE|DEPARTURE_TIME|DEPARTURE_DELAY|TAXI_OUT|WHEELS_OFF|SCHEDULED_TIME|ELAPSED_TIME|AIR_TIME|DISTANCE|WHEELS_ON|TAXI_IN|SCHEDULED_ARRIVAL|ARRIVAL_TIME|ARRIVAL_DELAY|DIVERTED|CANCELLED|CANCELLATION_REASON|AIR_SYSTEM_DELAY|SECURITY_DELAY|AIRLINE_DELAY|LATE_AIRCRAFT_DELAY|WEATHER_DELAY|\n",
      "+----+-----+---+-----------+-------+-------------+-----------+--------------+-------------------+-------------------+--------------+---------------+--------+----------+--------------+------------+--------+--------+---------+-------+-----------------+------------+-------------+--------+---------+-------------------+----------------+--------------+-------------+-------------------+-------------+\n",
      "|   0|    0|  0|          0|      0|            0|      14721|             0|                  0|                  0|         86153|          86153|   89047|     89047|             6|      105071|  105071|       0|    92513|  92513|                0|       92513|       105071|       0|        0|            5729195|         4755640|       4755640|      4755640|            4755640|      4755640|\n",
      "+----+-----+---+-----------+-------+-------------+-----------+--------------+-------------------+-------------------+--------------+---------------+--------+----------+--------------+------------+--------+--------+---------+-------+-----------------+------------+-------------+--------+---------+-------------------+----------------+--------------+-------------+-------------------+-------------+\n",
      "\n"
     ]
    }
   ],
   "source": [
    "missing_values_count(df)"
   ]
  },
  {
   "cell_type": "code",
   "execution_count": null,
   "metadata": {},
   "outputs": [],
   "source": []
  },
  {
   "cell_type": "markdown",
   "metadata": {},
   "source": [
    "##### Airports data dictionary"
   ]
  },
  {
   "cell_type": "code",
   "execution_count": 11,
   "metadata": {},
   "outputs": [
    {
     "name": "stdout",
     "output_type": "stream",
     "text": [
      "root\n",
      " |-- IATA_CODE: string (nullable = true)\n",
      " |-- AIRPORT: string (nullable = true)\n",
      " |-- CITY: string (nullable = true)\n",
      " |-- STATE: string (nullable = true)\n",
      " |-- COUNTRY: string (nullable = true)\n",
      " |-- LATITUDE: double (nullable = true)\n",
      " |-- LONGITUDE: double (nullable = true)\n",
      "\n"
     ]
    }
   ],
   "source": [
    "airports_df.printSchema()"
   ]
  },
  {
   "cell_type": "code",
   "execution_count": 12,
   "metadata": {},
   "outputs": [
    {
     "data": {
      "text/html": [
       "<div>\n",
       "<style scoped>\n",
       "    .dataframe tbody tr th:only-of-type {\n",
       "        vertical-align: middle;\n",
       "    }\n",
       "\n",
       "    .dataframe tbody tr th {\n",
       "        vertical-align: top;\n",
       "    }\n",
       "\n",
       "    .dataframe thead th {\n",
       "        text-align: right;\n",
       "    }\n",
       "</style>\n",
       "<table border=\"1\" class=\"dataframe\">\n",
       "  <thead>\n",
       "    <tr style=\"text-align: right;\">\n",
       "      <th></th>\n",
       "      <th>Column</th>\n",
       "      <th>Dtype</th>\n",
       "    </tr>\n",
       "  </thead>\n",
       "  <tbody>\n",
       "    <tr>\n",
       "      <th>0</th>\n",
       "      <td>IATA_CODE</td>\n",
       "      <td>string</td>\n",
       "    </tr>\n",
       "    <tr>\n",
       "      <th>1</th>\n",
       "      <td>AIRPORT</td>\n",
       "      <td>string</td>\n",
       "    </tr>\n",
       "    <tr>\n",
       "      <th>2</th>\n",
       "      <td>CITY</td>\n",
       "      <td>string</td>\n",
       "    </tr>\n",
       "    <tr>\n",
       "      <th>3</th>\n",
       "      <td>STATE</td>\n",
       "      <td>string</td>\n",
       "    </tr>\n",
       "    <tr>\n",
       "      <th>4</th>\n",
       "      <td>COUNTRY</td>\n",
       "      <td>string</td>\n",
       "    </tr>\n",
       "    <tr>\n",
       "      <th>5</th>\n",
       "      <td>LATITUDE</td>\n",
       "      <td>double</td>\n",
       "    </tr>\n",
       "    <tr>\n",
       "      <th>6</th>\n",
       "      <td>LONGITUDE</td>\n",
       "      <td>double</td>\n",
       "    </tr>\n",
       "  </tbody>\n",
       "</table>\n",
       "</div>"
      ],
      "text/plain": [
       "      Column   Dtype\n",
       "0  IATA_CODE  string\n",
       "1    AIRPORT  string\n",
       "2       CITY  string\n",
       "3      STATE  string\n",
       "4    COUNTRY  string\n",
       "5   LATITUDE  double\n",
       "6  LONGITUDE  double"
      ]
     },
     "execution_count": 12,
     "metadata": {},
     "output_type": "execute_result"
    }
   ],
   "source": [
    "# DTypes in pd formatting\n",
    "pd.DataFrame(airports_df.dtypes, columns=['Column', 'Dtype'])"
   ]
  },
  {
   "cell_type": "code",
   "execution_count": 13,
   "metadata": {},
   "outputs": [
    {
     "name": "stdout",
     "output_type": "stream",
     "text": [
      "+---------+--------------------+-------------+-----+-------+--------+----------+\n",
      "|IATA_CODE|             AIRPORT|         CITY|STATE|COUNTRY|LATITUDE| LONGITUDE|\n",
      "+---------+--------------------+-------------+-----+-------+--------+----------+\n",
      "|      ABE|Lehigh Valley Int...|    Allentown|   PA|    USA|40.65236|  -75.4404|\n",
      "|      ABI|Abilene Regional ...|      Abilene|   TX|    USA|32.41132|  -99.6819|\n",
      "|      ABQ|Albuquerque Inter...|  Albuquerque|   NM|    USA|35.04022|-106.60919|\n",
      "|      ABR|Aberdeen Regional...|     Aberdeen|   SD|    USA|45.44906| -98.42183|\n",
      "|      ABY|Southwest Georgia...|       Albany|   GA|    USA|31.53552| -84.19447|\n",
      "|      ACK|Nantucket Memoria...|    Nantucket|   MA|    USA|41.25305| -70.06018|\n",
      "|      ACT|Waco Regional Air...|         Waco|   TX|    USA|31.61129| -97.23052|\n",
      "|      ACV|      Arcata Airport|Arcata/Eureka|   CA|    USA|40.97812|-124.10862|\n",
      "|      ACY|Atlantic City Int...|Atlantic City|   NJ|    USA|39.45758| -74.57717|\n",
      "|      ADK|        Adak Airport|         Adak|   AK|    USA|51.87796|-176.64603|\n",
      "|      ADQ|      Kodiak Airport|       Kodiak|   AK|    USA|57.74997|-152.49386|\n",
      "|      AEX|Alexandria Intern...|   Alexandria|   LA|    USA|31.32737| -92.54856|\n",
      "|      AGS|Augusta Regional ...|      Augusta|   GA|    USA|33.36996|  -81.9645|\n",
      "|      AKN| King Salmon Airport|  King Salmon|   AK|    USA| 58.6768|-156.64922|\n",
      "|      ALB|Albany Internatio...|       Albany|   NY|    USA|42.74812| -73.80298|\n",
      "|      ALO|Waterloo Regional...|     Waterloo|   IA|    USA|42.55708| -92.40034|\n",
      "|      AMA|Rick Husband Amar...|     Amarillo|   TX|    USA|35.21937|-101.70593|\n",
      "|      ANC|Ted Stevens Ancho...|    Anchorage|   AK|    USA|61.17432|-149.99619|\n",
      "|      APN|Alpena County Reg...|       Alpena|   MI|    USA|45.07807| -83.56029|\n",
      "|      ASE|Aspen-Pitkin Coun...|        Aspen|   CO|    USA|39.22316|-106.86885|\n",
      "+---------+--------------------+-------------+-----+-------+--------+----------+\n",
      "only showing top 20 rows\n",
      "\n"
     ]
    }
   ],
   "source": [
    "airports_df.show(20)"
   ]
  },
  {
   "cell_type": "code",
   "execution_count": 14,
   "metadata": {},
   "outputs": [
    {
     "name": "stdout",
     "output_type": "stream",
     "text": [
      "Dataframe row count:  322\n",
      "Dataframe columns count:  7\n"
     ]
    }
   ],
   "source": [
    "# Dataframe shape\n",
    "print(\"Dataframe row count: \", airports_df.count())\n",
    "print(\"Dataframe columns count: \", len(airports_df.columns))"
   ]
  },
  {
   "cell_type": "code",
   "execution_count": 15,
   "metadata": {},
   "outputs": [
    {
     "data": {
      "text/html": [
       "<div>\n",
       "<style scoped>\n",
       "    .dataframe tbody tr th:only-of-type {\n",
       "        vertical-align: middle;\n",
       "    }\n",
       "\n",
       "    .dataframe tbody tr th {\n",
       "        vertical-align: top;\n",
       "    }\n",
       "\n",
       "    .dataframe thead th {\n",
       "        text-align: right;\n",
       "    }\n",
       "</style>\n",
       "<table border=\"1\" class=\"dataframe\">\n",
       "  <thead>\n",
       "    <tr style=\"text-align: right;\">\n",
       "      <th></th>\n",
       "      <th>summary</th>\n",
       "      <th>IATA_CODE</th>\n",
       "      <th>AIRPORT</th>\n",
       "      <th>CITY</th>\n",
       "      <th>STATE</th>\n",
       "      <th>COUNTRY</th>\n",
       "      <th>LATITUDE</th>\n",
       "      <th>LONGITUDE</th>\n",
       "    </tr>\n",
       "  </thead>\n",
       "  <tbody>\n",
       "    <tr>\n",
       "      <th>0</th>\n",
       "      <td>count</td>\n",
       "      <td>322</td>\n",
       "      <td>322</td>\n",
       "      <td>322</td>\n",
       "      <td>322</td>\n",
       "      <td>322</td>\n",
       "      <td>319</td>\n",
       "      <td>319</td>\n",
       "    </tr>\n",
       "    <tr>\n",
       "      <th>1</th>\n",
       "      <td>mean</td>\n",
       "      <td>None</td>\n",
       "      <td>None</td>\n",
       "      <td>None</td>\n",
       "      <td>None</td>\n",
       "      <td>None</td>\n",
       "      <td>38.981243918495295</td>\n",
       "      <td>-98.37896445141064</td>\n",
       "    </tr>\n",
       "    <tr>\n",
       "      <th>2</th>\n",
       "      <td>stddev</td>\n",
       "      <td>None</td>\n",
       "      <td>None</td>\n",
       "      <td>None</td>\n",
       "      <td>None</td>\n",
       "      <td>None</td>\n",
       "      <td>8.616735581018041</td>\n",
       "      <td>21.523492046498102</td>\n",
       "    </tr>\n",
       "    <tr>\n",
       "      <th>3</th>\n",
       "      <td>min</td>\n",
       "      <td>ABE</td>\n",
       "      <td>Aberdeen Regional Airport</td>\n",
       "      <td>Aberdeen</td>\n",
       "      <td>AK</td>\n",
       "      <td>USA</td>\n",
       "      <td>13.48345</td>\n",
       "      <td>-176.64603</td>\n",
       "    </tr>\n",
       "    <tr>\n",
       "      <th>4</th>\n",
       "      <td>max</td>\n",
       "      <td>YUM</td>\n",
       "      <td>Yuma International Airport</td>\n",
       "      <td>Yuma</td>\n",
       "      <td>WY</td>\n",
       "      <td>USA</td>\n",
       "      <td>71.28545</td>\n",
       "      <td>-64.79856</td>\n",
       "    </tr>\n",
       "  </tbody>\n",
       "</table>\n",
       "</div>"
      ],
      "text/plain": [
       "  summary IATA_CODE                     AIRPORT      CITY STATE COUNTRY  \\\n",
       "0   count       322                         322       322   322     322   \n",
       "1    mean      None                        None      None  None    None   \n",
       "2  stddev      None                        None      None  None    None   \n",
       "3     min       ABE   Aberdeen Regional Airport  Aberdeen    AK     USA   \n",
       "4     max       YUM  Yuma International Airport      Yuma    WY     USA   \n",
       "\n",
       "             LATITUDE           LONGITUDE  \n",
       "0                 319                 319  \n",
       "1  38.981243918495295  -98.37896445141064  \n",
       "2   8.616735581018041  21.523492046498102  \n",
       "3            13.48345          -176.64603  \n",
       "4            71.28545           -64.79856  "
      ]
     },
     "execution_count": 15,
     "metadata": {},
     "output_type": "execute_result"
    }
   ],
   "source": [
    "# Column statistics\n",
    "airports_df.describe().toPandas()"
   ]
  },
  {
   "cell_type": "code",
   "execution_count": 16,
   "metadata": {},
   "outputs": [
    {
     "name": "stdout",
     "output_type": "stream",
     "text": [
      "+---------+-------+----+-----+-------+--------+---------+\n",
      "|IATA_CODE|AIRPORT|CITY|STATE|COUNTRY|LATITUDE|LONGITUDE|\n",
      "+---------+-------+----+-----+-------+--------+---------+\n",
      "|        0|      0|   0|    0|      0|       3|        3|\n",
      "+---------+-------+----+-----+-------+--------+---------+\n",
      "\n"
     ]
    }
   ],
   "source": [
    "missing_values_count(airports_df)"
   ]
  },
  {
   "cell_type": "markdown",
   "metadata": {},
   "source": [
    "#### Airlines data dictionary"
   ]
  },
  {
   "cell_type": "code",
   "execution_count": 17,
   "metadata": {},
   "outputs": [
    {
     "name": "stdout",
     "output_type": "stream",
     "text": [
      "root\n",
      " |-- IATA_CODE: string (nullable = true)\n",
      " |-- AIRLINE: string (nullable = true)\n",
      "\n"
     ]
    }
   ],
   "source": [
    "airlines_df.printSchema()"
   ]
  },
  {
   "cell_type": "code",
   "execution_count": 18,
   "metadata": {},
   "outputs": [
    {
     "data": {
      "text/html": [
       "<div>\n",
       "<style scoped>\n",
       "    .dataframe tbody tr th:only-of-type {\n",
       "        vertical-align: middle;\n",
       "    }\n",
       "\n",
       "    .dataframe tbody tr th {\n",
       "        vertical-align: top;\n",
       "    }\n",
       "\n",
       "    .dataframe thead th {\n",
       "        text-align: right;\n",
       "    }\n",
       "</style>\n",
       "<table border=\"1\" class=\"dataframe\">\n",
       "  <thead>\n",
       "    <tr style=\"text-align: right;\">\n",
       "      <th></th>\n",
       "      <th>Column</th>\n",
       "      <th>Dtype</th>\n",
       "    </tr>\n",
       "  </thead>\n",
       "  <tbody>\n",
       "    <tr>\n",
       "      <th>0</th>\n",
       "      <td>IATA_CODE</td>\n",
       "      <td>string</td>\n",
       "    </tr>\n",
       "    <tr>\n",
       "      <th>1</th>\n",
       "      <td>AIRLINE</td>\n",
       "      <td>string</td>\n",
       "    </tr>\n",
       "  </tbody>\n",
       "</table>\n",
       "</div>"
      ],
      "text/plain": [
       "      Column   Dtype\n",
       "0  IATA_CODE  string\n",
       "1    AIRLINE  string"
      ]
     },
     "execution_count": 18,
     "metadata": {},
     "output_type": "execute_result"
    }
   ],
   "source": [
    "# DTypes in pd formatting\n",
    "pd.DataFrame(airlines_df.dtypes, columns=['Column', 'Dtype'])"
   ]
  },
  {
   "cell_type": "code",
   "execution_count": 19,
   "metadata": {},
   "outputs": [
    {
     "name": "stdout",
     "output_type": "stream",
     "text": [
      "+---------+--------------------+\n",
      "|IATA_CODE|             AIRLINE|\n",
      "+---------+--------------------+\n",
      "|       UA|United Air Lines ...|\n",
      "|       AA|American Airlines...|\n",
      "|       US|     US Airways Inc.|\n",
      "|       F9|Frontier Airlines...|\n",
      "|       B6|     JetBlue Airways|\n",
      "|       OO|Skywest Airlines ...|\n",
      "|       AS|Alaska Airlines Inc.|\n",
      "|       NK|    Spirit Air Lines|\n",
      "|       WN|Southwest Airline...|\n",
      "|       DL|Delta Air Lines Inc.|\n",
      "|       EV|Atlantic Southeas...|\n",
      "|       HA|Hawaiian Airlines...|\n",
      "|       MQ|American Eagle Ai...|\n",
      "|       VX|      Virgin America|\n",
      "+---------+--------------------+\n",
      "\n"
     ]
    }
   ],
   "source": [
    "airlines_df.show(20)"
   ]
  },
  {
   "cell_type": "code",
   "execution_count": 20,
   "metadata": {},
   "outputs": [
    {
     "name": "stdout",
     "output_type": "stream",
     "text": [
      "Dataframe row count:  14\n",
      "Dataframe columns count:  2\n"
     ]
    }
   ],
   "source": [
    "# Dataframe shape\n",
    "print(\"Dataframe row count: \", airlines_df.count())\n",
    "print(\"Dataframe columns count: \", len(airlines_df.columns))"
   ]
  },
  {
   "cell_type": "code",
   "execution_count": 21,
   "metadata": {},
   "outputs": [
    {
     "data": {
      "text/html": [
       "<div>\n",
       "<style scoped>\n",
       "    .dataframe tbody tr th:only-of-type {\n",
       "        vertical-align: middle;\n",
       "    }\n",
       "\n",
       "    .dataframe tbody tr th {\n",
       "        vertical-align: top;\n",
       "    }\n",
       "\n",
       "    .dataframe thead th {\n",
       "        text-align: right;\n",
       "    }\n",
       "</style>\n",
       "<table border=\"1\" class=\"dataframe\">\n",
       "  <thead>\n",
       "    <tr style=\"text-align: right;\">\n",
       "      <th></th>\n",
       "      <th>summary</th>\n",
       "      <th>IATA_CODE</th>\n",
       "      <th>AIRLINE</th>\n",
       "    </tr>\n",
       "  </thead>\n",
       "  <tbody>\n",
       "    <tr>\n",
       "      <th>0</th>\n",
       "      <td>count</td>\n",
       "      <td>14</td>\n",
       "      <td>14</td>\n",
       "    </tr>\n",
       "    <tr>\n",
       "      <th>1</th>\n",
       "      <td>mean</td>\n",
       "      <td>None</td>\n",
       "      <td>None</td>\n",
       "    </tr>\n",
       "    <tr>\n",
       "      <th>2</th>\n",
       "      <td>stddev</td>\n",
       "      <td>None</td>\n",
       "      <td>None</td>\n",
       "    </tr>\n",
       "    <tr>\n",
       "      <th>3</th>\n",
       "      <td>min</td>\n",
       "      <td>AA</td>\n",
       "      <td>Alaska Airlines Inc.</td>\n",
       "    </tr>\n",
       "    <tr>\n",
       "      <th>4</th>\n",
       "      <td>max</td>\n",
       "      <td>WN</td>\n",
       "      <td>Virgin America</td>\n",
       "    </tr>\n",
       "  </tbody>\n",
       "</table>\n",
       "</div>"
      ],
      "text/plain": [
       "  summary IATA_CODE               AIRLINE\n",
       "0   count        14                    14\n",
       "1    mean      None                  None\n",
       "2  stddev      None                  None\n",
       "3     min        AA  Alaska Airlines Inc.\n",
       "4     max        WN        Virgin America"
      ]
     },
     "execution_count": 21,
     "metadata": {},
     "output_type": "execute_result"
    }
   ],
   "source": [
    "# Column statistics\n",
    "airlines_df.describe().toPandas()"
   ]
  },
  {
   "cell_type": "code",
   "execution_count": 22,
   "metadata": {},
   "outputs": [
    {
     "name": "stdout",
     "output_type": "stream",
     "text": [
      "+---------+-------+\n",
      "|IATA_CODE|AIRLINE|\n",
      "+---------+-------+\n",
      "|        0|      0|\n",
      "+---------+-------+\n",
      "\n"
     ]
    }
   ],
   "source": [
    "missing_values_count(airlines_df)"
   ]
  },
  {
   "cell_type": "markdown",
   "metadata": {},
   "source": [
    "### Step 2: Explore and Assess the Data\n",
    "#### Explore the Data \n",
    "Identify data quality issues, like missing values, duplicate data, etc.\n",
    "\n"
   ]
  },
  {
   "cell_type": "code",
   "execution_count": 23,
   "metadata": {},
   "outputs": [],
   "source": [
    "# import matplotlib.pyplot as plt\n",
    "# import seaborn as sns"
   ]
  },
  {
   "cell_type": "code",
   "execution_count": 24,
   "metadata": {},
   "outputs": [],
   "source": [
    "# fig = plt.figure(figsize=(25, 15))\n",
    "# st = fig.suptitle(\"Distribution of Features\", fontsize=50, verticalalignment=\"center\")\n",
    "# for col, num in zip(df.toPandas().describe().columns, range(1,11)):\n",
    "#     ax = fig.add_subplot(3,4, num)\n",
    "#     ax.hist(df.toPandas[col])\n",
    "#     plt.grid(False)\n",
    "#     plt.xticks(ratation=45, fontsize=20)\n",
    "#     plt.yticks(fontsize=15)\n",
    "#     plt.title(col.upper(), fontsize=20)\n",
    "    \n",
    "# plt.tight_layout()\n",
    "# st.set_y(0.95)\n",
    "# fig.subplots_adjust(top=0.85, hspace=0.4)\n",
    "# plt.show()\n"
   ]
  },
  {
   "cell_type": "markdown",
   "metadata": {},
   "source": [
    "#### Cleaning Steps\n",
    "Document steps necessary to clean the data\n",
    "\n",
    "- converting to integers\n",
    "- converting dates to datetime\n",
    "- ~~converting time to time~~\n",
    "- convert DIVERTED CANCELLED to Boolean"
   ]
  },
  {
   "cell_type": "code",
   "execution_count": 25,
   "metadata": {},
   "outputs": [],
   "source": [
    "# Converting to integers \n",
    "\n",
    "int_cols = ['YEAR', 'MONTH', 'DAY', 'DAY_OF_WEEK', 'DEPARTURE_DELAY', 'TAXI_OUT', 'SCHEDULED_TIME', 'ELAPSED_TIME', 'AIR_TIME', 'DISTANCE', 'TAXI_IN', \n",
    "            'ARRIVAL_DELAY', 'AIR_SYSTEM_DELAY', 'SECURITY_DELAY', 'AIRLINE_DELAY', 'LATE_AIRCRAFT_DELAY', 'WEATHER_DELAY']\n",
    "for c in int_cols :\n",
    "    df = df.withColumn(c, F.col(c).cast(\"int\"))"
   ]
  },
  {
   "cell_type": "code",
   "execution_count": 26,
   "metadata": {},
   "outputs": [],
   "source": [
    "# Converting date\n",
    "\n",
    "df = df.withColumn('DATE', F.make_date('YEAR', 'MONTH', 'DAY'))"
   ]
  },
  {
   "cell_type": "code",
   "execution_count": 27,
   "metadata": {},
   "outputs": [],
   "source": [
    "# Converting time\n",
    "# df1 = df.withColumn('SCHEDULED_DEPARTURE', F.make_timestamp(hour=F.substring('SCHEDULED_DEPARTURE', 1, 2),min=F.substring('SCHEDULED_DEPARTURE', 3, 2)))\n",
    "# Converting time\n",
    "# df1 = df.withColumn('SCHEDULED_DEPARTURE', F.to_timestamp('SCHEDULED_DEPARTURE', format='HHmm'))"
   ]
  },
  {
   "cell_type": "code",
   "execution_count": 28,
   "metadata": {},
   "outputs": [],
   "source": [
    "# Converting booleans\n",
    "\n",
    "df = df.withColumn('DIVERTED', F.col('DIVERTED').cast('boolean'))\n",
    "df = df.withColumn('CANCELLED', F.col('CANCELLED').cast('boolean'))"
   ]
  },
  {
   "cell_type": "code",
   "execution_count": 29,
   "metadata": {},
   "outputs": [
    {
     "name": "stdout",
     "output_type": "stream",
     "text": [
      "+----+-----+---+-----------+-------+-------------+-----------+--------------+-------------------+-------------------+--------------+---------------+--------+----------+--------------+------------+--------+--------+---------+-------+-----------------+------------+-------------+--------+---------+-------------------+----------------+--------------+-------------+-------------------+-------------+----------+\n",
      "|YEAR|MONTH|DAY|DAY_OF_WEEK|AIRLINE|FLIGHT_NUMBER|TAIL_NUMBER|ORIGIN_AIRPORT|DESTINATION_AIRPORT|SCHEDULED_DEPARTURE|DEPARTURE_TIME|DEPARTURE_DELAY|TAXI_OUT|WHEELS_OFF|SCHEDULED_TIME|ELAPSED_TIME|AIR_TIME|DISTANCE|WHEELS_ON|TAXI_IN|SCHEDULED_ARRIVAL|ARRIVAL_TIME|ARRIVAL_DELAY|DIVERTED|CANCELLED|CANCELLATION_REASON|AIR_SYSTEM_DELAY|SECURITY_DELAY|AIRLINE_DELAY|LATE_AIRCRAFT_DELAY|WEATHER_DELAY|      DATE|\n",
      "+----+-----+---+-----------+-------+-------------+-----------+--------------+-------------------+-------------------+--------------+---------------+--------+----------+--------------+------------+--------+--------+---------+-------+-----------------+------------+-------------+--------+---------+-------------------+----------------+--------------+-------------+-------------------+-------------+----------+\n",
      "|2015|    1|  1|          4|     AS|           98|     N407AS|           ANC|                SEA|               0005|          2354|            -11|      21|      0015|           205|         194|     169|    1448|     0404|      4|             0430|        0408|          -22|   false|    false|               null|            null|          null|         null|               null|         null|2015-01-01|\n",
      "|2015|    1|  1|          4|     AA|         2336|     N3KUAA|           LAX|                PBI|               0010|          0002|             -8|      12|      0014|           280|         279|     263|    2330|     0737|      4|             0750|        0741|           -9|   false|    false|               null|            null|          null|         null|               null|         null|2015-01-01|\n",
      "|2015|    1|  1|          4|     US|          840|     N171US|           SFO|                CLT|               0020|          0018|             -2|      16|      0034|           286|         293|     266|    2296|     0800|     11|             0806|        0811|            5|   false|    false|               null|            null|          null|         null|               null|         null|2015-01-01|\n",
      "|2015|    1|  1|          4|     AA|          258|     N3HYAA|           LAX|                MIA|               0020|          0015|             -5|      15|      0030|           285|         281|     258|    2342|     0748|      8|             0805|        0756|           -9|   false|    false|               null|            null|          null|         null|               null|         null|2015-01-01|\n",
      "|2015|    1|  1|          4|     AS|          135|     N527AS|           SEA|                ANC|               0025|          0024|             -1|      11|      0035|           235|         215|     199|    1448|     0254|      5|             0320|        0259|          -21|   false|    false|               null|            null|          null|         null|               null|         null|2015-01-01|\n",
      "|2015|    1|  1|          4|     DL|          806|     N3730B|           SFO|                MSP|               0025|          0020|             -5|      18|      0038|           217|         230|     206|    1589|     0604|      6|             0602|        0610|            8|   false|    false|               null|            null|          null|         null|               null|         null|2015-01-01|\n",
      "|2015|    1|  1|          4|     NK|          612|     N635NK|           LAS|                MSP|               0025|          0019|             -6|      11|      0030|           181|         170|     154|    1299|     0504|      5|             0526|        0509|          -17|   false|    false|               null|            null|          null|         null|               null|         null|2015-01-01|\n",
      "|2015|    1|  1|          4|     US|         2013|     N584UW|           LAX|                CLT|               0030|          0044|             14|      13|      0057|           273|         249|     228|    2125|     0745|      8|             0803|        0753|          -10|   false|    false|               null|            null|          null|         null|               null|         null|2015-01-01|\n",
      "|2015|    1|  1|          4|     AA|         1112|     N3LAAA|           SFO|                DFW|               0030|          0019|            -11|      17|      0036|           195|         193|     173|    1464|     0529|      3|             0545|        0532|          -13|   false|    false|               null|            null|          null|         null|               null|         null|2015-01-01|\n",
      "|2015|    1|  1|          4|     DL|         1173|     N826DN|           LAS|                ATL|               0030|          0033|              3|      12|      0045|           221|         203|     186|    1747|     0651|      5|             0711|        0656|          -15|   false|    false|               null|            null|          null|         null|               null|         null|2015-01-01|\n",
      "|2015|    1|  1|          4|     DL|         2336|     N958DN|           DEN|                ATL|               0030|          0024|             -6|      12|      0036|           173|         149|     133|    1199|     0449|      4|             0523|        0453|          -30|   false|    false|               null|            null|          null|         null|               null|         null|2015-01-01|\n",
      "|2015|    1|  1|          4|     AA|         1674|     N853AA|           LAS|                MIA|               0035|          0027|             -8|      21|      0048|           268|         266|     238|    2174|     0746|      7|             0803|        0753|          -10|   false|    false|               null|            null|          null|         null|               null|         null|2015-01-01|\n",
      "|2015|    1|  1|          4|     DL|         1434|     N547US|           LAX|                MSP|               0035|          0035|              0|      18|      0053|           214|         210|     188|    1535|     0601|      4|             0609|        0605|           -4|   false|    false|               null|            null|          null|         null|               null|         null|2015-01-01|\n",
      "|2015|    1|  1|          4|     DL|         2324|     N3751B|           SLC|                ATL|               0040|          0034|             -6|      18|      0052|           215|         199|     176|    1590|     0548|      5|             0615|        0553|          -22|   false|    false|               null|            null|          null|         null|               null|         null|2015-01-01|\n",
      "|2015|    1|  1|          4|     DL|         2440|     N651DL|           SEA|                MSP|               0040|          0039|             -1|      28|      0107|           189|         198|     166|    1399|     0553|      4|             0549|        0557|            8|   false|    false|               null|            null|          null|         null|               null|         null|2015-01-01|\n",
      "|2015|    1|  1|          4|     AS|          108|     N309AS|           ANC|                SEA|               0045|          0041|             -4|      17|      0058|           204|         194|     173|    1448|     0451|      4|             0509|        0455|          -14|   false|    false|               null|            null|          null|         null|               null|         null|2015-01-01|\n",
      "|2015|    1|  1|          4|     DL|         1560|     N3743H|           ANC|                SEA|               0045|          0031|            -14|      25|      0056|           210|         200|     171|    1448|     0447|      4|             0515|        0451|          -24|   false|    false|               null|            null|          null|         null|               null|         null|2015-01-01|\n",
      "|2015|    1|  1|          4|     UA|         1197|     N78448|           SFO|                IAH|               0048|          0042|             -6|      11|      0053|           218|         217|     199|    1635|     0612|      7|             0626|        0619|           -7|   false|    false|               null|            null|          null|         null|               null|         null|2015-01-01|\n",
      "|2015|    1|  1|          4|     AS|          122|     N413AS|           ANC|                PDX|               0050|          0046|             -4|      11|      0057|           215|         201|     187|    1542|     0504|      3|             0525|        0507|          -18|   false|    false|               null|            null|          null|         null|               null|         null|2015-01-01|\n",
      "|2015|    1|  1|          4|     DL|         1670|     N806DN|           PDX|                MSP|               0050|          0045|             -5|       9|      0054|           193|         186|     171|    1426|     0545|      6|             0603|        0551|          -12|   false|    false|               null|            null|          null|         null|               null|         null|2015-01-01|\n",
      "+----+-----+---+-----------+-------+-------------+-----------+--------------+-------------------+-------------------+--------------+---------------+--------+----------+--------------+------------+--------+--------+---------+-------+-----------------+------------+-------------+--------+---------+-------------------+----------------+--------------+-------------+-------------------+-------------+----------+\n",
      "only showing top 20 rows\n",
      "\n"
     ]
    }
   ],
   "source": [
    "df.show()"
   ]
  },
  {
   "cell_type": "markdown",
   "metadata": {},
   "source": [
    "#### Post cleaning statistics"
   ]
  },
  {
   "cell_type": "code",
   "execution_count": 30,
   "metadata": {},
   "outputs": [
    {
     "name": "stdout",
     "output_type": "stream",
     "text": [
      "root\n",
      " |-- YEAR: integer (nullable = true)\n",
      " |-- MONTH: integer (nullable = true)\n",
      " |-- DAY: integer (nullable = true)\n",
      " |-- DAY_OF_WEEK: integer (nullable = true)\n",
      " |-- AIRLINE: string (nullable = true)\n",
      " |-- FLIGHT_NUMBER: string (nullable = true)\n",
      " |-- TAIL_NUMBER: string (nullable = true)\n",
      " |-- ORIGIN_AIRPORT: string (nullable = true)\n",
      " |-- DESTINATION_AIRPORT: string (nullable = true)\n",
      " |-- SCHEDULED_DEPARTURE: string (nullable = true)\n",
      " |-- DEPARTURE_TIME: string (nullable = true)\n",
      " |-- DEPARTURE_DELAY: integer (nullable = true)\n",
      " |-- TAXI_OUT: integer (nullable = true)\n",
      " |-- WHEELS_OFF: string (nullable = true)\n",
      " |-- SCHEDULED_TIME: integer (nullable = true)\n",
      " |-- ELAPSED_TIME: integer (nullable = true)\n",
      " |-- AIR_TIME: integer (nullable = true)\n",
      " |-- DISTANCE: integer (nullable = true)\n",
      " |-- WHEELS_ON: string (nullable = true)\n",
      " |-- TAXI_IN: integer (nullable = true)\n",
      " |-- SCHEDULED_ARRIVAL: string (nullable = true)\n",
      " |-- ARRIVAL_TIME: string (nullable = true)\n",
      " |-- ARRIVAL_DELAY: integer (nullable = true)\n",
      " |-- DIVERTED: boolean (nullable = true)\n",
      " |-- CANCELLED: boolean (nullable = true)\n",
      " |-- CANCELLATION_REASON: string (nullable = true)\n",
      " |-- AIR_SYSTEM_DELAY: integer (nullable = true)\n",
      " |-- SECURITY_DELAY: integer (nullable = true)\n",
      " |-- AIRLINE_DELAY: integer (nullable = true)\n",
      " |-- LATE_AIRCRAFT_DELAY: integer (nullable = true)\n",
      " |-- WEATHER_DELAY: integer (nullable = true)\n",
      " |-- DATE: date (nullable = true)\n",
      "\n"
     ]
    }
   ],
   "source": [
    "df.printSchema()"
   ]
  },
  {
   "cell_type": "code",
   "execution_count": 31,
   "metadata": {},
   "outputs": [
    {
     "data": {
      "text/html": [
       "<div>\n",
       "<style scoped>\n",
       "    .dataframe tbody tr th:only-of-type {\n",
       "        vertical-align: middle;\n",
       "    }\n",
       "\n",
       "    .dataframe tbody tr th {\n",
       "        vertical-align: top;\n",
       "    }\n",
       "\n",
       "    .dataframe thead th {\n",
       "        text-align: right;\n",
       "    }\n",
       "</style>\n",
       "<table border=\"1\" class=\"dataframe\">\n",
       "  <thead>\n",
       "    <tr style=\"text-align: right;\">\n",
       "      <th></th>\n",
       "      <th>Column</th>\n",
       "      <th>Dtype</th>\n",
       "    </tr>\n",
       "  </thead>\n",
       "  <tbody>\n",
       "    <tr>\n",
       "      <th>0</th>\n",
       "      <td>YEAR</td>\n",
       "      <td>int</td>\n",
       "    </tr>\n",
       "    <tr>\n",
       "      <th>1</th>\n",
       "      <td>MONTH</td>\n",
       "      <td>int</td>\n",
       "    </tr>\n",
       "    <tr>\n",
       "      <th>2</th>\n",
       "      <td>DAY</td>\n",
       "      <td>int</td>\n",
       "    </tr>\n",
       "    <tr>\n",
       "      <th>3</th>\n",
       "      <td>DAY_OF_WEEK</td>\n",
       "      <td>int</td>\n",
       "    </tr>\n",
       "    <tr>\n",
       "      <th>4</th>\n",
       "      <td>AIRLINE</td>\n",
       "      <td>string</td>\n",
       "    </tr>\n",
       "    <tr>\n",
       "      <th>5</th>\n",
       "      <td>FLIGHT_NUMBER</td>\n",
       "      <td>string</td>\n",
       "    </tr>\n",
       "    <tr>\n",
       "      <th>6</th>\n",
       "      <td>TAIL_NUMBER</td>\n",
       "      <td>string</td>\n",
       "    </tr>\n",
       "    <tr>\n",
       "      <th>7</th>\n",
       "      <td>ORIGIN_AIRPORT</td>\n",
       "      <td>string</td>\n",
       "    </tr>\n",
       "    <tr>\n",
       "      <th>8</th>\n",
       "      <td>DESTINATION_AIRPORT</td>\n",
       "      <td>string</td>\n",
       "    </tr>\n",
       "    <tr>\n",
       "      <th>9</th>\n",
       "      <td>SCHEDULED_DEPARTURE</td>\n",
       "      <td>string</td>\n",
       "    </tr>\n",
       "    <tr>\n",
       "      <th>10</th>\n",
       "      <td>DEPARTURE_TIME</td>\n",
       "      <td>string</td>\n",
       "    </tr>\n",
       "    <tr>\n",
       "      <th>11</th>\n",
       "      <td>DEPARTURE_DELAY</td>\n",
       "      <td>int</td>\n",
       "    </tr>\n",
       "    <tr>\n",
       "      <th>12</th>\n",
       "      <td>TAXI_OUT</td>\n",
       "      <td>int</td>\n",
       "    </tr>\n",
       "    <tr>\n",
       "      <th>13</th>\n",
       "      <td>WHEELS_OFF</td>\n",
       "      <td>string</td>\n",
       "    </tr>\n",
       "    <tr>\n",
       "      <th>14</th>\n",
       "      <td>SCHEDULED_TIME</td>\n",
       "      <td>int</td>\n",
       "    </tr>\n",
       "    <tr>\n",
       "      <th>15</th>\n",
       "      <td>ELAPSED_TIME</td>\n",
       "      <td>int</td>\n",
       "    </tr>\n",
       "    <tr>\n",
       "      <th>16</th>\n",
       "      <td>AIR_TIME</td>\n",
       "      <td>int</td>\n",
       "    </tr>\n",
       "    <tr>\n",
       "      <th>17</th>\n",
       "      <td>DISTANCE</td>\n",
       "      <td>int</td>\n",
       "    </tr>\n",
       "    <tr>\n",
       "      <th>18</th>\n",
       "      <td>WHEELS_ON</td>\n",
       "      <td>string</td>\n",
       "    </tr>\n",
       "    <tr>\n",
       "      <th>19</th>\n",
       "      <td>TAXI_IN</td>\n",
       "      <td>int</td>\n",
       "    </tr>\n",
       "    <tr>\n",
       "      <th>20</th>\n",
       "      <td>SCHEDULED_ARRIVAL</td>\n",
       "      <td>string</td>\n",
       "    </tr>\n",
       "    <tr>\n",
       "      <th>21</th>\n",
       "      <td>ARRIVAL_TIME</td>\n",
       "      <td>string</td>\n",
       "    </tr>\n",
       "    <tr>\n",
       "      <th>22</th>\n",
       "      <td>ARRIVAL_DELAY</td>\n",
       "      <td>int</td>\n",
       "    </tr>\n",
       "    <tr>\n",
       "      <th>23</th>\n",
       "      <td>DIVERTED</td>\n",
       "      <td>boolean</td>\n",
       "    </tr>\n",
       "    <tr>\n",
       "      <th>24</th>\n",
       "      <td>CANCELLED</td>\n",
       "      <td>boolean</td>\n",
       "    </tr>\n",
       "    <tr>\n",
       "      <th>25</th>\n",
       "      <td>CANCELLATION_REASON</td>\n",
       "      <td>string</td>\n",
       "    </tr>\n",
       "    <tr>\n",
       "      <th>26</th>\n",
       "      <td>AIR_SYSTEM_DELAY</td>\n",
       "      <td>int</td>\n",
       "    </tr>\n",
       "    <tr>\n",
       "      <th>27</th>\n",
       "      <td>SECURITY_DELAY</td>\n",
       "      <td>int</td>\n",
       "    </tr>\n",
       "    <tr>\n",
       "      <th>28</th>\n",
       "      <td>AIRLINE_DELAY</td>\n",
       "      <td>int</td>\n",
       "    </tr>\n",
       "    <tr>\n",
       "      <th>29</th>\n",
       "      <td>LATE_AIRCRAFT_DELAY</td>\n",
       "      <td>int</td>\n",
       "    </tr>\n",
       "    <tr>\n",
       "      <th>30</th>\n",
       "      <td>WEATHER_DELAY</td>\n",
       "      <td>int</td>\n",
       "    </tr>\n",
       "    <tr>\n",
       "      <th>31</th>\n",
       "      <td>DATE</td>\n",
       "      <td>date</td>\n",
       "    </tr>\n",
       "  </tbody>\n",
       "</table>\n",
       "</div>"
      ],
      "text/plain": [
       "                 Column    Dtype\n",
       "0                  YEAR      int\n",
       "1                 MONTH      int\n",
       "2                   DAY      int\n",
       "3           DAY_OF_WEEK      int\n",
       "4               AIRLINE   string\n",
       "5         FLIGHT_NUMBER   string\n",
       "6           TAIL_NUMBER   string\n",
       "7        ORIGIN_AIRPORT   string\n",
       "8   DESTINATION_AIRPORT   string\n",
       "9   SCHEDULED_DEPARTURE   string\n",
       "10       DEPARTURE_TIME   string\n",
       "11      DEPARTURE_DELAY      int\n",
       "12             TAXI_OUT      int\n",
       "13           WHEELS_OFF   string\n",
       "14       SCHEDULED_TIME      int\n",
       "15         ELAPSED_TIME      int\n",
       "16             AIR_TIME      int\n",
       "17             DISTANCE      int\n",
       "18            WHEELS_ON   string\n",
       "19              TAXI_IN      int\n",
       "20    SCHEDULED_ARRIVAL   string\n",
       "21         ARRIVAL_TIME   string\n",
       "22        ARRIVAL_DELAY      int\n",
       "23             DIVERTED  boolean\n",
       "24            CANCELLED  boolean\n",
       "25  CANCELLATION_REASON   string\n",
       "26     AIR_SYSTEM_DELAY      int\n",
       "27       SECURITY_DELAY      int\n",
       "28        AIRLINE_DELAY      int\n",
       "29  LATE_AIRCRAFT_DELAY      int\n",
       "30        WEATHER_DELAY      int\n",
       "31                 DATE     date"
      ]
     },
     "execution_count": 31,
     "metadata": {},
     "output_type": "execute_result"
    }
   ],
   "source": [
    "# DTypes in pd formatting\n",
    "pd.DataFrame(df.dtypes, columns=['Column', 'Dtype'])"
   ]
  },
  {
   "cell_type": "markdown",
   "metadata": {},
   "source": []
  },
  {
   "cell_type": "markdown",
   "metadata": {},
   "source": [
    "### Step 3: Define the Data Model\n",
    "#### 3.1 Conceptual Data Model\n",
    "Map out the conceptual data model and explain why you chose that model\n",
    "\n",
    "##### FLIGHTS table fact\n",
    "- ID PK serial PK\n",
    "- FLIGHT_ID serial FK SCHEDULE\n",
    "- TAIL_NUMBER\n",
    "- DEPARTURE_TIME\n",
    "- DEPARTURE_DELAY int\n",
    "- TAXI_OUT int\n",
    "- WHEELS_OFF\n",
    "- ELAPSED_TIME\n",
    "- AIR_TIME\n",
    "- DISTANCE\n",
    "- WHEELS_ON\n",
    "- TAXI_IN\n",
    "- ARRIVAL_TIME\n",
    "- ARRIVAL_DELAY\n",
    "- DIVERTED\n",
    "- CANCELLED\n",
    "- CANCELLATION_REASON\n",
    "- AIR_SYSTEM_DELAY\n",
    "- SECURITY_DELAY\n",
    "- AIRLINE_DELAY\n",
    "- LATE_AIRCRAFT_DELAY\n",
    "- DATE\n",
    "\n",
    "\n",
    "##### SCHEDULE table dim\n",
    "- FLIGHT_ID serial PK composite key AIRLINE FLIGHT NUMBER SCHEDULED DEPARTURE SCHEDULED TIME\n",
    "- AIRLINE str\n",
    "- FLIGHT_NUMBER str\n",
    "- ORIGIN_AIRPOR\n",
    "- DESTINATION_AIRPORT\n",
    "- SCHEDULED_DEPARTURE\n",
    "- SCHEDULED_TIME\n",
    "- SCHEDULED_ARRIVAL\n",
    "\n",
    "##### AIRPORTS table dim\n",
    "- IATA_CODE serial PK\n",
    "- AIRPORT str\n",
    "- CITY_ID serial FK CITIES\n",
    "- LATITUDE\n",
    "- LONGITUDE\n",
    "\n",
    "##### AIRLINES table dim\n",
    "- IATA_CODE serial PK\n",
    "- AIRLINE str\n",
    "\n",
    "##### CITIES table dim\n",
    "- ID serial PK\n",
    "- CITY str UNIQUE\n",
    "- STATE str\n",
    "- COUNTRY str\n",
    "\n",
    "#### TIME table dim\n",
    "- DATE date PK\n",
    "- YEAR\n",
    "- MONTH\n",
    "- DAY\n",
    "- DAY_OF_WEEK\n",
    "\n",
    "![Image](Img\\data-org-chart.png)\n",
    "\n",
    "#### 3.2 Mapping Out Data Pipelines\n",
    "List the steps necessary to pipeline the data into the chosen data model\n",
    "\n",
    "1. Create a new column ID for storing primary key of FLIGHTS fact table by generating serial for each row in df\n",
    "2. Create a new columns FLIGHTS_ID for storing primary key of SCHEDULE dim table by creating composite key by concating AIRLINE, FLIGHT_NUMBER, SCHEDULED_ARRIVAL, SCHEDULED_DEPARTURE\n",
    "3. Create a FLIGHTS fact table by selecting columns into flights_df dataframe\n",
    "4. Save FLIGHTS table in PARQUET format partitioning by YEAR > MONTH > DAY\n",
    "5. Create SCHEDULE dim table by selecting appropriate columns with unique FLIGHT_IDs into schedule_df dataframe\n",
    "6. Save SCHEDULE table in PARQUET format\n",
    "7. Create CITY dim table by selecting appropriate columns with unique composite key CITY, STATE, COUNTRY and generate CITY_ID\n",
    "8. Save CITY dim table as parquet partitioning by COUNTRY, STATE\n",
    "9. Create AIRPORTS dim table by selecting appropriate columns \n",
    "10. Save AIRPORTS dim table in PARQUET format partitioning by first letter of IATA_CODE\n",
    "11. Create AIRLINES dim table by slecting appropriate columns paritioning by first letter of IATA_CODE\n",
    "12. Create TIME dim table by selecting date columns"
   ]
  },
  {
   "cell_type": "markdown",
   "metadata": {},
   "source": [
    "### Step 4: Run Pipelines to Model the Data \n",
    "#### 4.1 Create the data model\n",
    "Build the data pipelines to create the data model."
   ]
  },
  {
   "cell_type": "code",
   "execution_count": 129,
   "metadata": {},
   "outputs": [],
   "source": [
    "# Generate ID columns\n",
    "df = df.withColumn('ID', F.monotonically_increasing_id())\n",
    "df = df.withColumn('FLIGHT_ID', F.concat(col('AIRLINE'), col('FLIGHT_NUMBER'), col('SCHEDULED_DEPARTURE'), col('SCHEDULED_ARRIVAL')))\n",
    "\n",
    "# FLIGHTS fact table\n",
    "flight_cols = ['ID', 'FLIGHT_ID', 'TAIL_NUMBER', 'DATE', 'DEPARTURE_TIME', 'DEPARTURE_DELAY', 'TAXI_OUT', 'WHEELS_OFF', 'ELAPSED_TIME', 'AIR_TIME', 'DISTANCE', 'WHEELS_ON', 'TAXI_IN', 'ARRIVAL_TIME', 'ARRIVAL_DELAY', \n",
    "                  'DIVERTED', 'CANCELLED', 'CANCELLATION_REASON', 'AIR_SYSTEM_DELAY', 'SECURITY_DELAY', 'AIRLINE_DELAY', 'LATE_AIRCRAFT_DELAY']\n",
    "flights_table = df.select(*flight_cols)\n",
    "flights_table.alias('flights')\n",
    "# flights_table.write.mode('overwrite').partitionBy('DATE').parquet(\"Output/flights_table.parquet\")\n",
    "\n",
    "# SCHEDULE dim table\n",
    "schedule_cols = ['FLIGHT_ID', 'AIRLINE', 'FLIGHT_NUMBER', 'ORIGIN_AIRPORT', 'DESTINATION_AIRPORT', 'SCHEDULED_DEPARTURE', 'SCHEDULED_TIME', 'SCHEDULED_ARRIVAL']\n",
    "schedule_table = df.select(*schedule_cols).distinct().alias('schedule')\n",
    "# schedule_table.write.mode('overwrite').parquet(\"Output/schedule_table.parquet\")\n",
    "\n",
    "# AIRLINES dim table\n",
    "airlines_table = airlines_df.dropDuplicates(['IATA_CODE']).alias('airlines')\n",
    "# airlines_table.write.mode('overwrite').parquet(\"Output/airlines_table.parquet\")\n",
    "\n",
    "# w = Window().partitionBy('CITY', 'STATE', 'COUNTRY')\n",
    "cities_table = airports_df.select('CITY', 'STATE', 'COUNTRY').distinct()\n",
    "cities_table = cities_table.withColumn('ID', F.monotonically_increasing_id()).select('ID', 'CITY', 'STATE', 'COUNTRY').alias('cities')\n",
    "# cities_table.write.mode('overwrite').partitionBy('COUNTRY', 'STATE').parquet('Output/cities_table.parquet')\n",
    "\n",
    "airports_table = airports_df.join(cities_table, on=['CITY', 'STATE', 'COUNTRY'], how='left').drop('CITY', 'STATE', 'COUNTRY').withColumnRenamed('ID', 'CITY_ID').dropDuplicates(['IATA_CODE']).alias('airports')\n",
    "# airports_table.write.mode('overwrite').parquet('Output/airports_table.parquet')\n",
    "\n",
    "# TIME dim table\n",
    "time_cols = ['DATE', 'YEAR', 'MONTH', 'DAY', 'DAY_OF_WEEK']\n",
    "time_table = df.select(*time_cols).distinct().orderBy(col('DATE')).alias('time')\n",
    "# time_table.write.mode('overwrite').partitionBy('YEAR','MONTH').parquet('Output/time_table.parquet')"
   ]
  },
  {
   "cell_type": "code",
   "execution_count": null,
   "metadata": {},
   "outputs": [],
   "source": []
  },
  {
   "cell_type": "markdown",
   "metadata": {},
   "source": [
    "It was noticed 58393 records of SCHEDULE table have varying ORIGIN_AIRPORT or DESTINATION_AIRPORT despite having identical values in other fields. "
   ]
  },
  {
   "cell_type": "markdown",
   "metadata": {},
   "source": [
    "Inconsistencies in the schedule table are noticed. Sometimes the flight with identical airline, flight, number, scheduled departure, scheduled arrival has inconsitency in origin or destination airports, scheduled time and distance. "
   ]
  },
  {
   "cell_type": "markdown",
   "metadata": {},
   "source": [
    "SCHEDULE.SCHEDULED_TIME col is inconsistend with scheduled_departure and scheduld_arrival"
   ]
  },
  {
   "cell_type": "code",
   "execution_count": 94,
   "metadata": {},
   "outputs": [
    {
     "name": "stdout",
     "output_type": "stream",
     "text": [
      "+--------------+--------------+--------------------------+------------------------+\n",
      "|     FLIGHT_ID|SCHEDULED_TIME|first(SCHEDULED_DEPARTURE)|first(SCHEDULED_ARRIVAL)|\n",
      "+--------------+--------------+--------------------------+------------------------+\n",
      "|AA100011551521|           146|                      1155|                    1521|\n",
      "|AA100011551527|           152|                      1155|                    1527|\n",
      "|AA100016071755|           168|                      1607|                    1755|\n",
      "|AA100016151810|           175|                      1615|                    1810|\n",
      "|AA100210301135|            65|                      1030|                    1135|\n",
      "|AA100212251340|            75|                      1225|                    1340|\n",
      "|AA100220002221|           201|                      2000|                    2221|\n",
      "|AA100220052224|           199|                      2005|                    2224|\n",
      "|AA100220092233|           204|                      2009|                    2233|\n",
      "|AA100220102229|           199|                      2010|                    2229|\n",
      "|AA100220152237|           202|                      2015|                    2237|\n",
      "|AA100307101105|           175|                      0710|                    1105|\n",
      "|AA100307101110|           180|                      0710|                    1110|\n",
      "|AA100309391232|           173|                      0939|                    1232|\n",
      "|AA100311481630|           162|                      1148|                    1630|\n",
      "|AA100312001425|           205|                      1200|                    1425|\n",
      "|AA100319512341|           170|                      1951|                    2341|\n",
      "|AA100320090002|           173|                      2009|                    0002|\n",
      "|AA100407000759|            59|                      0700|                    0759|\n",
      "|AA100420302355|           145|                      2030|                    2355|\n",
      "+--------------+--------------+--------------------------+------------------------+\n",
      "only showing top 20 rows\n",
      "\n"
     ]
    }
   ],
   "source": [
    "schedule_table.groupBy('FLIGHT_ID','SCHEDULED_TIME').agg(F.first('SCHEDULED_DEPARTURE'),F.first('SCHEDULED_ARRIVAL')).show()"
   ]
  },
  {
   "cell_type": "code",
   "execution_count": 101,
   "metadata": {},
   "outputs": [
    {
     "name": "stdout",
     "output_type": "stream",
     "text": [
      "+--------------+-------+-------------+--------------+-------------------+-------------------+--------------+-----------------+\n",
      "|     FLIGHT_ID|AIRLINE|FLIGHT_NUMBER|ORIGIN_AIRPORT|DESTINATION_AIRPORT|SCHEDULED_DEPARTURE|SCHEDULED_TIME|SCHEDULED_ARRIVAL|\n",
      "+--------------+-------+-------------+--------------+-------------------+-------------------+--------------+-----------------+\n",
      "|OO738906070724|     OO|         7389|           GCC|                RKS|               0607|            77|             0724|\n",
      "| NK16307311032|     NK|          163|           DFW|                ATL|               0731|           121|             1032|\n",
      "|AA233207400955|     AA|         2332|           DFW|                ORD|               0740|           135|             0955|\n",
      "| UA21107430932|     UA|          211|           FLL|                IAH|               0743|           169|             0932|\n",
      "|OO523707451041|     OO|         5237|           MKE|                IAH|               0745|           176|             1041|\n",
      "| UA91007581125|     UA|          910|           DEN|                ORD|               0758|           147|             1125|\n",
      "|MQ275308150850|     MQ|         2753|           CMH|                ORD|               0815|            95|             0850|\n",
      "| WN45008201010|     WN|          450|           ATL|                FLL|               0820|           110|             1010|\n",
      "| B628108291143|     B6|          281|           JFK|                HOU|               0829|           254|             1143|\n",
      "|WN313108451020|     WN|         3131|           PHX|                SLC|               0845|            95|             1020|\n",
      "| US45208450900|     US|          452|           PHX|                SAN|               0845|            75|             0900|\n",
      "|OO258309151000|     OO|         2583|           SAN|                LAX|               0915|            45|             1000|\n",
      "|  VX8409201720|     VX|           84|           SFO|                IAD|               0920|           300|             1720|\n",
      "| WN68009201115|     WN|          680|           MHT|                MDW|               0920|           175|             1115|\n",
      "|  HA4709351310|     HA|           47|           OAK|                HNL|               0935|           335|             1310|\n",
      "| DL87709401129|     DL|          877|           PHL|                DTW|               0940|           109|             1129|\n",
      "|OO529809451138|     OO|         5298|           ORD|                MKG|               0945|            53|             1138|\n",
      "|UA160710031533|     UA|         1607|           DEN|                PHL|               1003|           210|             1533|\n",
      "|WN132810101605|     WN|         1328|           PHX|                MCO|               1010|           235|             1605|\n",
      "|US184910501220|     US|         1849|           DCA|                CLT|               1050|            90|             1220|\n",
      "+--------------+-------+-------------+--------------+-------------------+-------------------+--------------+-----------------+\n",
      "only showing top 20 rows\n",
      "\n"
     ]
    }
   ],
   "source": [
    "schedule_table.filter(F.expr('SCHEDULED_TIME != SCHEDULED_ARRIVAL - SCHEDULED_DEPARTURE')).show()"
   ]
  },
  {
   "cell_type": "code",
   "execution_count": null,
   "metadata": {},
   "outputs": [],
   "source": []
  },
  {
   "cell_type": "markdown",
   "metadata": {},
   "source": [
    "#### 4.2 Data Quality Checks\n",
    "Explain the data quality checks you'll perform to ensure the pipeline ran as expected. These could include:\n",
    " * Integrity constraints on the relational database (e.g., unique key, data type, etc.)\n",
    " * Unit tests for the scripts to ensure they are doing the right thing\n",
    " * Source/Count checks to ensure completeness\n",
    " \n",
    "Run Quality Checks"
   ]
  },
  {
   "cell_type": "code",
   "execution_count": 33,
   "metadata": {},
   "outputs": [],
   "source": [
    "def test_is_unique():\n",
    "\n",
    "    def check_unique(df, column):\n",
    "        check = df.select(column).count() == df.select(column).distinct().count()\n",
    "        print(f\"{df} {column} column unique values test: {check}\")\n",
    "        return check\n",
    "    \n",
    "    check_unique(flights_table, 'ID')\n",
    "    check_unique(schedule_table, 'FLIGHT_ID')\n",
    "    check_unique(airports_table, 'IATA_CODE')\n",
    "    check_unique(airlines_table, 'IATA_CODE')\n",
    "    check_unique(cities_table, 'ID')\n",
    "    check_unique(time_table, 'DATE')    \n"
   ]
  },
  {
   "cell_type": "code",
   "execution_count": 54,
   "metadata": {},
   "outputs": [],
   "source": [
    "def test_datatype():\n",
    "    \n",
    "    def check_datatype(df, column, dtype):\n",
    "        check = dict(df.dtypes)[column] == dtype\n",
    "        print(f\"{df} {column} column datatype {dtype} test: {check}\")\n",
    "        return check\n",
    "\n",
    "    check_datatype(flights_table, 'DATE', 'date')"
   ]
  },
  {
   "cell_type": "code",
   "execution_count": 35,
   "metadata": {},
   "outputs": [],
   "source": [
    "def test_count():\n",
    "\n",
    "    def check_count(df, n):\n",
    "        check = df.size() > n\n",
    "        print(f\"{df} count test: {check}\")\n",
    "        return check    \n",
    "    \n",
    "    check_count(flights_table, 500000)\n",
    "    check_count(airlines_table, 10)\n"
   ]
  },
  {
   "cell_type": "code",
   "execution_count": 55,
   "metadata": {},
   "outputs": [
    {
     "name": "stdout",
     "output_type": "stream",
     "text": [
      "DataFrame[ID: bigint, FLIGHT_ID: string, TAIL_NUMBER: string, DATE: date, DEPARTURE_TIME: string, DEPARTURE_DELAY: int, TAXI_OUT: int, WHEELS_OFF: string, ELAPSED_TIME: int, AIR_TIME: int, WHEELS_ON: string, TAXI_IN: int, ARRIVAL_TIME: string, ARRIVAL_DELAY: int, DIVERTED: boolean, CANCELLED: boolean, CANCELLATION_REASON: string, AIR_SYSTEM_DELAY: int, SECURITY_DELAY: int, AIRLINE_DELAY: int, LATE_AIRCRAFT_DELAY: int] ID column unique values test: True\n",
      "DataFrame[FLIGHT_ID: string, AIRLINE: string, FLIGHT_NUMBER: string, ORIGIN_AIRPORT: string, DESTINATION_AIRPORT: string, SCHEDULED_DEPARTURE: string, SCHEDULED_TIME: int, DISTANCE: int, SCHEDULED_ARRIVAL: string] FLIGHT_ID column unique values test: False\n",
      "DataFrame[IATA_CODE: string, AIRPORT: string, LATITUDE: double, LONGITUDE: double, CITY_ID: bigint] IATA_CODE column unique values test: True\n",
      "DataFrame[IATA_CODE: string, AIRLINE: string] IATA_CODE column unique values test: True\n",
      "DataFrame[ID: bigint, CITY: string, STATE: string, COUNTRY: string] ID column unique values test: True\n",
      "DataFrame[DATE: date, YEAR: int, MONTH: int, DAY: int, DAY_OF_WEEK: int] DATE column unique values test: True\n",
      "DataFrame[ID: bigint, FLIGHT_ID: string, TAIL_NUMBER: string, DATE: date, DEPARTURE_TIME: string, DEPARTURE_DELAY: int, TAXI_OUT: int, WHEELS_OFF: string, ELAPSED_TIME: int, AIR_TIME: int, WHEELS_ON: string, TAXI_IN: int, ARRIVAL_TIME: string, ARRIVAL_DELAY: int, DIVERTED: boolean, CANCELLED: boolean, CANCELLATION_REASON: string, AIR_SYSTEM_DELAY: int, SECURITY_DELAY: int, AIRLINE_DELAY: int, LATE_AIRCRAFT_DELAY: int] DATE column datatype date test: True\n"
     ]
    },
    {
     "ename": "AttributeError",
     "evalue": "'DataFrame' object has no attribute 'size'",
     "output_type": "error",
     "traceback": [
      "\u001b[1;31m---------------------------------------------------------------------------\u001b[0m",
      "\u001b[1;31mAttributeError\u001b[0m                            Traceback (most recent call last)",
      "Cell \u001b[1;32mIn[55], line 3\u001b[0m\n\u001b[0;32m      1\u001b[0m test_is_unique()\n\u001b[0;32m      2\u001b[0m test_datatype()\n\u001b[1;32m----> 3\u001b[0m \u001b[43mtest_count\u001b[49m\u001b[43m(\u001b[49m\u001b[43m)\u001b[49m\n",
      "Cell \u001b[1;32mIn[35], line 8\u001b[0m, in \u001b[0;36mtest_count\u001b[1;34m()\u001b[0m\n\u001b[0;32m      5\u001b[0m     \u001b[38;5;28mprint\u001b[39m(\u001b[38;5;124mf\u001b[39m\u001b[38;5;124m\"\u001b[39m\u001b[38;5;132;01m{\u001b[39;00mdf\u001b[38;5;132;01m}\u001b[39;00m\u001b[38;5;124m count test: \u001b[39m\u001b[38;5;132;01m{\u001b[39;00mcheck\u001b[38;5;132;01m}\u001b[39;00m\u001b[38;5;124m\"\u001b[39m)\n\u001b[0;32m      6\u001b[0m     \u001b[38;5;28;01mreturn\u001b[39;00m check    \n\u001b[1;32m----> 8\u001b[0m \u001b[43mcheck_count\u001b[49m\u001b[43m(\u001b[49m\u001b[43mflights_table\u001b[49m\u001b[43m,\u001b[49m\u001b[43m \u001b[49m\u001b[38;5;241;43m500000\u001b[39;49m\u001b[43m)\u001b[49m\n\u001b[0;32m      9\u001b[0m check_count(airlines_table, \u001b[38;5;241m10\u001b[39m)\n",
      "Cell \u001b[1;32mIn[35], line 4\u001b[0m, in \u001b[0;36mtest_count.<locals>.check_count\u001b[1;34m(df, n)\u001b[0m\n\u001b[0;32m      3\u001b[0m \u001b[38;5;28;01mdef\u001b[39;00m \u001b[38;5;21mcheck_count\u001b[39m(df, n):\n\u001b[1;32m----> 4\u001b[0m     check \u001b[38;5;241m=\u001b[39m \u001b[43mdf\u001b[49m\u001b[38;5;241;43m.\u001b[39;49m\u001b[43msize\u001b[49m() \u001b[38;5;241m>\u001b[39m n\n\u001b[0;32m      5\u001b[0m     \u001b[38;5;28mprint\u001b[39m(\u001b[38;5;124mf\u001b[39m\u001b[38;5;124m\"\u001b[39m\u001b[38;5;132;01m{\u001b[39;00mdf\u001b[38;5;132;01m}\u001b[39;00m\u001b[38;5;124m count test: \u001b[39m\u001b[38;5;132;01m{\u001b[39;00mcheck\u001b[38;5;132;01m}\u001b[39;00m\u001b[38;5;124m\"\u001b[39m)\n\u001b[0;32m      6\u001b[0m     \u001b[38;5;28;01mreturn\u001b[39;00m check\n",
      "File \u001b[1;32mc:\\Users\\Jakub.Pitera\\Anaconda3\\envs\\udacity\\Lib\\site-packages\\pyspark\\sql\\dataframe.py:1988\u001b[0m, in \u001b[0;36mDataFrame.__getattr__\u001b[1;34m(self, name)\u001b[0m\n\u001b[0;32m   1978\u001b[0m \u001b[38;5;250m\u001b[39m\u001b[38;5;124;03m\"\"\"Returns the :class:`Column` denoted by ``name``.\u001b[39;00m\n\u001b[0;32m   1979\u001b[0m \n\u001b[0;32m   1980\u001b[0m \u001b[38;5;124;03m.. versionadded:: 1.3.0\u001b[39;00m\n\u001b[1;32m   (...)\u001b[0m\n\u001b[0;32m   1985\u001b[0m \u001b[38;5;124;03m[Row(age=2), Row(age=5)]\u001b[39;00m\n\u001b[0;32m   1986\u001b[0m \u001b[38;5;124;03m\"\"\"\u001b[39;00m\n\u001b[0;32m   1987\u001b[0m \u001b[38;5;28;01mif\u001b[39;00m name \u001b[38;5;129;01mnot\u001b[39;00m \u001b[38;5;129;01min\u001b[39;00m \u001b[38;5;28mself\u001b[39m\u001b[38;5;241m.\u001b[39mcolumns:\n\u001b[1;32m-> 1988\u001b[0m     \u001b[38;5;28;01mraise\u001b[39;00m \u001b[38;5;167;01mAttributeError\u001b[39;00m(\n\u001b[0;32m   1989\u001b[0m         \u001b[38;5;124m\"\u001b[39m\u001b[38;5;124m'\u001b[39m\u001b[38;5;132;01m%s\u001b[39;00m\u001b[38;5;124m'\u001b[39m\u001b[38;5;124m object has no attribute \u001b[39m\u001b[38;5;124m'\u001b[39m\u001b[38;5;132;01m%s\u001b[39;00m\u001b[38;5;124m'\u001b[39m\u001b[38;5;124m\"\u001b[39m \u001b[38;5;241m%\u001b[39m (\u001b[38;5;28mself\u001b[39m\u001b[38;5;241m.\u001b[39m\u001b[38;5;18m__class__\u001b[39m\u001b[38;5;241m.\u001b[39m\u001b[38;5;18m__name__\u001b[39m, name)\n\u001b[0;32m   1990\u001b[0m     )\n\u001b[0;32m   1991\u001b[0m jc \u001b[38;5;241m=\u001b[39m \u001b[38;5;28mself\u001b[39m\u001b[38;5;241m.\u001b[39m_jdf\u001b[38;5;241m.\u001b[39mapply(name)\n\u001b[0;32m   1992\u001b[0m \u001b[38;5;28;01mreturn\u001b[39;00m Column(jc)\n",
      "\u001b[1;31mAttributeError\u001b[0m: 'DataFrame' object has no attribute 'size'"
     ]
    }
   ],
   "source": [
    "test_is_unique()\n",
    "test_datatype()\n",
    "test_count()"
   ]
  },
  {
   "cell_type": "code",
   "execution_count": 79,
   "metadata": {},
   "outputs": [
    {
     "data": {
      "text/plain": [
       "543207"
      ]
     },
     "execution_count": 79,
     "metadata": {},
     "output_type": "execute_result"
    }
   ],
   "source": [
    "schedule_table.count()"
   ]
  },
  {
   "cell_type": "code",
   "execution_count": 78,
   "metadata": {},
   "outputs": [
    {
     "name": "stdout",
     "output_type": "stream",
     "text": [
      "+--------------+-------+-------------+--------------+-------------------+-------------------+--------------+-----------------+\n",
      "|     FLIGHT_ID|AIRLINE|FLIGHT_NUMBER|ORIGIN_AIRPORT|DESTINATION_AIRPORT|SCHEDULED_DEPARTURE|SCHEDULED_TIME|SCHEDULED_ARRIVAL|\n",
      "+--------------+-------+-------------+--------------+-------------------+-------------------+--------------+-----------------+\n",
      "|AA100001400603|     AA|         1000|           DFW|                LGA|               0140|           203|             0603|\n",
      "|AA100011551516|     AA|         1000|           DFW|                TPA|               1155|           141|             1516|\n",
      "|AA100011551521|     AA|         1000|         11298|              15304|               1155|           146|             1521|\n",
      "|AA100011551521|     AA|         1000|           DFW|                TPA|               1155|           146|             1521|\n",
      "|AA100011551527|     AA|         1000|           DFW|                TPA|               1155|           152|             1527|\n",
      "|AA100016051800|     AA|         1000|           TPA|                DFW|               1605|           175|             1800|\n",
      "|AA100016071755|     AA|         1000|           TPA|                DFW|               1607|           168|             1755|\n",
      "|AA100016071755|     AA|         1000|         15304|              11298|               1607|           168|             1755|\n",
      "|AA100016121750|     AA|         1000|           TPA|                DFW|               1612|           158|             1750|\n",
      "|AA100016151810|     AA|         1000|           TPA|                DFW|               1615|           175|             1810|\n",
      "|AA100105000841|     AA|         1001|           BOS|                DFW|               0500|           281|             0841|\n",
      "|AA100118251945|     AA|         1001|           DFW|                TUS|               1825|           140|             1945|\n",
      "|AA100118301854|     AA|         1001|           DFW|                TUS|               1830|           144|             1854|\n",
      "|AA100118301954|     AA|         1001|           DFW|                TUS|               1830|           144|             1954|\n",
      "|AA100207050943|     AA|         1002|           MIA|                LAS|               0705|           338|             0943|\n",
      "|AA100207200923|     AA|         1002|           ATL|                LAX|               0720|           303|             0923|\n",
      "|AA100210301135|     AA|         1002|           DFW|                IAH|               1030|            65|             1135|\n",
      "|AA100211151849|     AA|         1002|           LAS|                MIA|               1115|           274|             1849|\n",
      "|AA100212251340|     AA|         1002|           IAH|                DFW|               1225|            75|             1340|\n",
      "|AA100212271340|     AA|         1002|           IAH|                DFW|               1227|            73|             1340|\n",
      "+--------------+-------+-------------+--------------+-------------------+-------------------+--------------+-----------------+\n",
      "only showing top 20 rows\n",
      "\n"
     ]
    }
   ],
   "source": [
    "schedule_table.orderBy('FLIGHT_ID').show()"
   ]
  },
  {
   "cell_type": "code",
   "execution_count": 130,
   "metadata": {},
   "outputs": [
    {
     "name": "stdout",
     "output_type": "stream",
     "text": [
      "+--------------+--------------+-------------------+-----+\n",
      "|     FLIGHT_ID|ORIGIN_AIRPORT|DESTINATION_AIRPORT|count|\n",
      "+--------------+--------------+-------------------+-----+\n",
      "|AA100001400603|           DFW|                LGA|    1|\n",
      "|AA100011551516|           DFW|                TPA|   56|\n",
      "|AA100011551521|         11298|              15304|   31|\n",
      "|AA100011551521|           DFW|                TPA|   26|\n",
      "|AA100011551527|           DFW|                TPA|   97|\n",
      "|AA100016051800|           TPA|                DFW|   54|\n",
      "|AA100016071755|         15304|              11298|   31|\n",
      "|AA100016071755|           TPA|                DFW|   26|\n",
      "|AA100016121750|           TPA|                DFW|   97|\n",
      "|AA100016151810|           TPA|                DFW|    2|\n",
      "|AA100105000841|           BOS|                DFW|   15|\n",
      "|AA100118251945|           DFW|                TUS|    5|\n",
      "|AA100118301854|           DFW|                TUS|   21|\n",
      "|AA100118301954|           DFW|                TUS|   61|\n",
      "|AA100207050943|           MIA|                LAS|   21|\n",
      "|AA100207200923|           ATL|                LAX|   24|\n",
      "|AA100210301135|           DFW|                IAH|    5|\n",
      "|AA100211151849|           LAS|                MIA|   21|\n",
      "|AA100212251340|           IAH|                DFW|    5|\n",
      "|AA100212271340|           IAH|                DFW|   37|\n",
      "|AA100220002221|           MIA|                DFW|   39|\n",
      "|AA100220052216|           MIA|                DFW|   97|\n",
      "|AA100220052224|         13303|              11298|   31|\n",
      "|AA100220052224|           MIA|                DFW|   26|\n",
      "|AA100220092233|           MIA|                DFW|   42|\n",
      "|AA100220102229|           MIA|                DFW|   28|\n",
      "|AA100220152237|           MIA|                DFW|   15|\n",
      "|AA100307101105|           ORD|                RSW|   15|\n",
      "|AA100307101110|           DFW|                IAD|   28|\n",
      "|AA100307151115|           DFW|                IAD|   12|\n",
      "|AA100307151115|         11298|              12264|    3|\n",
      "|AA100307151118|           DFW|                IAD|   95|\n",
      "|AA100309391232|           MIA|                PHL|   39|\n",
      "|AA100309401233|           MIA|                PHL|    5|\n",
      "|AA100310001107|           DFW|                PSP|   82|\n",
      "|AA100311481630|           PSP|                DFW|   82|\n",
      "|AA100312001425|           IAD|                DFW|   28|\n",
      "|AA100312051413|           IAD|                DFW|   97|\n",
      "|AA100312051429|           IAD|                DFW|   15|\n",
      "|AA100312051429|         12264|              11298|    4|\n",
      "|AA100313251618|           PHL|                MIA|    5|\n",
      "|AA100313301616|           PHL|                MIA|   39|\n",
      "|AA100318482246|           ORD|                RSW|   16|\n",
      "|AA100319512341|         13930|              14635|   27|\n",
      "|AA100319512341|           ORD|                RSW|    4|\n",
      "|AA100320090002|           ORD|                RSW|   25|\n",
      "|AA100407000758|           DFW|                AUS|   94|\n",
      "|AA100407000759|         11298|              10423|   27|\n",
      "|AA100407000759|           DFW|                AUS|   22|\n",
      "|AA100407000805|           DFW|                AUS|   33|\n",
      "|AA100408390951|         10423|              11298|   26|\n",
      "|AA100408390951|           AUS|                DFW|   23|\n",
      "|AA100408400950|           AUS|                DFW|   97|\n",
      "|AA100408440956|         10423|              11298|    5|\n",
      "|AA100408440956|           AUS|                DFW|    3|\n",
      "|AA100408460955|           AUS|                DFW|   41|\n",
      "|AA100410151120|           DFW|                PSP|   65|\n",
      "|AA100412251720|           PSP|                DFW|   66|\n",
      "|AA100419002055|           DFW|                SLC|   14|\n",
      "|AA100419102101|           DFW|                SLC|    1|\n",
      "|AA100420252348|           DFW|                RSW|   82|\n",
      "|AA100420302355|           DFW|                RSW|    5|\n",
      "|AA100506500901|           RSW|                ORD|    4|\n",
      "|AA100508301042|           RSW|                ORD|   38|\n",
      "|AA100508531100|         14635|              13930|   26|\n",
      "|AA100508531100|           RSW|                ORD|    4|\n",
      "|AA100511451357|           RSW|                ORD|   15|\n",
      "|AA100514251805|           DFW|                FLL|    4|\n",
      "|AA100514451825|           DFW|                FLL|    1|\n",
      "|AA100518502110|           FLL|                DFW|    4|\n",
      "|AA100519102125|           FLL|                DFW|    1|\n",
      "|AA100521502346|           MCO|                DFW|    1|\n",
      "|AA100607050925|           ORD|                SAN|    3|\n",
      "|AA100609201234|           MIA|                BOS|   57|\n",
      "|AA100609301248|           MIA|                BOS|   28|\n",
      "|AA100609301249|           MIA|                BOS|   32|\n",
      "|AA100609351254|           MIA|                BOS|   65|\n",
      "|AA100609451304|         13303|              10721|   31|\n",
      "|AA100609451304|           MIA|                BOS|   26|\n",
      "|AA100610101610|           SAN|                ORD|    4|\n",
      "|AA100613301708|           BOS|                MIA|   15|\n",
      "|AA100613351713|           BOS|                MIA|   42|\n",
      "|AA100613501715|           BOS|                MIA|   28|\n",
      "|AA100613501717|           BOS|                MIA|   97|\n",
      "|AA100613551725|         10721|              13303|   31|\n",
      "|AA100613551725|           BOS|                MIA|   26|\n",
      "|AA100620152132|           DFW|                IAH|   39|\n",
      "|AA100806290924|           EWR|                DFW|   28|\n",
      "|AA100806300950|           EWR|                DFW|   57|\n",
      "|AA100806450946|         11618|              11298|   31|\n",
      "|AA100806450946|           EWR|                DFW|   26|\n",
      "|AA100807030945|           EWR|                DFW|   97|\n",
      "|AA100817151910|           DFW|                JAC|    8|\n",
      "|AA100818452230|           ORD|                RSW|    4|\n",
      "|AA100818452231|           ORD|                RSW|   66|\n",
      "|AA100908351212|           DFW|                MCO|   97|\n",
      "|AA100908401208|           DFW|                MCO|    4|\n",
      "|AA100908401210|           DFW|                MCO|   52|\n",
      "|AA100908401214|         11298|              13204|   31|\n",
      "|AA100908401214|           DFW|                MCO|   26|\n",
      "+--------------+--------------+-------------------+-----+\n",
      "only showing top 100 rows\n",
      "\n"
     ]
    }
   ],
   "source": [
    "df.groupBy('FLIGHT_ID', 'ORIGIN_AIRPORT', 'DESTINATION_AIRPORT').count().orderBy('FLIGHT_ID', F.desc('COUNT')).show(100)"
   ]
  },
  {
   "cell_type": "code",
   "execution_count": 137,
   "metadata": {},
   "outputs": [
    {
     "name": "stdout",
     "output_type": "stream",
     "text": [
      "+--------------+-----+\n",
      "|     FLIGHT_ID|count|\n",
      "+--------------+-----+\n",
      "|AA200212001327|    4|\n",
      "|WN456916001725|    4|\n",
      "|   AA907001016|    3|\n",
      "|  WN1709201020|    3|\n",
      "|WN358918151925|    3|\n",
      "|AA129212251335|    3|\n",
      "|  WN2510501155|    3|\n",
      "|AA197010201218|    3|\n",
      "| WN32610401250|    3|\n",
      "| WN51610451800|    3|\n",
      "| AS14322550140|    3|\n",
      "| AA82608151005|    3|\n",
      "| WN28116251730|    3|\n",
      "|   WN408350940|    3|\n",
      "|WN198214501555|    3|\n",
      "|B6163519212039|    3|\n",
      "|OO648209091057|    3|\n",
      "|WN259606350800|    3|\n",
      "| WN68310101220|    3|\n",
      "|WN205106300750|    3|\n",
      "+--------------+-----+\n",
      "only showing top 20 rows\n",
      "\n"
     ]
    }
   ],
   "source": [
    "schedule_table.groupBy('FLIGHT_ID').count().orderBy(F.desc('count')).show()"
   ]
  },
  {
   "cell_type": "code",
   "execution_count": 46,
   "metadata": {},
   "outputs": [
    {
     "ename": "AnalysisException",
     "evalue": "expression 'ORIGIN_AIRPORT' is neither present in the group by, nor is it an aggregate function. Add to group by or wrap in first() (or first_value) if you don't care which value you get.;\nAggregate [FLIGHT_ID#2357], [FLIGHT_ID#2357, concat(ORIGIN_AIRPORT#24) AS concat(ORIGIN_AIRPORT)#2885]\n+- Project [YEAR#1520, MONTH#1552, DAY#1584, DAY_OF_WEEK#1616, AIRLINE#21, FLIGHT_NUMBER#22, TAIL_NUMBER#23, ORIGIN_AIRPORT#24, DESTINATION_AIRPORT#25, SCHEDULED_DEPARTURE#26, DEPARTURE_TIME#27, DEPARTURE_DELAY#1648, TAXI_OUT#1680, WHEELS_OFF#30, SCHEDULED_TIME#1712, ELAPSED_TIME#1744, AIR_TIME#1776, DISTANCE#1808, WHEELS_ON#35, TAXI_IN#1840, SCHEDULED_ARRIVAL#37, ARRIVAL_TIME#38, ARRIVAL_DELAY#1872, DIVERTED#2097, ... 10 more fields]\n   +- Project [YEAR#1520, MONTH#1552, DAY#1584, DAY_OF_WEEK#1616, AIRLINE#21, FLIGHT_NUMBER#22, TAIL_NUMBER#23, ORIGIN_AIRPORT#24, DESTINATION_AIRPORT#25, SCHEDULED_DEPARTURE#26, DEPARTURE_TIME#27, DEPARTURE_DELAY#1648, TAXI_OUT#1680, WHEELS_OFF#30, SCHEDULED_TIME#1712, ELAPSED_TIME#1744, AIR_TIME#1776, DISTANCE#1808, WHEELS_ON#35, TAXI_IN#1840, SCHEDULED_ARRIVAL#37, ARRIVAL_TIME#38, ARRIVAL_DELAY#1872, DIVERTED#2097, ... 9 more fields]\n      +- Project [YEAR#1520, MONTH#1552, DAY#1584, DAY_OF_WEEK#1616, AIRLINE#21, FLIGHT_NUMBER#22, TAIL_NUMBER#23, ORIGIN_AIRPORT#24, DESTINATION_AIRPORT#25, SCHEDULED_DEPARTURE#26, DEPARTURE_TIME#27, DEPARTURE_DELAY#1648, TAXI_OUT#1680, WHEELS_OFF#30, SCHEDULED_TIME#1712, ELAPSED_TIME#1744, AIR_TIME#1776, DISTANCE#1808, WHEELS_ON#35, TAXI_IN#1840, SCHEDULED_ARRIVAL#37, ARRIVAL_TIME#38, ARRIVAL_DELAY#1872, DIVERTED#2097, ... 8 more fields]\n         +- Project [YEAR#1520, MONTH#1552, DAY#1584, DAY_OF_WEEK#1616, AIRLINE#21, FLIGHT_NUMBER#22, TAIL_NUMBER#23, ORIGIN_AIRPORT#24, DESTINATION_AIRPORT#25, SCHEDULED_DEPARTURE#26, DEPARTURE_TIME#27, DEPARTURE_DELAY#1648, TAXI_OUT#1680, WHEELS_OFF#30, SCHEDULED_TIME#1712, ELAPSED_TIME#1744, AIR_TIME#1776, DISTANCE#1808, WHEELS_ON#35, TAXI_IN#1840, SCHEDULED_ARRIVAL#37, ARRIVAL_TIME#38, ARRIVAL_DELAY#1872, cast(DIVERTED#40 as boolean) AS DIVERTED#2097, ... 8 more fields]\n            +- Project [YEAR#1520, MONTH#1552, DAY#1584, DAY_OF_WEEK#1616, AIRLINE#21, FLIGHT_NUMBER#22, TAIL_NUMBER#23, ORIGIN_AIRPORT#24, DESTINATION_AIRPORT#25, SCHEDULED_DEPARTURE#26, DEPARTURE_TIME#27, DEPARTURE_DELAY#1648, TAXI_OUT#1680, WHEELS_OFF#30, SCHEDULED_TIME#1712, ELAPSED_TIME#1744, AIR_TIME#1776, DISTANCE#1808, WHEELS_ON#35, TAXI_IN#1840, SCHEDULED_ARRIVAL#37, ARRIVAL_TIME#38, ARRIVAL_DELAY#1872, DIVERTED#40, ... 8 more fields]\n               +- Project [YEAR#1520, MONTH#1552, DAY#1584, DAY_OF_WEEK#1616, AIRLINE#21, FLIGHT_NUMBER#22, TAIL_NUMBER#23, ORIGIN_AIRPORT#24, DESTINATION_AIRPORT#25, SCHEDULED_DEPARTURE#26, DEPARTURE_TIME#27, DEPARTURE_DELAY#1648, TAXI_OUT#1680, WHEELS_OFF#30, SCHEDULED_TIME#1712, ELAPSED_TIME#1744, AIR_TIME#1776, DISTANCE#1808, WHEELS_ON#35, TAXI_IN#1840, SCHEDULED_ARRIVAL#37, ARRIVAL_TIME#38, ARRIVAL_DELAY#1872, DIVERTED#40, ... 7 more fields]\n                  +- Project [YEAR#1520, MONTH#1552, DAY#1584, DAY_OF_WEEK#1616, AIRLINE#21, FLIGHT_NUMBER#22, TAIL_NUMBER#23, ORIGIN_AIRPORT#24, DESTINATION_AIRPORT#25, SCHEDULED_DEPARTURE#26, DEPARTURE_TIME#27, DEPARTURE_DELAY#1648, TAXI_OUT#1680, WHEELS_OFF#30, SCHEDULED_TIME#1712, ELAPSED_TIME#1744, AIR_TIME#1776, DISTANCE#1808, WHEELS_ON#35, TAXI_IN#1840, SCHEDULED_ARRIVAL#37, ARRIVAL_TIME#38, ARRIVAL_DELAY#1872, DIVERTED#40, ... 7 more fields]\n                     +- Project [YEAR#1520, MONTH#1552, DAY#1584, DAY_OF_WEEK#1616, AIRLINE#21, FLIGHT_NUMBER#22, TAIL_NUMBER#23, ORIGIN_AIRPORT#24, DESTINATION_AIRPORT#25, SCHEDULED_DEPARTURE#26, DEPARTURE_TIME#27, DEPARTURE_DELAY#1648, TAXI_OUT#1680, WHEELS_OFF#30, SCHEDULED_TIME#1712, ELAPSED_TIME#1744, AIR_TIME#1776, DISTANCE#1808, WHEELS_ON#35, TAXI_IN#1840, SCHEDULED_ARRIVAL#37, ARRIVAL_TIME#38, ARRIVAL_DELAY#1872, DIVERTED#40, ... 7 more fields]\n                        +- Project [YEAR#1520, MONTH#1552, DAY#1584, DAY_OF_WEEK#1616, AIRLINE#21, FLIGHT_NUMBER#22, TAIL_NUMBER#23, ORIGIN_AIRPORT#24, DESTINATION_AIRPORT#25, SCHEDULED_DEPARTURE#26, DEPARTURE_TIME#27, DEPARTURE_DELAY#1648, TAXI_OUT#1680, WHEELS_OFF#30, SCHEDULED_TIME#1712, ELAPSED_TIME#1744, AIR_TIME#1776, DISTANCE#1808, WHEELS_ON#35, TAXI_IN#1840, SCHEDULED_ARRIVAL#37, ARRIVAL_TIME#38, ARRIVAL_DELAY#1872, DIVERTED#40, ... 7 more fields]\n                           +- Project [YEAR#1520, MONTH#1552, DAY#1584, DAY_OF_WEEK#1616, AIRLINE#21, FLIGHT_NUMBER#22, TAIL_NUMBER#23, ORIGIN_AIRPORT#24, DESTINATION_AIRPORT#25, SCHEDULED_DEPARTURE#26, DEPARTURE_TIME#27, DEPARTURE_DELAY#1648, TAXI_OUT#1680, WHEELS_OFF#30, SCHEDULED_TIME#1712, ELAPSED_TIME#1744, AIR_TIME#1776, DISTANCE#1808, WHEELS_ON#35, TAXI_IN#1840, SCHEDULED_ARRIVAL#37, ARRIVAL_TIME#38, ARRIVAL_DELAY#1872, DIVERTED#40, ... 7 more fields]\n                              +- Project [YEAR#1520, MONTH#1552, DAY#1584, DAY_OF_WEEK#1616, AIRLINE#21, FLIGHT_NUMBER#22, TAIL_NUMBER#23, ORIGIN_AIRPORT#24, DESTINATION_AIRPORT#25, SCHEDULED_DEPARTURE#26, DEPARTURE_TIME#27, DEPARTURE_DELAY#1648, TAXI_OUT#1680, WHEELS_OFF#30, SCHEDULED_TIME#1712, ELAPSED_TIME#1744, AIR_TIME#1776, DISTANCE#1808, WHEELS_ON#35, TAXI_IN#1840, SCHEDULED_ARRIVAL#37, ARRIVAL_TIME#38, cast(ARRIVAL_DELAY#39 as int) AS ARRIVAL_DELAY#1872, DIVERTED#40, ... 7 more fields]\n                                 +- Project [YEAR#1520, MONTH#1552, DAY#1584, DAY_OF_WEEK#1616, AIRLINE#21, FLIGHT_NUMBER#22, TAIL_NUMBER#23, ORIGIN_AIRPORT#24, DESTINATION_AIRPORT#25, SCHEDULED_DEPARTURE#26, DEPARTURE_TIME#27, DEPARTURE_DELAY#1648, TAXI_OUT#1680, WHEELS_OFF#30, SCHEDULED_TIME#1712, ELAPSED_TIME#1744, AIR_TIME#1776, DISTANCE#1808, WHEELS_ON#35, cast(TAXI_IN#36 as int) AS TAXI_IN#1840, SCHEDULED_ARRIVAL#37, ARRIVAL_TIME#38, ARRIVAL_DELAY#39, DIVERTED#40, ... 7 more fields]\n                                    +- Project [YEAR#1520, MONTH#1552, DAY#1584, DAY_OF_WEEK#1616, AIRLINE#21, FLIGHT_NUMBER#22, TAIL_NUMBER#23, ORIGIN_AIRPORT#24, DESTINATION_AIRPORT#25, SCHEDULED_DEPARTURE#26, DEPARTURE_TIME#27, DEPARTURE_DELAY#1648, TAXI_OUT#1680, WHEELS_OFF#30, SCHEDULED_TIME#1712, ELAPSED_TIME#1744, AIR_TIME#1776, cast(DISTANCE#34 as int) AS DISTANCE#1808, WHEELS_ON#35, TAXI_IN#36, SCHEDULED_ARRIVAL#37, ARRIVAL_TIME#38, ARRIVAL_DELAY#39, DIVERTED#40, ... 7 more fields]\n                                       +- Project [YEAR#1520, MONTH#1552, DAY#1584, DAY_OF_WEEK#1616, AIRLINE#21, FLIGHT_NUMBER#22, TAIL_NUMBER#23, ORIGIN_AIRPORT#24, DESTINATION_AIRPORT#25, SCHEDULED_DEPARTURE#26, DEPARTURE_TIME#27, DEPARTURE_DELAY#1648, TAXI_OUT#1680, WHEELS_OFF#30, SCHEDULED_TIME#1712, ELAPSED_TIME#1744, cast(AIR_TIME#33 as int) AS AIR_TIME#1776, DISTANCE#34, WHEELS_ON#35, TAXI_IN#36, SCHEDULED_ARRIVAL#37, ARRIVAL_TIME#38, ARRIVAL_DELAY#39, DIVERTED#40, ... 7 more fields]\n                                          +- Project [YEAR#1520, MONTH#1552, DAY#1584, DAY_OF_WEEK#1616, AIRLINE#21, FLIGHT_NUMBER#22, TAIL_NUMBER#23, ORIGIN_AIRPORT#24, DESTINATION_AIRPORT#25, SCHEDULED_DEPARTURE#26, DEPARTURE_TIME#27, DEPARTURE_DELAY#1648, TAXI_OUT#1680, WHEELS_OFF#30, SCHEDULED_TIME#1712, cast(ELAPSED_TIME#32 as int) AS ELAPSED_TIME#1744, AIR_TIME#33, DISTANCE#34, WHEELS_ON#35, TAXI_IN#36, SCHEDULED_ARRIVAL#37, ARRIVAL_TIME#38, ARRIVAL_DELAY#39, DIVERTED#40, ... 7 more fields]\n                                             +- Project [YEAR#1520, MONTH#1552, DAY#1584, DAY_OF_WEEK#1616, AIRLINE#21, FLIGHT_NUMBER#22, TAIL_NUMBER#23, ORIGIN_AIRPORT#24, DESTINATION_AIRPORT#25, SCHEDULED_DEPARTURE#26, DEPARTURE_TIME#27, DEPARTURE_DELAY#1648, TAXI_OUT#1680, WHEELS_OFF#30, cast(SCHEDULED_TIME#31 as int) AS SCHEDULED_TIME#1712, ELAPSED_TIME#32, AIR_TIME#33, DISTANCE#34, WHEELS_ON#35, TAXI_IN#36, SCHEDULED_ARRIVAL#37, ARRIVAL_TIME#38, ARRIVAL_DELAY#39, DIVERTED#40, ... 7 more fields]\n                                                +- Project [YEAR#1520, MONTH#1552, DAY#1584, DAY_OF_WEEK#1616, AIRLINE#21, FLIGHT_NUMBER#22, TAIL_NUMBER#23, ORIGIN_AIRPORT#24, DESTINATION_AIRPORT#25, SCHEDULED_DEPARTURE#26, DEPARTURE_TIME#27, DEPARTURE_DELAY#1648, cast(TAXI_OUT#29 as int) AS TAXI_OUT#1680, WHEELS_OFF#30, SCHEDULED_TIME#31, ELAPSED_TIME#32, AIR_TIME#33, DISTANCE#34, WHEELS_ON#35, TAXI_IN#36, SCHEDULED_ARRIVAL#37, ARRIVAL_TIME#38, ARRIVAL_DELAY#39, DIVERTED#40, ... 7 more fields]\n                                                   +- Project [YEAR#1520, MONTH#1552, DAY#1584, DAY_OF_WEEK#1616, AIRLINE#21, FLIGHT_NUMBER#22, TAIL_NUMBER#23, ORIGIN_AIRPORT#24, DESTINATION_AIRPORT#25, SCHEDULED_DEPARTURE#26, DEPARTURE_TIME#27, cast(DEPARTURE_DELAY#28 as int) AS DEPARTURE_DELAY#1648, TAXI_OUT#29, WHEELS_OFF#30, SCHEDULED_TIME#31, ELAPSED_TIME#32, AIR_TIME#33, DISTANCE#34, WHEELS_ON#35, TAXI_IN#36, SCHEDULED_ARRIVAL#37, ARRIVAL_TIME#38, ARRIVAL_DELAY#39, DIVERTED#40, ... 7 more fields]\n                                                      +- Project [YEAR#1520, MONTH#1552, DAY#1584, cast(DAY_OF_WEEK#20 as int) AS DAY_OF_WEEK#1616, AIRLINE#21, FLIGHT_NUMBER#22, TAIL_NUMBER#23, ORIGIN_AIRPORT#24, DESTINATION_AIRPORT#25, SCHEDULED_DEPARTURE#26, DEPARTURE_TIME#27, DEPARTURE_DELAY#28, TAXI_OUT#29, WHEELS_OFF#30, SCHEDULED_TIME#31, ELAPSED_TIME#32, AIR_TIME#33, DISTANCE#34, WHEELS_ON#35, TAXI_IN#36, SCHEDULED_ARRIVAL#37, ARRIVAL_TIME#38, ARRIVAL_DELAY#39, DIVERTED#40, ... 7 more fields]\n                                                         +- Project [YEAR#1520, MONTH#1552, cast(DAY#19 as int) AS DAY#1584, DAY_OF_WEEK#20, AIRLINE#21, FLIGHT_NUMBER#22, TAIL_NUMBER#23, ORIGIN_AIRPORT#24, DESTINATION_AIRPORT#25, SCHEDULED_DEPARTURE#26, DEPARTURE_TIME#27, DEPARTURE_DELAY#28, TAXI_OUT#29, WHEELS_OFF#30, SCHEDULED_TIME#31, ELAPSED_TIME#32, AIR_TIME#33, DISTANCE#34, WHEELS_ON#35, TAXI_IN#36, SCHEDULED_ARRIVAL#37, ARRIVAL_TIME#38, ARRIVAL_DELAY#39, DIVERTED#40, ... 7 more fields]\n                                                            +- Project [YEAR#1520, cast(MONTH#18 as int) AS MONTH#1552, DAY#19, DAY_OF_WEEK#20, AIRLINE#21, FLIGHT_NUMBER#22, TAIL_NUMBER#23, ORIGIN_AIRPORT#24, DESTINATION_AIRPORT#25, SCHEDULED_DEPARTURE#26, DEPARTURE_TIME#27, DEPARTURE_DELAY#28, TAXI_OUT#29, WHEELS_OFF#30, SCHEDULED_TIME#31, ELAPSED_TIME#32, AIR_TIME#33, DISTANCE#34, WHEELS_ON#35, TAXI_IN#36, SCHEDULED_ARRIVAL#37, ARRIVAL_TIME#38, ARRIVAL_DELAY#39, DIVERTED#40, ... 7 more fields]\n                                                               +- Project [cast(YEAR#17 as int) AS YEAR#1520, MONTH#18, DAY#19, DAY_OF_WEEK#20, AIRLINE#21, FLIGHT_NUMBER#22, TAIL_NUMBER#23, ORIGIN_AIRPORT#24, DESTINATION_AIRPORT#25, SCHEDULED_DEPARTURE#26, DEPARTURE_TIME#27, DEPARTURE_DELAY#28, TAXI_OUT#29, WHEELS_OFF#30, SCHEDULED_TIME#31, ELAPSED_TIME#32, AIR_TIME#33, DISTANCE#34, WHEELS_ON#35, TAXI_IN#36, SCHEDULED_ARRIVAL#37, ARRIVAL_TIME#38, ARRIVAL_DELAY#39, DIVERTED#40, ... 7 more fields]\n                                                                  +- Relation [YEAR#17,MONTH#18,DAY#19,DAY_OF_WEEK#20,AIRLINE#21,FLIGHT_NUMBER#22,TAIL_NUMBER#23,ORIGIN_AIRPORT#24,DESTINATION_AIRPORT#25,SCHEDULED_DEPARTURE#26,DEPARTURE_TIME#27,DEPARTURE_DELAY#28,TAXI_OUT#29,WHEELS_OFF#30,SCHEDULED_TIME#31,ELAPSED_TIME#32,AIR_TIME#33,DISTANCE#34,WHEELS_ON#35,TAXI_IN#36,SCHEDULED_ARRIVAL#37,ARRIVAL_TIME#38,ARRIVAL_DELAY#39,DIVERTED#40,... 7 more fields] csv\n",
     "output_type": "error",
     "traceback": [
      "\u001b[1;31m---------------------------------------------------------------------------\u001b[0m",
      "\u001b[1;31mAnalysisException\u001b[0m                         Traceback (most recent call last)",
      "Cell \u001b[1;32mIn[46], line 1\u001b[0m\n\u001b[1;32m----> 1\u001b[0m \u001b[43mdf\u001b[49m\u001b[38;5;241;43m.\u001b[39;49m\u001b[43mgroupBy\u001b[49m\u001b[43m(\u001b[49m\u001b[38;5;124;43m'\u001b[39;49m\u001b[38;5;124;43mFLIGHT_ID\u001b[39;49m\u001b[38;5;124;43m'\u001b[39;49m\u001b[43m)\u001b[49m\u001b[38;5;241;43m.\u001b[39;49m\u001b[43magg\u001b[49m\u001b[43m(\u001b[49m\u001b[43mF\u001b[49m\u001b[38;5;241;43m.\u001b[39;49m\u001b[43mconcat\u001b[49m\u001b[43m(\u001b[49m\u001b[38;5;124;43m'\u001b[39;49m\u001b[38;5;124;43mORIGIN_AIRPORT\u001b[39;49m\u001b[38;5;124;43m'\u001b[39;49m\u001b[43m)\u001b[49m\u001b[43m)\u001b[49m\u001b[38;5;241m.\u001b[39mshow()\n",
      "File \u001b[1;32mc:\\Users\\Jakub.Pitera\\Anaconda3\\envs\\udacity\\Lib\\site-packages\\pyspark\\sql\\group.py:137\u001b[0m, in \u001b[0;36mGroupedData.agg\u001b[1;34m(self, *exprs)\u001b[0m\n\u001b[0;32m    135\u001b[0m     \u001b[38;5;28;01massert\u001b[39;00m \u001b[38;5;28mall\u001b[39m(\u001b[38;5;28misinstance\u001b[39m(c, Column) \u001b[38;5;28;01mfor\u001b[39;00m c \u001b[38;5;129;01min\u001b[39;00m exprs), \u001b[38;5;124m\"\u001b[39m\u001b[38;5;124mall exprs should be Column\u001b[39m\u001b[38;5;124m\"\u001b[39m\n\u001b[0;32m    136\u001b[0m     exprs \u001b[38;5;241m=\u001b[39m cast(Tuple[Column, \u001b[38;5;241m.\u001b[39m\u001b[38;5;241m.\u001b[39m\u001b[38;5;241m.\u001b[39m], exprs)\n\u001b[1;32m--> 137\u001b[0m     jdf \u001b[38;5;241m=\u001b[39m \u001b[38;5;28;43mself\u001b[39;49m\u001b[38;5;241;43m.\u001b[39;49m\u001b[43m_jgd\u001b[49m\u001b[38;5;241;43m.\u001b[39;49m\u001b[43magg\u001b[49m\u001b[43m(\u001b[49m\u001b[43mexprs\u001b[49m\u001b[43m[\u001b[49m\u001b[38;5;241;43m0\u001b[39;49m\u001b[43m]\u001b[49m\u001b[38;5;241;43m.\u001b[39;49m\u001b[43m_jc\u001b[49m\u001b[43m,\u001b[49m\u001b[43m \u001b[49m\u001b[43m_to_seq\u001b[49m\u001b[43m(\u001b[49m\u001b[38;5;28;43mself\u001b[39;49m\u001b[38;5;241;43m.\u001b[39;49m\u001b[43msession\u001b[49m\u001b[38;5;241;43m.\u001b[39;49m\u001b[43m_sc\u001b[49m\u001b[43m,\u001b[49m\u001b[43m \u001b[49m\u001b[43m[\u001b[49m\u001b[43mc\u001b[49m\u001b[38;5;241;43m.\u001b[39;49m\u001b[43m_jc\u001b[49m\u001b[43m \u001b[49m\u001b[38;5;28;43;01mfor\u001b[39;49;00m\u001b[43m \u001b[49m\u001b[43mc\u001b[49m\u001b[43m \u001b[49m\u001b[38;5;129;43;01min\u001b[39;49;00m\u001b[43m \u001b[49m\u001b[43mexprs\u001b[49m\u001b[43m[\u001b[49m\u001b[38;5;241;43m1\u001b[39;49m\u001b[43m:\u001b[49m\u001b[43m]\u001b[49m\u001b[43m]\u001b[49m\u001b[43m)\u001b[49m\u001b[43m)\u001b[49m\n\u001b[0;32m    138\u001b[0m \u001b[38;5;28;01mreturn\u001b[39;00m DataFrame(jdf, \u001b[38;5;28mself\u001b[39m\u001b[38;5;241m.\u001b[39msession)\n",
      "File \u001b[1;32mc:\\Users\\Jakub.Pitera\\Anaconda3\\envs\\udacity\\Lib\\site-packages\\py4j\\java_gateway.py:1321\u001b[0m, in \u001b[0;36mJavaMember.__call__\u001b[1;34m(self, *args)\u001b[0m\n\u001b[0;32m   1315\u001b[0m command \u001b[38;5;241m=\u001b[39m proto\u001b[38;5;241m.\u001b[39mCALL_COMMAND_NAME \u001b[38;5;241m+\u001b[39m\\\n\u001b[0;32m   1316\u001b[0m     \u001b[38;5;28mself\u001b[39m\u001b[38;5;241m.\u001b[39mcommand_header \u001b[38;5;241m+\u001b[39m\\\n\u001b[0;32m   1317\u001b[0m     args_command \u001b[38;5;241m+\u001b[39m\\\n\u001b[0;32m   1318\u001b[0m     proto\u001b[38;5;241m.\u001b[39mEND_COMMAND_PART\n\u001b[0;32m   1320\u001b[0m answer \u001b[38;5;241m=\u001b[39m \u001b[38;5;28mself\u001b[39m\u001b[38;5;241m.\u001b[39mgateway_client\u001b[38;5;241m.\u001b[39msend_command(command)\n\u001b[1;32m-> 1321\u001b[0m return_value \u001b[38;5;241m=\u001b[39m \u001b[43mget_return_value\u001b[49m\u001b[43m(\u001b[49m\n\u001b[0;32m   1322\u001b[0m \u001b[43m    \u001b[49m\u001b[43manswer\u001b[49m\u001b[43m,\u001b[49m\u001b[43m \u001b[49m\u001b[38;5;28;43mself\u001b[39;49m\u001b[38;5;241;43m.\u001b[39;49m\u001b[43mgateway_client\u001b[49m\u001b[43m,\u001b[49m\u001b[43m \u001b[49m\u001b[38;5;28;43mself\u001b[39;49m\u001b[38;5;241;43m.\u001b[39;49m\u001b[43mtarget_id\u001b[49m\u001b[43m,\u001b[49m\u001b[43m \u001b[49m\u001b[38;5;28;43mself\u001b[39;49m\u001b[38;5;241;43m.\u001b[39;49m\u001b[43mname\u001b[49m\u001b[43m)\u001b[49m\n\u001b[0;32m   1324\u001b[0m \u001b[38;5;28;01mfor\u001b[39;00m temp_arg \u001b[38;5;129;01min\u001b[39;00m temp_args:\n\u001b[0;32m   1325\u001b[0m     temp_arg\u001b[38;5;241m.\u001b[39m_detach()\n",
      "File \u001b[1;32mc:\\Users\\Jakub.Pitera\\Anaconda3\\envs\\udacity\\Lib\\site-packages\\pyspark\\sql\\utils.py:196\u001b[0m, in \u001b[0;36mcapture_sql_exception.<locals>.deco\u001b[1;34m(*a, **kw)\u001b[0m\n\u001b[0;32m    192\u001b[0m converted \u001b[38;5;241m=\u001b[39m convert_exception(e\u001b[38;5;241m.\u001b[39mjava_exception)\n\u001b[0;32m    193\u001b[0m \u001b[38;5;28;01mif\u001b[39;00m \u001b[38;5;129;01mnot\u001b[39;00m \u001b[38;5;28misinstance\u001b[39m(converted, UnknownException):\n\u001b[0;32m    194\u001b[0m     \u001b[38;5;66;03m# Hide where the exception came from that shows a non-Pythonic\u001b[39;00m\n\u001b[0;32m    195\u001b[0m     \u001b[38;5;66;03m# JVM exception message.\u001b[39;00m\n\u001b[1;32m--> 196\u001b[0m     \u001b[38;5;28;01mraise\u001b[39;00m converted \u001b[38;5;28;01mfrom\u001b[39;00m \u001b[38;5;28;01mNone\u001b[39;00m\n\u001b[0;32m    197\u001b[0m \u001b[38;5;28;01melse\u001b[39;00m:\n\u001b[0;32m    198\u001b[0m     \u001b[38;5;28;01mraise\u001b[39;00m\n",
      "\u001b[1;31mAnalysisException\u001b[0m: expression 'ORIGIN_AIRPORT' is neither present in the group by, nor is it an aggregate function. Add to group by or wrap in first() (or first_value) if you don't care which value you get.;\nAggregate [FLIGHT_ID#2357], [FLIGHT_ID#2357, concat(ORIGIN_AIRPORT#24) AS concat(ORIGIN_AIRPORT)#2885]\n+- Project [YEAR#1520, MONTH#1552, DAY#1584, DAY_OF_WEEK#1616, AIRLINE#21, FLIGHT_NUMBER#22, TAIL_NUMBER#23, ORIGIN_AIRPORT#24, DESTINATION_AIRPORT#25, SCHEDULED_DEPARTURE#26, DEPARTURE_TIME#27, DEPARTURE_DELAY#1648, TAXI_OUT#1680, WHEELS_OFF#30, SCHEDULED_TIME#1712, ELAPSED_TIME#1744, AIR_TIME#1776, DISTANCE#1808, WHEELS_ON#35, TAXI_IN#1840, SCHEDULED_ARRIVAL#37, ARRIVAL_TIME#38, ARRIVAL_DELAY#1872, DIVERTED#2097, ... 10 more fields]\n   +- Project [YEAR#1520, MONTH#1552, DAY#1584, DAY_OF_WEEK#1616, AIRLINE#21, FLIGHT_NUMBER#22, TAIL_NUMBER#23, ORIGIN_AIRPORT#24, DESTINATION_AIRPORT#25, SCHEDULED_DEPARTURE#26, DEPARTURE_TIME#27, DEPARTURE_DELAY#1648, TAXI_OUT#1680, WHEELS_OFF#30, SCHEDULED_TIME#1712, ELAPSED_TIME#1744, AIR_TIME#1776, DISTANCE#1808, WHEELS_ON#35, TAXI_IN#1840, SCHEDULED_ARRIVAL#37, ARRIVAL_TIME#38, ARRIVAL_DELAY#1872, DIVERTED#2097, ... 9 more fields]\n      +- Project [YEAR#1520, MONTH#1552, DAY#1584, DAY_OF_WEEK#1616, AIRLINE#21, FLIGHT_NUMBER#22, TAIL_NUMBER#23, ORIGIN_AIRPORT#24, DESTINATION_AIRPORT#25, SCHEDULED_DEPARTURE#26, DEPARTURE_TIME#27, DEPARTURE_DELAY#1648, TAXI_OUT#1680, WHEELS_OFF#30, SCHEDULED_TIME#1712, ELAPSED_TIME#1744, AIR_TIME#1776, DISTANCE#1808, WHEELS_ON#35, TAXI_IN#1840, SCHEDULED_ARRIVAL#37, ARRIVAL_TIME#38, ARRIVAL_DELAY#1872, DIVERTED#2097, ... 8 more fields]\n         +- Project [YEAR#1520, MONTH#1552, DAY#1584, DAY_OF_WEEK#1616, AIRLINE#21, FLIGHT_NUMBER#22, TAIL_NUMBER#23, ORIGIN_AIRPORT#24, DESTINATION_AIRPORT#25, SCHEDULED_DEPARTURE#26, DEPARTURE_TIME#27, DEPARTURE_DELAY#1648, TAXI_OUT#1680, WHEELS_OFF#30, SCHEDULED_TIME#1712, ELAPSED_TIME#1744, AIR_TIME#1776, DISTANCE#1808, WHEELS_ON#35, TAXI_IN#1840, SCHEDULED_ARRIVAL#37, ARRIVAL_TIME#38, ARRIVAL_DELAY#1872, cast(DIVERTED#40 as boolean) AS DIVERTED#2097, ... 8 more fields]\n            +- Project [YEAR#1520, MONTH#1552, DAY#1584, DAY_OF_WEEK#1616, AIRLINE#21, FLIGHT_NUMBER#22, TAIL_NUMBER#23, ORIGIN_AIRPORT#24, DESTINATION_AIRPORT#25, SCHEDULED_DEPARTURE#26, DEPARTURE_TIME#27, DEPARTURE_DELAY#1648, TAXI_OUT#1680, WHEELS_OFF#30, SCHEDULED_TIME#1712, ELAPSED_TIME#1744, AIR_TIME#1776, DISTANCE#1808, WHEELS_ON#35, TAXI_IN#1840, SCHEDULED_ARRIVAL#37, ARRIVAL_TIME#38, ARRIVAL_DELAY#1872, DIVERTED#40, ... 8 more fields]\n               +- Project [YEAR#1520, MONTH#1552, DAY#1584, DAY_OF_WEEK#1616, AIRLINE#21, FLIGHT_NUMBER#22, TAIL_NUMBER#23, ORIGIN_AIRPORT#24, DESTINATION_AIRPORT#25, SCHEDULED_DEPARTURE#26, DEPARTURE_TIME#27, DEPARTURE_DELAY#1648, TAXI_OUT#1680, WHEELS_OFF#30, SCHEDULED_TIME#1712, ELAPSED_TIME#1744, AIR_TIME#1776, DISTANCE#1808, WHEELS_ON#35, TAXI_IN#1840, SCHEDULED_ARRIVAL#37, ARRIVAL_TIME#38, ARRIVAL_DELAY#1872, DIVERTED#40, ... 7 more fields]\n                  +- Project [YEAR#1520, MONTH#1552, DAY#1584, DAY_OF_WEEK#1616, AIRLINE#21, FLIGHT_NUMBER#22, TAIL_NUMBER#23, ORIGIN_AIRPORT#24, DESTINATION_AIRPORT#25, SCHEDULED_DEPARTURE#26, DEPARTURE_TIME#27, DEPARTURE_DELAY#1648, TAXI_OUT#1680, WHEELS_OFF#30, SCHEDULED_TIME#1712, ELAPSED_TIME#1744, AIR_TIME#1776, DISTANCE#1808, WHEELS_ON#35, TAXI_IN#1840, SCHEDULED_ARRIVAL#37, ARRIVAL_TIME#38, ARRIVAL_DELAY#1872, DIVERTED#40, ... 7 more fields]\n                     +- Project [YEAR#1520, MONTH#1552, DAY#1584, DAY_OF_WEEK#1616, AIRLINE#21, FLIGHT_NUMBER#22, TAIL_NUMBER#23, ORIGIN_AIRPORT#24, DESTINATION_AIRPORT#25, SCHEDULED_DEPARTURE#26, DEPARTURE_TIME#27, DEPARTURE_DELAY#1648, TAXI_OUT#1680, WHEELS_OFF#30, SCHEDULED_TIME#1712, ELAPSED_TIME#1744, AIR_TIME#1776, DISTANCE#1808, WHEELS_ON#35, TAXI_IN#1840, SCHEDULED_ARRIVAL#37, ARRIVAL_TIME#38, ARRIVAL_DELAY#1872, DIVERTED#40, ... 7 more fields]\n                        +- Project [YEAR#1520, MONTH#1552, DAY#1584, DAY_OF_WEEK#1616, AIRLINE#21, FLIGHT_NUMBER#22, TAIL_NUMBER#23, ORIGIN_AIRPORT#24, DESTINATION_AIRPORT#25, SCHEDULED_DEPARTURE#26, DEPARTURE_TIME#27, DEPARTURE_DELAY#1648, TAXI_OUT#1680, WHEELS_OFF#30, SCHEDULED_TIME#1712, ELAPSED_TIME#1744, AIR_TIME#1776, DISTANCE#1808, WHEELS_ON#35, TAXI_IN#1840, SCHEDULED_ARRIVAL#37, ARRIVAL_TIME#38, ARRIVAL_DELAY#1872, DIVERTED#40, ... 7 more fields]\n                           +- Project [YEAR#1520, MONTH#1552, DAY#1584, DAY_OF_WEEK#1616, AIRLINE#21, FLIGHT_NUMBER#22, TAIL_NUMBER#23, ORIGIN_AIRPORT#24, DESTINATION_AIRPORT#25, SCHEDULED_DEPARTURE#26, DEPARTURE_TIME#27, DEPARTURE_DELAY#1648, TAXI_OUT#1680, WHEELS_OFF#30, SCHEDULED_TIME#1712, ELAPSED_TIME#1744, AIR_TIME#1776, DISTANCE#1808, WHEELS_ON#35, TAXI_IN#1840, SCHEDULED_ARRIVAL#37, ARRIVAL_TIME#38, ARRIVAL_DELAY#1872, DIVERTED#40, ... 7 more fields]\n                              +- Project [YEAR#1520, MONTH#1552, DAY#1584, DAY_OF_WEEK#1616, AIRLINE#21, FLIGHT_NUMBER#22, TAIL_NUMBER#23, ORIGIN_AIRPORT#24, DESTINATION_AIRPORT#25, SCHEDULED_DEPARTURE#26, DEPARTURE_TIME#27, DEPARTURE_DELAY#1648, TAXI_OUT#1680, WHEELS_OFF#30, SCHEDULED_TIME#1712, ELAPSED_TIME#1744, AIR_TIME#1776, DISTANCE#1808, WHEELS_ON#35, TAXI_IN#1840, SCHEDULED_ARRIVAL#37, ARRIVAL_TIME#38, cast(ARRIVAL_DELAY#39 as int) AS ARRIVAL_DELAY#1872, DIVERTED#40, ... 7 more fields]\n                                 +- Project [YEAR#1520, MONTH#1552, DAY#1584, DAY_OF_WEEK#1616, AIRLINE#21, FLIGHT_NUMBER#22, TAIL_NUMBER#23, ORIGIN_AIRPORT#24, DESTINATION_AIRPORT#25, SCHEDULED_DEPARTURE#26, DEPARTURE_TIME#27, DEPARTURE_DELAY#1648, TAXI_OUT#1680, WHEELS_OFF#30, SCHEDULED_TIME#1712, ELAPSED_TIME#1744, AIR_TIME#1776, DISTANCE#1808, WHEELS_ON#35, cast(TAXI_IN#36 as int) AS TAXI_IN#1840, SCHEDULED_ARRIVAL#37, ARRIVAL_TIME#38, ARRIVAL_DELAY#39, DIVERTED#40, ... 7 more fields]\n                                    +- Project [YEAR#1520, MONTH#1552, DAY#1584, DAY_OF_WEEK#1616, AIRLINE#21, FLIGHT_NUMBER#22, TAIL_NUMBER#23, ORIGIN_AIRPORT#24, DESTINATION_AIRPORT#25, SCHEDULED_DEPARTURE#26, DEPARTURE_TIME#27, DEPARTURE_DELAY#1648, TAXI_OUT#1680, WHEELS_OFF#30, SCHEDULED_TIME#1712, ELAPSED_TIME#1744, AIR_TIME#1776, cast(DISTANCE#34 as int) AS DISTANCE#1808, WHEELS_ON#35, TAXI_IN#36, SCHEDULED_ARRIVAL#37, ARRIVAL_TIME#38, ARRIVAL_DELAY#39, DIVERTED#40, ... 7 more fields]\n                                       +- Project [YEAR#1520, MONTH#1552, DAY#1584, DAY_OF_WEEK#1616, AIRLINE#21, FLIGHT_NUMBER#22, TAIL_NUMBER#23, ORIGIN_AIRPORT#24, DESTINATION_AIRPORT#25, SCHEDULED_DEPARTURE#26, DEPARTURE_TIME#27, DEPARTURE_DELAY#1648, TAXI_OUT#1680, WHEELS_OFF#30, SCHEDULED_TIME#1712, ELAPSED_TIME#1744, cast(AIR_TIME#33 as int) AS AIR_TIME#1776, DISTANCE#34, WHEELS_ON#35, TAXI_IN#36, SCHEDULED_ARRIVAL#37, ARRIVAL_TIME#38, ARRIVAL_DELAY#39, DIVERTED#40, ... 7 more fields]\n                                          +- Project [YEAR#1520, MONTH#1552, DAY#1584, DAY_OF_WEEK#1616, AIRLINE#21, FLIGHT_NUMBER#22, TAIL_NUMBER#23, ORIGIN_AIRPORT#24, DESTINATION_AIRPORT#25, SCHEDULED_DEPARTURE#26, DEPARTURE_TIME#27, DEPARTURE_DELAY#1648, TAXI_OUT#1680, WHEELS_OFF#30, SCHEDULED_TIME#1712, cast(ELAPSED_TIME#32 as int) AS ELAPSED_TIME#1744, AIR_TIME#33, DISTANCE#34, WHEELS_ON#35, TAXI_IN#36, SCHEDULED_ARRIVAL#37, ARRIVAL_TIME#38, ARRIVAL_DELAY#39, DIVERTED#40, ... 7 more fields]\n                                             +- Project [YEAR#1520, MONTH#1552, DAY#1584, DAY_OF_WEEK#1616, AIRLINE#21, FLIGHT_NUMBER#22, TAIL_NUMBER#23, ORIGIN_AIRPORT#24, DESTINATION_AIRPORT#25, SCHEDULED_DEPARTURE#26, DEPARTURE_TIME#27, DEPARTURE_DELAY#1648, TAXI_OUT#1680, WHEELS_OFF#30, cast(SCHEDULED_TIME#31 as int) AS SCHEDULED_TIME#1712, ELAPSED_TIME#32, AIR_TIME#33, DISTANCE#34, WHEELS_ON#35, TAXI_IN#36, SCHEDULED_ARRIVAL#37, ARRIVAL_TIME#38, ARRIVAL_DELAY#39, DIVERTED#40, ... 7 more fields]\n                                                +- Project [YEAR#1520, MONTH#1552, DAY#1584, DAY_OF_WEEK#1616, AIRLINE#21, FLIGHT_NUMBER#22, TAIL_NUMBER#23, ORIGIN_AIRPORT#24, DESTINATION_AIRPORT#25, SCHEDULED_DEPARTURE#26, DEPARTURE_TIME#27, DEPARTURE_DELAY#1648, cast(TAXI_OUT#29 as int) AS TAXI_OUT#1680, WHEELS_OFF#30, SCHEDULED_TIME#31, ELAPSED_TIME#32, AIR_TIME#33, DISTANCE#34, WHEELS_ON#35, TAXI_IN#36, SCHEDULED_ARRIVAL#37, ARRIVAL_TIME#38, ARRIVAL_DELAY#39, DIVERTED#40, ... 7 more fields]\n                                                   +- Project [YEAR#1520, MONTH#1552, DAY#1584, DAY_OF_WEEK#1616, AIRLINE#21, FLIGHT_NUMBER#22, TAIL_NUMBER#23, ORIGIN_AIRPORT#24, DESTINATION_AIRPORT#25, SCHEDULED_DEPARTURE#26, DEPARTURE_TIME#27, cast(DEPARTURE_DELAY#28 as int) AS DEPARTURE_DELAY#1648, TAXI_OUT#29, WHEELS_OFF#30, SCHEDULED_TIME#31, ELAPSED_TIME#32, AIR_TIME#33, DISTANCE#34, WHEELS_ON#35, TAXI_IN#36, SCHEDULED_ARRIVAL#37, ARRIVAL_TIME#38, ARRIVAL_DELAY#39, DIVERTED#40, ... 7 more fields]\n                                                      +- Project [YEAR#1520, MONTH#1552, DAY#1584, cast(DAY_OF_WEEK#20 as int) AS DAY_OF_WEEK#1616, AIRLINE#21, FLIGHT_NUMBER#22, TAIL_NUMBER#23, ORIGIN_AIRPORT#24, DESTINATION_AIRPORT#25, SCHEDULED_DEPARTURE#26, DEPARTURE_TIME#27, DEPARTURE_DELAY#28, TAXI_OUT#29, WHEELS_OFF#30, SCHEDULED_TIME#31, ELAPSED_TIME#32, AIR_TIME#33, DISTANCE#34, WHEELS_ON#35, TAXI_IN#36, SCHEDULED_ARRIVAL#37, ARRIVAL_TIME#38, ARRIVAL_DELAY#39, DIVERTED#40, ... 7 more fields]\n                                                         +- Project [YEAR#1520, MONTH#1552, cast(DAY#19 as int) AS DAY#1584, DAY_OF_WEEK#20, AIRLINE#21, FLIGHT_NUMBER#22, TAIL_NUMBER#23, ORIGIN_AIRPORT#24, DESTINATION_AIRPORT#25, SCHEDULED_DEPARTURE#26, DEPARTURE_TIME#27, DEPARTURE_DELAY#28, TAXI_OUT#29, WHEELS_OFF#30, SCHEDULED_TIME#31, ELAPSED_TIME#32, AIR_TIME#33, DISTANCE#34, WHEELS_ON#35, TAXI_IN#36, SCHEDULED_ARRIVAL#37, ARRIVAL_TIME#38, ARRIVAL_DELAY#39, DIVERTED#40, ... 7 more fields]\n                                                            +- Project [YEAR#1520, cast(MONTH#18 as int) AS MONTH#1552, DAY#19, DAY_OF_WEEK#20, AIRLINE#21, FLIGHT_NUMBER#22, TAIL_NUMBER#23, ORIGIN_AIRPORT#24, DESTINATION_AIRPORT#25, SCHEDULED_DEPARTURE#26, DEPARTURE_TIME#27, DEPARTURE_DELAY#28, TAXI_OUT#29, WHEELS_OFF#30, SCHEDULED_TIME#31, ELAPSED_TIME#32, AIR_TIME#33, DISTANCE#34, WHEELS_ON#35, TAXI_IN#36, SCHEDULED_ARRIVAL#37, ARRIVAL_TIME#38, ARRIVAL_DELAY#39, DIVERTED#40, ... 7 more fields]\n                                                               +- Project [cast(YEAR#17 as int) AS YEAR#1520, MONTH#18, DAY#19, DAY_OF_WEEK#20, AIRLINE#21, FLIGHT_NUMBER#22, TAIL_NUMBER#23, ORIGIN_AIRPORT#24, DESTINATION_AIRPORT#25, SCHEDULED_DEPARTURE#26, DEPARTURE_TIME#27, DEPARTURE_DELAY#28, TAXI_OUT#29, WHEELS_OFF#30, SCHEDULED_TIME#31, ELAPSED_TIME#32, AIR_TIME#33, DISTANCE#34, WHEELS_ON#35, TAXI_IN#36, SCHEDULED_ARRIVAL#37, ARRIVAL_TIME#38, ARRIVAL_DELAY#39, DIVERTED#40, ... 7 more fields]\n                                                                  +- Relation [YEAR#17,MONTH#18,DAY#19,DAY_OF_WEEK#20,AIRLINE#21,FLIGHT_NUMBER#22,TAIL_NUMBER#23,ORIGIN_AIRPORT#24,DESTINATION_AIRPORT#25,SCHEDULED_DEPARTURE#26,DEPARTURE_TIME#27,DEPARTURE_DELAY#28,TAXI_OUT#29,WHEELS_OFF#30,SCHEDULED_TIME#31,ELAPSED_TIME#32,AIR_TIME#33,DISTANCE#34,WHEELS_ON#35,TAXI_IN#36,SCHEDULED_ARRIVAL#37,ARRIVAL_TIME#38,ARRIVAL_DELAY#39,DIVERTED#40,... 7 more fields] csv\n"
     ]
    }
   ],
   "source": [
    "df.groupBy('FLIGHT_ID').agg(F.concat('ORIGIN_AIRPORT')).show()"
   ]
  },
  {
   "cell_type": "code",
   "execution_count": 123,
   "metadata": {},
   "outputs": [],
   "source": [
    "schedule_table = schedule_table.groupBy('FLIGHT_ID','AIRLINE','FLIGHT_NUMBER','SCHEDULED_DEPARTURE','SCHEDULED_TIME','SCHEDULED_ARRIVAL').agg(\n",
    "        F.concat_ws(\"\",F.collect_list(\"ORIGIN_AIRPORT\")).alias(\"ORIGIN_AIRPORT\"),\n",
    "        F.concat_ws(\"\",F.collect_list(\"DESTINATION_AIRPORT\")).alias(\"DESTINATION_AIRPORT\")\n",
    "        ).select(schedule_cols)"
   ]
  },
  {
   "cell_type": "code",
   "execution_count": 72,
   "metadata": {},
   "outputs": [
    {
     "data": {
      "text/plain": [
       "47710"
      ]
     },
     "execution_count": 72,
     "metadata": {},
     "output_type": "execute_result"
    }
   ],
   "source": [
    "schedule_table.select('ORIGIN_AIRPORT').filter(col(\"ORIGIN_AIRPORT\").rlike(\"^[0-9]*$\")).count()"
   ]
  },
  {
   "cell_type": "code",
   "execution_count": 124,
   "metadata": {},
   "outputs": [
    {
     "name": "stdout",
     "output_type": "stream",
     "text": [
      "+--------------+-----+\n",
      "|     FLIGHT_ID|count|\n",
      "+--------------+-----+\n",
      "|WN166920202255|    2|\n",
      "|OO454708370950|    2|\n",
      "| UA39819102041|    2|\n",
      "| UA64106000732|    2|\n",
      "|UA125218562110|    2|\n",
      "|WN140410101240|    2|\n",
      "| WN43512351400|    2|\n",
      "|EV420315171655|    2|\n",
      "|UA104719062213|    2|\n",
      "| VX26019502120|    2|\n",
      "|UA112306470930|    2|\n",
      "|UA153010351315|    2|\n",
      "|UA158419152106|    2|\n",
      "|UA167412361515|    2|\n",
      "|WN115615451645|    2|\n",
      "| WN32610401250|    2|\n",
      "| NK32421302340|    2|\n",
      "| NK41622150107|    2|\n",
      "|WN578515351650|    2|\n",
      "|WN190612401500|    2|\n",
      "+--------------+-----+\n",
      "only showing top 20 rows\n",
      "\n"
     ]
    }
   ],
   "source": [
    "schedule_table.groupBy('FLIGHT_ID').count().orderBy('COUNT', ascending=False).show()"
   ]
  },
  {
   "cell_type": "code",
   "execution_count": 89,
   "metadata": {},
   "outputs": [
    {
     "data": {
      "text/plain": [
       "[Row(sum(count)=58393)]"
      ]
     },
     "execution_count": 89,
     "metadata": {},
     "output_type": "execute_result"
    }
   ],
   "source": [
    "schedule_table.groupBy('FLIGHT_ID').count().orderBy('count', ascending=False).filter(col('count') > 1).agg(F.sum('count')).collect()"
   ]
  },
  {
   "cell_type": "code",
   "execution_count": null,
   "metadata": {},
   "outputs": [],
   "source": [
    "UA39819102041\n",
    "UA64106000732\n",
    "AA200212001327\n",
    "WN456916001725"
   ]
  },
  {
   "cell_type": "code",
   "execution_count": 143,
   "metadata": {},
   "outputs": [
    {
     "name": "stdout",
     "output_type": "stream",
     "text": [
      "+--------------+-------+-------------+--------------+-------------------+-------------------+--------------+-----------------+\n",
      "|     FLIGHT_ID|AIRLINE|FLIGHT_NUMBER|ORIGIN_AIRPORT|DESTINATION_AIRPORT|SCHEDULED_DEPARTURE|SCHEDULED_TIME|SCHEDULED_ARRIVAL|\n",
      "+--------------+-------+-------------+--------------+-------------------+-------------------+--------------+-----------------+\n",
      "|AA100011551521|     AA|         1000|         11298|              15304|               1155|           146|             1521|\n",
      "|AA100011551521|     AA|         1000|           DFW|                TPA|               1155|           146|             1521|\n",
      "+--------------+-------+-------------+--------------+-------------------+-------------------+--------------+-----------------+\n",
      "\n"
     ]
    }
   ],
   "source": [
    "schedule_table.where(col('FLIGHT_ID') == 'AA100011551521').show()"
   ]
  },
  {
   "cell_type": "code",
   "execution_count": 144,
   "metadata": {},
   "outputs": [
    {
     "name": "stdout",
     "output_type": "stream",
     "text": [
      "+----+-----+---+-----------+-------+-------------+-----------+--------------+-------------------+-------------------+--------------+---------------+--------+----------+--------------+------------+--------+--------+---------+-------+-----------------+------------+-------------+--------+---------+-------------------+----------------+--------------+-------------+-------------------+-------------+----------+-----------+--------------+\n",
      "|YEAR|MONTH|DAY|DAY_OF_WEEK|AIRLINE|FLIGHT_NUMBER|TAIL_NUMBER|ORIGIN_AIRPORT|DESTINATION_AIRPORT|SCHEDULED_DEPARTURE|DEPARTURE_TIME|DEPARTURE_DELAY|TAXI_OUT|WHEELS_OFF|SCHEDULED_TIME|ELAPSED_TIME|AIR_TIME|DISTANCE|WHEELS_ON|TAXI_IN|SCHEDULED_ARRIVAL|ARRIVAL_TIME|ARRIVAL_DELAY|DIVERTED|CANCELLED|CANCELLATION_REASON|AIR_SYSTEM_DELAY|SECURITY_DELAY|AIRLINE_DELAY|LATE_AIRCRAFT_DELAY|WEATHER_DELAY|      DATE|         ID|     FLIGHT_ID|\n",
      "+----+-----+---+-----------+-------+-------------+-----------+--------------+-------------------+-------------------+--------------+---------------+--------+----------+--------------+------------+--------+--------+---------+-------+-----------------+------------+-------------+--------+---------+-------------------+----------------+--------------+-------------+-------------------+-------------+----------+-----------+--------------+\n",
      "|2015|    9|  9|          3|     AA|         1000|     N467AA|           DFW|                TPA|               1155|          1436|            161|      12|      1448|           146|         134|     119|     929|     1747|      3|             1521|        1750|          149|   false|    false|               null|               0|             0|           40|                109|            0|2015-09-09|25769874660|AA100011551521|\n",
      "|2015|    9| 10|          4|     AA|         1000|     N472AA|           DFW|                TPA|               1155|          1157|              2|      16|      1213|           146|         136|     116|     929|     1509|      4|             1521|        1513|           -8|   false|    false|               null|            null|          null|         null|               null|         null|2015-09-10|25769890083|AA100011551521|\n",
      "|2015|    9| 11|          5|     AA|         1000|     N470AA|           DFW|                TPA|               1155|          1151|             -4|      17|      1208|           146|         136|     115|     929|     1503|      4|             1521|        1507|          -14|   false|    false|               null|            null|          null|         null|               null|         null|2015-09-11|25769905799|AA100011551521|\n",
      "|2015|    9| 12|          6|     AA|         1000|     N4UCAA|           DFW|                TPA|               1155|          1300|             65|      19|      1319|           146|         137|     114|     929|     1613|      4|             1521|        1617|           56|   false|    false|               null|               0|             0|           56|                  0|            0|2015-09-12|25769920664|AA100011551521|\n",
      "|2015|    9| 13|          7|     AA|         1000|     N4UCAA|           DFW|                TPA|               1155|          1257|             62|       9|      1306|           146|         130|     117|     929|     1603|      4|             1521|        1607|           46|   false|    false|               null|               0|             0|           46|                  0|            0|2015-09-13|25769933384|AA100011551521|\n",
      "|2015|    9| 14|          1|     AA|         1000|     N4XCAA|           DFW|                TPA|               1155|          1212|             17|      19|      1231|           146|         154|     129|     929|     1540|      6|             1521|        1546|           25|   false|    false|               null|               8|             0|           17|                  0|            0|2015-09-14|25769949849|AA100011551521|\n",
      "|2015|    9| 15|          2|     AA|         1000|     N4YRAA|           DFW|                TPA|               1155|          1151|             -4|      12|      1203|           146|         153|     138|     929|     1521|      3|             1521|        1524|            3|   false|    false|               null|            null|          null|         null|               null|         null|2015-09-15|25769965872|AA100011551521|\n",
      "|2015|    9| 16|          3|     AA|         1000|     N4YUAA|           DFW|                TPA|               1155|          1148|             -7|      12|      1200|           146|         139|     124|     929|     1504|      3|             1521|        1507|          -14|   false|    false|               null|            null|          null|         null|               null|         null|2015-09-16|25769981588|AA100011551521|\n",
      "|2015|    9| 17|          4|     AA|         1000|     N541AA|           DFW|                TPA|               1155|          1249|             54|      16|      1305|           146|         145|     126|     929|     1611|      3|             1521|        1614|           53|   false|    false|               null|               0|             0|           53|                  0|            0|2015-09-17|25769997886|AA100011551521|\n",
      "|2015|    9| 18|          5|     AA|         1000|     N567AA|           DFW|                TPA|               1155|          1155|              0|      13|      1208|           146|         138|     120|     929|     1508|      5|             1521|        1513|           -8|   false|    false|               null|            null|          null|         null|               null|         null|2015-09-18|25770014453|AA100011551521|\n",
      "|2015|    9| 19|          6|     AA|         1000|     N484AA|           DFW|                TPA|               1155|          1201|              6|      25|      1226|           146|         148|     119|     929|     1525|      4|             1521|        1529|            8|   false|    false|               null|            null|          null|         null|               null|         null|2015-09-19|25770029819|AA100011551521|\n",
      "|2015|    9| 20|          7|     AA|         1000|     N503AA|           DFW|                TPA|               1155|          1150|             -5|      19|      1209|           146|         140|     118|     929|     1507|      3|             1521|        1510|          -11|   false|    false|               null|            null|          null|         null|               null|         null|2015-09-20|25770042703|AA100011551521|\n",
      "|2015|    9| 21|          1|     AA|         1000|     N4WMAA|           DFW|                TPA|               1155|          1149|             -6|      19|      1208|           146|         139|     116|     929|     1504|      4|             1521|        1508|          -13|   false|    false|               null|            null|          null|         null|               null|         null|2015-09-21|25770059241|AA100011551521|\n",
      "|2015|    9| 22|          2|     AA|         1000|     N470AA|           DFW|                TPA|               1155|          1148|             -7|      23|      1211|           146|         152|     123|     929|     1514|      6|             1521|        1520|           -1|   false|    false|               null|            null|          null|         null|               null|         null|2015-09-22|25770075384|AA100011551521|\n",
      "|2015|    9| 23|          3|     AA|         1000|     N501AA|           DFW|                TPA|               1155|          1149|             -6|      17|      1206|           146|         151|     127|     929|     1513|      7|             1521|        1520|           -1|   false|    false|               null|            null|          null|         null|               null|         null|2015-09-23|25770091026|AA100011551521|\n",
      "|2015|    9| 24|          4|     AA|         1000|     N4XDAA|           DFW|                TPA|               1155|          1153|             -2|      15|      1208|           146|         138|     120|     929|     1508|      3|             1521|        1511|          -10|   false|    false|               null|            null|          null|         null|               null|         null|2015-09-24|25770107247|AA100011551521|\n",
      "|2015|    9| 25|          5|     AA|         1000|     N202AA|           DFW|                TPA|               1155|          1158|              3|      15|      1213|           146|         140|     120|     929|     1513|      5|             1521|        1518|           -3|   false|    false|               null|            null|          null|         null|               null|         null|2015-09-25|25770123840|AA100011551521|\n",
      "|2015|    9| 26|          6|     AA|         1000|     N586AA|           DFW|                TPA|               1155|          1149|             -6|      13|      1202|           146|         133|     117|     929|     1459|      3|             1521|        1502|          -19|   false|    false|               null|            null|          null|         null|               null|         null|2015-09-26|25770139269|AA100011551521|\n",
      "|2015|    9| 27|          7|     AA|         1000|     N424AA|           DFW|                TPA|               1155|          1152|             -3|      17|      1209|           146|         147|     127|     929|     1516|      3|             1521|        1519|           -2|   false|    false|               null|            null|          null|         null|               null|         null|2015-09-27|25770152281|AA100011551521|\n",
      "|2015|    9| 28|          1|     AA|         1000|     N482AA|           DFW|                TPA|               1155|          1150|             -5|      12|      1202|           146|         159|     141|     929|     1523|      6|             1521|        1529|            8|   false|    false|               null|            null|          null|         null|               null|         null|2015-09-28|25770168896|AA100011551521|\n",
      "|2015|    9| 29|          2|     AA|         1000|     N513AA|           DFW|                TPA|               1155|          1153|             -2|      17|      1210|           146|         137|     116|     929|     1506|      4|             1521|        1510|          -11|   false|    false|               null|            null|          null|         null|               null|         null|2015-09-29|25770185199|AA100011551521|\n",
      "|2015|    9| 30|          3|     AA|         1000|     N4WMAA|           DFW|                TPA|               1155|          1148|             -7|      13|      1201|           146|         135|     119|     929|     1500|      3|             1521|        1503|          -18|   false|    false|               null|            null|          null|         null|               null|         null|2015-09-30|25770201148|AA100011551521|\n",
      "|2015|   10|  1|          4|     AA|         1000|     N4XUAA|         11298|              15304|               1155|          1157|              2|      20|      1217|           146|         141|     117|     929|     1514|      4|             1521|        1518|           -3|   false|    false|               null|            null|          null|         null|               null|         null|2015-10-01|25770217566|AA100011551521|\n",
      "|2015|   10|  2|          5|     AA|         1000|     N4XJAA|         11298|              15304|               1155|          1150|             -5|      13|      1203|           146|         143|     126|     929|     1509|      4|             1521|        1513|           -8|   false|    false|               null|            null|          null|         null|               null|         null|2015-10-02|25770234184|AA100011551521|\n",
      "|2015|   10|  3|          6|     AA|         1000|     N564AA|         11298|              15304|               1155|          1154|             -1|      12|      1206|           146|         131|     116|     929|     1502|      3|             1521|        1505|          -16|   false|    false|               null|            null|          null|         null|               null|         null|2015-10-03|25770249656|AA100011551521|\n",
      "|2015|   10|  4|          7|     AA|         1000|     N4YTAA|         11298|              15304|               1155|          1152|             -3|      16|      1208|           146|         139|     119|     929|     1507|      4|             1521|        1511|          -10|   false|    false|               null|            null|          null|         null|               null|         null|2015-10-04|25770262641|AA100011551521|\n",
      "|2015|   10|  5|          1|     AA|         1000|     N571AA|         11298|              15304|               1155|          1153|             -2|      14|      1207|           146|         134|     116|     929|     1503|      4|             1521|        1507|          -14|   false|    false|               null|            null|          null|         null|               null|         null|2015-10-05|25770279283|AA100011551521|\n",
      "|2015|   10|  6|          2|     AA|         1000|     N567AA|         11298|              15304|               1155|          1152|             -3|      11|      1203|           146|         128|     114|     929|     1457|      3|             1521|        1500|          -21|   false|    false|               null|            null|          null|         null|               null|         null|2015-10-06|25770295635|AA100011551521|\n",
      "|2015|   10|  7|          3|     AA|         1000|     N504AA|         11298|              15304|               1155|          1154|             -1|      15|      1209|           146|         136|     118|     929|     1507|      3|             1521|        1510|          -11|   false|    false|               null|            null|          null|         null|               null|         null|2015-10-07|25770311863|AA100011551521|\n",
      "|2015|   10|  8|          4|     AA|         1000|     N482AA|         11298|              15304|               1155|          1152|             -3|       9|      1201|           146|         133|     121|     929|     1502|      3|             1521|        1505|          -16|   false|    false|               null|            null|          null|         null|               null|         null|2015-10-08|25770328338|AA100011551521|\n",
      "|2015|   10|  9|          5|     AA|         1000|     N581AA|         11298|              15304|               1155|          1206|             11|      23|      1229|           146|         141|     115|     929|     1524|      3|             1521|        1527|            6|   false|    false|               null|            null|          null|         null|               null|         null|2015-10-09|25770345013|AA100011551521|\n",
      "|2015|   10| 10|          6|     AA|         1000|     N4XXAA|         11298|              15304|               1155|          1212|             17|      17|      1229|           146|         133|     113|     929|     1522|      3|             1521|        1525|            4|   false|    false|               null|            null|          null|         null|               null|         null|2015-10-10|25770360497|AA100011551521|\n",
      "|2015|   10| 11|          7|     AA|         1000|     N426AA|         11298|              15304|               1155|          1152|             -3|      10|      1202|           146|         132|     119|     929|     1501|      3|             1521|        1504|          -17|   false|    false|               null|            null|          null|         null|               null|         null|2015-10-11|25770373649|AA100011551521|\n",
      "|2015|   10| 12|          1|     AA|         1000|     N493AA|         11298|              15304|               1155|          1153|             -2|      17|      1210|           146|         134|     113|     929|     1503|      4|             1521|        1507|          -14|   false|    false|               null|            null|          null|         null|               null|         null|2015-10-12|25770390245|AA100011551521|\n",
      "|2015|   10| 13|          2|     AA|         1000|     N4XBAA|         11298|              15304|               1155|          1219|             24|      16|      1235|           146|         134|     114|     929|     1529|      4|             1521|        1533|           12|   false|    false|               null|            null|          null|         null|               null|         null|2015-10-13|25770406630|AA100011551521|\n",
      "|2015|   10| 14|          3|     AA|         1000|     N550AA|         11298|              15304|               1155|          1242|             47|      13|      1255|           146|         132|     116|     929|     1551|      3|             1521|        1554|           33|   false|    false|               null|               0|             0|           33|                  0|            0|2015-10-14|25770422859|AA100011551521|\n",
      "|2015|   10| 15|          4|     AA|         1000|     N503AA|         11298|              15304|               1155|          1153|             -2|      11|      1204|           146|         137|     122|     929|     1506|      4|             1521|        1510|          -11|   false|    false|               null|            null|          null|         null|               null|         null|2015-10-15|25770439325|AA100011551521|\n",
      "|2015|   10| 16|          5|     AA|         1000|     N569AA|         11298|              15304|               1155|          1154|             -1|      13|      1207|           146|         134|     119|     929|     1506|      2|             1521|        1508|          -13|   false|    false|               null|            null|          null|         null|               null|         null|2015-10-16|25770456005|AA100011551521|\n",
      "|2015|   10| 17|          6|     AA|         1000|     N4WTAA|         11298|              15304|               1155|          1148|             -7|      11|      1159|           146|         129|     115|     929|     1454|      3|             1521|        1457|          -24|   false|    false|               null|            null|          null|         null|               null|         null|2015-10-17|25770471388|AA100011551521|\n",
      "|2015|   10| 18|          7|     AA|         1000|     N434AA|         11298|              15304|               1155|          1148|             -7|      11|      1159|           146|         131|     116|     929|     1455|      4|             1521|        1459|          -22|   false|    false|               null|            null|          null|         null|               null|         null|2015-10-18|25770484504|AA100011551521|\n",
      "|2015|   10| 19|          1|     AA|         1000|     N585AA|         11298|              15304|               1155|          1150|             -5|      13|      1203|           146|         139|     121|     929|     1504|      5|             1521|        1509|          -12|   false|    false|               null|            null|          null|         null|               null|         null|2015-10-19|25770501152|AA100011551521|\n",
      "|2015|   10| 20|          2|     AA|         1000|     N470AA|         11298|              15304|               1155|          1201|              6|      16|      1217|           146|         136|     116|     929|     1513|      4|             1521|        1517|           -4|   false|    false|               null|            null|          null|         null|               null|         null|2015-10-20|25770517515|AA100011551521|\n",
      "|2015|   10| 21|          3|     AA|         1000|     N514AA|         11298|              15304|               1155|          1151|             -4|      12|      1203|           146|         128|     113|     929|     1456|      3|             1521|        1459|          -22|   false|    false|               null|            null|          null|         null|               null|         null|2015-10-21|25770533729|AA100011551521|\n",
      "|2015|   10| 22|          4|     AA|         1000|     N514AA|         11298|              15304|               1155|          1156|              1|      10|      1206|           146|         132|     118|     929|     1504|      4|             1521|        1508|          -13|   false|    false|               null|            null|          null|         null|               null|         null|2015-10-22|25770550197|AA100011551521|\n",
      "|2015|   10| 23|          5|     AA|         1000|     N4XCAA|         11298|              15304|               1155|          1646|            291|      74|      1800|           146|         217|     140|     929|     2120|      3|             1521|        2123|          362|   false|    false|               null|              71|             0|            0|                225|           66|2015-10-23|25770566802|AA100011551521|\n",
      "|2015|   10| 24|          6|     AA|         1000|     N473AA|         11298|              15304|               1155|          1158|              3|      12|      1210|           146|         136|     118|     929|     1508|      6|             1521|        1514|           -7|   false|    false|               null|            null|          null|         null|               null|         null|2015-10-24|25770582239|AA100011551521|\n",
      "|2015|   10| 25|          7|     AA|         1000|     N494AA|         11298|              15304|               1155|          1153|             -2|      13|      1206|           146|         135|     117|     929|     1503|      5|             1521|        1508|          -13|   false|    false|               null|            null|          null|         null|               null|         null|2015-10-25|25770595374|AA100011551521|\n",
      "|2015|   10| 26|          1|     AA|         1000|     N4XLAA|         11298|              15304|               1155|          1203|              8|      19|      1222|           146|         171|     148|     929|     1550|      4|             1521|        1554|           33|   false|    false|               null|              25|             0|            8|                  0|            0|2015-10-26|25770611897|AA100011551521|\n",
      "|2015|   10| 27|          2|     AA|         1000|     N4YBAA|         11298|              15304|               1155|          1150|             -5|      17|      1207|           146|         140|     119|     929|     1506|      4|             1521|        1510|          -11|   false|    false|               null|            null|          null|         null|               null|         null|2015-10-27|25770627969|AA100011551521|\n",
      "|2015|   10| 28|          3|     AA|         1000|     N426AA|         11298|              15304|               1155|          1400|            125|      14|      1414|           146|         125|     108|     929|     1702|      3|             1521|        1705|          104|   false|    false|               null|               0|             0|          104|                  0|            0|2015-10-28|25770643532|AA100011551521|\n",
      "|2015|   10| 29|          4|     AA|         1000|     N493AA|         11298|              15304|               1155|          1150|             -5|      20|      1210|           146|         134|     110|     929|     1500|      4|             1521|        1504|          -17|   false|    false|               null|            null|          null|         null|               null|         null|2015-10-29|25770659520|AA100011551521|\n",
      "|2015|   10| 30|          5|     AA|         1000|     N467AA|         11298|              15304|               1155|          1205|             10|      21|      1226|           146|         138|     113|     929|     1519|      4|             1521|        1523|            2|   false|    false|               null|            null|          null|         null|               null|         null|2015-10-30|25770675833|AA100011551521|\n",
      "|2015|   10| 31|          6|     AA|         1000|     N571AA|         11298|              15304|               1155|          1150|             -5|      11|      1201|           146|         140|     126|     929|     1507|      3|             1521|        1510|          -11|   false|    false|               null|            null|          null|         null|               null|         null|2015-10-31|25770690633|AA100011551521|\n",
      "|2015|   11|  1|          7|     AA|         1000|     N437AA|           DFW|                TPA|               1155|          1231|             36|      14|      1245|           146|         137|     120|     929|     1545|      3|             1521|        1548|           27|   false|    false|               null|               0|             0|           27|                  0|            0|2015-11-01|25770702796|AA100011551521|\n",
      "|2015|   11|  2|          1|     AA|         1000|     N487AA|           DFW|                TPA|               1155|          1233|             38|      23|      1256|           146|         143|     117|     929|     1553|      3|             1521|        1556|           35|   false|    false|               null|               0|             0|            0|                 33|            2|2015-11-02|25770719355|AA100011551521|\n",
      "|2015|   11|  3|          2|     AA|         1000|     N4UCAA|           DFW|                TPA|               1155|          1200|              5|      10|      1210|           146|         131|     117|     929|     1507|      4|             1521|        1511|          -10|   false|    false|               null|            null|          null|         null|               null|         null|2015-11-03|25770735670|AA100011551521|\n",
      "|2015|   11|  4|          3|     AA|         1000|     N4UBAA|           DFW|                TPA|               1155|          1208|             13|      36|      1244|           146|         165|     123|     929|     1547|      6|             1521|        1553|           32|   false|    false|               null|              19|             0|            4|                  9|            0|2015-11-04|25770751725|AA100011551521|\n",
      "+----+-----+---+-----------+-------+-------------+-----------+--------------+-------------------+-------------------+--------------+---------------+--------+----------+--------------+------------+--------+--------+---------+-------+-----------------+------------+-------------+--------+---------+-------------------+----------------+--------------+-------------+-------------------+-------------+----------+-----------+--------------+\n",
      "\n"
     ]
    }
   ],
   "source": [
    "df.where(col('FLIGHT_ID') == 'AA100011551521').show(100)"
   ]
  },
  {
   "cell_type": "code",
   "execution_count": 90,
   "metadata": {},
   "outputs": [
    {
     "name": "stdout",
     "output_type": "stream",
     "text": [
      "+---------+-------+-------------+--------------+-------------------+-------------------+--------------+-----------------+\n",
      "|FLIGHT_ID|AIRLINE|FLIGHT_NUMBER|ORIGIN_AIRPORT|DESTINATION_AIRPORT|SCHEDULED_DEPARTURE|SCHEDULED_TIME|SCHEDULED_ARRIVAL|\n",
      "+---------+-------+-------------+--------------+-------------------+-------------------+--------------+-----------------+\n",
      "+---------+-------+-------------+--------------+-------------------+-------------------+--------------+-----------------+\n",
      "\n"
     ]
    }
   ],
   "source": [
    "schedule_table.where(F.length('ORIGIN_AIRPORT') > 10).orderBy('FLIGHT_ID').show(50)"
   ]
  },
  {
   "cell_type": "code",
   "execution_count": 154,
   "metadata": {},
   "outputs": [
    {
     "name": "stdout",
     "output_type": "stream",
     "text": [
      "+--------------+--------------+-------------------+-----+\n",
      "|     FLIGHT_ID|ORIGIN_AIRPORT|DESTINATION_AIRPORT|count|\n",
      "+--------------+--------------+-------------------+-----+\n",
      "|WN440908351005|         13796|              14679|    1|\n",
      "|MQ348416081741|         11140|              11298|    1|\n",
      "|  WN4716351725|         13851|              11259|    1|\n",
      "|OO740213471503|         11587|              11433|    1|\n",
      "|OO482513101417|         11898|              13487|    1|\n",
      "|DL179222300427|         14679|              10397|    1|\n",
      "| WN26613301540|         13232|              11042|    1|\n",
      "|  B64910261300|         10721|              14685|    1|\n",
      "| B629810041238|         13204|              12953|    1|\n",
      "|B6124822450636|         12889|              12478|    1|\n",
      "| B649011311253|         11278|              10721|    1|\n",
      "|UA126819302331|         12266|              10821|    1|\n",
      "|DL155210091238|         14057|              12892|    1|\n",
      "|OO651208251149|         12892|              11109|    1|\n",
      "|DL256606351216|         14771|              13487|    1|\n",
      "|DL226713412052|         14679|              10397|    1|\n",
      "|WN473506400905|         14747|              12889|    1|\n",
      "| UA34817061814|         13487|              11292|    1|\n",
      "|B6142606300749|         10821|              10721|    1|\n",
      "| UA77306520835|         14122|              11292|    1|\n",
      "+--------------+--------------+-------------------+-----+\n",
      "only showing top 20 rows\n",
      "\n"
     ]
    }
   ],
   "source": [
    "schedule_table.groupBy('FLIGHT_ID','ORIGIN_AIRPORT','DESTINATION_AIRPORT').count().filter(col('ORIGIN_AIRPORT').rlike(\"^[0-9]*$\")).show()"
   ]
  },
  {
   "cell_type": "code",
   "execution_count": null,
   "metadata": {},
   "outputs": [
    {
     "name": "stdout",
     "output_type": "stream",
     "text": [
      "df ID column unique values test: True\n",
      "df FLIGHT_ID column unique values test: False\n",
      "df IATA_CODE column unique values test: True\n",
      "df IATA_CODE column unique values test: True\n",
      "df ID column unique values test: True\n",
      "df DATE column unique values test: True\n"
     ]
    }
   ],
   "source": [
    "test_is_unique()"
   ]
  },
  {
   "cell_type": "markdown",
   "metadata": {},
   "source": [
    "#### 4.3 Data dictionary \n",
    "Create a data dictionary for your data model. For each field, provide a brief description of what the data is and where it came from. You can include the data dictionary in the notebook or in a separate file."
   ]
  },
  {
   "cell_type": "markdown",
   "metadata": {},
   "source": [
    "#### Step 5: Complete Project Write Up\n",
    "* Clearly state the rationale for the choice of tools and technologies for the project.\n",
    "* Propose how often the data should be updated and why.\n",
    "* Write a description of how you would approach the problem differently under the following scenarios:\n",
    " * The data was increased by 100x.\n",
    " * The data populates a dashboard that must be updated on a daily basis by 7am every day.\n",
    " * The database needed to be accessed by 100+ people."
   ]
  },
  {
   "cell_type": "code",
   "execution_count": null,
   "metadata": {},
   "outputs": [],
   "source": []
  },
  {
   "cell_type": "code",
   "execution_count": null,
   "metadata": {},
   "outputs": [],
   "source": []
  },
  {
   "cell_type": "code",
   "execution_count": null,
   "metadata": {},
   "outputs": [],
   "source": []
  },
  {
   "cell_type": "code",
   "execution_count": null,
   "metadata": {},
   "outputs": [],
   "source": []
  },
  {
   "cell_type": "code",
   "execution_count": null,
   "metadata": {},
   "outputs": [],
   "source": []
  },
  {
   "cell_type": "code",
   "execution_count": null,
   "metadata": {},
   "outputs": [],
   "source": []
  }
 ],
 "metadata": {
  "kernelspec": {
   "display_name": "Python 3",
   "language": "python",
   "name": "python3"
  },
  "language_info": {
   "codemirror_mode": {
    "name": "ipython",
    "version": 3
   },
   "file_extension": ".py",
   "mimetype": "text/x-python",
   "name": "python",
   "nbconvert_exporter": "python",
   "pygments_lexer": "ipython3",
   "version": "3.12.1"
  }
 },
 "nbformat": 4,
 "nbformat_minor": 4
}
