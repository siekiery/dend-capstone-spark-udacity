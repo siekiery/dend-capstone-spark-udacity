{
 "cells": [
  {
   "cell_type": "markdown",
   "metadata": {},
   "source": [
    "# Project Title\n",
    "### Data Engineering Capstone Project\n",
    "\n",
    "#### Project Summary\n",
    "--describe your project at a high level--\n",
    "\n",
    "The project follows the follow steps:\n",
    "* Step 1: Scope the Project and Gather Data\n",
    "* Step 2: Explore and Assess the Data\n",
    "* Step 3: Define the Data Model\n",
    "* Step 4: Run ETL to Model the Data\n",
    "* Step 5: Complete Project Write Up"
   ]
  },
  {
   "cell_type": "code",
   "execution_count": 86,
   "metadata": {},
   "outputs": [],
   "source": [
    "# Do all imports and installs here\n",
    "import pandas as pd\n",
    "from pyspark.sql import SparkSession\n",
    "import pyspark.sql.functions as F\n",
    "from pyspark.sql.functions import col\n",
    "from pyspark.sql.window import Window"
   ]
  },
  {
   "cell_type": "markdown",
   "metadata": {},
   "source": [
    "#### Function definitions"
   ]
  },
  {
   "cell_type": "code",
   "execution_count": 2,
   "metadata": {},
   "outputs": [],
   "source": [
    "def missing_values_count(df):\n",
    "    return df.select([F.count(F.when(F.isnan(c) | F.col(c).isNull(), c)).alias(c) for c in df.columns]).show()"
   ]
  },
  {
   "cell_type": "markdown",
   "metadata": {},
   "source": [
    "### Step 1: Scope the Project and Gather Data\n",
    "\n",
    "#### Scope \n",
    "Explain what you plan to do in the project in more detail. What data do you use? What is your end solution look like? What tools did you use? etc>\n",
    "\n",
    "#### Describe and Gather Data \n",
    "Describe the data sets you're using. Where did it come from? What type of information is included? "
   ]
  },
  {
   "cell_type": "code",
   "execution_count": 3,
   "metadata": {},
   "outputs": [],
   "source": [
    "# Start a Spark Session\n",
    "spark = SparkSession.builder \\\n",
    "    .appName(\"InterviewChallenge\") \\\n",
    "    .master(\"local[2]\") \\\n",
    "    .getOrCreate()\n",
    "\n",
    "#     .config(\"spark.executor.memory\", \"2g\") \\"
   ]
  },
  {
   "cell_type": "code",
   "execution_count": 48,
   "metadata": {},
   "outputs": [],
   "source": [
    "# Read input data to spark dataframe\n",
    "flights_path = 'Data/flights.csv' \n",
    "airlines_path = 'Data/airlines.csv'\n",
    "airports_path = 'Data/airports.csv'\n",
    "\n",
    "df = spark.read.options(header=True).csv(flights_path)  # main dataset with flights data\n",
    "# df = spark.read.options(header=True, inferSchema=True).csv(flights_path)  # main dataset with flights data\n",
    "airlines_df = spark.read.options(header=True, inferSchema=True).csv(airlines_path)  # data dict with airlines\n",
    "airports_df = spark.read.options(header=True, inferSchema=True).csv(airports_path)  # data dict with airports"
   ]
  },
  {
   "cell_type": "code",
   "execution_count": 5,
   "metadata": {},
   "outputs": [
    {
     "name": "stdout",
     "output_type": "stream",
     "text": [
      "root\n",
      " |-- YEAR: string (nullable = true)\n",
      " |-- MONTH: string (nullable = true)\n",
      " |-- DAY: string (nullable = true)\n",
      " |-- DAY_OF_WEEK: string (nullable = true)\n",
      " |-- AIRLINE: string (nullable = true)\n",
      " |-- FLIGHT_NUMBER: string (nullable = true)\n",
      " |-- TAIL_NUMBER: string (nullable = true)\n",
      " |-- ORIGIN_AIRPORT: string (nullable = true)\n",
      " |-- DESTINATION_AIRPORT: string (nullable = true)\n",
      " |-- SCHEDULED_DEPARTURE: string (nullable = true)\n",
      " |-- DEPARTURE_TIME: string (nullable = true)\n",
      " |-- DEPARTURE_DELAY: string (nullable = true)\n",
      " |-- TAXI_OUT: string (nullable = true)\n",
      " |-- WHEELS_OFF: string (nullable = true)\n",
      " |-- SCHEDULED_TIME: string (nullable = true)\n",
      " |-- ELAPSED_TIME: string (nullable = true)\n",
      " |-- AIR_TIME: string (nullable = true)\n",
      " |-- DISTANCE: string (nullable = true)\n",
      " |-- WHEELS_ON: string (nullable = true)\n",
      " |-- TAXI_IN: string (nullable = true)\n",
      " |-- SCHEDULED_ARRIVAL: string (nullable = true)\n",
      " |-- ARRIVAL_TIME: string (nullable = true)\n",
      " |-- ARRIVAL_DELAY: string (nullable = true)\n",
      " |-- DIVERTED: string (nullable = true)\n",
      " |-- CANCELLED: string (nullable = true)\n",
      " |-- CANCELLATION_REASON: string (nullable = true)\n",
      " |-- AIR_SYSTEM_DELAY: string (nullable = true)\n",
      " |-- SECURITY_DELAY: string (nullable = true)\n",
      " |-- AIRLINE_DELAY: string (nullable = true)\n",
      " |-- LATE_AIRCRAFT_DELAY: string (nullable = true)\n",
      " |-- WEATHER_DELAY: string (nullable = true)\n",
      "\n"
     ]
    }
   ],
   "source": [
    "df.printSchema()"
   ]
  },
  {
   "cell_type": "code",
   "execution_count": 6,
   "metadata": {},
   "outputs": [
    {
     "data": {
      "text/html": [
       "<div>\n",
       "<style scoped>\n",
       "    .dataframe tbody tr th:only-of-type {\n",
       "        vertical-align: middle;\n",
       "    }\n",
       "\n",
       "    .dataframe tbody tr th {\n",
       "        vertical-align: top;\n",
       "    }\n",
       "\n",
       "    .dataframe thead th {\n",
       "        text-align: right;\n",
       "    }\n",
       "</style>\n",
       "<table border=\"1\" class=\"dataframe\">\n",
       "  <thead>\n",
       "    <tr style=\"text-align: right;\">\n",
       "      <th></th>\n",
       "      <th>Column</th>\n",
       "      <th>Dtype</th>\n",
       "    </tr>\n",
       "  </thead>\n",
       "  <tbody>\n",
       "    <tr>\n",
       "      <th>0</th>\n",
       "      <td>YEAR</td>\n",
       "      <td>string</td>\n",
       "    </tr>\n",
       "    <tr>\n",
       "      <th>1</th>\n",
       "      <td>MONTH</td>\n",
       "      <td>string</td>\n",
       "    </tr>\n",
       "    <tr>\n",
       "      <th>2</th>\n",
       "      <td>DAY</td>\n",
       "      <td>string</td>\n",
       "    </tr>\n",
       "    <tr>\n",
       "      <th>3</th>\n",
       "      <td>DAY_OF_WEEK</td>\n",
       "      <td>string</td>\n",
       "    </tr>\n",
       "    <tr>\n",
       "      <th>4</th>\n",
       "      <td>AIRLINE</td>\n",
       "      <td>string</td>\n",
       "    </tr>\n",
       "    <tr>\n",
       "      <th>5</th>\n",
       "      <td>FLIGHT_NUMBER</td>\n",
       "      <td>string</td>\n",
       "    </tr>\n",
       "    <tr>\n",
       "      <th>6</th>\n",
       "      <td>TAIL_NUMBER</td>\n",
       "      <td>string</td>\n",
       "    </tr>\n",
       "    <tr>\n",
       "      <th>7</th>\n",
       "      <td>ORIGIN_AIRPORT</td>\n",
       "      <td>string</td>\n",
       "    </tr>\n",
       "    <tr>\n",
       "      <th>8</th>\n",
       "      <td>DESTINATION_AIRPORT</td>\n",
       "      <td>string</td>\n",
       "    </tr>\n",
       "    <tr>\n",
       "      <th>9</th>\n",
       "      <td>SCHEDULED_DEPARTURE</td>\n",
       "      <td>string</td>\n",
       "    </tr>\n",
       "    <tr>\n",
       "      <th>10</th>\n",
       "      <td>DEPARTURE_TIME</td>\n",
       "      <td>string</td>\n",
       "    </tr>\n",
       "    <tr>\n",
       "      <th>11</th>\n",
       "      <td>DEPARTURE_DELAY</td>\n",
       "      <td>string</td>\n",
       "    </tr>\n",
       "    <tr>\n",
       "      <th>12</th>\n",
       "      <td>TAXI_OUT</td>\n",
       "      <td>string</td>\n",
       "    </tr>\n",
       "    <tr>\n",
       "      <th>13</th>\n",
       "      <td>WHEELS_OFF</td>\n",
       "      <td>string</td>\n",
       "    </tr>\n",
       "    <tr>\n",
       "      <th>14</th>\n",
       "      <td>SCHEDULED_TIME</td>\n",
       "      <td>string</td>\n",
       "    </tr>\n",
       "    <tr>\n",
       "      <th>15</th>\n",
       "      <td>ELAPSED_TIME</td>\n",
       "      <td>string</td>\n",
       "    </tr>\n",
       "    <tr>\n",
       "      <th>16</th>\n",
       "      <td>AIR_TIME</td>\n",
       "      <td>string</td>\n",
       "    </tr>\n",
       "    <tr>\n",
       "      <th>17</th>\n",
       "      <td>DISTANCE</td>\n",
       "      <td>string</td>\n",
       "    </tr>\n",
       "    <tr>\n",
       "      <th>18</th>\n",
       "      <td>WHEELS_ON</td>\n",
       "      <td>string</td>\n",
       "    </tr>\n",
       "    <tr>\n",
       "      <th>19</th>\n",
       "      <td>TAXI_IN</td>\n",
       "      <td>string</td>\n",
       "    </tr>\n",
       "    <tr>\n",
       "      <th>20</th>\n",
       "      <td>SCHEDULED_ARRIVAL</td>\n",
       "      <td>string</td>\n",
       "    </tr>\n",
       "    <tr>\n",
       "      <th>21</th>\n",
       "      <td>ARRIVAL_TIME</td>\n",
       "      <td>string</td>\n",
       "    </tr>\n",
       "    <tr>\n",
       "      <th>22</th>\n",
       "      <td>ARRIVAL_DELAY</td>\n",
       "      <td>string</td>\n",
       "    </tr>\n",
       "    <tr>\n",
       "      <th>23</th>\n",
       "      <td>DIVERTED</td>\n",
       "      <td>string</td>\n",
       "    </tr>\n",
       "    <tr>\n",
       "      <th>24</th>\n",
       "      <td>CANCELLED</td>\n",
       "      <td>string</td>\n",
       "    </tr>\n",
       "    <tr>\n",
       "      <th>25</th>\n",
       "      <td>CANCELLATION_REASON</td>\n",
       "      <td>string</td>\n",
       "    </tr>\n",
       "    <tr>\n",
       "      <th>26</th>\n",
       "      <td>AIR_SYSTEM_DELAY</td>\n",
       "      <td>string</td>\n",
       "    </tr>\n",
       "    <tr>\n",
       "      <th>27</th>\n",
       "      <td>SECURITY_DELAY</td>\n",
       "      <td>string</td>\n",
       "    </tr>\n",
       "    <tr>\n",
       "      <th>28</th>\n",
       "      <td>AIRLINE_DELAY</td>\n",
       "      <td>string</td>\n",
       "    </tr>\n",
       "    <tr>\n",
       "      <th>29</th>\n",
       "      <td>LATE_AIRCRAFT_DELAY</td>\n",
       "      <td>string</td>\n",
       "    </tr>\n",
       "    <tr>\n",
       "      <th>30</th>\n",
       "      <td>WEATHER_DELAY</td>\n",
       "      <td>string</td>\n",
       "    </tr>\n",
       "  </tbody>\n",
       "</table>\n",
       "</div>"
      ],
      "text/plain": [
       "                 Column   Dtype\n",
       "0                  YEAR  string\n",
       "1                 MONTH  string\n",
       "2                   DAY  string\n",
       "3           DAY_OF_WEEK  string\n",
       "4               AIRLINE  string\n",
       "5         FLIGHT_NUMBER  string\n",
       "6           TAIL_NUMBER  string\n",
       "7        ORIGIN_AIRPORT  string\n",
       "8   DESTINATION_AIRPORT  string\n",
       "9   SCHEDULED_DEPARTURE  string\n",
       "10       DEPARTURE_TIME  string\n",
       "11      DEPARTURE_DELAY  string\n",
       "12             TAXI_OUT  string\n",
       "13           WHEELS_OFF  string\n",
       "14       SCHEDULED_TIME  string\n",
       "15         ELAPSED_TIME  string\n",
       "16             AIR_TIME  string\n",
       "17             DISTANCE  string\n",
       "18            WHEELS_ON  string\n",
       "19              TAXI_IN  string\n",
       "20    SCHEDULED_ARRIVAL  string\n",
       "21         ARRIVAL_TIME  string\n",
       "22        ARRIVAL_DELAY  string\n",
       "23             DIVERTED  string\n",
       "24            CANCELLED  string\n",
       "25  CANCELLATION_REASON  string\n",
       "26     AIR_SYSTEM_DELAY  string\n",
       "27       SECURITY_DELAY  string\n",
       "28        AIRLINE_DELAY  string\n",
       "29  LATE_AIRCRAFT_DELAY  string\n",
       "30        WEATHER_DELAY  string"
      ]
     },
     "execution_count": 6,
     "metadata": {},
     "output_type": "execute_result"
    }
   ],
   "source": [
    "# DTypes in pd formatting\n",
    "pd.DataFrame(df.dtypes, columns=['Column', 'Dtype'])"
   ]
  },
  {
   "cell_type": "code",
   "execution_count": 7,
   "metadata": {},
   "outputs": [
    {
     "name": "stdout",
     "output_type": "stream",
     "text": [
      "+----+-----+---+-----------+-------+-------------+-----------+--------------+-------------------+-------------------+--------------+---------------+--------+----------+--------------+------------+--------+--------+---------+-------+-----------------+------------+-------------+--------+---------+-------------------+----------------+--------------+-------------+-------------------+-------------+\n",
      "|YEAR|MONTH|DAY|DAY_OF_WEEK|AIRLINE|FLIGHT_NUMBER|TAIL_NUMBER|ORIGIN_AIRPORT|DESTINATION_AIRPORT|SCHEDULED_DEPARTURE|DEPARTURE_TIME|DEPARTURE_DELAY|TAXI_OUT|WHEELS_OFF|SCHEDULED_TIME|ELAPSED_TIME|AIR_TIME|DISTANCE|WHEELS_ON|TAXI_IN|SCHEDULED_ARRIVAL|ARRIVAL_TIME|ARRIVAL_DELAY|DIVERTED|CANCELLED|CANCELLATION_REASON|AIR_SYSTEM_DELAY|SECURITY_DELAY|AIRLINE_DELAY|LATE_AIRCRAFT_DELAY|WEATHER_DELAY|\n",
      "+----+-----+---+-----------+-------+-------------+-----------+--------------+-------------------+-------------------+--------------+---------------+--------+----------+--------------+------------+--------+--------+---------+-------+-----------------+------------+-------------+--------+---------+-------------------+----------------+--------------+-------------+-------------------+-------------+\n",
      "|2015|    1|  1|          4|     AS|           98|     N407AS|           ANC|                SEA|               0005|          2354|            -11|      21|      0015|           205|         194|     169|    1448|     0404|      4|             0430|        0408|          -22|       0|        0|               null|            null|          null|         null|               null|         null|\n",
      "|2015|    1|  1|          4|     AA|         2336|     N3KUAA|           LAX|                PBI|               0010|          0002|             -8|      12|      0014|           280|         279|     263|    2330|     0737|      4|             0750|        0741|           -9|       0|        0|               null|            null|          null|         null|               null|         null|\n",
      "|2015|    1|  1|          4|     US|          840|     N171US|           SFO|                CLT|               0020|          0018|             -2|      16|      0034|           286|         293|     266|    2296|     0800|     11|             0806|        0811|            5|       0|        0|               null|            null|          null|         null|               null|         null|\n",
      "|2015|    1|  1|          4|     AA|          258|     N3HYAA|           LAX|                MIA|               0020|          0015|             -5|      15|      0030|           285|         281|     258|    2342|     0748|      8|             0805|        0756|           -9|       0|        0|               null|            null|          null|         null|               null|         null|\n",
      "|2015|    1|  1|          4|     AS|          135|     N527AS|           SEA|                ANC|               0025|          0024|             -1|      11|      0035|           235|         215|     199|    1448|     0254|      5|             0320|        0259|          -21|       0|        0|               null|            null|          null|         null|               null|         null|\n",
      "|2015|    1|  1|          4|     DL|          806|     N3730B|           SFO|                MSP|               0025|          0020|             -5|      18|      0038|           217|         230|     206|    1589|     0604|      6|             0602|        0610|            8|       0|        0|               null|            null|          null|         null|               null|         null|\n",
      "|2015|    1|  1|          4|     NK|          612|     N635NK|           LAS|                MSP|               0025|          0019|             -6|      11|      0030|           181|         170|     154|    1299|     0504|      5|             0526|        0509|          -17|       0|        0|               null|            null|          null|         null|               null|         null|\n",
      "|2015|    1|  1|          4|     US|         2013|     N584UW|           LAX|                CLT|               0030|          0044|             14|      13|      0057|           273|         249|     228|    2125|     0745|      8|             0803|        0753|          -10|       0|        0|               null|            null|          null|         null|               null|         null|\n",
      "|2015|    1|  1|          4|     AA|         1112|     N3LAAA|           SFO|                DFW|               0030|          0019|            -11|      17|      0036|           195|         193|     173|    1464|     0529|      3|             0545|        0532|          -13|       0|        0|               null|            null|          null|         null|               null|         null|\n",
      "|2015|    1|  1|          4|     DL|         1173|     N826DN|           LAS|                ATL|               0030|          0033|              3|      12|      0045|           221|         203|     186|    1747|     0651|      5|             0711|        0656|          -15|       0|        0|               null|            null|          null|         null|               null|         null|\n",
      "|2015|    1|  1|          4|     DL|         2336|     N958DN|           DEN|                ATL|               0030|          0024|             -6|      12|      0036|           173|         149|     133|    1199|     0449|      4|             0523|        0453|          -30|       0|        0|               null|            null|          null|         null|               null|         null|\n",
      "|2015|    1|  1|          4|     AA|         1674|     N853AA|           LAS|                MIA|               0035|          0027|             -8|      21|      0048|           268|         266|     238|    2174|     0746|      7|             0803|        0753|          -10|       0|        0|               null|            null|          null|         null|               null|         null|\n",
      "|2015|    1|  1|          4|     DL|         1434|     N547US|           LAX|                MSP|               0035|          0035|              0|      18|      0053|           214|         210|     188|    1535|     0601|      4|             0609|        0605|           -4|       0|        0|               null|            null|          null|         null|               null|         null|\n",
      "|2015|    1|  1|          4|     DL|         2324|     N3751B|           SLC|                ATL|               0040|          0034|             -6|      18|      0052|           215|         199|     176|    1590|     0548|      5|             0615|        0553|          -22|       0|        0|               null|            null|          null|         null|               null|         null|\n",
      "|2015|    1|  1|          4|     DL|         2440|     N651DL|           SEA|                MSP|               0040|          0039|             -1|      28|      0107|           189|         198|     166|    1399|     0553|      4|             0549|        0557|            8|       0|        0|               null|            null|          null|         null|               null|         null|\n",
      "|2015|    1|  1|          4|     AS|          108|     N309AS|           ANC|                SEA|               0045|          0041|             -4|      17|      0058|           204|         194|     173|    1448|     0451|      4|             0509|        0455|          -14|       0|        0|               null|            null|          null|         null|               null|         null|\n",
      "|2015|    1|  1|          4|     DL|         1560|     N3743H|           ANC|                SEA|               0045|          0031|            -14|      25|      0056|           210|         200|     171|    1448|     0447|      4|             0515|        0451|          -24|       0|        0|               null|            null|          null|         null|               null|         null|\n",
      "|2015|    1|  1|          4|     UA|         1197|     N78448|           SFO|                IAH|               0048|          0042|             -6|      11|      0053|           218|         217|     199|    1635|     0612|      7|             0626|        0619|           -7|       0|        0|               null|            null|          null|         null|               null|         null|\n",
      "|2015|    1|  1|          4|     AS|          122|     N413AS|           ANC|                PDX|               0050|          0046|             -4|      11|      0057|           215|         201|     187|    1542|     0504|      3|             0525|        0507|          -18|       0|        0|               null|            null|          null|         null|               null|         null|\n",
      "|2015|    1|  1|          4|     DL|         1670|     N806DN|           PDX|                MSP|               0050|          0045|             -5|       9|      0054|           193|         186|     171|    1426|     0545|      6|             0603|        0551|          -12|       0|        0|               null|            null|          null|         null|               null|         null|\n",
      "+----+-----+---+-----------+-------+-------------+-----------+--------------+-------------------+-------------------+--------------+---------------+--------+----------+--------------+------------+--------+--------+---------+-------+-----------------+------------+-------------+--------+---------+-------------------+----------------+--------------+-------------+-------------------+-------------+\n",
      "only showing top 20 rows\n",
      "\n"
     ]
    }
   ],
   "source": [
    "df.show(20)"
   ]
  },
  {
   "cell_type": "code",
   "execution_count": 8,
   "metadata": {},
   "outputs": [
    {
     "name": "stdout",
     "output_type": "stream",
     "text": [
      "Dataframe row count:  5819079\n",
      "Dataframe columns count:  31\n"
     ]
    }
   ],
   "source": [
    "# Dataframe shape\n",
    "print(\"Dataframe row count: \", df.count())\n",
    "print(\"Dataframe columns count: \", len(df.columns))"
   ]
  },
  {
   "cell_type": "code",
   "execution_count": 9,
   "metadata": {},
   "outputs": [],
   "source": [
    "# Column statistics\n",
    "# df.describe().toPandas()"
   ]
  },
  {
   "cell_type": "code",
   "execution_count": 10,
   "metadata": {},
   "outputs": [
    {
     "name": "stdout",
     "output_type": "stream",
     "text": [
      "+----+-----+---+-----------+-------+-------------+-----------+--------------+-------------------+-------------------+--------------+---------------+--------+----------+--------------+------------+--------+--------+---------+-------+-----------------+------------+-------------+--------+---------+-------------------+----------------+--------------+-------------+-------------------+-------------+\n",
      "|YEAR|MONTH|DAY|DAY_OF_WEEK|AIRLINE|FLIGHT_NUMBER|TAIL_NUMBER|ORIGIN_AIRPORT|DESTINATION_AIRPORT|SCHEDULED_DEPARTURE|DEPARTURE_TIME|DEPARTURE_DELAY|TAXI_OUT|WHEELS_OFF|SCHEDULED_TIME|ELAPSED_TIME|AIR_TIME|DISTANCE|WHEELS_ON|TAXI_IN|SCHEDULED_ARRIVAL|ARRIVAL_TIME|ARRIVAL_DELAY|DIVERTED|CANCELLED|CANCELLATION_REASON|AIR_SYSTEM_DELAY|SECURITY_DELAY|AIRLINE_DELAY|LATE_AIRCRAFT_DELAY|WEATHER_DELAY|\n",
      "+----+-----+---+-----------+-------+-------------+-----------+--------------+-------------------+-------------------+--------------+---------------+--------+----------+--------------+------------+--------+--------+---------+-------+-----------------+------------+-------------+--------+---------+-------------------+----------------+--------------+-------------+-------------------+-------------+\n",
      "|   0|    0|  0|          0|      0|            0|      14721|             0|                  0|                  0|         86153|          86153|   89047|     89047|             6|      105071|  105071|       0|    92513|  92513|                0|       92513|       105071|       0|        0|            5729195|         4755640|       4755640|      4755640|            4755640|      4755640|\n",
      "+----+-----+---+-----------+-------+-------------+-----------+--------------+-------------------+-------------------+--------------+---------------+--------+----------+--------------+------------+--------+--------+---------+-------+-----------------+------------+-------------+--------+---------+-------------------+----------------+--------------+-------------+-------------------+-------------+\n",
      "\n"
     ]
    }
   ],
   "source": [
    "missing_values_count(df)"
   ]
  },
  {
   "cell_type": "code",
   "execution_count": null,
   "metadata": {},
   "outputs": [],
   "source": []
  },
  {
   "cell_type": "markdown",
   "metadata": {},
   "source": [
    "##### Airports data dictionary"
   ]
  },
  {
   "cell_type": "code",
   "execution_count": 11,
   "metadata": {},
   "outputs": [
    {
     "name": "stdout",
     "output_type": "stream",
     "text": [
      "root\n",
      " |-- IATA_CODE: string (nullable = true)\n",
      " |-- AIRPORT: string (nullable = true)\n",
      " |-- CITY: string (nullable = true)\n",
      " |-- STATE: string (nullable = true)\n",
      " |-- COUNTRY: string (nullable = true)\n",
      " |-- LATITUDE: double (nullable = true)\n",
      " |-- LONGITUDE: double (nullable = true)\n",
      "\n"
     ]
    }
   ],
   "source": [
    "airports_df.printSchema()"
   ]
  },
  {
   "cell_type": "code",
   "execution_count": 12,
   "metadata": {},
   "outputs": [
    {
     "data": {
      "text/html": [
       "<div>\n",
       "<style scoped>\n",
       "    .dataframe tbody tr th:only-of-type {\n",
       "        vertical-align: middle;\n",
       "    }\n",
       "\n",
       "    .dataframe tbody tr th {\n",
       "        vertical-align: top;\n",
       "    }\n",
       "\n",
       "    .dataframe thead th {\n",
       "        text-align: right;\n",
       "    }\n",
       "</style>\n",
       "<table border=\"1\" class=\"dataframe\">\n",
       "  <thead>\n",
       "    <tr style=\"text-align: right;\">\n",
       "      <th></th>\n",
       "      <th>Column</th>\n",
       "      <th>Dtype</th>\n",
       "    </tr>\n",
       "  </thead>\n",
       "  <tbody>\n",
       "    <tr>\n",
       "      <th>0</th>\n",
       "      <td>IATA_CODE</td>\n",
       "      <td>string</td>\n",
       "    </tr>\n",
       "    <tr>\n",
       "      <th>1</th>\n",
       "      <td>AIRPORT</td>\n",
       "      <td>string</td>\n",
       "    </tr>\n",
       "    <tr>\n",
       "      <th>2</th>\n",
       "      <td>CITY</td>\n",
       "      <td>string</td>\n",
       "    </tr>\n",
       "    <tr>\n",
       "      <th>3</th>\n",
       "      <td>STATE</td>\n",
       "      <td>string</td>\n",
       "    </tr>\n",
       "    <tr>\n",
       "      <th>4</th>\n",
       "      <td>COUNTRY</td>\n",
       "      <td>string</td>\n",
       "    </tr>\n",
       "    <tr>\n",
       "      <th>5</th>\n",
       "      <td>LATITUDE</td>\n",
       "      <td>double</td>\n",
       "    </tr>\n",
       "    <tr>\n",
       "      <th>6</th>\n",
       "      <td>LONGITUDE</td>\n",
       "      <td>double</td>\n",
       "    </tr>\n",
       "  </tbody>\n",
       "</table>\n",
       "</div>"
      ],
      "text/plain": [
       "      Column   Dtype\n",
       "0  IATA_CODE  string\n",
       "1    AIRPORT  string\n",
       "2       CITY  string\n",
       "3      STATE  string\n",
       "4    COUNTRY  string\n",
       "5   LATITUDE  double\n",
       "6  LONGITUDE  double"
      ]
     },
     "execution_count": 12,
     "metadata": {},
     "output_type": "execute_result"
    }
   ],
   "source": [
    "# DTypes in pd formatting\n",
    "pd.DataFrame(airports_df.dtypes, columns=['Column', 'Dtype'])"
   ]
  },
  {
   "cell_type": "code",
   "execution_count": 13,
   "metadata": {},
   "outputs": [
    {
     "name": "stdout",
     "output_type": "stream",
     "text": [
      "+---------+--------------------+-------------+-----+-------+--------+----------+\n",
      "|IATA_CODE|             AIRPORT|         CITY|STATE|COUNTRY|LATITUDE| LONGITUDE|\n",
      "+---------+--------------------+-------------+-----+-------+--------+----------+\n",
      "|      ABE|Lehigh Valley Int...|    Allentown|   PA|    USA|40.65236|  -75.4404|\n",
      "|      ABI|Abilene Regional ...|      Abilene|   TX|    USA|32.41132|  -99.6819|\n",
      "|      ABQ|Albuquerque Inter...|  Albuquerque|   NM|    USA|35.04022|-106.60919|\n",
      "|      ABR|Aberdeen Regional...|     Aberdeen|   SD|    USA|45.44906| -98.42183|\n",
      "|      ABY|Southwest Georgia...|       Albany|   GA|    USA|31.53552| -84.19447|\n",
      "|      ACK|Nantucket Memoria...|    Nantucket|   MA|    USA|41.25305| -70.06018|\n",
      "|      ACT|Waco Regional Air...|         Waco|   TX|    USA|31.61129| -97.23052|\n",
      "|      ACV|      Arcata Airport|Arcata/Eureka|   CA|    USA|40.97812|-124.10862|\n",
      "|      ACY|Atlantic City Int...|Atlantic City|   NJ|    USA|39.45758| -74.57717|\n",
      "|      ADK|        Adak Airport|         Adak|   AK|    USA|51.87796|-176.64603|\n",
      "|      ADQ|      Kodiak Airport|       Kodiak|   AK|    USA|57.74997|-152.49386|\n",
      "|      AEX|Alexandria Intern...|   Alexandria|   LA|    USA|31.32737| -92.54856|\n",
      "|      AGS|Augusta Regional ...|      Augusta|   GA|    USA|33.36996|  -81.9645|\n",
      "|      AKN| King Salmon Airport|  King Salmon|   AK|    USA| 58.6768|-156.64922|\n",
      "|      ALB|Albany Internatio...|       Albany|   NY|    USA|42.74812| -73.80298|\n",
      "|      ALO|Waterloo Regional...|     Waterloo|   IA|    USA|42.55708| -92.40034|\n",
      "|      AMA|Rick Husband Amar...|     Amarillo|   TX|    USA|35.21937|-101.70593|\n",
      "|      ANC|Ted Stevens Ancho...|    Anchorage|   AK|    USA|61.17432|-149.99619|\n",
      "|      APN|Alpena County Reg...|       Alpena|   MI|    USA|45.07807| -83.56029|\n",
      "|      ASE|Aspen-Pitkin Coun...|        Aspen|   CO|    USA|39.22316|-106.86885|\n",
      "+---------+--------------------+-------------+-----+-------+--------+----------+\n",
      "only showing top 20 rows\n",
      "\n"
     ]
    }
   ],
   "source": [
    "airports_df.show(20)"
   ]
  },
  {
   "cell_type": "code",
   "execution_count": 14,
   "metadata": {},
   "outputs": [
    {
     "name": "stdout",
     "output_type": "stream",
     "text": [
      "Dataframe row count:  322\n",
      "Dataframe columns count:  7\n"
     ]
    }
   ],
   "source": [
    "# Dataframe shape\n",
    "print(\"Dataframe row count: \", airports_df.count())\n",
    "print(\"Dataframe columns count: \", len(airports_df.columns))"
   ]
  },
  {
   "cell_type": "code",
   "execution_count": 15,
   "metadata": {},
   "outputs": [
    {
     "data": {
      "text/html": [
       "<div>\n",
       "<style scoped>\n",
       "    .dataframe tbody tr th:only-of-type {\n",
       "        vertical-align: middle;\n",
       "    }\n",
       "\n",
       "    .dataframe tbody tr th {\n",
       "        vertical-align: top;\n",
       "    }\n",
       "\n",
       "    .dataframe thead th {\n",
       "        text-align: right;\n",
       "    }\n",
       "</style>\n",
       "<table border=\"1\" class=\"dataframe\">\n",
       "  <thead>\n",
       "    <tr style=\"text-align: right;\">\n",
       "      <th></th>\n",
       "      <th>summary</th>\n",
       "      <th>IATA_CODE</th>\n",
       "      <th>AIRPORT</th>\n",
       "      <th>CITY</th>\n",
       "      <th>STATE</th>\n",
       "      <th>COUNTRY</th>\n",
       "      <th>LATITUDE</th>\n",
       "      <th>LONGITUDE</th>\n",
       "    </tr>\n",
       "  </thead>\n",
       "  <tbody>\n",
       "    <tr>\n",
       "      <th>0</th>\n",
       "      <td>count</td>\n",
       "      <td>322</td>\n",
       "      <td>322</td>\n",
       "      <td>322</td>\n",
       "      <td>322</td>\n",
       "      <td>322</td>\n",
       "      <td>319</td>\n",
       "      <td>319</td>\n",
       "    </tr>\n",
       "    <tr>\n",
       "      <th>1</th>\n",
       "      <td>mean</td>\n",
       "      <td>None</td>\n",
       "      <td>None</td>\n",
       "      <td>None</td>\n",
       "      <td>None</td>\n",
       "      <td>None</td>\n",
       "      <td>38.981243918495295</td>\n",
       "      <td>-98.37896445141064</td>\n",
       "    </tr>\n",
       "    <tr>\n",
       "      <th>2</th>\n",
       "      <td>stddev</td>\n",
       "      <td>None</td>\n",
       "      <td>None</td>\n",
       "      <td>None</td>\n",
       "      <td>None</td>\n",
       "      <td>None</td>\n",
       "      <td>8.616735581018041</td>\n",
       "      <td>21.523492046498102</td>\n",
       "    </tr>\n",
       "    <tr>\n",
       "      <th>3</th>\n",
       "      <td>min</td>\n",
       "      <td>ABE</td>\n",
       "      <td>Aberdeen Regional Airport</td>\n",
       "      <td>Aberdeen</td>\n",
       "      <td>AK</td>\n",
       "      <td>USA</td>\n",
       "      <td>13.48345</td>\n",
       "      <td>-176.64603</td>\n",
       "    </tr>\n",
       "    <tr>\n",
       "      <th>4</th>\n",
       "      <td>max</td>\n",
       "      <td>YUM</td>\n",
       "      <td>Yuma International Airport</td>\n",
       "      <td>Yuma</td>\n",
       "      <td>WY</td>\n",
       "      <td>USA</td>\n",
       "      <td>71.28545</td>\n",
       "      <td>-64.79856</td>\n",
       "    </tr>\n",
       "  </tbody>\n",
       "</table>\n",
       "</div>"
      ],
      "text/plain": [
       "  summary IATA_CODE                     AIRPORT      CITY STATE COUNTRY  \\\n",
       "0   count       322                         322       322   322     322   \n",
       "1    mean      None                        None      None  None    None   \n",
       "2  stddev      None                        None      None  None    None   \n",
       "3     min       ABE   Aberdeen Regional Airport  Aberdeen    AK     USA   \n",
       "4     max       YUM  Yuma International Airport      Yuma    WY     USA   \n",
       "\n",
       "             LATITUDE           LONGITUDE  \n",
       "0                 319                 319  \n",
       "1  38.981243918495295  -98.37896445141064  \n",
       "2   8.616735581018041  21.523492046498102  \n",
       "3            13.48345          -176.64603  \n",
       "4            71.28545           -64.79856  "
      ]
     },
     "execution_count": 15,
     "metadata": {},
     "output_type": "execute_result"
    }
   ],
   "source": [
    "# Column statistics\n",
    "airports_df.describe().toPandas()"
   ]
  },
  {
   "cell_type": "code",
   "execution_count": 16,
   "metadata": {},
   "outputs": [
    {
     "name": "stdout",
     "output_type": "stream",
     "text": [
      "+---------+-------+----+-----+-------+--------+---------+\n",
      "|IATA_CODE|AIRPORT|CITY|STATE|COUNTRY|LATITUDE|LONGITUDE|\n",
      "+---------+-------+----+-----+-------+--------+---------+\n",
      "|        0|      0|   0|    0|      0|       3|        3|\n",
      "+---------+-------+----+-----+-------+--------+---------+\n",
      "\n"
     ]
    }
   ],
   "source": [
    "missing_values_count(airports_df)"
   ]
  },
  {
   "cell_type": "markdown",
   "metadata": {},
   "source": [
    "#### Airlines data dictionary"
   ]
  },
  {
   "cell_type": "code",
   "execution_count": 17,
   "metadata": {},
   "outputs": [
    {
     "name": "stdout",
     "output_type": "stream",
     "text": [
      "root\n",
      " |-- IATA_CODE: string (nullable = true)\n",
      " |-- AIRLINE: string (nullable = true)\n",
      "\n"
     ]
    }
   ],
   "source": [
    "airlines_df.printSchema()"
   ]
  },
  {
   "cell_type": "code",
   "execution_count": 18,
   "metadata": {},
   "outputs": [
    {
     "data": {
      "text/html": [
       "<div>\n",
       "<style scoped>\n",
       "    .dataframe tbody tr th:only-of-type {\n",
       "        vertical-align: middle;\n",
       "    }\n",
       "\n",
       "    .dataframe tbody tr th {\n",
       "        vertical-align: top;\n",
       "    }\n",
       "\n",
       "    .dataframe thead th {\n",
       "        text-align: right;\n",
       "    }\n",
       "</style>\n",
       "<table border=\"1\" class=\"dataframe\">\n",
       "  <thead>\n",
       "    <tr style=\"text-align: right;\">\n",
       "      <th></th>\n",
       "      <th>Column</th>\n",
       "      <th>Dtype</th>\n",
       "    </tr>\n",
       "  </thead>\n",
       "  <tbody>\n",
       "    <tr>\n",
       "      <th>0</th>\n",
       "      <td>IATA_CODE</td>\n",
       "      <td>string</td>\n",
       "    </tr>\n",
       "    <tr>\n",
       "      <th>1</th>\n",
       "      <td>AIRLINE</td>\n",
       "      <td>string</td>\n",
       "    </tr>\n",
       "  </tbody>\n",
       "</table>\n",
       "</div>"
      ],
      "text/plain": [
       "      Column   Dtype\n",
       "0  IATA_CODE  string\n",
       "1    AIRLINE  string"
      ]
     },
     "execution_count": 18,
     "metadata": {},
     "output_type": "execute_result"
    }
   ],
   "source": [
    "# DTypes in pd formatting\n",
    "pd.DataFrame(airlines_df.dtypes, columns=['Column', 'Dtype'])"
   ]
  },
  {
   "cell_type": "code",
   "execution_count": 19,
   "metadata": {},
   "outputs": [
    {
     "name": "stdout",
     "output_type": "stream",
     "text": [
      "+---------+--------------------+\n",
      "|IATA_CODE|             AIRLINE|\n",
      "+---------+--------------------+\n",
      "|       UA|United Air Lines ...|\n",
      "|       AA|American Airlines...|\n",
      "|       US|     US Airways Inc.|\n",
      "|       F9|Frontier Airlines...|\n",
      "|       B6|     JetBlue Airways|\n",
      "|       OO|Skywest Airlines ...|\n",
      "|       AS|Alaska Airlines Inc.|\n",
      "|       NK|    Spirit Air Lines|\n",
      "|       WN|Southwest Airline...|\n",
      "|       DL|Delta Air Lines Inc.|\n",
      "|       EV|Atlantic Southeas...|\n",
      "|       HA|Hawaiian Airlines...|\n",
      "|       MQ|American Eagle Ai...|\n",
      "|       VX|      Virgin America|\n",
      "+---------+--------------------+\n",
      "\n"
     ]
    }
   ],
   "source": [
    "airlines_df.show(20)"
   ]
  },
  {
   "cell_type": "code",
   "execution_count": 20,
   "metadata": {},
   "outputs": [
    {
     "name": "stdout",
     "output_type": "stream",
     "text": [
      "Dataframe row count:  14\n",
      "Dataframe columns count:  2\n"
     ]
    }
   ],
   "source": [
    "# Dataframe shape\n",
    "print(\"Dataframe row count: \", airlines_df.count())\n",
    "print(\"Dataframe columns count: \", len(airlines_df.columns))"
   ]
  },
  {
   "cell_type": "code",
   "execution_count": 21,
   "metadata": {},
   "outputs": [
    {
     "data": {
      "text/html": [
       "<div>\n",
       "<style scoped>\n",
       "    .dataframe tbody tr th:only-of-type {\n",
       "        vertical-align: middle;\n",
       "    }\n",
       "\n",
       "    .dataframe tbody tr th {\n",
       "        vertical-align: top;\n",
       "    }\n",
       "\n",
       "    .dataframe thead th {\n",
       "        text-align: right;\n",
       "    }\n",
       "</style>\n",
       "<table border=\"1\" class=\"dataframe\">\n",
       "  <thead>\n",
       "    <tr style=\"text-align: right;\">\n",
       "      <th></th>\n",
       "      <th>summary</th>\n",
       "      <th>IATA_CODE</th>\n",
       "      <th>AIRLINE</th>\n",
       "    </tr>\n",
       "  </thead>\n",
       "  <tbody>\n",
       "    <tr>\n",
       "      <th>0</th>\n",
       "      <td>count</td>\n",
       "      <td>14</td>\n",
       "      <td>14</td>\n",
       "    </tr>\n",
       "    <tr>\n",
       "      <th>1</th>\n",
       "      <td>mean</td>\n",
       "      <td>None</td>\n",
       "      <td>None</td>\n",
       "    </tr>\n",
       "    <tr>\n",
       "      <th>2</th>\n",
       "      <td>stddev</td>\n",
       "      <td>None</td>\n",
       "      <td>None</td>\n",
       "    </tr>\n",
       "    <tr>\n",
       "      <th>3</th>\n",
       "      <td>min</td>\n",
       "      <td>AA</td>\n",
       "      <td>Alaska Airlines Inc.</td>\n",
       "    </tr>\n",
       "    <tr>\n",
       "      <th>4</th>\n",
       "      <td>max</td>\n",
       "      <td>WN</td>\n",
       "      <td>Virgin America</td>\n",
       "    </tr>\n",
       "  </tbody>\n",
       "</table>\n",
       "</div>"
      ],
      "text/plain": [
       "  summary IATA_CODE               AIRLINE\n",
       "0   count        14                    14\n",
       "1    mean      None                  None\n",
       "2  stddev      None                  None\n",
       "3     min        AA  Alaska Airlines Inc.\n",
       "4     max        WN        Virgin America"
      ]
     },
     "execution_count": 21,
     "metadata": {},
     "output_type": "execute_result"
    }
   ],
   "source": [
    "# Column statistics\n",
    "airlines_df.describe().toPandas()"
   ]
  },
  {
   "cell_type": "code",
   "execution_count": 22,
   "metadata": {},
   "outputs": [
    {
     "name": "stdout",
     "output_type": "stream",
     "text": [
      "+---------+-------+\n",
      "|IATA_CODE|AIRLINE|\n",
      "+---------+-------+\n",
      "|        0|      0|\n",
      "+---------+-------+\n",
      "\n"
     ]
    }
   ],
   "source": [
    "missing_values_count(airlines_df)"
   ]
  },
  {
   "cell_type": "markdown",
   "metadata": {},
   "source": [
    "### Step 2: Explore and Assess the Data\n",
    "#### Explore the Data \n",
    "Identify data quality issues, like missing values, duplicate data, etc.\n",
    "\n"
   ]
  },
  {
   "cell_type": "code",
   "execution_count": 23,
   "metadata": {},
   "outputs": [
    {
     "ename": "ImportError",
     "evalue": "DLL load failed while importing _imaging: The specified module could not be found.",
     "output_type": "error",
     "traceback": [
      "\u001b[1;31m---------------------------------------------------------------------------\u001b[0m",
      "\u001b[1;31mImportError\u001b[0m                               Traceback (most recent call last)",
      "Cell \u001b[1;32mIn[23], line 1\u001b[0m\n\u001b[1;32m----> 1\u001b[0m \u001b[38;5;28;01mimport\u001b[39;00m \u001b[38;5;21;01mmatplotlib\u001b[39;00m\u001b[38;5;21;01m.\u001b[39;00m\u001b[38;5;21;01mpyplot\u001b[39;00m \u001b[38;5;28;01mas\u001b[39;00m \u001b[38;5;21;01mplt\u001b[39;00m\n\u001b[0;32m      2\u001b[0m \u001b[38;5;28;01mimport\u001b[39;00m \u001b[38;5;21;01mseaborn\u001b[39;00m \u001b[38;5;28;01mas\u001b[39;00m \u001b[38;5;21;01msns\u001b[39;00m\n",
      "File \u001b[1;32mc:\\Users\\Jakub.Pitera\\Anaconda3\\envs\\udacity\\Lib\\site-packages\\matplotlib\\__init__.py:161\u001b[0m\n\u001b[0;32m    157\u001b[0m \u001b[38;5;28;01mfrom\u001b[39;00m \u001b[38;5;21;01mpackaging\u001b[39;00m\u001b[38;5;21;01m.\u001b[39;00m\u001b[38;5;21;01mversion\u001b[39;00m \u001b[38;5;28;01mimport\u001b[39;00m parse \u001b[38;5;28;01mas\u001b[39;00m parse_version\n\u001b[0;32m    159\u001b[0m \u001b[38;5;66;03m# cbook must import matplotlib only within function\u001b[39;00m\n\u001b[0;32m    160\u001b[0m \u001b[38;5;66;03m# definitions, so it is safe to import from it here.\u001b[39;00m\n\u001b[1;32m--> 161\u001b[0m \u001b[38;5;28;01mfrom\u001b[39;00m \u001b[38;5;21;01m.\u001b[39;00m \u001b[38;5;28;01mimport\u001b[39;00m _api, _version, cbook, _docstring, rcsetup\n\u001b[0;32m    162\u001b[0m \u001b[38;5;28;01mfrom\u001b[39;00m \u001b[38;5;21;01mmatplotlib\u001b[39;00m\u001b[38;5;21;01m.\u001b[39;00m\u001b[38;5;21;01mcbook\u001b[39;00m \u001b[38;5;28;01mimport\u001b[39;00m sanitize_sequence\n\u001b[0;32m    163\u001b[0m \u001b[38;5;28;01mfrom\u001b[39;00m \u001b[38;5;21;01mmatplotlib\u001b[39;00m\u001b[38;5;21;01m.\u001b[39;00m\u001b[38;5;21;01m_api\u001b[39;00m \u001b[38;5;28;01mimport\u001b[39;00m MatplotlibDeprecationWarning\n",
      "File \u001b[1;32mc:\\Users\\Jakub.Pitera\\Anaconda3\\envs\\udacity\\Lib\\site-packages\\matplotlib\\rcsetup.py:27\u001b[0m\n\u001b[0;32m     25\u001b[0m \u001b[38;5;28;01mfrom\u001b[39;00m \u001b[38;5;21;01mmatplotlib\u001b[39;00m \u001b[38;5;28;01mimport\u001b[39;00m _api, cbook\n\u001b[0;32m     26\u001b[0m \u001b[38;5;28;01mfrom\u001b[39;00m \u001b[38;5;21;01mmatplotlib\u001b[39;00m\u001b[38;5;21;01m.\u001b[39;00m\u001b[38;5;21;01mcbook\u001b[39;00m \u001b[38;5;28;01mimport\u001b[39;00m ls_mapper\n\u001b[1;32m---> 27\u001b[0m \u001b[38;5;28;01mfrom\u001b[39;00m \u001b[38;5;21;01mmatplotlib\u001b[39;00m\u001b[38;5;21;01m.\u001b[39;00m\u001b[38;5;21;01mcolors\u001b[39;00m \u001b[38;5;28;01mimport\u001b[39;00m Colormap, is_color_like\n\u001b[0;32m     28\u001b[0m \u001b[38;5;28;01mfrom\u001b[39;00m \u001b[38;5;21;01mmatplotlib\u001b[39;00m\u001b[38;5;21;01m.\u001b[39;00m\u001b[38;5;21;01m_fontconfig_pattern\u001b[39;00m \u001b[38;5;28;01mimport\u001b[39;00m parse_fontconfig_pattern\n\u001b[0;32m     29\u001b[0m \u001b[38;5;28;01mfrom\u001b[39;00m \u001b[38;5;21;01mmatplotlib\u001b[39;00m\u001b[38;5;21;01m.\u001b[39;00m\u001b[38;5;21;01m_enums\u001b[39;00m \u001b[38;5;28;01mimport\u001b[39;00m JoinStyle, CapStyle\n",
      "File \u001b[1;32mc:\\Users\\Jakub.Pitera\\Anaconda3\\envs\\udacity\\Lib\\site-packages\\matplotlib\\colors.py:52\u001b[0m\n\u001b[0;32m     49\u001b[0m \u001b[38;5;28;01mfrom\u001b[39;00m \u001b[38;5;21;01mnumbers\u001b[39;00m \u001b[38;5;28;01mimport\u001b[39;00m Real\n\u001b[0;32m     50\u001b[0m \u001b[38;5;28;01mimport\u001b[39;00m \u001b[38;5;21;01mre\u001b[39;00m\n\u001b[1;32m---> 52\u001b[0m \u001b[38;5;28;01mfrom\u001b[39;00m \u001b[38;5;21;01mPIL\u001b[39;00m \u001b[38;5;28;01mimport\u001b[39;00m Image\n\u001b[0;32m     53\u001b[0m \u001b[38;5;28;01mfrom\u001b[39;00m \u001b[38;5;21;01mPIL\u001b[39;00m\u001b[38;5;21;01m.\u001b[39;00m\u001b[38;5;21;01mPngImagePlugin\u001b[39;00m \u001b[38;5;28;01mimport\u001b[39;00m PngInfo\n\u001b[0;32m     55\u001b[0m \u001b[38;5;28;01mimport\u001b[39;00m \u001b[38;5;21;01mmatplotlib\u001b[39;00m \u001b[38;5;28;01mas\u001b[39;00m \u001b[38;5;21;01mmpl\u001b[39;00m\n",
      "File \u001b[1;32mc:\\Users\\Jakub.Pitera\\Anaconda3\\envs\\udacity\\Lib\\site-packages\\PIL\\Image.py:82\u001b[0m\n\u001b[0;32m     73\u001b[0m MAX_IMAGE_PIXELS \u001b[38;5;241m=\u001b[39m \u001b[38;5;28mint\u001b[39m(\u001b[38;5;241m1024\u001b[39m \u001b[38;5;241m*\u001b[39m \u001b[38;5;241m1024\u001b[39m \u001b[38;5;241m*\u001b[39m \u001b[38;5;241m1024\u001b[39m \u001b[38;5;241m/\u001b[39m\u001b[38;5;241m/\u001b[39m \u001b[38;5;241m4\u001b[39m \u001b[38;5;241m/\u001b[39m\u001b[38;5;241m/\u001b[39m \u001b[38;5;241m3\u001b[39m)\n\u001b[0;32m     76\u001b[0m \u001b[38;5;28;01mtry\u001b[39;00m:\n\u001b[0;32m     77\u001b[0m     \u001b[38;5;66;03m# If the _imaging C module is not present, Pillow will not load.\u001b[39;00m\n\u001b[0;32m     78\u001b[0m     \u001b[38;5;66;03m# Note that other modules should not refer to _imaging directly;\u001b[39;00m\n\u001b[0;32m     79\u001b[0m     \u001b[38;5;66;03m# import Image and use the Image.core variable instead.\u001b[39;00m\n\u001b[0;32m     80\u001b[0m     \u001b[38;5;66;03m# Also note that Image.core is not a publicly documented interface,\u001b[39;00m\n\u001b[0;32m     81\u001b[0m     \u001b[38;5;66;03m# and should be considered private and subject to change.\u001b[39;00m\n\u001b[1;32m---> 82\u001b[0m     \u001b[38;5;28;01mfrom\u001b[39;00m \u001b[38;5;21;01m.\u001b[39;00m \u001b[38;5;28;01mimport\u001b[39;00m _imaging \u001b[38;5;28;01mas\u001b[39;00m core\n\u001b[0;32m     84\u001b[0m     \u001b[38;5;28;01mif\u001b[39;00m __version__ \u001b[38;5;241m!=\u001b[39m \u001b[38;5;28mgetattr\u001b[39m(core, \u001b[38;5;124m\"\u001b[39m\u001b[38;5;124mPILLOW_VERSION\u001b[39m\u001b[38;5;124m\"\u001b[39m, \u001b[38;5;28;01mNone\u001b[39;00m):\n\u001b[0;32m     85\u001b[0m         msg \u001b[38;5;241m=\u001b[39m (\n\u001b[0;32m     86\u001b[0m             \u001b[38;5;124m\"\u001b[39m\u001b[38;5;124mThe _imaging extension was built for another version of Pillow or PIL:\u001b[39m\u001b[38;5;130;01m\\n\u001b[39;00m\u001b[38;5;124m\"\u001b[39m\n\u001b[0;32m     87\u001b[0m             \u001b[38;5;124mf\u001b[39m\u001b[38;5;124m\"\u001b[39m\u001b[38;5;124mCore version: \u001b[39m\u001b[38;5;132;01m{\u001b[39;00m\u001b[38;5;28mgetattr\u001b[39m(core,\u001b[38;5;250m \u001b[39m\u001b[38;5;124m'\u001b[39m\u001b[38;5;124mPILLOW_VERSION\u001b[39m\u001b[38;5;124m'\u001b[39m,\u001b[38;5;250m \u001b[39m\u001b[38;5;28;01mNone\u001b[39;00m)\u001b[38;5;132;01m}\u001b[39;00m\u001b[38;5;130;01m\\n\u001b[39;00m\u001b[38;5;124m\"\u001b[39m\n\u001b[0;32m     88\u001b[0m             \u001b[38;5;124mf\u001b[39m\u001b[38;5;124m\"\u001b[39m\u001b[38;5;124mPillow version: \u001b[39m\u001b[38;5;132;01m{\u001b[39;00m__version__\u001b[38;5;132;01m}\u001b[39;00m\u001b[38;5;124m\"\u001b[39m\n\u001b[0;32m     89\u001b[0m         )\n",
      "\u001b[1;31mImportError\u001b[0m: DLL load failed while importing _imaging: The specified module could not be found."
     ]
    }
   ],
   "source": [
    "import matplotlib.pyplot as plt\n",
    "import seaborn as sns"
   ]
  },
  {
   "cell_type": "code",
   "execution_count": null,
   "metadata": {},
   "outputs": [],
   "source": [
    "fig = plt.figure(figsize=(25, 15))\n",
    "st = fig.suptitle(\"Distribution of Features\", fontsize=50, verticalalignment=\"center\")\n",
    "for col, num in zip(df.toPandas().describe().columns, range(1,11)):\n",
    "    ax = fig.add_subplot(3,4, num)\n",
    "    ax.hist(df.toPandas[col])\n",
    "    plt.grid(False)\n",
    "    plt.xticks(ratation=45, fontsize=20)\n",
    "    plt.yticks(fontsize=15)\n",
    "    plt.title(col.upper(), fontsize=20)\n",
    "    \n",
    "plt.tight_layout()\n",
    "st.set_y(0.95)\n",
    "fig.subplots_adjust(top=0.85, hspace=0.4)\n",
    "plt.show()\n"
   ]
  },
  {
   "cell_type": "markdown",
   "metadata": {},
   "source": [
    "#### Cleaning Steps\n",
    "Document steps necessary to clean the data\n",
    "\n",
    "- converting to integers\n",
    "- converting dates to datetime\n",
    "- ~~converting time to time~~\n",
    "- convert DIVERTED CANCELLED to Boolean"
   ]
  },
  {
   "cell_type": "code",
   "execution_count": 49,
   "metadata": {},
   "outputs": [],
   "source": [
    "# Converting to integers \n",
    "\n",
    "int_cols = ['YEAR', 'MONTH', 'DAY', 'DAY_OF_WEEK', 'DEPARTURE_DELAY', 'TAXI_OUT', 'SCHEDULED_TIME', 'ELAPSED_TIME', 'AIR_TIME', 'DISTANCE', 'TAXI_IN', \n",
    "            'ARRIVAL_DELAY', 'AIR_SYSTEM_DELAY', 'SECURITY_DELAY', 'AIRLINE_DELAY', 'LATE_AIRCRAFT_DELAY', 'WEATHER_DELAY']\n",
    "for c in int_cols :\n",
    "    df = df.withColumn(c, F.col(c).cast(\"int\"))"
   ]
  },
  {
   "cell_type": "code",
   "execution_count": 50,
   "metadata": {},
   "outputs": [],
   "source": [
    "# Converting date\n",
    "\n",
    "df = df.withColumn('DATE', F.make_date('YEAR', 'MONTH', 'DAY'))"
   ]
  },
  {
   "cell_type": "code",
   "execution_count": 26,
   "metadata": {},
   "outputs": [],
   "source": [
    "# Converting time\n",
    "# df1 = df.withColumn('SCHEDULED_DEPARTURE', F.make_timestamp(hour=F.substring('SCHEDULED_DEPARTURE', 1, 2),min=F.substring('SCHEDULED_DEPARTURE', 3, 2)))\n",
    "# Converting time\n",
    "# df1 = df.withColumn('SCHEDULED_DEPARTURE', F.to_timestamp('SCHEDULED_DEPARTURE', format='HHmm'))"
   ]
  },
  {
   "cell_type": "code",
   "execution_count": 51,
   "metadata": {},
   "outputs": [],
   "source": [
    "# Converting booleans\n",
    "\n",
    "df = df.withColumn('DIVERTED', F.col('DIVERTED').cast('boolean'))\n",
    "df = df.withColumn('CANCELLED', F.col('CANCELLED').cast('boolean'))"
   ]
  },
  {
   "cell_type": "code",
   "execution_count": 28,
   "metadata": {},
   "outputs": [
    {
     "name": "stdout",
     "output_type": "stream",
     "text": [
      "+----+-----+---+-----------+-------+-------------+-----------+--------------+-------------------+-------------------+--------------+---------------+--------+----------+--------------+------------+--------+--------+---------+-------+-----------------+------------+-------------+--------+---------+-------------------+----------------+--------------+-------------+-------------------+-------------+----------+\n",
      "|YEAR|MONTH|DAY|DAY_OF_WEEK|AIRLINE|FLIGHT_NUMBER|TAIL_NUMBER|ORIGIN_AIRPORT|DESTINATION_AIRPORT|SCHEDULED_DEPARTURE|DEPARTURE_TIME|DEPARTURE_DELAY|TAXI_OUT|WHEELS_OFF|SCHEDULED_TIME|ELAPSED_TIME|AIR_TIME|DISTANCE|WHEELS_ON|TAXI_IN|SCHEDULED_ARRIVAL|ARRIVAL_TIME|ARRIVAL_DELAY|DIVERTED|CANCELLED|CANCELLATION_REASON|AIR_SYSTEM_DELAY|SECURITY_DELAY|AIRLINE_DELAY|LATE_AIRCRAFT_DELAY|WEATHER_DELAY|      DATE|\n",
      "+----+-----+---+-----------+-------+-------------+-----------+--------------+-------------------+-------------------+--------------+---------------+--------+----------+--------------+------------+--------+--------+---------+-------+-----------------+------------+-------------+--------+---------+-------------------+----------------+--------------+-------------+-------------------+-------------+----------+\n",
      "|2015|    1|  1|          4|     AS|           98|     N407AS|           ANC|                SEA|               0005|          2354|            -11|      21|      0015|           205|         194|     169|    1448|     0404|      4|             0430|        0408|          -22|   false|    false|               null|            null|          null|         null|               null|         null|2015-01-01|\n",
      "|2015|    1|  1|          4|     AA|         2336|     N3KUAA|           LAX|                PBI|               0010|          0002|             -8|      12|      0014|           280|         279|     263|    2330|     0737|      4|             0750|        0741|           -9|   false|    false|               null|            null|          null|         null|               null|         null|2015-01-01|\n",
      "|2015|    1|  1|          4|     US|          840|     N171US|           SFO|                CLT|               0020|          0018|             -2|      16|      0034|           286|         293|     266|    2296|     0800|     11|             0806|        0811|            5|   false|    false|               null|            null|          null|         null|               null|         null|2015-01-01|\n",
      "|2015|    1|  1|          4|     AA|          258|     N3HYAA|           LAX|                MIA|               0020|          0015|             -5|      15|      0030|           285|         281|     258|    2342|     0748|      8|             0805|        0756|           -9|   false|    false|               null|            null|          null|         null|               null|         null|2015-01-01|\n",
      "|2015|    1|  1|          4|     AS|          135|     N527AS|           SEA|                ANC|               0025|          0024|             -1|      11|      0035|           235|         215|     199|    1448|     0254|      5|             0320|        0259|          -21|   false|    false|               null|            null|          null|         null|               null|         null|2015-01-01|\n",
      "|2015|    1|  1|          4|     DL|          806|     N3730B|           SFO|                MSP|               0025|          0020|             -5|      18|      0038|           217|         230|     206|    1589|     0604|      6|             0602|        0610|            8|   false|    false|               null|            null|          null|         null|               null|         null|2015-01-01|\n",
      "|2015|    1|  1|          4|     NK|          612|     N635NK|           LAS|                MSP|               0025|          0019|             -6|      11|      0030|           181|         170|     154|    1299|     0504|      5|             0526|        0509|          -17|   false|    false|               null|            null|          null|         null|               null|         null|2015-01-01|\n",
      "|2015|    1|  1|          4|     US|         2013|     N584UW|           LAX|                CLT|               0030|          0044|             14|      13|      0057|           273|         249|     228|    2125|     0745|      8|             0803|        0753|          -10|   false|    false|               null|            null|          null|         null|               null|         null|2015-01-01|\n",
      "|2015|    1|  1|          4|     AA|         1112|     N3LAAA|           SFO|                DFW|               0030|          0019|            -11|      17|      0036|           195|         193|     173|    1464|     0529|      3|             0545|        0532|          -13|   false|    false|               null|            null|          null|         null|               null|         null|2015-01-01|\n",
      "|2015|    1|  1|          4|     DL|         1173|     N826DN|           LAS|                ATL|               0030|          0033|              3|      12|      0045|           221|         203|     186|    1747|     0651|      5|             0711|        0656|          -15|   false|    false|               null|            null|          null|         null|               null|         null|2015-01-01|\n",
      "|2015|    1|  1|          4|     DL|         2336|     N958DN|           DEN|                ATL|               0030|          0024|             -6|      12|      0036|           173|         149|     133|    1199|     0449|      4|             0523|        0453|          -30|   false|    false|               null|            null|          null|         null|               null|         null|2015-01-01|\n",
      "|2015|    1|  1|          4|     AA|         1674|     N853AA|           LAS|                MIA|               0035|          0027|             -8|      21|      0048|           268|         266|     238|    2174|     0746|      7|             0803|        0753|          -10|   false|    false|               null|            null|          null|         null|               null|         null|2015-01-01|\n",
      "|2015|    1|  1|          4|     DL|         1434|     N547US|           LAX|                MSP|               0035|          0035|              0|      18|      0053|           214|         210|     188|    1535|     0601|      4|             0609|        0605|           -4|   false|    false|               null|            null|          null|         null|               null|         null|2015-01-01|\n",
      "|2015|    1|  1|          4|     DL|         2324|     N3751B|           SLC|                ATL|               0040|          0034|             -6|      18|      0052|           215|         199|     176|    1590|     0548|      5|             0615|        0553|          -22|   false|    false|               null|            null|          null|         null|               null|         null|2015-01-01|\n",
      "|2015|    1|  1|          4|     DL|         2440|     N651DL|           SEA|                MSP|               0040|          0039|             -1|      28|      0107|           189|         198|     166|    1399|     0553|      4|             0549|        0557|            8|   false|    false|               null|            null|          null|         null|               null|         null|2015-01-01|\n",
      "|2015|    1|  1|          4|     AS|          108|     N309AS|           ANC|                SEA|               0045|          0041|             -4|      17|      0058|           204|         194|     173|    1448|     0451|      4|             0509|        0455|          -14|   false|    false|               null|            null|          null|         null|               null|         null|2015-01-01|\n",
      "|2015|    1|  1|          4|     DL|         1560|     N3743H|           ANC|                SEA|               0045|          0031|            -14|      25|      0056|           210|         200|     171|    1448|     0447|      4|             0515|        0451|          -24|   false|    false|               null|            null|          null|         null|               null|         null|2015-01-01|\n",
      "|2015|    1|  1|          4|     UA|         1197|     N78448|           SFO|                IAH|               0048|          0042|             -6|      11|      0053|           218|         217|     199|    1635|     0612|      7|             0626|        0619|           -7|   false|    false|               null|            null|          null|         null|               null|         null|2015-01-01|\n",
      "|2015|    1|  1|          4|     AS|          122|     N413AS|           ANC|                PDX|               0050|          0046|             -4|      11|      0057|           215|         201|     187|    1542|     0504|      3|             0525|        0507|          -18|   false|    false|               null|            null|          null|         null|               null|         null|2015-01-01|\n",
      "|2015|    1|  1|          4|     DL|         1670|     N806DN|           PDX|                MSP|               0050|          0045|             -5|       9|      0054|           193|         186|     171|    1426|     0545|      6|             0603|        0551|          -12|   false|    false|               null|            null|          null|         null|               null|         null|2015-01-01|\n",
      "+----+-----+---+-----------+-------+-------------+-----------+--------------+-------------------+-------------------+--------------+---------------+--------+----------+--------------+------------+--------+--------+---------+-------+-----------------+------------+-------------+--------+---------+-------------------+----------------+--------------+-------------+-------------------+-------------+----------+\n",
      "only showing top 20 rows\n",
      "\n"
     ]
    }
   ],
   "source": [
    "df.show()"
   ]
  },
  {
   "cell_type": "code",
   "execution_count": 77,
   "metadata": {},
   "outputs": [
    {
     "data": {
      "text/plain": [
       "[Row(YEAR=2015, MONTH=10, DAY=12, DAY_OF_WEEK=1, AIRLINE='AS', FLIGHT_NUMBER='98', TAIL_NUMBER='N760AS', ORIGIN_AIRPORT='10299', DESTINATION_AIRPORT='14747', SCHEDULED_DEPARTURE='1630', DEPARTURE_TIME='1626', DEPARTURE_DELAY=-4, TAXI_OUT=8, WHEELS_OFF='1634', SCHEDULED_TIME=199, ELAPSED_TIME=223, AIR_TIME=208, DISTANCE=1448, WHEELS_ON='2102', TAXI_IN=7, SCHEDULED_ARRIVAL='2049', ARRIVAL_TIME='2109', ARRIVAL_DELAY=20, DIVERTED=False, CANCELLED=False, CANCELLATION_REASON=None, AIR_SYSTEM_DELAY=20, SECURITY_DELAY=0, AIRLINE_DELAY=0, LATE_AIRCRAFT_DELAY=0, WEATHER_DELAY=0, DATE=datetime.date(2015, 10, 12)),\n",
       " Row(YEAR=2015, MONTH=10, DAY=13, DAY_OF_WEEK=2, AIRLINE='AS', FLIGHT_NUMBER='98', TAIL_NUMBER='N317AS', ORIGIN_AIRPORT='10299', DESTINATION_AIRPORT='14747', SCHEDULED_DEPARTURE='1630', DEPARTURE_TIME='1628', DEPARTURE_DELAY=-2, TAXI_OUT=10, WHEELS_OFF='1638', SCHEDULED_TIME=199, ELAPSED_TIME=199, AIR_TIME=183, DISTANCE=1448, WHEELS_ON='2041', TAXI_IN=6, SCHEDULED_ARRIVAL='2049', ARRIVAL_TIME='2047', ARRIVAL_DELAY=-2, DIVERTED=False, CANCELLED=False, CANCELLATION_REASON=None, AIR_SYSTEM_DELAY=None, SECURITY_DELAY=None, AIRLINE_DELAY=None, LATE_AIRCRAFT_DELAY=None, WEATHER_DELAY=None, DATE=datetime.date(2015, 10, 13)),\n",
       " Row(YEAR=2015, MONTH=10, DAY=15, DAY_OF_WEEK=4, AIRLINE='AS', FLIGHT_NUMBER='98', TAIL_NUMBER='N706AS', ORIGIN_AIRPORT='10299', DESTINATION_AIRPORT='14747', SCHEDULED_DEPARTURE='1630', DEPARTURE_TIME='1630', DEPARTURE_DELAY=0, TAXI_OUT=8, WHEELS_OFF='1638', SCHEDULED_TIME=203, ELAPSED_TIME=209, AIR_TIME=192, DISTANCE=1448, WHEELS_ON='2050', TAXI_IN=9, SCHEDULED_ARRIVAL='2053', ARRIVAL_TIME='2059', ARRIVAL_DELAY=6, DIVERTED=False, CANCELLED=False, CANCELLATION_REASON=None, AIR_SYSTEM_DELAY=None, SECURITY_DELAY=None, AIRLINE_DELAY=None, LATE_AIRCRAFT_DELAY=None, WEATHER_DELAY=None, DATE=datetime.date(2015, 10, 15)),\n",
       " Row(YEAR=2015, MONTH=10, DAY=16, DAY_OF_WEEK=5, AIRLINE='AS', FLIGHT_NUMBER='98', TAIL_NUMBER='N508AS', ORIGIN_AIRPORT='10299', DESTINATION_AIRPORT='14747', SCHEDULED_DEPARTURE='1630', DEPARTURE_TIME='1623', DEPARTURE_DELAY=-7, TAXI_OUT=18, WHEELS_OFF='1641', SCHEDULED_TIME=199, ELAPSED_TIME=228, AIR_TIME=201, DISTANCE=1448, WHEELS_ON='2102', TAXI_IN=9, SCHEDULED_ARRIVAL='2049', ARRIVAL_TIME='2111', ARRIVAL_DELAY=22, DIVERTED=False, CANCELLED=False, CANCELLATION_REASON=None, AIR_SYSTEM_DELAY=22, SECURITY_DELAY=0, AIRLINE_DELAY=0, LATE_AIRCRAFT_DELAY=0, WEATHER_DELAY=0, DATE=datetime.date(2015, 10, 16)),\n",
       " Row(YEAR=2015, MONTH=10, DAY=18, DAY_OF_WEEK=7, AIRLINE='AS', FLIGHT_NUMBER='98', TAIL_NUMBER='N613AS', ORIGIN_AIRPORT='10299', DESTINATION_AIRPORT='14747', SCHEDULED_DEPARTURE='1630', DEPARTURE_TIME='1621', DEPARTURE_DELAY=-9, TAXI_OUT=8, WHEELS_OFF='1629', SCHEDULED_TIME=199, ELAPSED_TIME=204, AIR_TIME=188, DISTANCE=1448, WHEELS_ON='2037', TAXI_IN=8, SCHEDULED_ARRIVAL='2049', ARRIVAL_TIME='2045', ARRIVAL_DELAY=-4, DIVERTED=False, CANCELLED=False, CANCELLATION_REASON=None, AIR_SYSTEM_DELAY=None, SECURITY_DELAY=None, AIRLINE_DELAY=None, LATE_AIRCRAFT_DELAY=None, WEATHER_DELAY=None, DATE=datetime.date(2015, 10, 18)),\n",
       " Row(YEAR=2015, MONTH=10, DAY=19, DAY_OF_WEEK=1, AIRLINE='AS', FLIGHT_NUMBER='98', TAIL_NUMBER='N585AS', ORIGIN_AIRPORT='10299', DESTINATION_AIRPORT='14747', SCHEDULED_DEPARTURE='1630', DEPARTURE_TIME='1626', DEPARTURE_DELAY=-4, TAXI_OUT=11, WHEELS_OFF='1637', SCHEDULED_TIME=199, ELAPSED_TIME=185, AIR_TIME=167, DISTANCE=1448, WHEELS_ON='2024', TAXI_IN=7, SCHEDULED_ARRIVAL='2049', ARRIVAL_TIME='2031', ARRIVAL_DELAY=-18, DIVERTED=False, CANCELLED=False, CANCELLATION_REASON=None, AIR_SYSTEM_DELAY=None, SECURITY_DELAY=None, AIRLINE_DELAY=None, LATE_AIRCRAFT_DELAY=None, WEATHER_DELAY=None, DATE=datetime.date(2015, 10, 19)),\n",
       " Row(YEAR=2015, MONTH=10, DAY=20, DAY_OF_WEEK=2, AIRLINE='AS', FLIGHT_NUMBER='98', TAIL_NUMBER='N568AS', ORIGIN_AIRPORT='10299', DESTINATION_AIRPORT='14747', SCHEDULED_DEPARTURE='1630', DEPARTURE_TIME='1627', DEPARTURE_DELAY=-3, TAXI_OUT=9, WHEELS_OFF='1636', SCHEDULED_TIME=199, ELAPSED_TIME=209, AIR_TIME=193, DISTANCE=1448, WHEELS_ON='2049', TAXI_IN=7, SCHEDULED_ARRIVAL='2049', ARRIVAL_TIME='2056', ARRIVAL_DELAY=7, DIVERTED=False, CANCELLED=False, CANCELLATION_REASON=None, AIR_SYSTEM_DELAY=None, SECURITY_DELAY=None, AIRLINE_DELAY=None, LATE_AIRCRAFT_DELAY=None, WEATHER_DELAY=None, DATE=datetime.date(2015, 10, 20)),\n",
       " Row(YEAR=2015, MONTH=10, DAY=22, DAY_OF_WEEK=4, AIRLINE='AS', FLIGHT_NUMBER='98', TAIL_NUMBER='N317AS', ORIGIN_AIRPORT='10299', DESTINATION_AIRPORT='14747', SCHEDULED_DEPARTURE='1630', DEPARTURE_TIME='1626', DEPARTURE_DELAY=-4, TAXI_OUT=13, WHEELS_OFF='1639', SCHEDULED_TIME=199, ELAPSED_TIME=213, AIR_TIME=192, DISTANCE=1448, WHEELS_ON='2051', TAXI_IN=8, SCHEDULED_ARRIVAL='2049', ARRIVAL_TIME='2059', ARRIVAL_DELAY=10, DIVERTED=False, CANCELLED=False, CANCELLATION_REASON=None, AIR_SYSTEM_DELAY=None, SECURITY_DELAY=None, AIRLINE_DELAY=None, LATE_AIRCRAFT_DELAY=None, WEATHER_DELAY=None, DATE=datetime.date(2015, 10, 22)),\n",
       " Row(YEAR=2015, MONTH=10, DAY=23, DAY_OF_WEEK=5, AIRLINE='AS', FLIGHT_NUMBER='98', TAIL_NUMBER='N534AS', ORIGIN_AIRPORT='10299', DESTINATION_AIRPORT='14747', SCHEDULED_DEPARTURE='1630', DEPARTURE_TIME='1628', DEPARTURE_DELAY=-2, TAXI_OUT=13, WHEELS_OFF='1641', SCHEDULED_TIME=199, ELAPSED_TIME=204, AIR_TIME=182, DISTANCE=1448, WHEELS_ON='2043', TAXI_IN=9, SCHEDULED_ARRIVAL='2049', ARRIVAL_TIME='2052', ARRIVAL_DELAY=3, DIVERTED=False, CANCELLED=False, CANCELLATION_REASON=None, AIR_SYSTEM_DELAY=None, SECURITY_DELAY=None, AIRLINE_DELAY=None, LATE_AIRCRAFT_DELAY=None, WEATHER_DELAY=None, DATE=datetime.date(2015, 10, 23)),\n",
       " Row(YEAR=2015, MONTH=10, DAY=25, DAY_OF_WEEK=7, AIRLINE='AS', FLIGHT_NUMBER='98', TAIL_NUMBER='N706AS', ORIGIN_AIRPORT='10299', DESTINATION_AIRPORT='14747', SCHEDULED_DEPARTURE='1630', DEPARTURE_TIME='1711', DEPARTURE_DELAY=41, TAXI_OUT=14, WHEELS_OFF='1725', SCHEDULED_TIME=199, ELAPSED_TIME=206, AIR_TIME=183, DISTANCE=1448, WHEELS_ON='2128', TAXI_IN=9, SCHEDULED_ARRIVAL='2049', ARRIVAL_TIME='2137', ARRIVAL_DELAY=48, DIVERTED=False, CANCELLED=False, CANCELLATION_REASON=None, AIR_SYSTEM_DELAY=7, SECURITY_DELAY=0, AIRLINE_DELAY=41, LATE_AIRCRAFT_DELAY=0, WEATHER_DELAY=0, DATE=datetime.date(2015, 10, 25)),\n",
       " Row(YEAR=2015, MONTH=10, DAY=26, DAY_OF_WEEK=1, AIRLINE='AS', FLIGHT_NUMBER='98', TAIL_NUMBER='N536AS', ORIGIN_AIRPORT='10299', DESTINATION_AIRPORT='14747', SCHEDULED_DEPARTURE='1630', DEPARTURE_TIME='1614', DEPARTURE_DELAY=-16, TAXI_OUT=15, WHEELS_OFF='1629', SCHEDULED_TIME=199, ELAPSED_TIME=203, AIR_TIME=176, DISTANCE=1448, WHEELS_ON='2025', TAXI_IN=12, SCHEDULED_ARRIVAL='2049', ARRIVAL_TIME='2037', ARRIVAL_DELAY=-12, DIVERTED=False, CANCELLED=False, CANCELLATION_REASON=None, AIR_SYSTEM_DELAY=None, SECURITY_DELAY=None, AIRLINE_DELAY=None, LATE_AIRCRAFT_DELAY=None, WEATHER_DELAY=None, DATE=datetime.date(2015, 10, 26)),\n",
       " Row(YEAR=2015, MONTH=10, DAY=27, DAY_OF_WEEK=2, AIRLINE='AS', FLIGHT_NUMBER='98', TAIL_NUMBER='N532AS', ORIGIN_AIRPORT='10299', DESTINATION_AIRPORT='14747', SCHEDULED_DEPARTURE='1630', DEPARTURE_TIME='1624', DEPARTURE_DELAY=-6, TAXI_OUT=9, WHEELS_OFF='1633', SCHEDULED_TIME=199, ELAPSED_TIME=224, AIR_TIME=206, DISTANCE=1448, WHEELS_ON='2059', TAXI_IN=9, SCHEDULED_ARRIVAL='2049', ARRIVAL_TIME='2108', ARRIVAL_DELAY=19, DIVERTED=False, CANCELLED=False, CANCELLATION_REASON=None, AIR_SYSTEM_DELAY=19, SECURITY_DELAY=0, AIRLINE_DELAY=0, LATE_AIRCRAFT_DELAY=0, WEATHER_DELAY=0, DATE=datetime.date(2015, 10, 27)),\n",
       " Row(YEAR=2015, MONTH=10, DAY=29, DAY_OF_WEEK=4, AIRLINE='AS', FLIGHT_NUMBER='98', TAIL_NUMBER='N469AS', ORIGIN_AIRPORT='10299', DESTINATION_AIRPORT='14747', SCHEDULED_DEPARTURE='1630', DEPARTURE_TIME='1621', DEPARTURE_DELAY=-9, TAXI_OUT=10, WHEELS_OFF='1631', SCHEDULED_TIME=199, ELAPSED_TIME=191, AIR_TIME=170, DISTANCE=1448, WHEELS_ON='2021', TAXI_IN=11, SCHEDULED_ARRIVAL='2049', ARRIVAL_TIME='2032', ARRIVAL_DELAY=-17, DIVERTED=False, CANCELLED=False, CANCELLATION_REASON=None, AIR_SYSTEM_DELAY=None, SECURITY_DELAY=None, AIRLINE_DELAY=None, LATE_AIRCRAFT_DELAY=None, WEATHER_DELAY=None, DATE=datetime.date(2015, 10, 29)),\n",
       " Row(YEAR=2015, MONTH=10, DAY=30, DAY_OF_WEEK=5, AIRLINE='AS', FLIGHT_NUMBER='98', TAIL_NUMBER='N323AS', ORIGIN_AIRPORT='10299', DESTINATION_AIRPORT='14747', SCHEDULED_DEPARTURE='1630', DEPARTURE_TIME='1632', DEPARTURE_DELAY=2, TAXI_OUT=23, WHEELS_OFF='1655', SCHEDULED_TIME=199, ELAPSED_TIME=203, AIR_TIME=172, DISTANCE=1448, WHEELS_ON='2047', TAXI_IN=8, SCHEDULED_ARRIVAL='2049', ARRIVAL_TIME='2055', ARRIVAL_DELAY=6, DIVERTED=False, CANCELLED=False, CANCELLATION_REASON=None, AIR_SYSTEM_DELAY=None, SECURITY_DELAY=None, AIRLINE_DELAY=None, LATE_AIRCRAFT_DELAY=None, WEATHER_DELAY=None, DATE=datetime.date(2015, 10, 30)),\n",
       " Row(YEAR=2015, MONTH=11, DAY=1, DAY_OF_WEEK=7, AIRLINE='AS', FLIGHT_NUMBER='98', TAIL_NUMBER='N769AS', ORIGIN_AIRPORT='ANC', DESTINATION_AIRPORT='SEA', SCHEDULED_DEPARTURE='1645', DEPARTURE_TIME='1652', DEPARTURE_DELAY=7, TAXI_OUT=8, WHEELS_OFF='1700', SCHEDULED_TIME=204, ELAPSED_TIME=189, AIR_TIME=172, DISTANCE=1448, WHEELS_ON='2052', TAXI_IN=9, SCHEDULED_ARRIVAL='2109', ARRIVAL_TIME='2101', ARRIVAL_DELAY=-8, DIVERTED=False, CANCELLED=False, CANCELLATION_REASON=None, AIR_SYSTEM_DELAY=None, SECURITY_DELAY=None, AIRLINE_DELAY=None, LATE_AIRCRAFT_DELAY=None, WEATHER_DELAY=None, DATE=datetime.date(2015, 11, 1)),\n",
       " Row(YEAR=2015, MONTH=11, DAY=2, DAY_OF_WEEK=1, AIRLINE='AS', FLIGHT_NUMBER='98', TAIL_NUMBER='N532AS', ORIGIN_AIRPORT='ANC', DESTINATION_AIRPORT='SEA', SCHEDULED_DEPARTURE='1645', DEPARTURE_TIME='1637', DEPARTURE_DELAY=-8, TAXI_OUT=16, WHEELS_OFF='1653', SCHEDULED_TIME=204, ELAPSED_TIME=190, AIR_TIME=166, DISTANCE=1448, WHEELS_ON='2039', TAXI_IN=8, SCHEDULED_ARRIVAL='2109', ARRIVAL_TIME='2047', ARRIVAL_DELAY=-22, DIVERTED=False, CANCELLED=False, CANCELLATION_REASON=None, AIR_SYSTEM_DELAY=None, SECURITY_DELAY=None, AIRLINE_DELAY=None, LATE_AIRCRAFT_DELAY=None, WEATHER_DELAY=None, DATE=datetime.date(2015, 11, 2)),\n",
       " Row(YEAR=2015, MONTH=11, DAY=3, DAY_OF_WEEK=2, AIRLINE='AS', FLIGHT_NUMBER='98', TAIL_NUMBER='N594AS', ORIGIN_AIRPORT='ANC', DESTINATION_AIRPORT='SEA', SCHEDULED_DEPARTURE='1645', DEPARTURE_TIME='1640', DEPARTURE_DELAY=-5, TAXI_OUT=7, WHEELS_OFF='1647', SCHEDULED_TIME=204, ELAPSED_TIME=178, AIR_TIME=164, DISTANCE=1448, WHEELS_ON='2031', TAXI_IN=7, SCHEDULED_ARRIVAL='2109', ARRIVAL_TIME='2038', ARRIVAL_DELAY=-31, DIVERTED=False, CANCELLED=False, CANCELLATION_REASON=None, AIR_SYSTEM_DELAY=None, SECURITY_DELAY=None, AIRLINE_DELAY=None, LATE_AIRCRAFT_DELAY=None, WEATHER_DELAY=None, DATE=datetime.date(2015, 11, 3)),\n",
       " Row(YEAR=2015, MONTH=11, DAY=5, DAY_OF_WEEK=4, AIRLINE='AS', FLIGHT_NUMBER='98', TAIL_NUMBER='N527AS', ORIGIN_AIRPORT='ANC', DESTINATION_AIRPORT='SEA', SCHEDULED_DEPARTURE='1645', DEPARTURE_TIME='1636', DEPARTURE_DELAY=-9, TAXI_OUT=11, WHEELS_OFF='1647', SCHEDULED_TIME=204, ELAPSED_TIME=197, AIR_TIME=179, DISTANCE=1448, WHEELS_ON='2046', TAXI_IN=7, SCHEDULED_ARRIVAL='2109', ARRIVAL_TIME='2053', ARRIVAL_DELAY=-16, DIVERTED=False, CANCELLED=False, CANCELLATION_REASON=None, AIR_SYSTEM_DELAY=None, SECURITY_DELAY=None, AIRLINE_DELAY=None, LATE_AIRCRAFT_DELAY=None, WEATHER_DELAY=None, DATE=datetime.date(2015, 11, 5)),\n",
       " Row(YEAR=2015, MONTH=11, DAY=8, DAY_OF_WEEK=7, AIRLINE='AS', FLIGHT_NUMBER='98', TAIL_NUMBER='N794AS', ORIGIN_AIRPORT='ANC', DESTINATION_AIRPORT='SEA', SCHEDULED_DEPARTURE='1645', DEPARTURE_TIME='1635', DEPARTURE_DELAY=-10, TAXI_OUT=7, WHEELS_OFF='1642', SCHEDULED_TIME=205, ELAPSED_TIME=191, AIR_TIME=175, DISTANCE=1448, WHEELS_ON='2037', TAXI_IN=9, SCHEDULED_ARRIVAL='2110', ARRIVAL_TIME='2046', ARRIVAL_DELAY=-24, DIVERTED=False, CANCELLED=False, CANCELLATION_REASON=None, AIR_SYSTEM_DELAY=None, SECURITY_DELAY=None, AIRLINE_DELAY=None, LATE_AIRCRAFT_DELAY=None, WEATHER_DELAY=None, DATE=datetime.date(2015, 11, 8)),\n",
       " Row(YEAR=2015, MONTH=11, DAY=9, DAY_OF_WEEK=1, AIRLINE='AS', FLIGHT_NUMBER='98', TAIL_NUMBER='N516AS', ORIGIN_AIRPORT='ANC', DESTINATION_AIRPORT='SEA', SCHEDULED_DEPARTURE='1645', DEPARTURE_TIME='1714', DEPARTURE_DELAY=29, TAXI_OUT=9, WHEELS_OFF='1723', SCHEDULED_TIME=204, ELAPSED_TIME=185, AIR_TIME=169, DISTANCE=1448, WHEELS_ON='2112', TAXI_IN=7, SCHEDULED_ARRIVAL='2109', ARRIVAL_TIME='2119', ARRIVAL_DELAY=10, DIVERTED=False, CANCELLED=False, CANCELLATION_REASON=None, AIR_SYSTEM_DELAY=None, SECURITY_DELAY=None, AIRLINE_DELAY=None, LATE_AIRCRAFT_DELAY=None, WEATHER_DELAY=None, DATE=datetime.date(2015, 11, 9)),\n",
       " Row(YEAR=2015, MONTH=11, DAY=10, DAY_OF_WEEK=2, AIRLINE='AS', FLIGHT_NUMBER='98', TAIL_NUMBER='N611AS', ORIGIN_AIRPORT='ANC', DESTINATION_AIRPORT='SEA', SCHEDULED_DEPARTURE='1645', DEPARTURE_TIME='1709', DEPARTURE_DELAY=24, TAXI_OUT=13, WHEELS_OFF='1722', SCHEDULED_TIME=204, ELAPSED_TIME=218, AIR_TIME=196, DISTANCE=1448, WHEELS_ON='2138', TAXI_IN=9, SCHEDULED_ARRIVAL='2109', ARRIVAL_TIME='2147', ARRIVAL_DELAY=38, DIVERTED=False, CANCELLED=False, CANCELLATION_REASON=None, AIR_SYSTEM_DELAY=14, SECURITY_DELAY=0, AIRLINE_DELAY=24, LATE_AIRCRAFT_DELAY=0, WEATHER_DELAY=0, DATE=datetime.date(2015, 11, 10)),\n",
       " Row(YEAR=2015, MONTH=11, DAY=12, DAY_OF_WEEK=4, AIRLINE='AS', FLIGHT_NUMBER='98', TAIL_NUMBER='N548AS', ORIGIN_AIRPORT='ANC', DESTINATION_AIRPORT='SEA', SCHEDULED_DEPARTURE='1645', DEPARTURE_TIME='1639', DEPARTURE_DELAY=-6, TAXI_OUT=18, WHEELS_OFF='1657', SCHEDULED_TIME=204, ELAPSED_TIME=218, AIR_TIME=187, DISTANCE=1448, WHEELS_ON='2104', TAXI_IN=13, SCHEDULED_ARRIVAL='2109', ARRIVAL_TIME='2117', ARRIVAL_DELAY=8, DIVERTED=False, CANCELLED=False, CANCELLATION_REASON=None, AIR_SYSTEM_DELAY=None, SECURITY_DELAY=None, AIRLINE_DELAY=None, LATE_AIRCRAFT_DELAY=None, WEATHER_DELAY=None, DATE=datetime.date(2015, 11, 12)),\n",
       " Row(YEAR=2015, MONTH=11, DAY=15, DAY_OF_WEEK=7, AIRLINE='AS', FLIGHT_NUMBER='98', TAIL_NUMBER='N706AS', ORIGIN_AIRPORT='ANC', DESTINATION_AIRPORT='SEA', SCHEDULED_DEPARTURE='1645', DEPARTURE_TIME='1634', DEPARTURE_DELAY=-11, TAXI_OUT=7, WHEELS_OFF='1641', SCHEDULED_TIME=205, ELAPSED_TIME=193, AIR_TIME=178, DISTANCE=1448, WHEELS_ON='2039', TAXI_IN=8, SCHEDULED_ARRIVAL='2110', ARRIVAL_TIME='2047', ARRIVAL_DELAY=-23, DIVERTED=False, CANCELLED=False, CANCELLATION_REASON=None, AIR_SYSTEM_DELAY=None, SECURITY_DELAY=None, AIRLINE_DELAY=None, LATE_AIRCRAFT_DELAY=None, WEATHER_DELAY=None, DATE=datetime.date(2015, 11, 15)),\n",
       " Row(YEAR=2015, MONTH=11, DAY=16, DAY_OF_WEEK=1, AIRLINE='AS', FLIGHT_NUMBER='98', TAIL_NUMBER='N514AS', ORIGIN_AIRPORT='ANC', DESTINATION_AIRPORT='SEA', SCHEDULED_DEPARTURE='1645', DEPARTURE_TIME='1647', DEPARTURE_DELAY=2, TAXI_OUT=19, WHEELS_OFF='1706', SCHEDULED_TIME=204, ELAPSED_TIME=204, AIR_TIME=176, DISTANCE=1448, WHEELS_ON='2102', TAXI_IN=9, SCHEDULED_ARRIVAL='2109', ARRIVAL_TIME='2111', ARRIVAL_DELAY=2, DIVERTED=False, CANCELLED=False, CANCELLATION_REASON=None, AIR_SYSTEM_DELAY=None, SECURITY_DELAY=None, AIRLINE_DELAY=None, LATE_AIRCRAFT_DELAY=None, WEATHER_DELAY=None, DATE=datetime.date(2015, 11, 16)),\n",
       " Row(YEAR=2015, MONTH=11, DAY=17, DAY_OF_WEEK=2, AIRLINE='AS', FLIGHT_NUMBER='98', TAIL_NUMBER='N562AS', ORIGIN_AIRPORT='ANC', DESTINATION_AIRPORT='SEA', SCHEDULED_DEPARTURE='1645', DEPARTURE_TIME='1642', DEPARTURE_DELAY=-3, TAXI_OUT=9, WHEELS_OFF='1651', SCHEDULED_TIME=204, ELAPSED_TIME=177, AIR_TIME=159, DISTANCE=1448, WHEELS_ON='2030', TAXI_IN=9, SCHEDULED_ARRIVAL='2109', ARRIVAL_TIME='2039', ARRIVAL_DELAY=-30, DIVERTED=False, CANCELLED=False, CANCELLATION_REASON=None, AIR_SYSTEM_DELAY=None, SECURITY_DELAY=None, AIRLINE_DELAY=None, LATE_AIRCRAFT_DELAY=None, WEATHER_DELAY=None, DATE=datetime.date(2015, 11, 17)),\n",
       " Row(YEAR=2015, MONTH=11, DAY=19, DAY_OF_WEEK=4, AIRLINE='AS', FLIGHT_NUMBER='98', TAIL_NUMBER='N523AS', ORIGIN_AIRPORT='ANC', DESTINATION_AIRPORT='SEA', SCHEDULED_DEPARTURE='1645', DEPARTURE_TIME='1638', DEPARTURE_DELAY=-7, TAXI_OUT=16, WHEELS_OFF='1654', SCHEDULED_TIME=204, ELAPSED_TIME=194, AIR_TIME=171, DISTANCE=1448, WHEELS_ON='2045', TAXI_IN=7, SCHEDULED_ARRIVAL='2109', ARRIVAL_TIME='2052', ARRIVAL_DELAY=-17, DIVERTED=False, CANCELLED=False, CANCELLATION_REASON=None, AIR_SYSTEM_DELAY=None, SECURITY_DELAY=None, AIRLINE_DELAY=None, LATE_AIRCRAFT_DELAY=None, WEATHER_DELAY=None, DATE=datetime.date(2015, 11, 19)),\n",
       " Row(YEAR=2015, MONTH=11, DAY=22, DAY_OF_WEEK=7, AIRLINE='AS', FLIGHT_NUMBER='98', TAIL_NUMBER='N791AS', ORIGIN_AIRPORT='ANC', DESTINATION_AIRPORT='SEA', SCHEDULED_DEPARTURE='1645', DEPARTURE_TIME='1650', DEPARTURE_DELAY=5, TAXI_OUT=18, WHEELS_OFF='1708', SCHEDULED_TIME=205, ELAPSED_TIME=231, AIR_TIME=182, DISTANCE=1448, WHEELS_ON='2110', TAXI_IN=31, SCHEDULED_ARRIVAL='2110', ARRIVAL_TIME='2141', ARRIVAL_DELAY=31, DIVERTED=False, CANCELLED=False, CANCELLATION_REASON=None, AIR_SYSTEM_DELAY=31, SECURITY_DELAY=0, AIRLINE_DELAY=0, LATE_AIRCRAFT_DELAY=0, WEATHER_DELAY=0, DATE=datetime.date(2015, 11, 22)),\n",
       " Row(YEAR=2015, MONTH=11, DAY=23, DAY_OF_WEEK=1, AIRLINE='AS', FLIGHT_NUMBER='98', TAIL_NUMBER='N570AS', ORIGIN_AIRPORT='ANC', DESTINATION_AIRPORT='SEA', SCHEDULED_DEPARTURE='1645', DEPARTURE_TIME='1636', DEPARTURE_DELAY=-9, TAXI_OUT=27, WHEELS_OFF='1703', SCHEDULED_TIME=204, ELAPSED_TIME=207, AIR_TIME=169, DISTANCE=1448, WHEELS_ON='2052', TAXI_IN=11, SCHEDULED_ARRIVAL='2109', ARRIVAL_TIME='2103', ARRIVAL_DELAY=-6, DIVERTED=False, CANCELLED=False, CANCELLATION_REASON=None, AIR_SYSTEM_DELAY=None, SECURITY_DELAY=None, AIRLINE_DELAY=None, LATE_AIRCRAFT_DELAY=None, WEATHER_DELAY=None, DATE=datetime.date(2015, 11, 23)),\n",
       " Row(YEAR=2015, MONTH=11, DAY=24, DAY_OF_WEEK=2, AIRLINE='AS', FLIGHT_NUMBER='98', TAIL_NUMBER='N565AS', ORIGIN_AIRPORT='ANC', DESTINATION_AIRPORT='SEA', SCHEDULED_DEPARTURE='1645', DEPARTURE_TIME='1637', DEPARTURE_DELAY=-8, TAXI_OUT=13, WHEELS_OFF='1650', SCHEDULED_TIME=204, ELAPSED_TIME=189, AIR_TIME=170, DISTANCE=1448, WHEELS_ON='2040', TAXI_IN=6, SCHEDULED_ARRIVAL='2109', ARRIVAL_TIME='2046', ARRIVAL_DELAY=-23, DIVERTED=False, CANCELLED=False, CANCELLATION_REASON=None, AIR_SYSTEM_DELAY=None, SECURITY_DELAY=None, AIRLINE_DELAY=None, LATE_AIRCRAFT_DELAY=None, WEATHER_DELAY=None, DATE=datetime.date(2015, 11, 24)),\n",
       " Row(YEAR=2015, MONTH=11, DAY=26, DAY_OF_WEEK=4, AIRLINE='AS', FLIGHT_NUMBER='98', TAIL_NUMBER='N560AS', ORIGIN_AIRPORT='ANC', DESTINATION_AIRPORT='SEA', SCHEDULED_DEPARTURE='1645', DEPARTURE_TIME='1636', DEPARTURE_DELAY=-9, TAXI_OUT=7, WHEELS_OFF='1643', SCHEDULED_TIME=204, ELAPSED_TIME=204, AIR_TIME=189, DISTANCE=1448, WHEELS_ON='2052', TAXI_IN=8, SCHEDULED_ARRIVAL='2109', ARRIVAL_TIME='2100', ARRIVAL_DELAY=-9, DIVERTED=False, CANCELLED=False, CANCELLATION_REASON=None, AIR_SYSTEM_DELAY=None, SECURITY_DELAY=None, AIRLINE_DELAY=None, LATE_AIRCRAFT_DELAY=None, WEATHER_DELAY=None, DATE=datetime.date(2015, 11, 26)),\n",
       " Row(YEAR=2015, MONTH=11, DAY=29, DAY_OF_WEEK=7, AIRLINE='AS', FLIGHT_NUMBER='98', TAIL_NUMBER='N513AS', ORIGIN_AIRPORT='ANC', DESTINATION_AIRPORT='SEA', SCHEDULED_DEPARTURE='1645', DEPARTURE_TIME='1725', DEPARTURE_DELAY=40, TAXI_OUT=18, WHEELS_OFF='1743', SCHEDULED_TIME=205, ELAPSED_TIME=213, AIR_TIME=186, DISTANCE=1448, WHEELS_ON='2149', TAXI_IN=9, SCHEDULED_ARRIVAL='2110', ARRIVAL_TIME='2158', ARRIVAL_DELAY=48, DIVERTED=False, CANCELLED=False, CANCELLATION_REASON=None, AIR_SYSTEM_DELAY=8, SECURITY_DELAY=0, AIRLINE_DELAY=1, LATE_AIRCRAFT_DELAY=39, WEATHER_DELAY=0, DATE=datetime.date(2015, 11, 29)),\n",
       " Row(YEAR=2015, MONTH=11, DAY=30, DAY_OF_WEEK=1, AIRLINE='AS', FLIGHT_NUMBER='98', TAIL_NUMBER='N527AS', ORIGIN_AIRPORT='ANC', DESTINATION_AIRPORT='SEA', SCHEDULED_DEPARTURE='1645', DEPARTURE_TIME='1636', DEPARTURE_DELAY=-9, TAXI_OUT=11, WHEELS_OFF='1647', SCHEDULED_TIME=204, ELAPSED_TIME=207, AIR_TIME=187, DISTANCE=1448, WHEELS_ON='2054', TAXI_IN=9, SCHEDULED_ARRIVAL='2109', ARRIVAL_TIME='2103', ARRIVAL_DELAY=-6, DIVERTED=False, CANCELLED=False, CANCELLATION_REASON=None, AIR_SYSTEM_DELAY=None, SECURITY_DELAY=None, AIRLINE_DELAY=None, LATE_AIRCRAFT_DELAY=None, WEATHER_DELAY=None, DATE=datetime.date(2015, 11, 30)),\n",
       " Row(YEAR=2015, MONTH=12, DAY=1, DAY_OF_WEEK=2, AIRLINE='AS', FLIGHT_NUMBER='98', TAIL_NUMBER='N549AS', ORIGIN_AIRPORT='ANC', DESTINATION_AIRPORT='SEA', SCHEDULED_DEPARTURE='1645', DEPARTURE_TIME='1646', DEPARTURE_DELAY=1, TAXI_OUT=15, WHEELS_OFF='1701', SCHEDULED_TIME=204, ELAPSED_TIME=219, AIR_TIME=193, DISTANCE=1448, WHEELS_ON='2114', TAXI_IN=11, SCHEDULED_ARRIVAL='2109', ARRIVAL_TIME='2125', ARRIVAL_DELAY=16, DIVERTED=False, CANCELLED=False, CANCELLATION_REASON=None, AIR_SYSTEM_DELAY=16, SECURITY_DELAY=0, AIRLINE_DELAY=0, LATE_AIRCRAFT_DELAY=0, WEATHER_DELAY=0, DATE=datetime.date(2015, 12, 1)),\n",
       " Row(YEAR=2015, MONTH=12, DAY=3, DAY_OF_WEEK=4, AIRLINE='AS', FLIGHT_NUMBER='98', TAIL_NUMBER='N528AS', ORIGIN_AIRPORT='ANC', DESTINATION_AIRPORT='SEA', SCHEDULED_DEPARTURE='1645', DEPARTURE_TIME='1645', DEPARTURE_DELAY=0, TAXI_OUT=13, WHEELS_OFF='1658', SCHEDULED_TIME=204, ELAPSED_TIME=225, AIR_TIME=197, DISTANCE=1448, WHEELS_ON='2115', TAXI_IN=15, SCHEDULED_ARRIVAL='2109', ARRIVAL_TIME='2130', ARRIVAL_DELAY=21, DIVERTED=False, CANCELLED=False, CANCELLATION_REASON=None, AIR_SYSTEM_DELAY=21, SECURITY_DELAY=0, AIRLINE_DELAY=0, LATE_AIRCRAFT_DELAY=0, WEATHER_DELAY=0, DATE=datetime.date(2015, 12, 3)),\n",
       " Row(YEAR=2015, MONTH=12, DAY=6, DAY_OF_WEEK=7, AIRLINE='AS', FLIGHT_NUMBER='98', TAIL_NUMBER='N613AS', ORIGIN_AIRPORT='ANC', DESTINATION_AIRPORT='SEA', SCHEDULED_DEPARTURE='1645', DEPARTURE_TIME='1638', DEPARTURE_DELAY=-7, TAXI_OUT=12, WHEELS_OFF='1650', SCHEDULED_TIME=205, ELAPSED_TIME=210, AIR_TIME=191, DISTANCE=1448, WHEELS_ON='2101', TAXI_IN=7, SCHEDULED_ARRIVAL='2110', ARRIVAL_TIME='2108', ARRIVAL_DELAY=-2, DIVERTED=False, CANCELLED=False, CANCELLATION_REASON=None, AIR_SYSTEM_DELAY=None, SECURITY_DELAY=None, AIRLINE_DELAY=None, LATE_AIRCRAFT_DELAY=None, WEATHER_DELAY=None, DATE=datetime.date(2015, 12, 6)),\n",
       " Row(YEAR=2015, MONTH=12, DAY=7, DAY_OF_WEEK=1, AIRLINE='AS', FLIGHT_NUMBER='98', TAIL_NUMBER='N592AS', ORIGIN_AIRPORT='ANC', DESTINATION_AIRPORT='SEA', SCHEDULED_DEPARTURE='1645', DEPARTURE_TIME='1641', DEPARTURE_DELAY=-4, TAXI_OUT=9, WHEELS_OFF='1650', SCHEDULED_TIME=205, ELAPSED_TIME=202, AIR_TIME=181, DISTANCE=1448, WHEELS_ON='2051', TAXI_IN=12, SCHEDULED_ARRIVAL='2110', ARRIVAL_TIME='2103', ARRIVAL_DELAY=-7, DIVERTED=False, CANCELLED=False, CANCELLATION_REASON=None, AIR_SYSTEM_DELAY=None, SECURITY_DELAY=None, AIRLINE_DELAY=None, LATE_AIRCRAFT_DELAY=None, WEATHER_DELAY=None, DATE=datetime.date(2015, 12, 7)),\n",
       " Row(YEAR=2015, MONTH=12, DAY=8, DAY_OF_WEEK=2, AIRLINE='AS', FLIGHT_NUMBER='98', TAIL_NUMBER='N577AS', ORIGIN_AIRPORT='ANC', DESTINATION_AIRPORT='SEA', SCHEDULED_DEPARTURE='1645', DEPARTURE_TIME='1639', DEPARTURE_DELAY=-6, TAXI_OUT=8, WHEELS_OFF='1647', SCHEDULED_TIME=205, ELAPSED_TIME=207, AIR_TIME=190, DISTANCE=1448, WHEELS_ON='2057', TAXI_IN=9, SCHEDULED_ARRIVAL='2110', ARRIVAL_TIME='2106', ARRIVAL_DELAY=-4, DIVERTED=False, CANCELLED=False, CANCELLATION_REASON=None, AIR_SYSTEM_DELAY=None, SECURITY_DELAY=None, AIRLINE_DELAY=None, LATE_AIRCRAFT_DELAY=None, WEATHER_DELAY=None, DATE=datetime.date(2015, 12, 8)),\n",
       " Row(YEAR=2015, MONTH=12, DAY=10, DAY_OF_WEEK=4, AIRLINE='AS', FLIGHT_NUMBER='98', TAIL_NUMBER='N795AS', ORIGIN_AIRPORT='ANC', DESTINATION_AIRPORT='SEA', SCHEDULED_DEPARTURE='1645', DEPARTURE_TIME='1636', DEPARTURE_DELAY=-9, TAXI_OUT=13, WHEELS_OFF='1649', SCHEDULED_TIME=205, ELAPSED_TIME=228, AIR_TIME=208, DISTANCE=1448, WHEELS_ON='2117', TAXI_IN=7, SCHEDULED_ARRIVAL='2110', ARRIVAL_TIME='2124', ARRIVAL_DELAY=14, DIVERTED=False, CANCELLED=False, CANCELLATION_REASON=None, AIR_SYSTEM_DELAY=None, SECURITY_DELAY=None, AIRLINE_DELAY=None, LATE_AIRCRAFT_DELAY=None, WEATHER_DELAY=None, DATE=datetime.date(2015, 12, 10)),\n",
       " Row(YEAR=2015, MONTH=12, DAY=13, DAY_OF_WEEK=7, AIRLINE='AS', FLIGHT_NUMBER='98', TAIL_NUMBER='N703AS', ORIGIN_AIRPORT='ANC', DESTINATION_AIRPORT='SEA', SCHEDULED_DEPARTURE='1645', DEPARTURE_TIME='1634', DEPARTURE_DELAY=-11, TAXI_OUT=29, WHEELS_OFF='1703', SCHEDULED_TIME=205, ELAPSED_TIME=207, AIR_TIME=172, DISTANCE=1448, WHEELS_ON='2055', TAXI_IN=6, SCHEDULED_ARRIVAL='2110', ARRIVAL_TIME='2101', ARRIVAL_DELAY=-9, DIVERTED=False, CANCELLED=False, CANCELLATION_REASON=None, AIR_SYSTEM_DELAY=None, SECURITY_DELAY=None, AIRLINE_DELAY=None, LATE_AIRCRAFT_DELAY=None, WEATHER_DELAY=None, DATE=datetime.date(2015, 12, 13)),\n",
       " Row(YEAR=2015, MONTH=12, DAY=14, DAY_OF_WEEK=1, AIRLINE='AS', FLIGHT_NUMBER='98', TAIL_NUMBER='N585AS', ORIGIN_AIRPORT='ANC', DESTINATION_AIRPORT='SEA', SCHEDULED_DEPARTURE='1645', DEPARTURE_TIME='1641', DEPARTURE_DELAY=-4, TAXI_OUT=18, WHEELS_OFF='1659', SCHEDULED_TIME=205, ELAPSED_TIME=189, AIR_TIME=164, DISTANCE=1448, WHEELS_ON='2043', TAXI_IN=7, SCHEDULED_ARRIVAL='2110', ARRIVAL_TIME='2050', ARRIVAL_DELAY=-20, DIVERTED=False, CANCELLED=False, CANCELLATION_REASON=None, AIR_SYSTEM_DELAY=None, SECURITY_DELAY=None, AIRLINE_DELAY=None, LATE_AIRCRAFT_DELAY=None, WEATHER_DELAY=None, DATE=datetime.date(2015, 12, 14)),\n",
       " Row(YEAR=2015, MONTH=12, DAY=15, DAY_OF_WEEK=2, AIRLINE='AS', FLIGHT_NUMBER='98', TAIL_NUMBER='N536AS', ORIGIN_AIRPORT='ANC', DESTINATION_AIRPORT='SEA', SCHEDULED_DEPARTURE='1645', DEPARTURE_TIME='1643', DEPARTURE_DELAY=-2, TAXI_OUT=21, WHEELS_OFF='1704', SCHEDULED_TIME=205, ELAPSED_TIME=201, AIR_TIME=169, DISTANCE=1448, WHEELS_ON='2053', TAXI_IN=11, SCHEDULED_ARRIVAL='2110', ARRIVAL_TIME='2104', ARRIVAL_DELAY=-6, DIVERTED=False, CANCELLED=False, CANCELLATION_REASON=None, AIR_SYSTEM_DELAY=None, SECURITY_DELAY=None, AIRLINE_DELAY=None, LATE_AIRCRAFT_DELAY=None, WEATHER_DELAY=None, DATE=datetime.date(2015, 12, 15)),\n",
       " Row(YEAR=2015, MONTH=12, DAY=17, DAY_OF_WEEK=4, AIRLINE='AS', FLIGHT_NUMBER='98', TAIL_NUMBER='N548AS', ORIGIN_AIRPORT='ANC', DESTINATION_AIRPORT='SEA', SCHEDULED_DEPARTURE='1645', DEPARTURE_TIME='1640', DEPARTURE_DELAY=-5, TAXI_OUT=10, WHEELS_OFF='1650', SCHEDULED_TIME=205, ELAPSED_TIME=212, AIR_TIME=193, DISTANCE=1448, WHEELS_ON='2103', TAXI_IN=9, SCHEDULED_ARRIVAL='2110', ARRIVAL_TIME='2112', ARRIVAL_DELAY=2, DIVERTED=False, CANCELLED=False, CANCELLATION_REASON=None, AIR_SYSTEM_DELAY=None, SECURITY_DELAY=None, AIRLINE_DELAY=None, LATE_AIRCRAFT_DELAY=None, WEATHER_DELAY=None, DATE=datetime.date(2015, 12, 17)),\n",
       " Row(YEAR=2015, MONTH=12, DAY=20, DAY_OF_WEEK=7, AIRLINE='AS', FLIGHT_NUMBER='98', TAIL_NUMBER='N799AS', ORIGIN_AIRPORT='ANC', DESTINATION_AIRPORT='SEA', SCHEDULED_DEPARTURE='1645', DEPARTURE_TIME='1637', DEPARTURE_DELAY=-8, TAXI_OUT=17, WHEELS_OFF='1654', SCHEDULED_TIME=205, ELAPSED_TIME=214, AIR_TIME=186, DISTANCE=1448, WHEELS_ON='2100', TAXI_IN=11, SCHEDULED_ARRIVAL='2110', ARRIVAL_TIME='2111', ARRIVAL_DELAY=1, DIVERTED=False, CANCELLED=False, CANCELLATION_REASON=None, AIR_SYSTEM_DELAY=None, SECURITY_DELAY=None, AIRLINE_DELAY=None, LATE_AIRCRAFT_DELAY=None, WEATHER_DELAY=None, DATE=datetime.date(2015, 12, 20)),\n",
       " Row(YEAR=2015, MONTH=12, DAY=21, DAY_OF_WEEK=1, AIRLINE='AS', FLIGHT_NUMBER='98', TAIL_NUMBER='N530AS', ORIGIN_AIRPORT='ANC', DESTINATION_AIRPORT='SEA', SCHEDULED_DEPARTURE='1645', DEPARTURE_TIME='1633', DEPARTURE_DELAY=-12, TAXI_OUT=14, WHEELS_OFF='1647', SCHEDULED_TIME=205, ELAPSED_TIME=188, AIR_TIME=158, DISTANCE=1448, WHEELS_ON='2025', TAXI_IN=16, SCHEDULED_ARRIVAL='2110', ARRIVAL_TIME='2041', ARRIVAL_DELAY=-29, DIVERTED=False, CANCELLED=False, CANCELLATION_REASON=None, AIR_SYSTEM_DELAY=None, SECURITY_DELAY=None, AIRLINE_DELAY=None, LATE_AIRCRAFT_DELAY=None, WEATHER_DELAY=None, DATE=datetime.date(2015, 12, 21)),\n",
       " Row(YEAR=2015, MONTH=12, DAY=22, DAY_OF_WEEK=2, AIRLINE='AS', FLIGHT_NUMBER='98', TAIL_NUMBER='N533AS', ORIGIN_AIRPORT='ANC', DESTINATION_AIRPORT='SEA', SCHEDULED_DEPARTURE='1645', DEPARTURE_TIME='1638', DEPARTURE_DELAY=-7, TAXI_OUT=13, WHEELS_OFF='1651', SCHEDULED_TIME=205, ELAPSED_TIME=189, AIR_TIME=170, DISTANCE=1448, WHEELS_ON='2041', TAXI_IN=6, SCHEDULED_ARRIVAL='2110', ARRIVAL_TIME='2047', ARRIVAL_DELAY=-23, DIVERTED=False, CANCELLED=False, CANCELLATION_REASON=None, AIR_SYSTEM_DELAY=None, SECURITY_DELAY=None, AIRLINE_DELAY=None, LATE_AIRCRAFT_DELAY=None, WEATHER_DELAY=None, DATE=datetime.date(2015, 12, 22)),\n",
       " Row(YEAR=2015, MONTH=12, DAY=24, DAY_OF_WEEK=4, AIRLINE='AS', FLIGHT_NUMBER='98', TAIL_NUMBER='N528AS', ORIGIN_AIRPORT='ANC', DESTINATION_AIRPORT='SEA', SCHEDULED_DEPARTURE='1645', DEPARTURE_TIME='1636', DEPARTURE_DELAY=-9, TAXI_OUT=9, WHEELS_OFF='1645', SCHEDULED_TIME=205, ELAPSED_TIME=185, AIR_TIME=170, DISTANCE=1448, WHEELS_ON='2035', TAXI_IN=6, SCHEDULED_ARRIVAL='2110', ARRIVAL_TIME='2041', ARRIVAL_DELAY=-29, DIVERTED=False, CANCELLED=False, CANCELLATION_REASON=None, AIR_SYSTEM_DELAY=None, SECURITY_DELAY=None, AIRLINE_DELAY=None, LATE_AIRCRAFT_DELAY=None, WEATHER_DELAY=None, DATE=datetime.date(2015, 12, 24)),\n",
       " Row(YEAR=2015, MONTH=12, DAY=27, DAY_OF_WEEK=7, AIRLINE='AS', FLIGHT_NUMBER='98', TAIL_NUMBER='N705AS', ORIGIN_AIRPORT='ANC', DESTINATION_AIRPORT='SEA', SCHEDULED_DEPARTURE='1645', DEPARTURE_TIME='1727', DEPARTURE_DELAY=42, TAXI_OUT=8, WHEELS_OFF='1735', SCHEDULED_TIME=205, ELAPSED_TIME=195, AIR_TIME=174, DISTANCE=1448, WHEELS_ON='2129', TAXI_IN=13, SCHEDULED_ARRIVAL='2110', ARRIVAL_TIME='2142', ARRIVAL_DELAY=32, DIVERTED=False, CANCELLED=False, CANCELLATION_REASON=None, AIR_SYSTEM_DELAY=0, SECURITY_DELAY=0, AIRLINE_DELAY=32, LATE_AIRCRAFT_DELAY=0, WEATHER_DELAY=0, DATE=datetime.date(2015, 12, 27)),\n",
       " Row(YEAR=2015, MONTH=12, DAY=28, DAY_OF_WEEK=1, AIRLINE='AS', FLIGHT_NUMBER='98', TAIL_NUMBER='N583AS', ORIGIN_AIRPORT='ANC', DESTINATION_AIRPORT='SEA', SCHEDULED_DEPARTURE='1645', DEPARTURE_TIME='1822', DEPARTURE_DELAY=97, TAXI_OUT=9, WHEELS_OFF='1831', SCHEDULED_TIME=205, ELAPSED_TIME=194, AIR_TIME=179, DISTANCE=1448, WHEELS_ON='2230', TAXI_IN=6, SCHEDULED_ARRIVAL='2110', ARRIVAL_TIME='2236', ARRIVAL_DELAY=86, DIVERTED=False, CANCELLED=False, CANCELLATION_REASON=None, AIR_SYSTEM_DELAY=0, SECURITY_DELAY=0, AIRLINE_DELAY=86, LATE_AIRCRAFT_DELAY=0, WEATHER_DELAY=0, DATE=datetime.date(2015, 12, 28)),\n",
       " Row(YEAR=2015, MONTH=12, DAY=29, DAY_OF_WEEK=2, AIRLINE='AS', FLIGHT_NUMBER='98', TAIL_NUMBER='N793AS', ORIGIN_AIRPORT='ANC', DESTINATION_AIRPORT='SEA', SCHEDULED_DEPARTURE='1645', DEPARTURE_TIME='1642', DEPARTURE_DELAY=-3, TAXI_OUT=31, WHEELS_OFF='1713', SCHEDULED_TIME=205, ELAPSED_TIME=233, AIR_TIME=194, DISTANCE=1448, WHEELS_ON='2127', TAXI_IN=8, SCHEDULED_ARRIVAL='2110', ARRIVAL_TIME='2135', ARRIVAL_DELAY=25, DIVERTED=False, CANCELLED=False, CANCELLATION_REASON=None, AIR_SYSTEM_DELAY=25, SECURITY_DELAY=0, AIRLINE_DELAY=0, LATE_AIRCRAFT_DELAY=0, WEATHER_DELAY=0, DATE=datetime.date(2015, 12, 29)),\n",
       " Row(YEAR=2015, MONTH=12, DAY=31, DAY_OF_WEEK=4, AIRLINE='AS', FLIGHT_NUMBER='98', TAIL_NUMBER='N527AS', ORIGIN_AIRPORT='ANC', DESTINATION_AIRPORT='SEA', SCHEDULED_DEPARTURE='1645', DEPARTURE_TIME='1636', DEPARTURE_DELAY=-9, TAXI_OUT=16, WHEELS_OFF='1652', SCHEDULED_TIME=205, ELAPSED_TIME=213, AIR_TIME=190, DISTANCE=1448, WHEELS_ON='2102', TAXI_IN=7, SCHEDULED_ARRIVAL='2110', ARRIVAL_TIME='2109', ARRIVAL_DELAY=-1, DIVERTED=False, CANCELLED=False, CANCELLATION_REASON=None, AIR_SYSTEM_DELAY=None, SECURITY_DELAY=None, AIRLINE_DELAY=None, LATE_AIRCRAFT_DELAY=None, WEATHER_DELAY=None, DATE=datetime.date(2015, 12, 31))]"
      ]
     },
     "execution_count": 77,
     "metadata": {},
     "output_type": "execute_result"
    }
   ],
   "source": [
    "df.filter((df['AIRLINE'] == 'AS') & (df['FLIGHT_NUMBER'] == 98)).tail(50)"
   ]
  },
  {
   "cell_type": "markdown",
   "metadata": {},
   "source": [
    "#### Post cleaning statistics"
   ]
  },
  {
   "cell_type": "code",
   "execution_count": 30,
   "metadata": {},
   "outputs": [
    {
     "name": "stdout",
     "output_type": "stream",
     "text": [
      "root\n",
      " |-- YEAR: integer (nullable = true)\n",
      " |-- MONTH: integer (nullable = true)\n",
      " |-- DAY: integer (nullable = true)\n",
      " |-- DAY_OF_WEEK: integer (nullable = true)\n",
      " |-- AIRLINE: string (nullable = true)\n",
      " |-- FLIGHT_NUMBER: string (nullable = true)\n",
      " |-- TAIL_NUMBER: string (nullable = true)\n",
      " |-- ORIGIN_AIRPORT: string (nullable = true)\n",
      " |-- DESTINATION_AIRPORT: string (nullable = true)\n",
      " |-- SCHEDULED_DEPARTURE: string (nullable = true)\n",
      " |-- DEPARTURE_TIME: string (nullable = true)\n",
      " |-- DEPARTURE_DELAY: integer (nullable = true)\n",
      " |-- TAXI_OUT: integer (nullable = true)\n",
      " |-- WHEELS_OFF: string (nullable = true)\n",
      " |-- SCHEDULED_TIME: integer (nullable = true)\n",
      " |-- ELAPSED_TIME: integer (nullable = true)\n",
      " |-- AIR_TIME: integer (nullable = true)\n",
      " |-- DISTANCE: integer (nullable = true)\n",
      " |-- WHEELS_ON: string (nullable = true)\n",
      " |-- TAXI_IN: integer (nullable = true)\n",
      " |-- SCHEDULED_ARRIVAL: string (nullable = true)\n",
      " |-- ARRIVAL_TIME: string (nullable = true)\n",
      " |-- ARRIVAL_DELAY: integer (nullable = true)\n",
      " |-- DIVERTED: boolean (nullable = true)\n",
      " |-- CANCELLED: boolean (nullable = true)\n",
      " |-- CANCELLATION_REASON: string (nullable = true)\n",
      " |-- AIR_SYSTEM_DELAY: integer (nullable = true)\n",
      " |-- SECURITY_DELAY: integer (nullable = true)\n",
      " |-- AIRLINE_DELAY: integer (nullable = true)\n",
      " |-- LATE_AIRCRAFT_DELAY: integer (nullable = true)\n",
      " |-- WEATHER_DELAY: integer (nullable = true)\n",
      " |-- DATE: date (nullable = true)\n",
      "\n"
     ]
    }
   ],
   "source": [
    "df.printSchema()"
   ]
  },
  {
   "cell_type": "code",
   "execution_count": 52,
   "metadata": {},
   "outputs": [
    {
     "data": {
      "text/html": [
       "<div>\n",
       "<style scoped>\n",
       "    .dataframe tbody tr th:only-of-type {\n",
       "        vertical-align: middle;\n",
       "    }\n",
       "\n",
       "    .dataframe tbody tr th {\n",
       "        vertical-align: top;\n",
       "    }\n",
       "\n",
       "    .dataframe thead th {\n",
       "        text-align: right;\n",
       "    }\n",
       "</style>\n",
       "<table border=\"1\" class=\"dataframe\">\n",
       "  <thead>\n",
       "    <tr style=\"text-align: right;\">\n",
       "      <th></th>\n",
       "      <th>Column</th>\n",
       "      <th>Dtype</th>\n",
       "    </tr>\n",
       "  </thead>\n",
       "  <tbody>\n",
       "    <tr>\n",
       "      <th>0</th>\n",
       "      <td>YEAR</td>\n",
       "      <td>int</td>\n",
       "    </tr>\n",
       "    <tr>\n",
       "      <th>1</th>\n",
       "      <td>MONTH</td>\n",
       "      <td>int</td>\n",
       "    </tr>\n",
       "    <tr>\n",
       "      <th>2</th>\n",
       "      <td>DAY</td>\n",
       "      <td>int</td>\n",
       "    </tr>\n",
       "    <tr>\n",
       "      <th>3</th>\n",
       "      <td>DAY_OF_WEEK</td>\n",
       "      <td>int</td>\n",
       "    </tr>\n",
       "    <tr>\n",
       "      <th>4</th>\n",
       "      <td>AIRLINE</td>\n",
       "      <td>string</td>\n",
       "    </tr>\n",
       "    <tr>\n",
       "      <th>5</th>\n",
       "      <td>FLIGHT_NUMBER</td>\n",
       "      <td>string</td>\n",
       "    </tr>\n",
       "    <tr>\n",
       "      <th>6</th>\n",
       "      <td>TAIL_NUMBER</td>\n",
       "      <td>string</td>\n",
       "    </tr>\n",
       "    <tr>\n",
       "      <th>7</th>\n",
       "      <td>ORIGIN_AIRPORT</td>\n",
       "      <td>string</td>\n",
       "    </tr>\n",
       "    <tr>\n",
       "      <th>8</th>\n",
       "      <td>DESTINATION_AIRPORT</td>\n",
       "      <td>string</td>\n",
       "    </tr>\n",
       "    <tr>\n",
       "      <th>9</th>\n",
       "      <td>SCHEDULED_DEPARTURE</td>\n",
       "      <td>string</td>\n",
       "    </tr>\n",
       "    <tr>\n",
       "      <th>10</th>\n",
       "      <td>DEPARTURE_TIME</td>\n",
       "      <td>string</td>\n",
       "    </tr>\n",
       "    <tr>\n",
       "      <th>11</th>\n",
       "      <td>DEPARTURE_DELAY</td>\n",
       "      <td>int</td>\n",
       "    </tr>\n",
       "    <tr>\n",
       "      <th>12</th>\n",
       "      <td>TAXI_OUT</td>\n",
       "      <td>int</td>\n",
       "    </tr>\n",
       "    <tr>\n",
       "      <th>13</th>\n",
       "      <td>WHEELS_OFF</td>\n",
       "      <td>string</td>\n",
       "    </tr>\n",
       "    <tr>\n",
       "      <th>14</th>\n",
       "      <td>SCHEDULED_TIME</td>\n",
       "      <td>int</td>\n",
       "    </tr>\n",
       "    <tr>\n",
       "      <th>15</th>\n",
       "      <td>ELAPSED_TIME</td>\n",
       "      <td>int</td>\n",
       "    </tr>\n",
       "    <tr>\n",
       "      <th>16</th>\n",
       "      <td>AIR_TIME</td>\n",
       "      <td>int</td>\n",
       "    </tr>\n",
       "    <tr>\n",
       "      <th>17</th>\n",
       "      <td>DISTANCE</td>\n",
       "      <td>int</td>\n",
       "    </tr>\n",
       "    <tr>\n",
       "      <th>18</th>\n",
       "      <td>WHEELS_ON</td>\n",
       "      <td>string</td>\n",
       "    </tr>\n",
       "    <tr>\n",
       "      <th>19</th>\n",
       "      <td>TAXI_IN</td>\n",
       "      <td>int</td>\n",
       "    </tr>\n",
       "    <tr>\n",
       "      <th>20</th>\n",
       "      <td>SCHEDULED_ARRIVAL</td>\n",
       "      <td>string</td>\n",
       "    </tr>\n",
       "    <tr>\n",
       "      <th>21</th>\n",
       "      <td>ARRIVAL_TIME</td>\n",
       "      <td>string</td>\n",
       "    </tr>\n",
       "    <tr>\n",
       "      <th>22</th>\n",
       "      <td>ARRIVAL_DELAY</td>\n",
       "      <td>int</td>\n",
       "    </tr>\n",
       "    <tr>\n",
       "      <th>23</th>\n",
       "      <td>DIVERTED</td>\n",
       "      <td>boolean</td>\n",
       "    </tr>\n",
       "    <tr>\n",
       "      <th>24</th>\n",
       "      <td>CANCELLED</td>\n",
       "      <td>boolean</td>\n",
       "    </tr>\n",
       "    <tr>\n",
       "      <th>25</th>\n",
       "      <td>CANCELLATION_REASON</td>\n",
       "      <td>string</td>\n",
       "    </tr>\n",
       "    <tr>\n",
       "      <th>26</th>\n",
       "      <td>AIR_SYSTEM_DELAY</td>\n",
       "      <td>int</td>\n",
       "    </tr>\n",
       "    <tr>\n",
       "      <th>27</th>\n",
       "      <td>SECURITY_DELAY</td>\n",
       "      <td>int</td>\n",
       "    </tr>\n",
       "    <tr>\n",
       "      <th>28</th>\n",
       "      <td>AIRLINE_DELAY</td>\n",
       "      <td>int</td>\n",
       "    </tr>\n",
       "    <tr>\n",
       "      <th>29</th>\n",
       "      <td>LATE_AIRCRAFT_DELAY</td>\n",
       "      <td>int</td>\n",
       "    </tr>\n",
       "    <tr>\n",
       "      <th>30</th>\n",
       "      <td>WEATHER_DELAY</td>\n",
       "      <td>int</td>\n",
       "    </tr>\n",
       "    <tr>\n",
       "      <th>31</th>\n",
       "      <td>DATE</td>\n",
       "      <td>date</td>\n",
       "    </tr>\n",
       "  </tbody>\n",
       "</table>\n",
       "</div>"
      ],
      "text/plain": [
       "                 Column    Dtype\n",
       "0                  YEAR      int\n",
       "1                 MONTH      int\n",
       "2                   DAY      int\n",
       "3           DAY_OF_WEEK      int\n",
       "4               AIRLINE   string\n",
       "5         FLIGHT_NUMBER   string\n",
       "6           TAIL_NUMBER   string\n",
       "7        ORIGIN_AIRPORT   string\n",
       "8   DESTINATION_AIRPORT   string\n",
       "9   SCHEDULED_DEPARTURE   string\n",
       "10       DEPARTURE_TIME   string\n",
       "11      DEPARTURE_DELAY      int\n",
       "12             TAXI_OUT      int\n",
       "13           WHEELS_OFF   string\n",
       "14       SCHEDULED_TIME      int\n",
       "15         ELAPSED_TIME      int\n",
       "16             AIR_TIME      int\n",
       "17             DISTANCE      int\n",
       "18            WHEELS_ON   string\n",
       "19              TAXI_IN      int\n",
       "20    SCHEDULED_ARRIVAL   string\n",
       "21         ARRIVAL_TIME   string\n",
       "22        ARRIVAL_DELAY      int\n",
       "23             DIVERTED  boolean\n",
       "24            CANCELLED  boolean\n",
       "25  CANCELLATION_REASON   string\n",
       "26     AIR_SYSTEM_DELAY      int\n",
       "27       SECURITY_DELAY      int\n",
       "28        AIRLINE_DELAY      int\n",
       "29  LATE_AIRCRAFT_DELAY      int\n",
       "30        WEATHER_DELAY      int\n",
       "31                 DATE     date"
      ]
     },
     "execution_count": 52,
     "metadata": {},
     "output_type": "execute_result"
    }
   ],
   "source": [
    "# DTypes in pd formatting\n",
    "pd.DataFrame(df.dtypes, columns=['Column', 'Dtype'])"
   ]
  },
  {
   "cell_type": "markdown",
   "metadata": {},
   "source": []
  },
  {
   "cell_type": "markdown",
   "metadata": {},
   "source": [
    "### Step 3: Define the Data Model\n",
    "#### 3.1 Conceptual Data Model\n",
    "Map out the conceptual data model and explain why you chose that model\n",
    "\n",
    "##### FLIGHTS table fact\n",
    "- ID PK serial PK\n",
    "- FLIGHT_ID serial FK SCHEDULE\n",
    "- DEPARTURE_TIME\n",
    "- DEPARTURE_DELAY int\n",
    "- TAXI_OUT int\n",
    "- WHEELS_OFF\n",
    "- ELAPSED_TIME\n",
    "- AIR_TIME\n",
    "- WHEELS_ON\n",
    "- TAXI_IN\n",
    "- ARRIVAL_TIME\n",
    "- ARRIVAL_DELAY\n",
    "- DIVERTED\n",
    "- CANCELLED\n",
    "- CANCELLATION_REASON\n",
    "- AIR_SYSTEM_DELAY\n",
    "- SECURITY_DELAY\n",
    "- AIRLINE_DELAY\n",
    "- LATE_AIRCRAFT_DELAY\n",
    "- DATE\n",
    "\n",
    "\n",
    "##### SCHEDULE table dim\n",
    "- FLIGHT_ID serial PK composite key AIRLINE FLIGHT NUMBER SCHEDULED DEPARTURE SCHEDULED TIME\n",
    "- AIRLINE str\n",
    "- FLIGHT_NUMBER str\n",
    "- TAIL_NUMBER str\n",
    "- ORIGIN_AIRPORT\n",
    "- DESTINATION_AIRPORT\n",
    "- SCHEDULED_DEPARTURE\n",
    "- SCHEDULED_TIME\n",
    "- DISTANCE\n",
    "- SCHEDULED_ARRIVAL\n",
    "\n",
    "##### AIRPORTS table dim\n",
    "- IATA_CODE serial PK\n",
    "- AIRPORT str\n",
    "- CITY_ID serial FK CITIES\n",
    "- LATITUDE\n",
    "- LONGITUDE\n",
    "\n",
    "##### AIRLINES table dim\n",
    "- IATA_CODE serial PK\n",
    "- AIRLINE str\n",
    "\n",
    "##### CITIES table dim\n",
    "- ID serial PK\n",
    "- CITY str UNIQUE\n",
    "- STATE str\n",
    "- COUNTRY str\n",
    "\n",
    "#### TIME table dim\n",
    "- DATE date PK\n",
    "- YEAR\n",
    "- MONTH\n",
    "- DAY\n",
    "- DAY_OF_WEEK\n",
    "\n",
    "![Image](Img\\data-org-chart.png)\n",
    "\n",
    "#### 3.2 Mapping Out Data Pipelines\n",
    "List the steps necessary to pipeline the data into the chosen data model\n",
    "\n",
    "1. Create a new column ID for storing primary key of FLIGHTS fact table by generating serial for each row in df\n",
    "2. Create a new columns FLIGHTS_ID for storing primary key of SCHEDULE dim table by creating composite key by concating AIRLINE, FLIGHT_NUMBER, SCHEDULED_DEPARTURE, SCHEDULED_ARRIVAL\n",
    "3. Create a FLIGHTS fact table by selecting columns into flights_df dataframe\n",
    "4. Save FLIGHTS table in PARQUET format partitioning by YEAR > MONTH > DAY\n",
    "5. Create SCHEDULE dim table by selecting appropriate columns with unique FLIGHT_IDs into schedule_df dataframe\n",
    "6. Save SCHEDULE table in PARQUET format\n",
    "7. Create CITY dim table by selecting appropriate columns with unique composite key CITY, STATE, COUNTRY and generate CITY_ID\n",
    "8. Save CITY dim table as parquet partitioning by COUNTRY, STATE\n",
    "9. Create AIRPORTS dim table by selecting appropriate columns \n",
    "10. Save AIRPORTS dim table in PARQUET format partitioning by first letter of IATA_CODE\n",
    "11. Create AIRLINES dim table by slecting appropriate columns paritioning by first letter of IATA_CODE\n"
   ]
  },
  {
   "cell_type": "markdown",
   "metadata": {},
   "source": [
    "### Step 4: Run Pipelines to Model the Data \n",
    "#### 4.1 Create the data model\n",
    "Build the data pipelines to create the data model."
   ]
  },
  {
   "cell_type": "code",
   "execution_count": 83,
   "metadata": {},
   "outputs": [],
   "source": [
    "# Generate ID columns\n",
    "\n",
    "df = df.withColumn('ID', F.monotonically_increasing_id())\n",
    "df = df.withColumn('FLIGHT_ID', F.concat(col('AIRLINE'), col('FLIGHT_NUMBER'), col('SCHEDULED_DEPARTURE'), col('SCHEDULED_ARRIVAL')))\n",
    "\n",
    "## \n",
    "\n",
    "# w = Window().partitionBy('CITY', 'STATE', 'COUNTRY')\n",
    "airports_df = airports_df.withColumn('CITY_ID', F.monotonically_increasing_id())\n",
    "\n",
    "# FLIGHTS fact table\n",
    "\n",
    "# flights_df = df.select(\"\")"
   ]
  },
  {
   "cell_type": "code",
   "execution_count": 89,
   "metadata": {},
   "outputs": [
    {
     "name": "stderr",
     "output_type": "stream",
     "text": [
      "Traceback (most recent call last):\n",
      "  File \"c:\\Users\\Jakub.Pitera\\Anaconda3\\envs\\udacity\\Lib\\site-packages\\pyspark\\serializers.py\", line 458, in dumps\n",
      "    return cloudpickle.dumps(obj, pickle_protocol)\n",
      "           ^^^^^^^^^^^^^^^^^^^^^^^^^^^^^^^^^^^^^^^\n",
      "  File \"c:\\Users\\Jakub.Pitera\\Anaconda3\\envs\\udacity\\Lib\\site-packages\\pyspark\\cloudpickle\\cloudpickle_fast.py\", line 73, in dumps\n",
      "    cp.dump(obj)\n",
      "  File \"c:\\Users\\Jakub.Pitera\\Anaconda3\\envs\\udacity\\Lib\\site-packages\\pyspark\\cloudpickle\\cloudpickle_fast.py\", line 602, in dump\n",
      "    return Pickler.dump(self, obj)\n",
      "           ^^^^^^^^^^^^^^^^^^^^^^^\n",
      "  File \"c:\\Users\\Jakub.Pitera\\Anaconda3\\envs\\udacity\\Lib\\site-packages\\pyspark\\cloudpickle\\cloudpickle_fast.py\", line 692, in reducer_override\n",
      "    return self._function_reduce(obj)\n",
      "           ^^^^^^^^^^^^^^^^^^^^^^^^^^\n",
      "  File \"c:\\Users\\Jakub.Pitera\\Anaconda3\\envs\\udacity\\Lib\\site-packages\\pyspark\\cloudpickle\\cloudpickle_fast.py\", line 565, in _function_reduce\n",
      "    return self._dynamic_function_reduce(obj)\n",
      "           ^^^^^^^^^^^^^^^^^^^^^^^^^^^^^^^^^^\n",
      "  File \"c:\\Users\\Jakub.Pitera\\Anaconda3\\envs\\udacity\\Lib\\site-packages\\pyspark\\cloudpickle\\cloudpickle_fast.py\", line 546, in _dynamic_function_reduce\n",
      "    state = _function_getstate(func)\n",
      "            ^^^^^^^^^^^^^^^^^^^^^^^^\n",
      "  File \"c:\\Users\\Jakub.Pitera\\Anaconda3\\envs\\udacity\\Lib\\site-packages\\pyspark\\cloudpickle\\cloudpickle_fast.py\", line 157, in _function_getstate\n",
      "    f_globals_ref = _extract_code_globals(func.__code__)\n",
      "                    ^^^^^^^^^^^^^^^^^^^^^^^^^^^^^^^^^^^^\n",
      "  File \"c:\\Users\\Jakub.Pitera\\Anaconda3\\envs\\udacity\\Lib\\site-packages\\pyspark\\cloudpickle\\cloudpickle.py\", line 334, in _extract_code_globals\n",
      "    out_names = {names[oparg]: None for _, oparg in _walk_global_ops(co)}\n",
      "                 ~~~~~^^^^^^^\n",
      "IndexError: tuple index out of range\n"
     ]
    },
    {
     "ename": "PicklingError",
     "evalue": "Could not serialize object: IndexError: tuple index out of range",
     "output_type": "error",
     "traceback": [
      "\u001b[1;31m---------------------------------------------------------------------------\u001b[0m",
      "\u001b[1;31mIndexError\u001b[0m                                Traceback (most recent call last)",
      "File \u001b[1;32mc:\\Users\\Jakub.Pitera\\Anaconda3\\envs\\udacity\\Lib\\site-packages\\pyspark\\serializers.py:458\u001b[0m, in \u001b[0;36mCloudPickleSerializer.dumps\u001b[1;34m(self, obj)\u001b[0m\n\u001b[0;32m    457\u001b[0m \u001b[38;5;28;01mtry\u001b[39;00m:\n\u001b[1;32m--> 458\u001b[0m     \u001b[38;5;28;01mreturn\u001b[39;00m \u001b[43mcloudpickle\u001b[49m\u001b[38;5;241;43m.\u001b[39;49m\u001b[43mdumps\u001b[49m\u001b[43m(\u001b[49m\u001b[43mobj\u001b[49m\u001b[43m,\u001b[49m\u001b[43m \u001b[49m\u001b[43mpickle_protocol\u001b[49m\u001b[43m)\u001b[49m\n\u001b[0;32m    459\u001b[0m \u001b[38;5;28;01mexcept\u001b[39;00m pickle\u001b[38;5;241m.\u001b[39mPickleError:\n",
      "File \u001b[1;32mc:\\Users\\Jakub.Pitera\\Anaconda3\\envs\\udacity\\Lib\\site-packages\\pyspark\\cloudpickle\\cloudpickle_fast.py:73\u001b[0m, in \u001b[0;36mdumps\u001b[1;34m(obj, protocol, buffer_callback)\u001b[0m\n\u001b[0;32m     70\u001b[0m cp \u001b[38;5;241m=\u001b[39m CloudPickler(\n\u001b[0;32m     71\u001b[0m     file, protocol\u001b[38;5;241m=\u001b[39mprotocol, buffer_callback\u001b[38;5;241m=\u001b[39mbuffer_callback\n\u001b[0;32m     72\u001b[0m )\n\u001b[1;32m---> 73\u001b[0m \u001b[43mcp\u001b[49m\u001b[38;5;241;43m.\u001b[39;49m\u001b[43mdump\u001b[49m\u001b[43m(\u001b[49m\u001b[43mobj\u001b[49m\u001b[43m)\u001b[49m\n\u001b[0;32m     74\u001b[0m \u001b[38;5;28;01mreturn\u001b[39;00m file\u001b[38;5;241m.\u001b[39mgetvalue()\n",
      "File \u001b[1;32mc:\\Users\\Jakub.Pitera\\Anaconda3\\envs\\udacity\\Lib\\site-packages\\pyspark\\cloudpickle\\cloudpickle_fast.py:602\u001b[0m, in \u001b[0;36mCloudPickler.dump\u001b[1;34m(self, obj)\u001b[0m\n\u001b[0;32m    601\u001b[0m \u001b[38;5;28;01mtry\u001b[39;00m:\n\u001b[1;32m--> 602\u001b[0m     \u001b[38;5;28;01mreturn\u001b[39;00m \u001b[43mPickler\u001b[49m\u001b[38;5;241;43m.\u001b[39;49m\u001b[43mdump\u001b[49m\u001b[43m(\u001b[49m\u001b[38;5;28;43mself\u001b[39;49m\u001b[43m,\u001b[49m\u001b[43m \u001b[49m\u001b[43mobj\u001b[49m\u001b[43m)\u001b[49m\n\u001b[0;32m    603\u001b[0m \u001b[38;5;28;01mexcept\u001b[39;00m \u001b[38;5;167;01mRuntimeError\u001b[39;00m \u001b[38;5;28;01mas\u001b[39;00m e:\n",
      "File \u001b[1;32mc:\\Users\\Jakub.Pitera\\Anaconda3\\envs\\udacity\\Lib\\site-packages\\pyspark\\cloudpickle\\cloudpickle_fast.py:692\u001b[0m, in \u001b[0;36mCloudPickler.reducer_override\u001b[1;34m(self, obj)\u001b[0m\n\u001b[0;32m    691\u001b[0m \u001b[38;5;28;01melif\u001b[39;00m \u001b[38;5;28misinstance\u001b[39m(obj, types\u001b[38;5;241m.\u001b[39mFunctionType):\n\u001b[1;32m--> 692\u001b[0m     \u001b[38;5;28;01mreturn\u001b[39;00m \u001b[38;5;28;43mself\u001b[39;49m\u001b[38;5;241;43m.\u001b[39;49m\u001b[43m_function_reduce\u001b[49m\u001b[43m(\u001b[49m\u001b[43mobj\u001b[49m\u001b[43m)\u001b[49m\n\u001b[0;32m    693\u001b[0m \u001b[38;5;28;01melse\u001b[39;00m:\n\u001b[0;32m    694\u001b[0m     \u001b[38;5;66;03m# fallback to save_global, including the Pickler's\u001b[39;00m\n\u001b[0;32m    695\u001b[0m     \u001b[38;5;66;03m# dispatch_table\u001b[39;00m\n",
      "File \u001b[1;32mc:\\Users\\Jakub.Pitera\\Anaconda3\\envs\\udacity\\Lib\\site-packages\\pyspark\\cloudpickle\\cloudpickle_fast.py:565\u001b[0m, in \u001b[0;36mCloudPickler._function_reduce\u001b[1;34m(self, obj)\u001b[0m\n\u001b[0;32m    564\u001b[0m \u001b[38;5;28;01melse\u001b[39;00m:\n\u001b[1;32m--> 565\u001b[0m     \u001b[38;5;28;01mreturn\u001b[39;00m \u001b[38;5;28;43mself\u001b[39;49m\u001b[38;5;241;43m.\u001b[39;49m\u001b[43m_dynamic_function_reduce\u001b[49m\u001b[43m(\u001b[49m\u001b[43mobj\u001b[49m\u001b[43m)\u001b[49m\n",
      "File \u001b[1;32mc:\\Users\\Jakub.Pitera\\Anaconda3\\envs\\udacity\\Lib\\site-packages\\pyspark\\cloudpickle\\cloudpickle_fast.py:546\u001b[0m, in \u001b[0;36mCloudPickler._dynamic_function_reduce\u001b[1;34m(self, func)\u001b[0m\n\u001b[0;32m    545\u001b[0m newargs \u001b[38;5;241m=\u001b[39m \u001b[38;5;28mself\u001b[39m\u001b[38;5;241m.\u001b[39m_function_getnewargs(func)\n\u001b[1;32m--> 546\u001b[0m state \u001b[38;5;241m=\u001b[39m \u001b[43m_function_getstate\u001b[49m\u001b[43m(\u001b[49m\u001b[43mfunc\u001b[49m\u001b[43m)\u001b[49m\n\u001b[0;32m    547\u001b[0m \u001b[38;5;28;01mreturn\u001b[39;00m (types\u001b[38;5;241m.\u001b[39mFunctionType, newargs, state, \u001b[38;5;28;01mNone\u001b[39;00m, \u001b[38;5;28;01mNone\u001b[39;00m,\n\u001b[0;32m    548\u001b[0m         _function_setstate)\n",
      "File \u001b[1;32mc:\\Users\\Jakub.Pitera\\Anaconda3\\envs\\udacity\\Lib\\site-packages\\pyspark\\cloudpickle\\cloudpickle_fast.py:157\u001b[0m, in \u001b[0;36m_function_getstate\u001b[1;34m(func)\u001b[0m\n\u001b[0;32m    146\u001b[0m slotstate \u001b[38;5;241m=\u001b[39m {\n\u001b[0;32m    147\u001b[0m     \u001b[38;5;124m\"\u001b[39m\u001b[38;5;124m__name__\u001b[39m\u001b[38;5;124m\"\u001b[39m: func\u001b[38;5;241m.\u001b[39m\u001b[38;5;18m__name__\u001b[39m,\n\u001b[0;32m    148\u001b[0m     \u001b[38;5;124m\"\u001b[39m\u001b[38;5;124m__qualname__\u001b[39m\u001b[38;5;124m\"\u001b[39m: func\u001b[38;5;241m.\u001b[39m\u001b[38;5;18m__qualname__\u001b[39m,\n\u001b[1;32m   (...)\u001b[0m\n\u001b[0;32m    154\u001b[0m     \u001b[38;5;124m\"\u001b[39m\u001b[38;5;124m__closure__\u001b[39m\u001b[38;5;124m\"\u001b[39m: func\u001b[38;5;241m.\u001b[39m\u001b[38;5;18m__closure__\u001b[39m,\n\u001b[0;32m    155\u001b[0m }\n\u001b[1;32m--> 157\u001b[0m f_globals_ref \u001b[38;5;241m=\u001b[39m \u001b[43m_extract_code_globals\u001b[49m\u001b[43m(\u001b[49m\u001b[43mfunc\u001b[49m\u001b[38;5;241;43m.\u001b[39;49m\u001b[38;5;18;43m__code__\u001b[39;49m\u001b[43m)\u001b[49m\n\u001b[0;32m    158\u001b[0m f_globals \u001b[38;5;241m=\u001b[39m {k: func\u001b[38;5;241m.\u001b[39m\u001b[38;5;18m__globals__\u001b[39m[k] \u001b[38;5;28;01mfor\u001b[39;00m k \u001b[38;5;129;01min\u001b[39;00m f_globals_ref \u001b[38;5;28;01mif\u001b[39;00m k \u001b[38;5;129;01min\u001b[39;00m\n\u001b[0;32m    159\u001b[0m              func\u001b[38;5;241m.\u001b[39m\u001b[38;5;18m__globals__\u001b[39m}\n",
      "File \u001b[1;32mc:\\Users\\Jakub.Pitera\\Anaconda3\\envs\\udacity\\Lib\\site-packages\\pyspark\\cloudpickle\\cloudpickle.py:334\u001b[0m, in \u001b[0;36m_extract_code_globals\u001b[1;34m(co)\u001b[0m\n\u001b[0;32m    331\u001b[0m \u001b[38;5;66;03m# We use a dict with None values instead of a set to get a\u001b[39;00m\n\u001b[0;32m    332\u001b[0m \u001b[38;5;66;03m# deterministic order (assuming Python 3.6+) and avoid introducing\u001b[39;00m\n\u001b[0;32m    333\u001b[0m \u001b[38;5;66;03m# non-deterministic pickle bytes as a results.\u001b[39;00m\n\u001b[1;32m--> 334\u001b[0m out_names \u001b[38;5;241m=\u001b[39m {\u001b[43mnames\u001b[49m\u001b[43m[\u001b[49m\u001b[43moparg\u001b[49m\u001b[43m]\u001b[49m: \u001b[38;5;28;01mNone\u001b[39;00m \u001b[38;5;28;01mfor\u001b[39;00m _, oparg \u001b[38;5;129;01min\u001b[39;00m _walk_global_ops(co)}\n\u001b[0;32m    336\u001b[0m \u001b[38;5;66;03m# Declaring a function inside another one using the \"def ...\"\u001b[39;00m\n\u001b[0;32m    337\u001b[0m \u001b[38;5;66;03m# syntax generates a constant code object corresponding to the one\u001b[39;00m\n\u001b[0;32m    338\u001b[0m \u001b[38;5;66;03m# of the nested function's As the nested function may itself need\u001b[39;00m\n\u001b[0;32m    339\u001b[0m \u001b[38;5;66;03m# global variables, we need to introspect its code, extract its\u001b[39;00m\n\u001b[0;32m    340\u001b[0m \u001b[38;5;66;03m# globals, (look for code object in it's co_consts attribute..) and\u001b[39;00m\n\u001b[0;32m    341\u001b[0m \u001b[38;5;66;03m# add the result to code_globals\u001b[39;00m\n",
      "\u001b[1;31mIndexError\u001b[0m: tuple index out of range",
      "\nDuring handling of the above exception, another exception occurred:\n",
      "\u001b[1;31mPicklingError\u001b[0m                             Traceback (most recent call last)",
      "Cell \u001b[1;32mIn[89], line 3\u001b[0m\n\u001b[0;32m      1\u001b[0m \u001b[38;5;66;03m# Create a DataFrame with a column containing non-unique entries\u001b[39;00m\n\u001b[0;32m      2\u001b[0m data \u001b[38;5;241m=\u001b[39m [(\u001b[38;5;124m\"\u001b[39m\u001b[38;5;124mapple\u001b[39m\u001b[38;5;124m\"\u001b[39m,), (\u001b[38;5;124m\"\u001b[39m\u001b[38;5;124mbanana\u001b[39m\u001b[38;5;124m\"\u001b[39m,), (\u001b[38;5;124m\"\u001b[39m\u001b[38;5;124mapple\u001b[39m\u001b[38;5;124m\"\u001b[39m,), (\u001b[38;5;124m\"\u001b[39m\u001b[38;5;124morange\u001b[39m\u001b[38;5;124m\"\u001b[39m,)]\n\u001b[1;32m----> 3\u001b[0m xdf \u001b[38;5;241m=\u001b[39m \u001b[43mspark\u001b[49m\u001b[38;5;241;43m.\u001b[39;49m\u001b[43mcreateDataFrame\u001b[49m\u001b[43m(\u001b[49m\u001b[43mdata\u001b[49m\u001b[43m,\u001b[49m\u001b[43m \u001b[49m\u001b[43m[\u001b[49m\u001b[38;5;124;43m\"\u001b[39;49m\u001b[38;5;124;43mfruit\u001b[39;49m\u001b[38;5;124;43m\"\u001b[39;49m\u001b[43m]\u001b[49m\u001b[43m)\u001b[49m\n\u001b[0;32m      5\u001b[0m \u001b[38;5;66;03m# Add a new column with unique IDs\u001b[39;00m\n\u001b[0;32m      6\u001b[0m xdf_with_ids \u001b[38;5;241m=\u001b[39m xdf\u001b[38;5;241m.\u001b[39mwithColumn(\u001b[38;5;124m\"\u001b[39m\u001b[38;5;124mid\u001b[39m\u001b[38;5;124m\"\u001b[39m, F\u001b[38;5;241m.\u001b[39mmonotonically_increasing_id())\n",
      "File \u001b[1;32mc:\\Users\\Jakub.Pitera\\Anaconda3\\envs\\udacity\\Lib\\site-packages\\pyspark\\sql\\session.py:894\u001b[0m, in \u001b[0;36mSparkSession.createDataFrame\u001b[1;34m(self, data, schema, samplingRatio, verifySchema)\u001b[0m\n\u001b[0;32m    889\u001b[0m \u001b[38;5;28;01mif\u001b[39;00m has_pandas \u001b[38;5;129;01mand\u001b[39;00m \u001b[38;5;28misinstance\u001b[39m(data, pandas\u001b[38;5;241m.\u001b[39mDataFrame):\n\u001b[0;32m    890\u001b[0m     \u001b[38;5;66;03m# Create a DataFrame from pandas DataFrame.\u001b[39;00m\n\u001b[0;32m    891\u001b[0m     \u001b[38;5;28;01mreturn\u001b[39;00m \u001b[38;5;28msuper\u001b[39m(SparkSession, \u001b[38;5;28mself\u001b[39m)\u001b[38;5;241m.\u001b[39mcreateDataFrame(  \u001b[38;5;66;03m# type: ignore[call-overload]\u001b[39;00m\n\u001b[0;32m    892\u001b[0m         data, schema, samplingRatio, verifySchema\n\u001b[0;32m    893\u001b[0m     )\n\u001b[1;32m--> 894\u001b[0m \u001b[38;5;28;01mreturn\u001b[39;00m \u001b[38;5;28;43mself\u001b[39;49m\u001b[38;5;241;43m.\u001b[39;49m\u001b[43m_create_dataframe\u001b[49m\u001b[43m(\u001b[49m\n\u001b[0;32m    895\u001b[0m \u001b[43m    \u001b[49m\u001b[43mdata\u001b[49m\u001b[43m,\u001b[49m\u001b[43m \u001b[49m\u001b[43mschema\u001b[49m\u001b[43m,\u001b[49m\u001b[43m \u001b[49m\u001b[43msamplingRatio\u001b[49m\u001b[43m,\u001b[49m\u001b[43m \u001b[49m\u001b[43mverifySchema\u001b[49m\u001b[43m  \u001b[49m\u001b[38;5;66;43;03m# type: ignore[arg-type]\u001b[39;49;00m\n\u001b[0;32m    896\u001b[0m \u001b[43m\u001b[49m\u001b[43m)\u001b[49m\n",
      "File \u001b[1;32mc:\\Users\\Jakub.Pitera\\Anaconda3\\envs\\udacity\\Lib\\site-packages\\pyspark\\sql\\session.py:938\u001b[0m, in \u001b[0;36mSparkSession._create_dataframe\u001b[1;34m(self, data, schema, samplingRatio, verifySchema)\u001b[0m\n\u001b[0;32m    936\u001b[0m     rdd, struct \u001b[38;5;241m=\u001b[39m \u001b[38;5;28mself\u001b[39m\u001b[38;5;241m.\u001b[39m_createFromLocal(\u001b[38;5;28mmap\u001b[39m(prepare, data), schema)\n\u001b[0;32m    937\u001b[0m \u001b[38;5;28;01massert\u001b[39;00m \u001b[38;5;28mself\u001b[39m\u001b[38;5;241m.\u001b[39m_jvm \u001b[38;5;129;01mis\u001b[39;00m \u001b[38;5;129;01mnot\u001b[39;00m \u001b[38;5;28;01mNone\u001b[39;00m\n\u001b[1;32m--> 938\u001b[0m jrdd \u001b[38;5;241m=\u001b[39m \u001b[38;5;28mself\u001b[39m\u001b[38;5;241m.\u001b[39m_jvm\u001b[38;5;241m.\u001b[39mSerDeUtil\u001b[38;5;241m.\u001b[39mtoJavaArray(\u001b[43mrdd\u001b[49m\u001b[38;5;241;43m.\u001b[39;49m\u001b[43m_to_java_object_rdd\u001b[49m\u001b[43m(\u001b[49m\u001b[43m)\u001b[49m)\n\u001b[0;32m    939\u001b[0m jdf \u001b[38;5;241m=\u001b[39m \u001b[38;5;28mself\u001b[39m\u001b[38;5;241m.\u001b[39m_jsparkSession\u001b[38;5;241m.\u001b[39mapplySchemaToPythonRDD(jrdd\u001b[38;5;241m.\u001b[39mrdd(), struct\u001b[38;5;241m.\u001b[39mjson())\n\u001b[0;32m    940\u001b[0m df \u001b[38;5;241m=\u001b[39m DataFrame(jdf, \u001b[38;5;28mself\u001b[39m)\n",
      "File \u001b[1;32mc:\\Users\\Jakub.Pitera\\Anaconda3\\envs\\udacity\\Lib\\site-packages\\pyspark\\rdd.py:3113\u001b[0m, in \u001b[0;36mRDD._to_java_object_rdd\u001b[1;34m(self)\u001b[0m\n\u001b[0;32m   3110\u001b[0m rdd \u001b[38;5;241m=\u001b[39m \u001b[38;5;28mself\u001b[39m\u001b[38;5;241m.\u001b[39m_pickled()\n\u001b[0;32m   3111\u001b[0m \u001b[38;5;28;01massert\u001b[39;00m \u001b[38;5;28mself\u001b[39m\u001b[38;5;241m.\u001b[39mctx\u001b[38;5;241m.\u001b[39m_jvm \u001b[38;5;129;01mis\u001b[39;00m \u001b[38;5;129;01mnot\u001b[39;00m \u001b[38;5;28;01mNone\u001b[39;00m\n\u001b[1;32m-> 3113\u001b[0m \u001b[38;5;28;01mreturn\u001b[39;00m \u001b[38;5;28mself\u001b[39m\u001b[38;5;241m.\u001b[39mctx\u001b[38;5;241m.\u001b[39m_jvm\u001b[38;5;241m.\u001b[39mSerDeUtil\u001b[38;5;241m.\u001b[39mpythonToJava(\u001b[43mrdd\u001b[49m\u001b[38;5;241;43m.\u001b[39;49m\u001b[43m_jrdd\u001b[49m, \u001b[38;5;28;01mTrue\u001b[39;00m)\n",
      "File \u001b[1;32mc:\\Users\\Jakub.Pitera\\Anaconda3\\envs\\udacity\\Lib\\site-packages\\pyspark\\rdd.py:3505\u001b[0m, in \u001b[0;36mPipelinedRDD._jrdd\u001b[1;34m(self)\u001b[0m\n\u001b[0;32m   3502\u001b[0m \u001b[38;5;28;01melse\u001b[39;00m:\n\u001b[0;32m   3503\u001b[0m     profiler \u001b[38;5;241m=\u001b[39m \u001b[38;5;28;01mNone\u001b[39;00m\n\u001b[1;32m-> 3505\u001b[0m wrapped_func \u001b[38;5;241m=\u001b[39m \u001b[43m_wrap_function\u001b[49m\u001b[43m(\u001b[49m\n\u001b[0;32m   3506\u001b[0m \u001b[43m    \u001b[49m\u001b[38;5;28;43mself\u001b[39;49m\u001b[38;5;241;43m.\u001b[39;49m\u001b[43mctx\u001b[49m\u001b[43m,\u001b[49m\u001b[43m \u001b[49m\u001b[38;5;28;43mself\u001b[39;49m\u001b[38;5;241;43m.\u001b[39;49m\u001b[43mfunc\u001b[49m\u001b[43m,\u001b[49m\u001b[43m \u001b[49m\u001b[38;5;28;43mself\u001b[39;49m\u001b[38;5;241;43m.\u001b[39;49m\u001b[43m_prev_jrdd_deserializer\u001b[49m\u001b[43m,\u001b[49m\u001b[43m \u001b[49m\u001b[38;5;28;43mself\u001b[39;49m\u001b[38;5;241;43m.\u001b[39;49m\u001b[43m_jrdd_deserializer\u001b[49m\u001b[43m,\u001b[49m\u001b[43m \u001b[49m\u001b[43mprofiler\u001b[49m\n\u001b[0;32m   3507\u001b[0m \u001b[43m\u001b[49m\u001b[43m)\u001b[49m\n\u001b[0;32m   3509\u001b[0m \u001b[38;5;28;01massert\u001b[39;00m \u001b[38;5;28mself\u001b[39m\u001b[38;5;241m.\u001b[39mctx\u001b[38;5;241m.\u001b[39m_jvm \u001b[38;5;129;01mis\u001b[39;00m \u001b[38;5;129;01mnot\u001b[39;00m \u001b[38;5;28;01mNone\u001b[39;00m\n\u001b[0;32m   3510\u001b[0m python_rdd \u001b[38;5;241m=\u001b[39m \u001b[38;5;28mself\u001b[39m\u001b[38;5;241m.\u001b[39mctx\u001b[38;5;241m.\u001b[39m_jvm\u001b[38;5;241m.\u001b[39mPythonRDD(\n\u001b[0;32m   3511\u001b[0m     \u001b[38;5;28mself\u001b[39m\u001b[38;5;241m.\u001b[39m_prev_jrdd\u001b[38;5;241m.\u001b[39mrdd(), wrapped_func, \u001b[38;5;28mself\u001b[39m\u001b[38;5;241m.\u001b[39mpreservesPartitioning, \u001b[38;5;28mself\u001b[39m\u001b[38;5;241m.\u001b[39mis_barrier\n\u001b[0;32m   3512\u001b[0m )\n",
      "File \u001b[1;32mc:\\Users\\Jakub.Pitera\\Anaconda3\\envs\\udacity\\Lib\\site-packages\\pyspark\\rdd.py:3362\u001b[0m, in \u001b[0;36m_wrap_function\u001b[1;34m(sc, func, deserializer, serializer, profiler)\u001b[0m\n\u001b[0;32m   3360\u001b[0m \u001b[38;5;28;01massert\u001b[39;00m serializer, \u001b[38;5;124m\"\u001b[39m\u001b[38;5;124mserializer should not be empty\u001b[39m\u001b[38;5;124m\"\u001b[39m\n\u001b[0;32m   3361\u001b[0m command \u001b[38;5;241m=\u001b[39m (func, profiler, deserializer, serializer)\n\u001b[1;32m-> 3362\u001b[0m pickled_command, broadcast_vars, env, includes \u001b[38;5;241m=\u001b[39m \u001b[43m_prepare_for_python_RDD\u001b[49m\u001b[43m(\u001b[49m\u001b[43msc\u001b[49m\u001b[43m,\u001b[49m\u001b[43m \u001b[49m\u001b[43mcommand\u001b[49m\u001b[43m)\u001b[49m\n\u001b[0;32m   3363\u001b[0m \u001b[38;5;28;01massert\u001b[39;00m sc\u001b[38;5;241m.\u001b[39m_jvm \u001b[38;5;129;01mis\u001b[39;00m \u001b[38;5;129;01mnot\u001b[39;00m \u001b[38;5;28;01mNone\u001b[39;00m\n\u001b[0;32m   3364\u001b[0m \u001b[38;5;28;01mreturn\u001b[39;00m sc\u001b[38;5;241m.\u001b[39m_jvm\u001b[38;5;241m.\u001b[39mPythonFunction(\n\u001b[0;32m   3365\u001b[0m     \u001b[38;5;28mbytearray\u001b[39m(pickled_command),\n\u001b[0;32m   3366\u001b[0m     env,\n\u001b[1;32m   (...)\u001b[0m\n\u001b[0;32m   3371\u001b[0m     sc\u001b[38;5;241m.\u001b[39m_javaAccumulator,\n\u001b[0;32m   3372\u001b[0m )\n",
      "File \u001b[1;32mc:\\Users\\Jakub.Pitera\\Anaconda3\\envs\\udacity\\Lib\\site-packages\\pyspark\\rdd.py:3345\u001b[0m, in \u001b[0;36m_prepare_for_python_RDD\u001b[1;34m(sc, command)\u001b[0m\n\u001b[0;32m   3342\u001b[0m \u001b[38;5;28;01mdef\u001b[39;00m \u001b[38;5;21m_prepare_for_python_RDD\u001b[39m(sc: \u001b[38;5;124m\"\u001b[39m\u001b[38;5;124mSparkContext\u001b[39m\u001b[38;5;124m\"\u001b[39m, command: Any) \u001b[38;5;241m-\u001b[39m\u001b[38;5;241m>\u001b[39m Tuple[\u001b[38;5;28mbytes\u001b[39m, Any, Any, Any]:\n\u001b[0;32m   3343\u001b[0m     \u001b[38;5;66;03m# the serialized command will be compressed by broadcast\u001b[39;00m\n\u001b[0;32m   3344\u001b[0m     ser \u001b[38;5;241m=\u001b[39m CloudPickleSerializer()\n\u001b[1;32m-> 3345\u001b[0m     pickled_command \u001b[38;5;241m=\u001b[39m \u001b[43mser\u001b[49m\u001b[38;5;241;43m.\u001b[39;49m\u001b[43mdumps\u001b[49m\u001b[43m(\u001b[49m\u001b[43mcommand\u001b[49m\u001b[43m)\u001b[49m\n\u001b[0;32m   3346\u001b[0m     \u001b[38;5;28;01massert\u001b[39;00m sc\u001b[38;5;241m.\u001b[39m_jvm \u001b[38;5;129;01mis\u001b[39;00m \u001b[38;5;129;01mnot\u001b[39;00m \u001b[38;5;28;01mNone\u001b[39;00m\n\u001b[0;32m   3347\u001b[0m     \u001b[38;5;28;01mif\u001b[39;00m \u001b[38;5;28mlen\u001b[39m(pickled_command) \u001b[38;5;241m>\u001b[39m sc\u001b[38;5;241m.\u001b[39m_jvm\u001b[38;5;241m.\u001b[39mPythonUtils\u001b[38;5;241m.\u001b[39mgetBroadcastThreshold(sc\u001b[38;5;241m.\u001b[39m_jsc):  \u001b[38;5;66;03m# Default 1M\u001b[39;00m\n\u001b[0;32m   3348\u001b[0m         \u001b[38;5;66;03m# The broadcast will have same life cycle as created PythonRDD\u001b[39;00m\n",
      "File \u001b[1;32mc:\\Users\\Jakub.Pitera\\Anaconda3\\envs\\udacity\\Lib\\site-packages\\pyspark\\serializers.py:468\u001b[0m, in \u001b[0;36mCloudPickleSerializer.dumps\u001b[1;34m(self, obj)\u001b[0m\n\u001b[0;32m    466\u001b[0m     msg \u001b[38;5;241m=\u001b[39m \u001b[38;5;124m\"\u001b[39m\u001b[38;5;124mCould not serialize object: \u001b[39m\u001b[38;5;132;01m%s\u001b[39;00m\u001b[38;5;124m: \u001b[39m\u001b[38;5;132;01m%s\u001b[39;00m\u001b[38;5;124m\"\u001b[39m \u001b[38;5;241m%\u001b[39m (e\u001b[38;5;241m.\u001b[39m\u001b[38;5;18m__class__\u001b[39m\u001b[38;5;241m.\u001b[39m\u001b[38;5;18m__name__\u001b[39m, emsg)\n\u001b[0;32m    467\u001b[0m print_exec(sys\u001b[38;5;241m.\u001b[39mstderr)\n\u001b[1;32m--> 468\u001b[0m \u001b[38;5;28;01mraise\u001b[39;00m pickle\u001b[38;5;241m.\u001b[39mPicklingError(msg)\n",
      "\u001b[1;31mPicklingError\u001b[0m: Could not serialize object: IndexError: tuple index out of range"
     ]
    }
   ],
   "source": []
  },
  {
   "cell_type": "code",
   "execution_count": 85,
   "metadata": {},
   "outputs": [
    {
     "name": "stdout",
     "output_type": "stream",
     "text": [
      "+--------------+\n",
      "|     FLIGHT_ID|\n",
      "+--------------+\n",
      "|  AS9800050430|\n",
      "|AA233600100750|\n",
      "| US84000200806|\n",
      "| AA25800200805|\n",
      "| AS13500250320|\n",
      "| DL80600250602|\n",
      "| NK61200250526|\n",
      "|US201300300803|\n",
      "|AA111200300545|\n",
      "|DL117300300711|\n",
      "|DL233600300523|\n",
      "|AA167400350803|\n",
      "|DL143400350609|\n",
      "|DL232400400615|\n",
      "|DL244000400549|\n",
      "| AS10800450509|\n",
      "|DL156000450515|\n",
      "|UA119700480626|\n",
      "| AS12200500525|\n",
      "|DL167000500603|\n",
      "+--------------+\n",
      "only showing top 20 rows\n",
      "\n"
     ]
    }
   ],
   "source": []
  },
  {
   "cell_type": "markdown",
   "metadata": {},
   "source": [
    "#### 4.2 Data Quality Checks\n",
    "Explain the data quality checks you'll perform to ensure the pipeline ran as expected. These could include:\n",
    " * Integrity constraints on the relational database (e.g., unique key, data type, etc.)\n",
    " * Unit tests for the scripts to ensure they are doing the right thing\n",
    " * Source/Count checks to ensure completeness\n",
    " \n",
    "Run Quality Checks"
   ]
  },
  {
   "cell_type": "code",
   "execution_count": null,
   "metadata": {},
   "outputs": [],
   "source": [
    "# Perform quality checks here"
   ]
  },
  {
   "cell_type": "markdown",
   "metadata": {},
   "source": [
    "#### 4.3 Data dictionary \n",
    "Create a data dictionary for your data model. For each field, provide a brief description of what the data is and where it came from. You can include the data dictionary in the notebook or in a separate file."
   ]
  },
  {
   "cell_type": "markdown",
   "metadata": {},
   "source": [
    "#### Step 5: Complete Project Write Up\n",
    "* Clearly state the rationale for the choice of tools and technologies for the project.\n",
    "* Propose how often the data should be updated and why.\n",
    "* Write a description of how you would approach the problem differently under the following scenarios:\n",
    " * The data was increased by 100x.\n",
    " * The data populates a dashboard that must be updated on a daily basis by 7am every day.\n",
    " * The database needed to be accessed by 100+ people."
   ]
  },
  {
   "cell_type": "code",
   "execution_count": null,
   "metadata": {},
   "outputs": [],
   "source": []
  },
  {
   "cell_type": "code",
   "execution_count": null,
   "metadata": {},
   "outputs": [],
   "source": []
  },
  {
   "cell_type": "code",
   "execution_count": null,
   "metadata": {},
   "outputs": [],
   "source": []
  },
  {
   "cell_type": "code",
   "execution_count": null,
   "metadata": {},
   "outputs": [],
   "source": []
  },
  {
   "cell_type": "code",
   "execution_count": null,
   "metadata": {},
   "outputs": [],
   "source": []
  },
  {
   "cell_type": "code",
   "execution_count": null,
   "metadata": {},
   "outputs": [],
   "source": []
  }
 ],
 "metadata": {
  "kernelspec": {
   "display_name": "Python 3",
   "language": "python",
   "name": "python3"
  },
  "language_info": {
   "codemirror_mode": {
    "name": "ipython",
    "version": 3
   },
   "file_extension": ".py",
   "mimetype": "text/x-python",
   "name": "python",
   "nbconvert_exporter": "python",
   "pygments_lexer": "ipython3",
   "version": "3.9.18"
  }
 },
 "nbformat": 4,
 "nbformat_minor": 4
}
