{
 "cells": [
  {
   "cell_type": "markdown",
   "metadata": {},
   "source": [
    "# Project Title\n",
    "### Data Engineering Capstone Project\n",
    "\n",
    "#### Project Summary\n",
    "--describe your project at a high level--\n",
    "\n",
    "The project follows the follow steps:\n",
    "* Step 1: Scope the Project and Gather Data\n",
    "* Step 2: Explore and Assess the Data\n",
    "* Step 3: Define the Data Model\n",
    "* Step 4: Run ETL to Model the Data\n",
    "* Step 5: Complete Project Write Up"
   ]
  },
  {
   "cell_type": "code",
   "execution_count": 11,
   "metadata": {},
   "outputs": [],
   "source": [
    "# Do all imports and installs here\n",
    "import pandas as pd\n",
    "from pyspark.sql import SparkSession\n",
    "import pyspark.sql.functions as F"
   ]
  },
  {
   "cell_type": "markdown",
   "metadata": {},
   "source": [
    "#### Function definitions"
   ]
  },
  {
   "cell_type": "code",
   "execution_count": 18,
   "metadata": {},
   "outputs": [],
   "source": [
    "def missing_values_count(df):\n",
    "    return df.select([F.count(F.when(F.isnan(c) | F.col(c).isNull(), c)).alias(c) for c in df.columns]).show()"
   ]
  },
  {
   "cell_type": "markdown",
   "metadata": {},
   "source": [
    "### Step 1: Scope the Project and Gather Data\n",
    "\n",
    "#### Scope \n",
    "Explain what you plan to do in the project in more detail. What data do you use? What is your end solution look like? What tools did you use? etc>\n",
    "\n",
    "#### Describe and Gather Data \n",
    "Describe the data sets you're using. Where did it come from? What type of information is included? "
   ]
  },
  {
   "cell_type": "code",
   "execution_count": 2,
   "metadata": {},
   "outputs": [],
   "source": [
    "# Start a Spark Session\n",
    "spark = SparkSession.builder \\\n",
    "    .appName(\"InterviewChallenge\") \\\n",
    "    .master(\"local[2]\") \\\n",
    "    .config(\"spark.executor.memory\", \"2g\") \\\n",
    "    .getOrCreate()"
   ]
  },
  {
   "cell_type": "code",
   "execution_count": 27,
   "metadata": {},
   "outputs": [],
   "source": [
    "# Read input data to spark dataframe\n",
    "flights_path = 'Data/flights.csv' \n",
    "airlines_path = 'Data/airlines.csv'\n",
    "airports_path = 'Data/airports.csv'\n",
    "\n",
    "df = spark.read.option('header', True).csv(flights_path)  # main dataset with flights data\n",
    "airlines_df = spark.read.option('header', True).csv(airlines_path)  # data dict with airlines\n",
    "airports_df = spark.read.option('header', True).csv(airports_path)  # data dict with airports"
   ]
  },
  {
   "cell_type": "code",
   "execution_count": 5,
   "metadata": {},
   "outputs": [
    {
     "name": "stdout",
     "output_type": "stream",
     "text": [
      "root\n",
      " |-- YEAR: string (nullable = true)\n",
      " |-- MONTH: string (nullable = true)\n",
      " |-- DAY: string (nullable = true)\n",
      " |-- DAY_OF_WEEK: string (nullable = true)\n",
      " |-- AIRLINE: string (nullable = true)\n",
      " |-- FLIGHT_NUMBER: string (nullable = true)\n",
      " |-- TAIL_NUMBER: string (nullable = true)\n",
      " |-- ORIGIN_AIRPORT: string (nullable = true)\n",
      " |-- DESTINATION_AIRPORT: string (nullable = true)\n",
      " |-- SCHEDULED_DEPARTURE: string (nullable = true)\n",
      " |-- DEPARTURE_TIME: string (nullable = true)\n",
      " |-- DEPARTURE_DELAY: string (nullable = true)\n",
      " |-- TAXI_OUT: string (nullable = true)\n",
      " |-- WHEELS_OFF: string (nullable = true)\n",
      " |-- SCHEDULED_TIME: string (nullable = true)\n",
      " |-- ELAPSED_TIME: string (nullable = true)\n",
      " |-- AIR_TIME: string (nullable = true)\n",
      " |-- DISTANCE: string (nullable = true)\n",
      " |-- WHEELS_ON: string (nullable = true)\n",
      " |-- TAXI_IN: string (nullable = true)\n",
      " |-- SCHEDULED_ARRIVAL: string (nullable = true)\n",
      " |-- ARRIVAL_TIME: string (nullable = true)\n",
      " |-- ARRIVAL_DELAY: string (nullable = true)\n",
      " |-- DIVERTED: string (nullable = true)\n",
      " |-- CANCELLED: string (nullable = true)\n",
      " |-- CANCELLATION_REASON: string (nullable = true)\n",
      " |-- AIR_SYSTEM_DELAY: string (nullable = true)\n",
      " |-- SECURITY_DELAY: string (nullable = true)\n",
      " |-- AIRLINE_DELAY: string (nullable = true)\n",
      " |-- LATE_AIRCRAFT_DELAY: string (nullable = true)\n",
      " |-- WEATHER_DELAY: string (nullable = true)\n",
      "\n"
     ]
    }
   ],
   "source": [
    "df.printSchema()"
   ]
  },
  {
   "cell_type": "code",
   "execution_count": 7,
   "metadata": {},
   "outputs": [
    {
     "data": {
      "text/html": [
       "<div>\n",
       "<style scoped>\n",
       "    .dataframe tbody tr th:only-of-type {\n",
       "        vertical-align: middle;\n",
       "    }\n",
       "\n",
       "    .dataframe tbody tr th {\n",
       "        vertical-align: top;\n",
       "    }\n",
       "\n",
       "    .dataframe thead th {\n",
       "        text-align: right;\n",
       "    }\n",
       "</style>\n",
       "<table border=\"1\" class=\"dataframe\">\n",
       "  <thead>\n",
       "    <tr style=\"text-align: right;\">\n",
       "      <th></th>\n",
       "      <th>Column</th>\n",
       "      <th>Dtype</th>\n",
       "    </tr>\n",
       "  </thead>\n",
       "  <tbody>\n",
       "    <tr>\n",
       "      <th>0</th>\n",
       "      <td>YEAR</td>\n",
       "      <td>string</td>\n",
       "    </tr>\n",
       "    <tr>\n",
       "      <th>1</th>\n",
       "      <td>MONTH</td>\n",
       "      <td>string</td>\n",
       "    </tr>\n",
       "    <tr>\n",
       "      <th>2</th>\n",
       "      <td>DAY</td>\n",
       "      <td>string</td>\n",
       "    </tr>\n",
       "    <tr>\n",
       "      <th>3</th>\n",
       "      <td>DAY_OF_WEEK</td>\n",
       "      <td>string</td>\n",
       "    </tr>\n",
       "    <tr>\n",
       "      <th>4</th>\n",
       "      <td>AIRLINE</td>\n",
       "      <td>string</td>\n",
       "    </tr>\n",
       "    <tr>\n",
       "      <th>5</th>\n",
       "      <td>FLIGHT_NUMBER</td>\n",
       "      <td>string</td>\n",
       "    </tr>\n",
       "    <tr>\n",
       "      <th>6</th>\n",
       "      <td>TAIL_NUMBER</td>\n",
       "      <td>string</td>\n",
       "    </tr>\n",
       "    <tr>\n",
       "      <th>7</th>\n",
       "      <td>ORIGIN_AIRPORT</td>\n",
       "      <td>string</td>\n",
       "    </tr>\n",
       "    <tr>\n",
       "      <th>8</th>\n",
       "      <td>DESTINATION_AIRPORT</td>\n",
       "      <td>string</td>\n",
       "    </tr>\n",
       "    <tr>\n",
       "      <th>9</th>\n",
       "      <td>SCHEDULED_DEPARTURE</td>\n",
       "      <td>string</td>\n",
       "    </tr>\n",
       "    <tr>\n",
       "      <th>10</th>\n",
       "      <td>DEPARTURE_TIME</td>\n",
       "      <td>string</td>\n",
       "    </tr>\n",
       "    <tr>\n",
       "      <th>11</th>\n",
       "      <td>DEPARTURE_DELAY</td>\n",
       "      <td>string</td>\n",
       "    </tr>\n",
       "    <tr>\n",
       "      <th>12</th>\n",
       "      <td>TAXI_OUT</td>\n",
       "      <td>string</td>\n",
       "    </tr>\n",
       "    <tr>\n",
       "      <th>13</th>\n",
       "      <td>WHEELS_OFF</td>\n",
       "      <td>string</td>\n",
       "    </tr>\n",
       "    <tr>\n",
       "      <th>14</th>\n",
       "      <td>SCHEDULED_TIME</td>\n",
       "      <td>string</td>\n",
       "    </tr>\n",
       "    <tr>\n",
       "      <th>15</th>\n",
       "      <td>ELAPSED_TIME</td>\n",
       "      <td>string</td>\n",
       "    </tr>\n",
       "    <tr>\n",
       "      <th>16</th>\n",
       "      <td>AIR_TIME</td>\n",
       "      <td>string</td>\n",
       "    </tr>\n",
       "    <tr>\n",
       "      <th>17</th>\n",
       "      <td>DISTANCE</td>\n",
       "      <td>string</td>\n",
       "    </tr>\n",
       "    <tr>\n",
       "      <th>18</th>\n",
       "      <td>WHEELS_ON</td>\n",
       "      <td>string</td>\n",
       "    </tr>\n",
       "    <tr>\n",
       "      <th>19</th>\n",
       "      <td>TAXI_IN</td>\n",
       "      <td>string</td>\n",
       "    </tr>\n",
       "    <tr>\n",
       "      <th>20</th>\n",
       "      <td>SCHEDULED_ARRIVAL</td>\n",
       "      <td>string</td>\n",
       "    </tr>\n",
       "    <tr>\n",
       "      <th>21</th>\n",
       "      <td>ARRIVAL_TIME</td>\n",
       "      <td>string</td>\n",
       "    </tr>\n",
       "    <tr>\n",
       "      <th>22</th>\n",
       "      <td>ARRIVAL_DELAY</td>\n",
       "      <td>string</td>\n",
       "    </tr>\n",
       "    <tr>\n",
       "      <th>23</th>\n",
       "      <td>DIVERTED</td>\n",
       "      <td>string</td>\n",
       "    </tr>\n",
       "    <tr>\n",
       "      <th>24</th>\n",
       "      <td>CANCELLED</td>\n",
       "      <td>string</td>\n",
       "    </tr>\n",
       "    <tr>\n",
       "      <th>25</th>\n",
       "      <td>CANCELLATION_REASON</td>\n",
       "      <td>string</td>\n",
       "    </tr>\n",
       "    <tr>\n",
       "      <th>26</th>\n",
       "      <td>AIR_SYSTEM_DELAY</td>\n",
       "      <td>string</td>\n",
       "    </tr>\n",
       "    <tr>\n",
       "      <th>27</th>\n",
       "      <td>SECURITY_DELAY</td>\n",
       "      <td>string</td>\n",
       "    </tr>\n",
       "    <tr>\n",
       "      <th>28</th>\n",
       "      <td>AIRLINE_DELAY</td>\n",
       "      <td>string</td>\n",
       "    </tr>\n",
       "    <tr>\n",
       "      <th>29</th>\n",
       "      <td>LATE_AIRCRAFT_DELAY</td>\n",
       "      <td>string</td>\n",
       "    </tr>\n",
       "    <tr>\n",
       "      <th>30</th>\n",
       "      <td>WEATHER_DELAY</td>\n",
       "      <td>string</td>\n",
       "    </tr>\n",
       "  </tbody>\n",
       "</table>\n",
       "</div>"
      ],
      "text/plain": [
       "                 Column   Dtype\n",
       "0                  YEAR  string\n",
       "1                 MONTH  string\n",
       "2                   DAY  string\n",
       "3           DAY_OF_WEEK  string\n",
       "4               AIRLINE  string\n",
       "5         FLIGHT_NUMBER  string\n",
       "6           TAIL_NUMBER  string\n",
       "7        ORIGIN_AIRPORT  string\n",
       "8   DESTINATION_AIRPORT  string\n",
       "9   SCHEDULED_DEPARTURE  string\n",
       "10       DEPARTURE_TIME  string\n",
       "11      DEPARTURE_DELAY  string\n",
       "12             TAXI_OUT  string\n",
       "13           WHEELS_OFF  string\n",
       "14       SCHEDULED_TIME  string\n",
       "15         ELAPSED_TIME  string\n",
       "16             AIR_TIME  string\n",
       "17             DISTANCE  string\n",
       "18            WHEELS_ON  string\n",
       "19              TAXI_IN  string\n",
       "20    SCHEDULED_ARRIVAL  string\n",
       "21         ARRIVAL_TIME  string\n",
       "22        ARRIVAL_DELAY  string\n",
       "23             DIVERTED  string\n",
       "24            CANCELLED  string\n",
       "25  CANCELLATION_REASON  string\n",
       "26     AIR_SYSTEM_DELAY  string\n",
       "27       SECURITY_DELAY  string\n",
       "28        AIRLINE_DELAY  string\n",
       "29  LATE_AIRCRAFT_DELAY  string\n",
       "30        WEATHER_DELAY  string"
      ]
     },
     "execution_count": 7,
     "metadata": {},
     "output_type": "execute_result"
    }
   ],
   "source": [
    "# DTypes in pd formatting\n",
    "pd.DataFrame(df.dtypes, columns=['Column', 'Dtype'])"
   ]
  },
  {
   "cell_type": "code",
   "execution_count": 6,
   "metadata": {},
   "outputs": [
    {
     "name": "stdout",
     "output_type": "stream",
     "text": [
      "+----+-----+---+-----------+-------+-------------+-----------+--------------+-------------------+-------------------+--------------+---------------+--------+----------+--------------+------------+--------+--------+---------+-------+-----------------+------------+-------------+--------+---------+-------------------+----------------+--------------+-------------+-------------------+-------------+\n",
      "|YEAR|MONTH|DAY|DAY_OF_WEEK|AIRLINE|FLIGHT_NUMBER|TAIL_NUMBER|ORIGIN_AIRPORT|DESTINATION_AIRPORT|SCHEDULED_DEPARTURE|DEPARTURE_TIME|DEPARTURE_DELAY|TAXI_OUT|WHEELS_OFF|SCHEDULED_TIME|ELAPSED_TIME|AIR_TIME|DISTANCE|WHEELS_ON|TAXI_IN|SCHEDULED_ARRIVAL|ARRIVAL_TIME|ARRIVAL_DELAY|DIVERTED|CANCELLED|CANCELLATION_REASON|AIR_SYSTEM_DELAY|SECURITY_DELAY|AIRLINE_DELAY|LATE_AIRCRAFT_DELAY|WEATHER_DELAY|\n",
      "+----+-----+---+-----------+-------+-------------+-----------+--------------+-------------------+-------------------+--------------+---------------+--------+----------+--------------+------------+--------+--------+---------+-------+-----------------+------------+-------------+--------+---------+-------------------+----------------+--------------+-------------+-------------------+-------------+\n",
      "|2015|    1|  1|          4|     AS|           98|     N407AS|           ANC|                SEA|               0005|          2354|            -11|      21|      0015|           205|         194|     169|    1448|     0404|      4|             0430|        0408|          -22|       0|        0|               null|            null|          null|         null|               null|         null|\n",
      "|2015|    1|  1|          4|     AA|         2336|     N3KUAA|           LAX|                PBI|               0010|          0002|             -8|      12|      0014|           280|         279|     263|    2330|     0737|      4|             0750|        0741|           -9|       0|        0|               null|            null|          null|         null|               null|         null|\n",
      "|2015|    1|  1|          4|     US|          840|     N171US|           SFO|                CLT|               0020|          0018|             -2|      16|      0034|           286|         293|     266|    2296|     0800|     11|             0806|        0811|            5|       0|        0|               null|            null|          null|         null|               null|         null|\n",
      "|2015|    1|  1|          4|     AA|          258|     N3HYAA|           LAX|                MIA|               0020|          0015|             -5|      15|      0030|           285|         281|     258|    2342|     0748|      8|             0805|        0756|           -9|       0|        0|               null|            null|          null|         null|               null|         null|\n",
      "|2015|    1|  1|          4|     AS|          135|     N527AS|           SEA|                ANC|               0025|          0024|             -1|      11|      0035|           235|         215|     199|    1448|     0254|      5|             0320|        0259|          -21|       0|        0|               null|            null|          null|         null|               null|         null|\n",
      "|2015|    1|  1|          4|     DL|          806|     N3730B|           SFO|                MSP|               0025|          0020|             -5|      18|      0038|           217|         230|     206|    1589|     0604|      6|             0602|        0610|            8|       0|        0|               null|            null|          null|         null|               null|         null|\n",
      "|2015|    1|  1|          4|     NK|          612|     N635NK|           LAS|                MSP|               0025|          0019|             -6|      11|      0030|           181|         170|     154|    1299|     0504|      5|             0526|        0509|          -17|       0|        0|               null|            null|          null|         null|               null|         null|\n",
      "|2015|    1|  1|          4|     US|         2013|     N584UW|           LAX|                CLT|               0030|          0044|             14|      13|      0057|           273|         249|     228|    2125|     0745|      8|             0803|        0753|          -10|       0|        0|               null|            null|          null|         null|               null|         null|\n",
      "|2015|    1|  1|          4|     AA|         1112|     N3LAAA|           SFO|                DFW|               0030|          0019|            -11|      17|      0036|           195|         193|     173|    1464|     0529|      3|             0545|        0532|          -13|       0|        0|               null|            null|          null|         null|               null|         null|\n",
      "|2015|    1|  1|          4|     DL|         1173|     N826DN|           LAS|                ATL|               0030|          0033|              3|      12|      0045|           221|         203|     186|    1747|     0651|      5|             0711|        0656|          -15|       0|        0|               null|            null|          null|         null|               null|         null|\n",
      "|2015|    1|  1|          4|     DL|         2336|     N958DN|           DEN|                ATL|               0030|          0024|             -6|      12|      0036|           173|         149|     133|    1199|     0449|      4|             0523|        0453|          -30|       0|        0|               null|            null|          null|         null|               null|         null|\n",
      "|2015|    1|  1|          4|     AA|         1674|     N853AA|           LAS|                MIA|               0035|          0027|             -8|      21|      0048|           268|         266|     238|    2174|     0746|      7|             0803|        0753|          -10|       0|        0|               null|            null|          null|         null|               null|         null|\n",
      "|2015|    1|  1|          4|     DL|         1434|     N547US|           LAX|                MSP|               0035|          0035|              0|      18|      0053|           214|         210|     188|    1535|     0601|      4|             0609|        0605|           -4|       0|        0|               null|            null|          null|         null|               null|         null|\n",
      "|2015|    1|  1|          4|     DL|         2324|     N3751B|           SLC|                ATL|               0040|          0034|             -6|      18|      0052|           215|         199|     176|    1590|     0548|      5|             0615|        0553|          -22|       0|        0|               null|            null|          null|         null|               null|         null|\n",
      "|2015|    1|  1|          4|     DL|         2440|     N651DL|           SEA|                MSP|               0040|          0039|             -1|      28|      0107|           189|         198|     166|    1399|     0553|      4|             0549|        0557|            8|       0|        0|               null|            null|          null|         null|               null|         null|\n",
      "|2015|    1|  1|          4|     AS|          108|     N309AS|           ANC|                SEA|               0045|          0041|             -4|      17|      0058|           204|         194|     173|    1448|     0451|      4|             0509|        0455|          -14|       0|        0|               null|            null|          null|         null|               null|         null|\n",
      "|2015|    1|  1|          4|     DL|         1560|     N3743H|           ANC|                SEA|               0045|          0031|            -14|      25|      0056|           210|         200|     171|    1448|     0447|      4|             0515|        0451|          -24|       0|        0|               null|            null|          null|         null|               null|         null|\n",
      "|2015|    1|  1|          4|     UA|         1197|     N78448|           SFO|                IAH|               0048|          0042|             -6|      11|      0053|           218|         217|     199|    1635|     0612|      7|             0626|        0619|           -7|       0|        0|               null|            null|          null|         null|               null|         null|\n",
      "|2015|    1|  1|          4|     AS|          122|     N413AS|           ANC|                PDX|               0050|          0046|             -4|      11|      0057|           215|         201|     187|    1542|     0504|      3|             0525|        0507|          -18|       0|        0|               null|            null|          null|         null|               null|         null|\n",
      "|2015|    1|  1|          4|     DL|         1670|     N806DN|           PDX|                MSP|               0050|          0045|             -5|       9|      0054|           193|         186|     171|    1426|     0545|      6|             0603|        0551|          -12|       0|        0|               null|            null|          null|         null|               null|         null|\n",
      "+----+-----+---+-----------+-------+-------------+-----------+--------------+-------------------+-------------------+--------------+---------------+--------+----------+--------------+------------+--------+--------+---------+-------+-----------------+------------+-------------+--------+---------+-------------------+----------------+--------------+-------------+-------------------+-------------+\n",
      "only showing top 20 rows\n",
      "\n"
     ]
    }
   ],
   "source": [
    "df.show(20)"
   ]
  },
  {
   "cell_type": "code",
   "execution_count": 33,
   "metadata": {},
   "outputs": [
    {
     "name": "stdout",
     "output_type": "stream",
     "text": [
      "Dataframe row count:  5819079\n",
      "Dataframe columns count:  31\n"
     ]
    }
   ],
   "source": [
    "# Dataframe shape\n",
    "print(\"Dataframe row count: \", df.count())\n",
    "print(\"Dataframe columns count: \", len(df.columns))"
   ]
  },
  {
   "cell_type": "code",
   "execution_count": 8,
   "metadata": {},
   "outputs": [
    {
     "data": {
      "text/html": [
       "<div>\n",
       "<style scoped>\n",
       "    .dataframe tbody tr th:only-of-type {\n",
       "        vertical-align: middle;\n",
       "    }\n",
       "\n",
       "    .dataframe tbody tr th {\n",
       "        vertical-align: top;\n",
       "    }\n",
       "\n",
       "    .dataframe thead th {\n",
       "        text-align: right;\n",
       "    }\n",
       "</style>\n",
       "<table border=\"1\" class=\"dataframe\">\n",
       "  <thead>\n",
       "    <tr style=\"text-align: right;\">\n",
       "      <th></th>\n",
       "      <th>summary</th>\n",
       "      <th>YEAR</th>\n",
       "      <th>MONTH</th>\n",
       "      <th>DAY</th>\n",
       "      <th>DAY_OF_WEEK</th>\n",
       "      <th>AIRLINE</th>\n",
       "      <th>FLIGHT_NUMBER</th>\n",
       "      <th>TAIL_NUMBER</th>\n",
       "      <th>ORIGIN_AIRPORT</th>\n",
       "      <th>DESTINATION_AIRPORT</th>\n",
       "      <th>...</th>\n",
       "      <th>ARRIVAL_TIME</th>\n",
       "      <th>ARRIVAL_DELAY</th>\n",
       "      <th>DIVERTED</th>\n",
       "      <th>CANCELLED</th>\n",
       "      <th>CANCELLATION_REASON</th>\n",
       "      <th>AIR_SYSTEM_DELAY</th>\n",
       "      <th>SECURITY_DELAY</th>\n",
       "      <th>AIRLINE_DELAY</th>\n",
       "      <th>LATE_AIRCRAFT_DELAY</th>\n",
       "      <th>WEATHER_DELAY</th>\n",
       "    </tr>\n",
       "  </thead>\n",
       "  <tbody>\n",
       "    <tr>\n",
       "      <th>0</th>\n",
       "      <td>count</td>\n",
       "      <td>5819079</td>\n",
       "      <td>5819079</td>\n",
       "      <td>5819079</td>\n",
       "      <td>5819079</td>\n",
       "      <td>5819079</td>\n",
       "      <td>5819079</td>\n",
       "      <td>5804358</td>\n",
       "      <td>5819079</td>\n",
       "      <td>5819079</td>\n",
       "      <td>...</td>\n",
       "      <td>5726566</td>\n",
       "      <td>5714008</td>\n",
       "      <td>5819079</td>\n",
       "      <td>5819079</td>\n",
       "      <td>89884</td>\n",
       "      <td>1063439</td>\n",
       "      <td>1063439</td>\n",
       "      <td>1063439</td>\n",
       "      <td>1063439</td>\n",
       "      <td>1063439</td>\n",
       "    </tr>\n",
       "    <tr>\n",
       "      <th>1</th>\n",
       "      <td>mean</td>\n",
       "      <td>2015.0</td>\n",
       "      <td>6.524085168804204</td>\n",
       "      <td>15.70459397440729</td>\n",
       "      <td>3.9269411877721545</td>\n",
       "      <td>None</td>\n",
       "      <td>2173.0927423394664</td>\n",
       "      <td>None</td>\n",
       "      <td>12666.699787109315</td>\n",
       "      <td>12666.853627883538</td>\n",
       "      <td>...</td>\n",
       "      <td>1476.4911879126164</td>\n",
       "      <td>4.407057357987598</td>\n",
       "      <td>0.0026098631759424473</td>\n",
       "      <td>0.015446430612129514</td>\n",
       "      <td>None</td>\n",
       "      <td>13.480568231934319</td>\n",
       "      <td>0.07615387436420895</td>\n",
       "      <td>18.969546913363153</td>\n",
       "      <td>23.472837652183152</td>\n",
       "      <td>2.915289922600168</td>\n",
       "    </tr>\n",
       "    <tr>\n",
       "      <th>2</th>\n",
       "      <td>stddev</td>\n",
       "      <td>0.0</td>\n",
       "      <td>3.4051368280554737</td>\n",
       "      <td>8.783425069806755</td>\n",
       "      <td>1.9888450134329696</td>\n",
       "      <td>None</td>\n",
       "      <td>1757.0639987866261</td>\n",
       "      <td>None</td>\n",
       "      <td>1526.7134944584996</td>\n",
       "      <td>1526.6619201888243</td>\n",
       "      <td>...</td>\n",
       "      <td>526.31973721227</td>\n",
       "      <td>39.27129709388608</td>\n",
       "      <td>0.051020116008060924</td>\n",
       "      <td>0.12332007544158718</td>\n",
       "      <td>None</td>\n",
       "      <td>28.003678900236228</td>\n",
       "      <td>2.143459570502599</td>\n",
       "      <td>48.16164189832554</td>\n",
       "      <td>43.19701847724129</td>\n",
       "      <td>20.433335717631397</td>\n",
       "    </tr>\n",
       "    <tr>\n",
       "      <th>3</th>\n",
       "      <td>min</td>\n",
       "      <td>2015</td>\n",
       "      <td>1</td>\n",
       "      <td>1</td>\n",
       "      <td>1</td>\n",
       "      <td>AA</td>\n",
       "      <td>1</td>\n",
       "      <td>7819A</td>\n",
       "      <td>10135</td>\n",
       "      <td>10135</td>\n",
       "      <td>...</td>\n",
       "      <td>0001</td>\n",
       "      <td>-1</td>\n",
       "      <td>0</td>\n",
       "      <td>0</td>\n",
       "      <td>A</td>\n",
       "      <td>0</td>\n",
       "      <td>0</td>\n",
       "      <td>0</td>\n",
       "      <td>0</td>\n",
       "      <td>0</td>\n",
       "    </tr>\n",
       "    <tr>\n",
       "      <th>4</th>\n",
       "      <td>max</td>\n",
       "      <td>2015</td>\n",
       "      <td>9</td>\n",
       "      <td>9</td>\n",
       "      <td>7</td>\n",
       "      <td>WN</td>\n",
       "      <td>999</td>\n",
       "      <td>N9EAMQ</td>\n",
       "      <td>YUM</td>\n",
       "      <td>YUM</td>\n",
       "      <td>...</td>\n",
       "      <td>2400</td>\n",
       "      <td>998</td>\n",
       "      <td>1</td>\n",
       "      <td>1</td>\n",
       "      <td>D</td>\n",
       "      <td>991</td>\n",
       "      <td>99</td>\n",
       "      <td>998</td>\n",
       "      <td>990</td>\n",
       "      <td>995</td>\n",
       "    </tr>\n",
       "  </tbody>\n",
       "</table>\n",
       "<p>5 rows × 32 columns</p>\n",
       "</div>"
      ],
      "text/plain": [
       "  summary     YEAR               MONTH                DAY         DAY_OF_WEEK  \\\n",
       "0   count  5819079             5819079            5819079             5819079   \n",
       "1    mean   2015.0   6.524085168804204  15.70459397440729  3.9269411877721545   \n",
       "2  stddev      0.0  3.4051368280554737  8.783425069806755  1.9888450134329696   \n",
       "3     min     2015                   1                  1                   1   \n",
       "4     max     2015                   9                  9                   7   \n",
       "\n",
       "   AIRLINE       FLIGHT_NUMBER TAIL_NUMBER      ORIGIN_AIRPORT  \\\n",
       "0  5819079             5819079     5804358             5819079   \n",
       "1     None  2173.0927423394664        None  12666.699787109315   \n",
       "2     None  1757.0639987866261        None  1526.7134944584996   \n",
       "3       AA                   1       7819A               10135   \n",
       "4       WN                 999      N9EAMQ                 YUM   \n",
       "\n",
       "  DESTINATION_AIRPORT  ...        ARRIVAL_TIME      ARRIVAL_DELAY  \\\n",
       "0             5819079  ...             5726566            5714008   \n",
       "1  12666.853627883538  ...  1476.4911879126164  4.407057357987598   \n",
       "2  1526.6619201888243  ...     526.31973721227  39.27129709388608   \n",
       "3               10135  ...                0001                 -1   \n",
       "4                 YUM  ...                2400                998   \n",
       "\n",
       "                DIVERTED             CANCELLED CANCELLATION_REASON  \\\n",
       "0                5819079               5819079               89884   \n",
       "1  0.0026098631759424473  0.015446430612129514                None   \n",
       "2   0.051020116008060924   0.12332007544158718                None   \n",
       "3                      0                     0                   A   \n",
       "4                      1                     1                   D   \n",
       "\n",
       "     AIR_SYSTEM_DELAY       SECURITY_DELAY       AIRLINE_DELAY  \\\n",
       "0             1063439              1063439             1063439   \n",
       "1  13.480568231934319  0.07615387436420895  18.969546913363153   \n",
       "2  28.003678900236228    2.143459570502599   48.16164189832554   \n",
       "3                   0                    0                   0   \n",
       "4                 991                   99                 998   \n",
       "\n",
       "  LATE_AIRCRAFT_DELAY       WEATHER_DELAY  \n",
       "0             1063439             1063439  \n",
       "1  23.472837652183152   2.915289922600168  \n",
       "2   43.19701847724129  20.433335717631397  \n",
       "3                   0                   0  \n",
       "4                 990                 995  \n",
       "\n",
       "[5 rows x 32 columns]"
      ]
     },
     "execution_count": 8,
     "metadata": {},
     "output_type": "execute_result"
    }
   ],
   "source": [
    "# Column statistics\n",
    "df.describe().toPandas()"
   ]
  },
  {
   "cell_type": "code",
   "execution_count": 19,
   "metadata": {},
   "outputs": [
    {
     "name": "stdout",
     "output_type": "stream",
     "text": [
      "+----+-----+---+-----------+-------+-------------+-----------+--------------+-------------------+-------------------+--------------+---------------+--------+----------+--------------+------------+--------+--------+---------+-------+-----------------+------------+-------------+--------+---------+-------------------+----------------+--------------+-------------+-------------------+-------------+\n",
      "|YEAR|MONTH|DAY|DAY_OF_WEEK|AIRLINE|FLIGHT_NUMBER|TAIL_NUMBER|ORIGIN_AIRPORT|DESTINATION_AIRPORT|SCHEDULED_DEPARTURE|DEPARTURE_TIME|DEPARTURE_DELAY|TAXI_OUT|WHEELS_OFF|SCHEDULED_TIME|ELAPSED_TIME|AIR_TIME|DISTANCE|WHEELS_ON|TAXI_IN|SCHEDULED_ARRIVAL|ARRIVAL_TIME|ARRIVAL_DELAY|DIVERTED|CANCELLED|CANCELLATION_REASON|AIR_SYSTEM_DELAY|SECURITY_DELAY|AIRLINE_DELAY|LATE_AIRCRAFT_DELAY|WEATHER_DELAY|\n",
      "+----+-----+---+-----------+-------+-------------+-----------+--------------+-------------------+-------------------+--------------+---------------+--------+----------+--------------+------------+--------+--------+---------+-------+-----------------+------------+-------------+--------+---------+-------------------+----------------+--------------+-------------+-------------------+-------------+\n",
      "|   0|    0|  0|          0|      0|            0|      14721|             0|                  0|                  0|         86153|          86153|   89047|     89047|             6|      105071|  105071|       0|    92513|  92513|                0|       92513|       105071|       0|        0|            5729195|         4755640|       4755640|      4755640|            4755640|      4755640|\n",
      "+----+-----+---+-----------+-------+-------------+-----------+--------------+-------------------+-------------------+--------------+---------------+--------+----------+--------------+------------+--------+--------+---------+-------+-----------------+------------+-------------+--------+---------+-------------------+----------------+--------------+-------------+-------------------+-------------+\n",
      "\n"
     ]
    }
   ],
   "source": [
    "missing_values_count(df)"
   ]
  },
  {
   "cell_type": "code",
   "execution_count": null,
   "metadata": {},
   "outputs": [],
   "source": []
  },
  {
   "cell_type": "markdown",
   "metadata": {},
   "source": [
    "##### Airports data dictionary"
   ]
  },
  {
   "cell_type": "code",
   "execution_count": 28,
   "metadata": {},
   "outputs": [
    {
     "name": "stdout",
     "output_type": "stream",
     "text": [
      "root\n",
      " |-- IATA_CODE: string (nullable = true)\n",
      " |-- AIRPORT: string (nullable = true)\n",
      " |-- CITY: string (nullable = true)\n",
      " |-- STATE: string (nullable = true)\n",
      " |-- COUNTRY: string (nullable = true)\n",
      " |-- LATITUDE: string (nullable = true)\n",
      " |-- LONGITUDE: string (nullable = true)\n",
      "\n"
     ]
    }
   ],
   "source": [
    "airports_df.printSchema()"
   ]
  },
  {
   "cell_type": "code",
   "execution_count": 30,
   "metadata": {},
   "outputs": [
    {
     "data": {
      "text/html": [
       "<div>\n",
       "<style scoped>\n",
       "    .dataframe tbody tr th:only-of-type {\n",
       "        vertical-align: middle;\n",
       "    }\n",
       "\n",
       "    .dataframe tbody tr th {\n",
       "        vertical-align: top;\n",
       "    }\n",
       "\n",
       "    .dataframe thead th {\n",
       "        text-align: right;\n",
       "    }\n",
       "</style>\n",
       "<table border=\"1\" class=\"dataframe\">\n",
       "  <thead>\n",
       "    <tr style=\"text-align: right;\">\n",
       "      <th></th>\n",
       "      <th>Column</th>\n",
       "      <th>Dtype</th>\n",
       "    </tr>\n",
       "  </thead>\n",
       "  <tbody>\n",
       "    <tr>\n",
       "      <th>0</th>\n",
       "      <td>IATA_CODE</td>\n",
       "      <td>string</td>\n",
       "    </tr>\n",
       "    <tr>\n",
       "      <th>1</th>\n",
       "      <td>AIRPORT</td>\n",
       "      <td>string</td>\n",
       "    </tr>\n",
       "    <tr>\n",
       "      <th>2</th>\n",
       "      <td>CITY</td>\n",
       "      <td>string</td>\n",
       "    </tr>\n",
       "    <tr>\n",
       "      <th>3</th>\n",
       "      <td>STATE</td>\n",
       "      <td>string</td>\n",
       "    </tr>\n",
       "    <tr>\n",
       "      <th>4</th>\n",
       "      <td>COUNTRY</td>\n",
       "      <td>string</td>\n",
       "    </tr>\n",
       "    <tr>\n",
       "      <th>5</th>\n",
       "      <td>LATITUDE</td>\n",
       "      <td>string</td>\n",
       "    </tr>\n",
       "    <tr>\n",
       "      <th>6</th>\n",
       "      <td>LONGITUDE</td>\n",
       "      <td>string</td>\n",
       "    </tr>\n",
       "  </tbody>\n",
       "</table>\n",
       "</div>"
      ],
      "text/plain": [
       "      Column   Dtype\n",
       "0  IATA_CODE  string\n",
       "1    AIRPORT  string\n",
       "2       CITY  string\n",
       "3      STATE  string\n",
       "4    COUNTRY  string\n",
       "5   LATITUDE  string\n",
       "6  LONGITUDE  string"
      ]
     },
     "execution_count": 30,
     "metadata": {},
     "output_type": "execute_result"
    }
   ],
   "source": [
    "# DTypes in pd formatting\n",
    "pd.DataFrame(airports_df.dtypes, columns=['Column', 'Dtype'])"
   ]
  },
  {
   "cell_type": "code",
   "execution_count": 31,
   "metadata": {},
   "outputs": [
    {
     "name": "stdout",
     "output_type": "stream",
     "text": [
      "+---------+--------------------+-------------+-----+-------+--------+----------+\n",
      "|IATA_CODE|             AIRPORT|         CITY|STATE|COUNTRY|LATITUDE| LONGITUDE|\n",
      "+---------+--------------------+-------------+-----+-------+--------+----------+\n",
      "|      ABE|Lehigh Valley Int...|    Allentown|   PA|    USA|40.65236| -75.44040|\n",
      "|      ABI|Abilene Regional ...|      Abilene|   TX|    USA|32.41132| -99.68190|\n",
      "|      ABQ|Albuquerque Inter...|  Albuquerque|   NM|    USA|35.04022|-106.60919|\n",
      "|      ABR|Aberdeen Regional...|     Aberdeen|   SD|    USA|45.44906| -98.42183|\n",
      "|      ABY|Southwest Georgia...|       Albany|   GA|    USA|31.53552| -84.19447|\n",
      "|      ACK|Nantucket Memoria...|    Nantucket|   MA|    USA|41.25305| -70.06018|\n",
      "|      ACT|Waco Regional Air...|         Waco|   TX|    USA|31.61129| -97.23052|\n",
      "|      ACV|      Arcata Airport|Arcata/Eureka|   CA|    USA|40.97812|-124.10862|\n",
      "|      ACY|Atlantic City Int...|Atlantic City|   NJ|    USA|39.45758| -74.57717|\n",
      "|      ADK|        Adak Airport|         Adak|   AK|    USA|51.87796|-176.64603|\n",
      "|      ADQ|      Kodiak Airport|       Kodiak|   AK|    USA|57.74997|-152.49386|\n",
      "|      AEX|Alexandria Intern...|   Alexandria|   LA|    USA|31.32737| -92.54856|\n",
      "|      AGS|Augusta Regional ...|      Augusta|   GA|    USA|33.36996| -81.96450|\n",
      "|      AKN| King Salmon Airport|  King Salmon|   AK|    USA|58.67680|-156.64922|\n",
      "|      ALB|Albany Internatio...|       Albany|   NY|    USA|42.74812| -73.80298|\n",
      "|      ALO|Waterloo Regional...|     Waterloo|   IA|    USA|42.55708| -92.40034|\n",
      "|      AMA|Rick Husband Amar...|     Amarillo|   TX|    USA|35.21937|-101.70593|\n",
      "|      ANC|Ted Stevens Ancho...|    Anchorage|   AK|    USA|61.17432|-149.99619|\n",
      "|      APN|Alpena County Reg...|       Alpena|   MI|    USA|45.07807| -83.56029|\n",
      "|      ASE|Aspen-Pitkin Coun...|        Aspen|   CO|    USA|39.22316|-106.86885|\n",
      "+---------+--------------------+-------------+-----+-------+--------+----------+\n",
      "only showing top 20 rows\n",
      "\n"
     ]
    }
   ],
   "source": [
    "airports_df.show(20)"
   ]
  },
  {
   "cell_type": "code",
   "execution_count": 32,
   "metadata": {},
   "outputs": [
    {
     "name": "stdout",
     "output_type": "stream",
     "text": [
      "Dataframe row count:  322\n",
      "Dataframe columns count:  7\n"
     ]
    }
   ],
   "source": [
    "# Dataframe shape\n",
    "print(\"Dataframe row count: \", airports_df.count())\n",
    "print(\"Dataframe columns count: \", len(airports_df.columns))"
   ]
  },
  {
   "cell_type": "code",
   "execution_count": 34,
   "metadata": {},
   "outputs": [
    {
     "data": {
      "text/html": [
       "<div>\n",
       "<style scoped>\n",
       "    .dataframe tbody tr th:only-of-type {\n",
       "        vertical-align: middle;\n",
       "    }\n",
       "\n",
       "    .dataframe tbody tr th {\n",
       "        vertical-align: top;\n",
       "    }\n",
       "\n",
       "    .dataframe thead th {\n",
       "        text-align: right;\n",
       "    }\n",
       "</style>\n",
       "<table border=\"1\" class=\"dataframe\">\n",
       "  <thead>\n",
       "    <tr style=\"text-align: right;\">\n",
       "      <th></th>\n",
       "      <th>summary</th>\n",
       "      <th>IATA_CODE</th>\n",
       "      <th>AIRPORT</th>\n",
       "      <th>CITY</th>\n",
       "      <th>STATE</th>\n",
       "      <th>COUNTRY</th>\n",
       "      <th>LATITUDE</th>\n",
       "      <th>LONGITUDE</th>\n",
       "    </tr>\n",
       "  </thead>\n",
       "  <tbody>\n",
       "    <tr>\n",
       "      <th>0</th>\n",
       "      <td>count</td>\n",
       "      <td>322</td>\n",
       "      <td>322</td>\n",
       "      <td>322</td>\n",
       "      <td>322</td>\n",
       "      <td>322</td>\n",
       "      <td>319</td>\n",
       "      <td>319</td>\n",
       "    </tr>\n",
       "    <tr>\n",
       "      <th>1</th>\n",
       "      <td>mean</td>\n",
       "      <td>None</td>\n",
       "      <td>None</td>\n",
       "      <td>None</td>\n",
       "      <td>None</td>\n",
       "      <td>None</td>\n",
       "      <td>38.981243918495295</td>\n",
       "      <td>-98.37896445141064</td>\n",
       "    </tr>\n",
       "    <tr>\n",
       "      <th>2</th>\n",
       "      <td>stddev</td>\n",
       "      <td>None</td>\n",
       "      <td>None</td>\n",
       "      <td>None</td>\n",
       "      <td>None</td>\n",
       "      <td>None</td>\n",
       "      <td>8.616735581018041</td>\n",
       "      <td>21.523492046498102</td>\n",
       "    </tr>\n",
       "    <tr>\n",
       "      <th>3</th>\n",
       "      <td>min</td>\n",
       "      <td>ABE</td>\n",
       "      <td>Aberdeen Regional Airport</td>\n",
       "      <td>Aberdeen</td>\n",
       "      <td>AK</td>\n",
       "      <td>USA</td>\n",
       "      <td>13.48345</td>\n",
       "      <td>-100.49631</td>\n",
       "    </tr>\n",
       "    <tr>\n",
       "      <th>4</th>\n",
       "      <td>max</td>\n",
       "      <td>YUM</td>\n",
       "      <td>Yuma International Airport</td>\n",
       "      <td>Yuma</td>\n",
       "      <td>WY</td>\n",
       "      <td>USA</td>\n",
       "      <td>71.28545</td>\n",
       "      <td>-99.68190</td>\n",
       "    </tr>\n",
       "  </tbody>\n",
       "</table>\n",
       "</div>"
      ],
      "text/plain": [
       "  summary IATA_CODE                     AIRPORT      CITY STATE COUNTRY  \\\n",
       "0   count       322                         322       322   322     322   \n",
       "1    mean      None                        None      None  None    None   \n",
       "2  stddev      None                        None      None  None    None   \n",
       "3     min       ABE   Aberdeen Regional Airport  Aberdeen    AK     USA   \n",
       "4     max       YUM  Yuma International Airport      Yuma    WY     USA   \n",
       "\n",
       "             LATITUDE           LONGITUDE  \n",
       "0                 319                 319  \n",
       "1  38.981243918495295  -98.37896445141064  \n",
       "2   8.616735581018041  21.523492046498102  \n",
       "3            13.48345          -100.49631  \n",
       "4            71.28545           -99.68190  "
      ]
     },
     "execution_count": 34,
     "metadata": {},
     "output_type": "execute_result"
    }
   ],
   "source": [
    "# Column statistics\n",
    "airports_df.describe().toPandas()"
   ]
  },
  {
   "cell_type": "code",
   "execution_count": 35,
   "metadata": {},
   "outputs": [
    {
     "name": "stdout",
     "output_type": "stream",
     "text": [
      "+---------+-------+----+-----+-------+--------+---------+\n",
      "|IATA_CODE|AIRPORT|CITY|STATE|COUNTRY|LATITUDE|LONGITUDE|\n",
      "+---------+-------+----+-----+-------+--------+---------+\n",
      "|        0|      0|   0|    0|      0|       3|        3|\n",
      "+---------+-------+----+-----+-------+--------+---------+\n",
      "\n"
     ]
    }
   ],
   "source": [
    "missing_values_count(airports_df)"
   ]
  },
  {
   "cell_type": "markdown",
   "metadata": {},
   "source": [
    "#### Airlines data dictionary"
   ]
  },
  {
   "cell_type": "code",
   "execution_count": 36,
   "metadata": {},
   "outputs": [
    {
     "name": "stdout",
     "output_type": "stream",
     "text": [
      "root\n",
      " |-- IATA_CODE: string (nullable = true)\n",
      " |-- AIRLINE: string (nullable = true)\n",
      "\n"
     ]
    }
   ],
   "source": [
    "airlines_df.printSchema()"
   ]
  },
  {
   "cell_type": "code",
   "execution_count": 37,
   "metadata": {},
   "outputs": [
    {
     "data": {
      "text/html": [
       "<div>\n",
       "<style scoped>\n",
       "    .dataframe tbody tr th:only-of-type {\n",
       "        vertical-align: middle;\n",
       "    }\n",
       "\n",
       "    .dataframe tbody tr th {\n",
       "        vertical-align: top;\n",
       "    }\n",
       "\n",
       "    .dataframe thead th {\n",
       "        text-align: right;\n",
       "    }\n",
       "</style>\n",
       "<table border=\"1\" class=\"dataframe\">\n",
       "  <thead>\n",
       "    <tr style=\"text-align: right;\">\n",
       "      <th></th>\n",
       "      <th>Column</th>\n",
       "      <th>Dtype</th>\n",
       "    </tr>\n",
       "  </thead>\n",
       "  <tbody>\n",
       "    <tr>\n",
       "      <th>0</th>\n",
       "      <td>IATA_CODE</td>\n",
       "      <td>string</td>\n",
       "    </tr>\n",
       "    <tr>\n",
       "      <th>1</th>\n",
       "      <td>AIRLINE</td>\n",
       "      <td>string</td>\n",
       "    </tr>\n",
       "  </tbody>\n",
       "</table>\n",
       "</div>"
      ],
      "text/plain": [
       "      Column   Dtype\n",
       "0  IATA_CODE  string\n",
       "1    AIRLINE  string"
      ]
     },
     "execution_count": 37,
     "metadata": {},
     "output_type": "execute_result"
    }
   ],
   "source": [
    "# DTypes in pd formatting\n",
    "pd.DataFrame(airlines_df.dtypes, columns=['Column', 'Dtype'])"
   ]
  },
  {
   "cell_type": "code",
   "execution_count": 38,
   "metadata": {},
   "outputs": [
    {
     "name": "stdout",
     "output_type": "stream",
     "text": [
      "+---------+--------------------+\n",
      "|IATA_CODE|             AIRLINE|\n",
      "+---------+--------------------+\n",
      "|       UA|United Air Lines ...|\n",
      "|       AA|American Airlines...|\n",
      "|       US|     US Airways Inc.|\n",
      "|       F9|Frontier Airlines...|\n",
      "|       B6|     JetBlue Airways|\n",
      "|       OO|Skywest Airlines ...|\n",
      "|       AS|Alaska Airlines Inc.|\n",
      "|       NK|    Spirit Air Lines|\n",
      "|       WN|Southwest Airline...|\n",
      "|       DL|Delta Air Lines Inc.|\n",
      "|       EV|Atlantic Southeas...|\n",
      "|       HA|Hawaiian Airlines...|\n",
      "|       MQ|American Eagle Ai...|\n",
      "|       VX|      Virgin America|\n",
      "+---------+--------------------+\n",
      "\n"
     ]
    }
   ],
   "source": [
    "airlines_df.show(20)"
   ]
  },
  {
   "cell_type": "code",
   "execution_count": 39,
   "metadata": {},
   "outputs": [
    {
     "name": "stdout",
     "output_type": "stream",
     "text": [
      "Dataframe row count:  14\n",
      "Dataframe columns count:  2\n"
     ]
    }
   ],
   "source": [
    "# Dataframe shape\n",
    "print(\"Dataframe row count: \", airlines_df.count())\n",
    "print(\"Dataframe columns count: \", len(airlines_df.columns))"
   ]
  },
  {
   "cell_type": "code",
   "execution_count": 40,
   "metadata": {},
   "outputs": [
    {
     "data": {
      "text/html": [
       "<div>\n",
       "<style scoped>\n",
       "    .dataframe tbody tr th:only-of-type {\n",
       "        vertical-align: middle;\n",
       "    }\n",
       "\n",
       "    .dataframe tbody tr th {\n",
       "        vertical-align: top;\n",
       "    }\n",
       "\n",
       "    .dataframe thead th {\n",
       "        text-align: right;\n",
       "    }\n",
       "</style>\n",
       "<table border=\"1\" class=\"dataframe\">\n",
       "  <thead>\n",
       "    <tr style=\"text-align: right;\">\n",
       "      <th></th>\n",
       "      <th>summary</th>\n",
       "      <th>IATA_CODE</th>\n",
       "      <th>AIRLINE</th>\n",
       "    </tr>\n",
       "  </thead>\n",
       "  <tbody>\n",
       "    <tr>\n",
       "      <th>0</th>\n",
       "      <td>count</td>\n",
       "      <td>14</td>\n",
       "      <td>14</td>\n",
       "    </tr>\n",
       "    <tr>\n",
       "      <th>1</th>\n",
       "      <td>mean</td>\n",
       "      <td>None</td>\n",
       "      <td>None</td>\n",
       "    </tr>\n",
       "    <tr>\n",
       "      <th>2</th>\n",
       "      <td>stddev</td>\n",
       "      <td>None</td>\n",
       "      <td>None</td>\n",
       "    </tr>\n",
       "    <tr>\n",
       "      <th>3</th>\n",
       "      <td>min</td>\n",
       "      <td>AA</td>\n",
       "      <td>Alaska Airlines Inc.</td>\n",
       "    </tr>\n",
       "    <tr>\n",
       "      <th>4</th>\n",
       "      <td>max</td>\n",
       "      <td>WN</td>\n",
       "      <td>Virgin America</td>\n",
       "    </tr>\n",
       "  </tbody>\n",
       "</table>\n",
       "</div>"
      ],
      "text/plain": [
       "  summary IATA_CODE               AIRLINE\n",
       "0   count        14                    14\n",
       "1    mean      None                  None\n",
       "2  stddev      None                  None\n",
       "3     min        AA  Alaska Airlines Inc.\n",
       "4     max        WN        Virgin America"
      ]
     },
     "execution_count": 40,
     "metadata": {},
     "output_type": "execute_result"
    }
   ],
   "source": [
    "# Column statistics\n",
    "airlines_df.describe().toPandas()"
   ]
  },
  {
   "cell_type": "code",
   "execution_count": 41,
   "metadata": {},
   "outputs": [
    {
     "name": "stdout",
     "output_type": "stream",
     "text": [
      "+---------+-------+\n",
      "|IATA_CODE|AIRLINE|\n",
      "+---------+-------+\n",
      "|        0|      0|\n",
      "+---------+-------+\n",
      "\n"
     ]
    }
   ],
   "source": [
    "missing_values_count(airlines_df)"
   ]
  },
  {
   "cell_type": "markdown",
   "metadata": {},
   "source": [
    "### Step 2: Explore and Assess the Data\n",
    "#### Explore the Data \n",
    "Identify data quality issues, like missing values, duplicate data, etc.\n",
    "\n"
   ]
  },
  {
   "cell_type": "code",
   "execution_count": 5,
   "metadata": {},
   "outputs": [],
   "source": [
    "import matplotlib.pyplot as plt\n",
    "import seaborn as sns"
   ]
  },
  {
   "cell_type": "code",
   "execution_count": null,
   "metadata": {},
   "outputs": [],
   "source": [
    "fig = plt.figure(figsize=(25, 15))\n",
    "st = fig.suptitle(\"Distribution of Features\", fontsize=50, verticalalignment=\"center\")\n",
    "for col, num in zip(df.toPandas().describe().columns, range(1,11)):\n",
    "    ax = fig.add_subplot(3,4, num)\n",
    "    ax.hist(df.toPandas[col])\n",
    "    plt.grid(False)\n",
    "    plt.xticks(ratation=45, fontsize=20)\n",
    "    plt.yticks(fontsize=15)\n",
    "    plt.title(col.upper(), fontsize=20)\n",
    "    \n",
    "plt.tight_layout()\n",
    "st.set_y(0.95)\n",
    "fig.subplots_adjust(top=0.85, hspace=0.4)\n",
    "plt.show()\n"
   ]
  },
  {
   "cell_type": "markdown",
   "metadata": {},
   "source": [
    "#### Cleaning Steps\n",
    "Document steps necessary to clean the data"
   ]
  },
  {
   "cell_type": "code",
   "execution_count": null,
   "metadata": {},
   "outputs": [],
   "source": [
    "# Performing cleaning tasks here\n",
    "\n",
    "\n",
    "\n"
   ]
  },
  {
   "cell_type": "code",
   "execution_count": null,
   "metadata": {},
   "outputs": [],
   "source": []
  },
  {
   "cell_type": "code",
   "execution_count": null,
   "metadata": {},
   "outputs": [],
   "source": []
  },
  {
   "cell_type": "code",
   "execution_count": null,
   "metadata": {},
   "outputs": [],
   "source": []
  },
  {
   "cell_type": "code",
   "execution_count": null,
   "metadata": {},
   "outputs": [],
   "source": []
  },
  {
   "cell_type": "markdown",
   "metadata": {},
   "source": [
    "### Step 3: Define the Data Model\n",
    "#### 3.1 Conceptual Data Model\n",
    "Map out the conceptual data model and explain why you chose that model\n",
    "\n",
    "#### 3.2 Mapping Out Data Pipelines\n",
    "List the steps necessary to pipeline the data into the chosen data model"
   ]
  },
  {
   "cell_type": "markdown",
   "metadata": {},
   "source": [
    "### Step 4: Run Pipelines to Model the Data \n",
    "#### 4.1 Create the data model\n",
    "Build the data pipelines to create the data model."
   ]
  },
  {
   "cell_type": "code",
   "execution_count": null,
   "metadata": {},
   "outputs": [],
   "source": [
    "# Write code here"
   ]
  },
  {
   "cell_type": "markdown",
   "metadata": {},
   "source": [
    "#### 4.2 Data Quality Checks\n",
    "Explain the data quality checks you'll perform to ensure the pipeline ran as expected. These could include:\n",
    " * Integrity constraints on the relational database (e.g., unique key, data type, etc.)\n",
    " * Unit tests for the scripts to ensure they are doing the right thing\n",
    " * Source/Count checks to ensure completeness\n",
    " \n",
    "Run Quality Checks"
   ]
  },
  {
   "cell_type": "code",
   "execution_count": null,
   "metadata": {},
   "outputs": [],
   "source": [
    "# Perform quality checks here"
   ]
  },
  {
   "cell_type": "markdown",
   "metadata": {},
   "source": [
    "#### 4.3 Data dictionary \n",
    "Create a data dictionary for your data model. For each field, provide a brief description of what the data is and where it came from. You can include the data dictionary in the notebook or in a separate file."
   ]
  },
  {
   "cell_type": "markdown",
   "metadata": {},
   "source": [
    "#### Step 5: Complete Project Write Up\n",
    "* Clearly state the rationale for the choice of tools and technologies for the project.\n",
    "* Propose how often the data should be updated and why.\n",
    "* Write a description of how you would approach the problem differently under the following scenarios:\n",
    " * The data was increased by 100x.\n",
    " * The data populates a dashboard that must be updated on a daily basis by 7am every day.\n",
    " * The database needed to be accessed by 100+ people."
   ]
  },
  {
   "cell_type": "code",
   "execution_count": null,
   "metadata": {},
   "outputs": [],
   "source": []
  },
  {
   "cell_type": "code",
   "execution_count": null,
   "metadata": {},
   "outputs": [],
   "source": []
  },
  {
   "cell_type": "code",
   "execution_count": null,
   "metadata": {},
   "outputs": [],
   "source": []
  },
  {
   "cell_type": "code",
   "execution_count": null,
   "metadata": {},
   "outputs": [],
   "source": []
  },
  {
   "cell_type": "code",
   "execution_count": null,
   "metadata": {},
   "outputs": [],
   "source": []
  },
  {
   "cell_type": "code",
   "execution_count": null,
   "metadata": {},
   "outputs": [],
   "source": []
  }
 ],
 "metadata": {
  "kernelspec": {
   "display_name": "Python 3",
   "language": "python",
   "name": "python3"
  },
  "language_info": {
   "codemirror_mode": {
    "name": "ipython",
    "version": 3
   },
   "file_extension": ".py",
   "mimetype": "text/x-python",
   "name": "python",
   "nbconvert_exporter": "python",
   "pygments_lexer": "ipython3",
   "version": "3.9.18"
  }
 },
 "nbformat": 4,
 "nbformat_minor": 4
}
